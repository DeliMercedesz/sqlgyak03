{
    "metadata": {
        "kernelspec": {
            "name": "SQL",
            "display_name": "SQL",
            "language": "sql"
        },
        "language_info": {
            "name": "sql",
            "version": ""
        }
    },
    "nbformat_minor": 2,
    "nbformat": 4,
    "cells": [
        {
            "cell_type": "markdown",
            "source": [
                "1. <span style=\"color: rgb(36, 41, 47); font-family: -apple-system, BlinkMacSystemFont, &quot;Segoe UI&quot;, Helvetica, Arial, sans-serif, &quot;Apple Color Emoji&quot;, &quot;Segoe UI Emoji&quot;; font-size: 16px;\">Készítsünk listát éves bontásban norbert2 azonosítójú ügyfél rendeléseinek értékéről!</span>\n",
                "\n",
                "1. A lista megfelelően jelölve tartalmazza a végösszeget is!"
            ],
            "metadata": {
                "azdata_cell_guid": "363cd270-6577-449b-9c89-d4b7c7972d52"
            },
            "attachments": {}
        },
        {
            "cell_type": "code",
            "source": [
                "SELECT IIF(GROUPING_ID(year(rend_datum))=1,'Végösszeg',cast(YEar(rend_datum) as nvarchar)),count(*) as 'Darabszám'\r\n",
                "FROM RENDELES\r\n",
                "WHERE [LOGIN] = 'norbert2'\r\n",
                "GROUP BY rollup(year(rend_datum))"
            ],
            "metadata": {
                "azdata_cell_guid": "6ab9f633-a3b5-48c9-a1dc-4fb8235ae85b",
                "language": "sql"
            },
            "outputs": [
                {
                    "output_type": "display_data",
                    "data": {
                        "text/html": "(3 rows affected)"
                    },
                    "metadata": {}
                },
                {
                    "output_type": "display_data",
                    "data": {
                        "text/html": "Total execution time: 00:00:00.587"
                    },
                    "metadata": {}
                },
                {
                    "output_type": "execute_result",
                    "execution_count": 2,
                    "data": {
                        "application/vnd.dataresource+json": {
                            "schema": {
                                "fields": [
                                    {
                                        "name": "(No column name)"
                                    },
                                    {
                                        "name": "Darabszám"
                                    }
                                ]
                            },
                            "data": [
                                {
                                    "(No column name)": "2015",
                                    "Darabszám": "6"
                                },
                                {
                                    "(No column name)": "2017",
                                    "Darabszám": "5"
                                },
                                {
                                    "(No column name)": "Végösszeg",
                                    "Darabszám": "11"
                                }
                            ]
                        },
                        "text/html": "<table><tr><th>(No column name)</th><th>Darabszám</th></tr><tr><td>2015</td><td>6</td></tr><tr><td>2017</td><td>5</td></tr><tr><td>Végösszeg</td><td>11</td></tr></table>"
                    },
                    "metadata": {}
                }
            ],
            "execution_count": 2
        },
        {
            "cell_type": "markdown",
            "source": [
                "2. <span style=\"color: rgb(36, 41, 47); font-family: -apple-system, BlinkMacSystemFont, &quot;Segoe UI&quot;, Helvetica, Arial, sans-serif, &quot;Apple Color Emoji&quot;, &quot;Segoe UI Emoji&quot;; font-size: 16px;\">Készítsünk listát szállítási dátumonként, azon belül szállítási módonként az egyes rendelések összmennyiségéről!</span>\n",
                "\n",
                "1. Csak azokat a termékeket vegyük figyelembe, amelyek mennyiségi egysége db!\n",
                "2. A listát szűrjük úgy, hogy az csak a részösszeg sorokat és a végösszeget tartalmazza!"
            ],
            "metadata": {
                "azdata_cell_guid": "ea75c103-911f-41a3-a32c-3d40fb3e4e4a"
            },
            "attachments": {}
        },
        {
            "cell_type": "code",
            "source": [
                "SELECT szall_datum,szall_mod,sum(egysegar*mennyiseg)\r\n",
                "FROM REndeles_tetel JOIN TERMEK ON REndeles_tetel.TERMEKKOD = TERMEK.TERMEKKOD\r\n",
                "                    JOIN RENDELES ON RENDELES.SORSZAM = REndeles_tetel.SORSZAM\r\n",
                "WHERE MEGYS = 'db'\r\n",
                "GROUP BY ROLLUP(szall_datum,szall_mod)\r\n",
                "having GROUPING_ID(szall_datum,szall_mod)>0"
            ],
            "metadata": {
                "azdata_cell_guid": "222b9618-a8e8-42b4-a8e8-d002257122b7",
                "language": "sql"
            },
            "outputs": [
                {
                    "output_type": "display_data",
                    "data": {
                        "text/html": "Warning: Null value is eliminated by an aggregate or other SET operation."
                    },
                    "metadata": {}
                },
                {
                    "output_type": "display_data",
                    "data": {
                        "text/html": "(711 rows affected)"
                    },
                    "metadata": {}
                },
                {
                    "output_type": "display_data",
                    "data": {
                        "text/html": "Total execution time: 00:00:00.325"
                    },
                    "metadata": {}
                },
                {
                    "output_type": "execute_result",
                    "metadata": {},
                    "execution_count": 4,
                    "data": {
                        "application/vnd.dataresource+json": {
                            "schema": {
                                "fields": [
                                    {
                                        "name": "szall_datum"
                                    },
                                    {
                                        "name": "szall_mod"
                                    },
                                    {
                                        "name": "(No column name)"
                                    }
                                ]
                            },
                            "data": [
                                {
                                    "szall_datum": "2015-05-03",
                                    "szall_mod": "NULL",
                                    "(No column name)": "8190"
                                },
                                {
                                    "szall_datum": "2015-05-04",
                                    "szall_mod": "NULL",
                                    "(No column name)": "390584"
                                },
                                {
                                    "szall_datum": "2015-05-05",
                                    "szall_mod": "NULL",
                                    "(No column name)": "884072"
                                },
                                {
                                    "szall_datum": "2015-05-06",
                                    "szall_mod": "NULL",
                                    "(No column name)": "1497963"
                                },
                                {
                                    "szall_datum": "2015-05-07",
                                    "szall_mod": "NULL",
                                    "(No column name)": "1373651"
                                },
                                {
                                    "szall_datum": "2015-05-08",
                                    "szall_mod": "NULL",
                                    "(No column name)": "2100941"
                                },
                                {
                                    "szall_datum": "2015-05-09",
                                    "szall_mod": "NULL",
                                    "(No column name)": "2826673"
                                },
                                {
                                    "szall_datum": "2015-05-10",
                                    "szall_mod": "NULL",
                                    "(No column name)": "2220193"
                                },
                                {
                                    "szall_datum": "2015-05-11",
                                    "szall_mod": "NULL",
                                    "(No column name)": "3584145"
                                },
                                {
                                    "szall_datum": "2015-05-12",
                                    "szall_mod": "NULL",
                                    "(No column name)": "2824954"
                                },
                                {
                                    "szall_datum": "2015-05-13",
                                    "szall_mod": "NULL",
                                    "(No column name)": "2414838"
                                },
                                {
                                    "szall_datum": "2015-05-14",
                                    "szall_mod": "NULL",
                                    "(No column name)": "6251647"
                                },
                                {
                                    "szall_datum": "2015-05-15",
                                    "szall_mod": "NULL",
                                    "(No column name)": "2457001"
                                },
                                {
                                    "szall_datum": "2015-05-16",
                                    "szall_mod": "NULL",
                                    "(No column name)": "5324416"
                                },
                                {
                                    "szall_datum": "2015-05-17",
                                    "szall_mod": "NULL",
                                    "(No column name)": "1610255"
                                },
                                {
                                    "szall_datum": "2015-05-18",
                                    "szall_mod": "NULL",
                                    "(No column name)": "3114579"
                                },
                                {
                                    "szall_datum": "2015-05-19",
                                    "szall_mod": "NULL",
                                    "(No column name)": "4359132"
                                },
                                {
                                    "szall_datum": "2015-05-20",
                                    "szall_mod": "NULL",
                                    "(No column name)": "5307348"
                                },
                                {
                                    "szall_datum": "2015-05-21",
                                    "szall_mod": "NULL",
                                    "(No column name)": "2048966"
                                },
                                {
                                    "szall_datum": "2015-05-22",
                                    "szall_mod": "NULL",
                                    "(No column name)": "2315087"
                                },
                                {
                                    "szall_datum": "2015-05-23",
                                    "szall_mod": "NULL",
                                    "(No column name)": "1760510"
                                },
                                {
                                    "szall_datum": "2015-05-24",
                                    "szall_mod": "NULL",
                                    "(No column name)": "2828456"
                                },
                                {
                                    "szall_datum": "2015-05-25",
                                    "szall_mod": "NULL",
                                    "(No column name)": "2495704"
                                },
                                {
                                    "szall_datum": "2015-05-26",
                                    "szall_mod": "NULL",
                                    "(No column name)": "3522520"
                                },
                                {
                                    "szall_datum": "2015-05-27",
                                    "szall_mod": "NULL",
                                    "(No column name)": "4077216"
                                },
                                {
                                    "szall_datum": "2015-05-28",
                                    "szall_mod": "NULL",
                                    "(No column name)": "6200672"
                                },
                                {
                                    "szall_datum": "2015-05-29",
                                    "szall_mod": "NULL",
                                    "(No column name)": "4826823"
                                },
                                {
                                    "szall_datum": "2015-05-30",
                                    "szall_mod": "NULL",
                                    "(No column name)": "3010532"
                                },
                                {
                                    "szall_datum": "2015-05-31",
                                    "szall_mod": "NULL",
                                    "(No column name)": "4415992"
                                },
                                {
                                    "szall_datum": "2015-06-01",
                                    "szall_mod": "NULL",
                                    "(No column name)": "3515327"
                                },
                                {
                                    "szall_datum": "2015-06-02",
                                    "szall_mod": "NULL",
                                    "(No column name)": "3230846"
                                },
                                {
                                    "szall_datum": "2015-06-03",
                                    "szall_mod": "NULL",
                                    "(No column name)": "1920528"
                                },
                                {
                                    "szall_datum": "2015-06-04",
                                    "szall_mod": "NULL",
                                    "(No column name)": "2913725"
                                },
                                {
                                    "szall_datum": "2015-06-05",
                                    "szall_mod": "NULL",
                                    "(No column name)": "3607934"
                                },
                                {
                                    "szall_datum": "2015-06-06",
                                    "szall_mod": "NULL",
                                    "(No column name)": "7191012"
                                },
                                {
                                    "szall_datum": "2015-06-07",
                                    "szall_mod": "NULL",
                                    "(No column name)": "4633726"
                                },
                                {
                                    "szall_datum": "2015-06-08",
                                    "szall_mod": "NULL",
                                    "(No column name)": "5378322"
                                },
                                {
                                    "szall_datum": "2015-06-09",
                                    "szall_mod": "NULL",
                                    "(No column name)": "2616010"
                                },
                                {
                                    "szall_datum": "2015-06-10",
                                    "szall_mod": "NULL",
                                    "(No column name)": "3274633"
                                },
                                {
                                    "szall_datum": "2015-06-11",
                                    "szall_mod": "NULL",
                                    "(No column name)": "2972214"
                                },
                                {
                                    "szall_datum": "2015-06-12",
                                    "szall_mod": "NULL",
                                    "(No column name)": "4612567"
                                },
                                {
                                    "szall_datum": "2015-06-13",
                                    "szall_mod": "NULL",
                                    "(No column name)": "3130790"
                                },
                                {
                                    "szall_datum": "2015-06-14",
                                    "szall_mod": "NULL",
                                    "(No column name)": "3673966"
                                },
                                {
                                    "szall_datum": "2015-06-15",
                                    "szall_mod": "NULL",
                                    "(No column name)": "1972553"
                                },
                                {
                                    "szall_datum": "2015-06-16",
                                    "szall_mod": "NULL",
                                    "(No column name)": "4114721"
                                },
                                {
                                    "szall_datum": "2015-06-17",
                                    "szall_mod": "NULL",
                                    "(No column name)": "2782408"
                                },
                                {
                                    "szall_datum": "2015-06-18",
                                    "szall_mod": "NULL",
                                    "(No column name)": "2932302"
                                },
                                {
                                    "szall_datum": "2015-06-19",
                                    "szall_mod": "NULL",
                                    "(No column name)": "2424658"
                                },
                                {
                                    "szall_datum": "2015-06-20",
                                    "szall_mod": "NULL",
                                    "(No column name)": "2797712"
                                },
                                {
                                    "szall_datum": "2015-06-21",
                                    "szall_mod": "NULL",
                                    "(No column name)": "2974633"
                                },
                                {
                                    "szall_datum": "2015-06-22",
                                    "szall_mod": "NULL",
                                    "(No column name)": "3627305"
                                },
                                {
                                    "szall_datum": "2015-06-23",
                                    "szall_mod": "NULL",
                                    "(No column name)": "3821260"
                                },
                                {
                                    "szall_datum": "2015-06-24",
                                    "szall_mod": "NULL",
                                    "(No column name)": "1996744"
                                },
                                {
                                    "szall_datum": "2015-06-25",
                                    "szall_mod": "NULL",
                                    "(No column name)": "4215618"
                                },
                                {
                                    "szall_datum": "2015-06-26",
                                    "szall_mod": "NULL",
                                    "(No column name)": "5005276"
                                },
                                {
                                    "szall_datum": "2015-06-27",
                                    "szall_mod": "NULL",
                                    "(No column name)": "2693936"
                                },
                                {
                                    "szall_datum": "2015-06-28",
                                    "szall_mod": "NULL",
                                    "(No column name)": "1464861"
                                },
                                {
                                    "szall_datum": "2015-06-29",
                                    "szall_mod": "NULL",
                                    "(No column name)": "6500077"
                                },
                                {
                                    "szall_datum": "2015-06-30",
                                    "szall_mod": "NULL",
                                    "(No column name)": "2119355"
                                },
                                {
                                    "szall_datum": "2015-07-01",
                                    "szall_mod": "NULL",
                                    "(No column name)": "1611434"
                                },
                                {
                                    "szall_datum": "2015-07-02",
                                    "szall_mod": "NULL",
                                    "(No column name)": "2722605"
                                },
                                {
                                    "szall_datum": "2015-07-03",
                                    "szall_mod": "NULL",
                                    "(No column name)": "3434124"
                                },
                                {
                                    "szall_datum": "2015-07-04",
                                    "szall_mod": "NULL",
                                    "(No column name)": "2582901"
                                },
                                {
                                    "szall_datum": "2015-07-05",
                                    "szall_mod": "NULL",
                                    "(No column name)": "3580972"
                                },
                                {
                                    "szall_datum": "2015-07-06",
                                    "szall_mod": "NULL",
                                    "(No column name)": "2436755"
                                },
                                {
                                    "szall_datum": "2015-07-07",
                                    "szall_mod": "NULL",
                                    "(No column name)": "5472802"
                                },
                                {
                                    "szall_datum": "2015-07-08",
                                    "szall_mod": "NULL",
                                    "(No column name)": "3163107"
                                },
                                {
                                    "szall_datum": "2015-07-09",
                                    "szall_mod": "NULL",
                                    "(No column name)": "2957945"
                                },
                                {
                                    "szall_datum": "2015-07-10",
                                    "szall_mod": "NULL",
                                    "(No column name)": "1726251"
                                },
                                {
                                    "szall_datum": "2015-07-11",
                                    "szall_mod": "NULL",
                                    "(No column name)": "2126805"
                                },
                                {
                                    "szall_datum": "2015-07-12",
                                    "szall_mod": "NULL",
                                    "(No column name)": "3527192"
                                },
                                {
                                    "szall_datum": "2015-07-13",
                                    "szall_mod": "NULL",
                                    "(No column name)": "2863495"
                                },
                                {
                                    "szall_datum": "2015-07-14",
                                    "szall_mod": "NULL",
                                    "(No column name)": "3809316"
                                },
                                {
                                    "szall_datum": "2015-07-15",
                                    "szall_mod": "NULL",
                                    "(No column name)": "4304620"
                                },
                                {
                                    "szall_datum": "2015-07-16",
                                    "szall_mod": "NULL",
                                    "(No column name)": "2294675"
                                },
                                {
                                    "szall_datum": "2015-07-17",
                                    "szall_mod": "NULL",
                                    "(No column name)": "1844074"
                                },
                                {
                                    "szall_datum": "2015-07-18",
                                    "szall_mod": "NULL",
                                    "(No column name)": "2982773"
                                },
                                {
                                    "szall_datum": "2015-07-19",
                                    "szall_mod": "NULL",
                                    "(No column name)": "2402939"
                                },
                                {
                                    "szall_datum": "2015-07-20",
                                    "szall_mod": "NULL",
                                    "(No column name)": "3703316"
                                },
                                {
                                    "szall_datum": "2015-07-21",
                                    "szall_mod": "NULL",
                                    "(No column name)": "3589433"
                                },
                                {
                                    "szall_datum": "2015-07-22",
                                    "szall_mod": "NULL",
                                    "(No column name)": "2362309"
                                },
                                {
                                    "szall_datum": "2015-07-23",
                                    "szall_mod": "NULL",
                                    "(No column name)": "4083557"
                                },
                                {
                                    "szall_datum": "2015-07-24",
                                    "szall_mod": "NULL",
                                    "(No column name)": "3384272"
                                },
                                {
                                    "szall_datum": "2015-07-25",
                                    "szall_mod": "NULL",
                                    "(No column name)": "3248181"
                                },
                                {
                                    "szall_datum": "2015-07-26",
                                    "szall_mod": "NULL",
                                    "(No column name)": "2777039"
                                },
                                {
                                    "szall_datum": "2015-07-27",
                                    "szall_mod": "NULL",
                                    "(No column name)": "2090060"
                                },
                                {
                                    "szall_datum": "2015-07-28",
                                    "szall_mod": "NULL",
                                    "(No column name)": "2056111"
                                },
                                {
                                    "szall_datum": "2015-07-29",
                                    "szall_mod": "NULL",
                                    "(No column name)": "2245026"
                                },
                                {
                                    "szall_datum": "2015-07-30",
                                    "szall_mod": "NULL",
                                    "(No column name)": "4965543"
                                },
                                {
                                    "szall_datum": "2015-07-31",
                                    "szall_mod": "NULL",
                                    "(No column name)": "5542768"
                                },
                                {
                                    "szall_datum": "2015-08-01",
                                    "szall_mod": "NULL",
                                    "(No column name)": "2682358"
                                },
                                {
                                    "szall_datum": "2015-08-02",
                                    "szall_mod": "NULL",
                                    "(No column name)": "4377401"
                                },
                                {
                                    "szall_datum": "2015-08-03",
                                    "szall_mod": "NULL",
                                    "(No column name)": "3764381"
                                },
                                {
                                    "szall_datum": "2015-08-04",
                                    "szall_mod": "NULL",
                                    "(No column name)": "4025021"
                                },
                                {
                                    "szall_datum": "2015-08-05",
                                    "szall_mod": "NULL",
                                    "(No column name)": "2623729"
                                },
                                {
                                    "szall_datum": "2015-08-06",
                                    "szall_mod": "NULL",
                                    "(No column name)": "2307523"
                                },
                                {
                                    "szall_datum": "2015-08-07",
                                    "szall_mod": "NULL",
                                    "(No column name)": "4131067"
                                },
                                {
                                    "szall_datum": "2015-08-08",
                                    "szall_mod": "NULL",
                                    "(No column name)": "4648211"
                                },
                                {
                                    "szall_datum": "2015-08-09",
                                    "szall_mod": "NULL",
                                    "(No column name)": "4134286"
                                },
                                {
                                    "szall_datum": "2015-08-10",
                                    "szall_mod": "NULL",
                                    "(No column name)": "2874789"
                                },
                                {
                                    "szall_datum": "2015-08-11",
                                    "szall_mod": "NULL",
                                    "(No column name)": "5876203"
                                },
                                {
                                    "szall_datum": "2015-08-12",
                                    "szall_mod": "NULL",
                                    "(No column name)": "3300531"
                                },
                                {
                                    "szall_datum": "2015-08-13",
                                    "szall_mod": "NULL",
                                    "(No column name)": "6108119"
                                },
                                {
                                    "szall_datum": "2015-08-14",
                                    "szall_mod": "NULL",
                                    "(No column name)": "6752454"
                                },
                                {
                                    "szall_datum": "2015-08-15",
                                    "szall_mod": "NULL",
                                    "(No column name)": "1563927"
                                },
                                {
                                    "szall_datum": "2015-08-16",
                                    "szall_mod": "NULL",
                                    "(No column name)": "3946003"
                                },
                                {
                                    "szall_datum": "2015-08-17",
                                    "szall_mod": "NULL",
                                    "(No column name)": "4802790"
                                },
                                {
                                    "szall_datum": "2015-08-18",
                                    "szall_mod": "NULL",
                                    "(No column name)": "1880200"
                                },
                                {
                                    "szall_datum": "2015-08-19",
                                    "szall_mod": "NULL",
                                    "(No column name)": "3307248"
                                },
                                {
                                    "szall_datum": "2015-08-20",
                                    "szall_mod": "NULL",
                                    "(No column name)": "2490923"
                                },
                                {
                                    "szall_datum": "2015-08-21",
                                    "szall_mod": "NULL",
                                    "(No column name)": "6126436"
                                },
                                {
                                    "szall_datum": "2015-08-22",
                                    "szall_mod": "NULL",
                                    "(No column name)": "3595801"
                                },
                                {
                                    "szall_datum": "2015-08-23",
                                    "szall_mod": "NULL",
                                    "(No column name)": "1852312"
                                },
                                {
                                    "szall_datum": "2015-08-24",
                                    "szall_mod": "NULL",
                                    "(No column name)": "2236778"
                                },
                                {
                                    "szall_datum": "2015-08-25",
                                    "szall_mod": "NULL",
                                    "(No column name)": "5142509"
                                },
                                {
                                    "szall_datum": "2015-08-26",
                                    "szall_mod": "NULL",
                                    "(No column name)": "3630305"
                                },
                                {
                                    "szall_datum": "2015-08-27",
                                    "szall_mod": "NULL",
                                    "(No column name)": "2109459"
                                },
                                {
                                    "szall_datum": "2015-08-28",
                                    "szall_mod": "NULL",
                                    "(No column name)": "5540291"
                                },
                                {
                                    "szall_datum": "2015-08-29",
                                    "szall_mod": "NULL",
                                    "(No column name)": "1936483"
                                },
                                {
                                    "szall_datum": "2015-08-30",
                                    "szall_mod": "NULL",
                                    "(No column name)": "3036453"
                                },
                                {
                                    "szall_datum": "2015-08-31",
                                    "szall_mod": "NULL",
                                    "(No column name)": "3741826"
                                },
                                {
                                    "szall_datum": "2015-09-01",
                                    "szall_mod": "NULL",
                                    "(No column name)": "5694962"
                                },
                                {
                                    "szall_datum": "2015-09-02",
                                    "szall_mod": "NULL",
                                    "(No column name)": "4307418"
                                },
                                {
                                    "szall_datum": "2015-09-03",
                                    "szall_mod": "NULL",
                                    "(No column name)": "6729971"
                                },
                                {
                                    "szall_datum": "2015-09-04",
                                    "szall_mod": "NULL",
                                    "(No column name)": "4912367"
                                },
                                {
                                    "szall_datum": "2015-09-05",
                                    "szall_mod": "NULL",
                                    "(No column name)": "2639323"
                                },
                                {
                                    "szall_datum": "2015-09-06",
                                    "szall_mod": "NULL",
                                    "(No column name)": "2081961"
                                },
                                {
                                    "szall_datum": "2015-09-07",
                                    "szall_mod": "NULL",
                                    "(No column name)": "4430285"
                                },
                                {
                                    "szall_datum": "2015-09-08",
                                    "szall_mod": "NULL",
                                    "(No column name)": "3884585"
                                },
                                {
                                    "szall_datum": "2015-09-09",
                                    "szall_mod": "NULL",
                                    "(No column name)": "5098439"
                                },
                                {
                                    "szall_datum": "2015-09-10",
                                    "szall_mod": "NULL",
                                    "(No column name)": "3763220"
                                },
                                {
                                    "szall_datum": "2015-09-11",
                                    "szall_mod": "NULL",
                                    "(No column name)": "3943446"
                                },
                                {
                                    "szall_datum": "2015-09-12",
                                    "szall_mod": "NULL",
                                    "(No column name)": "5775918"
                                },
                                {
                                    "szall_datum": "2015-09-13",
                                    "szall_mod": "NULL",
                                    "(No column name)": "4237716"
                                },
                                {
                                    "szall_datum": "2015-09-14",
                                    "szall_mod": "NULL",
                                    "(No column name)": "5088386"
                                },
                                {
                                    "szall_datum": "2015-09-15",
                                    "szall_mod": "NULL",
                                    "(No column name)": "2687328"
                                },
                                {
                                    "szall_datum": "2015-09-16",
                                    "szall_mod": "NULL",
                                    "(No column name)": "2718555"
                                },
                                {
                                    "szall_datum": "2015-09-17",
                                    "szall_mod": "NULL",
                                    "(No column name)": "3899971"
                                },
                                {
                                    "szall_datum": "2015-09-18",
                                    "szall_mod": "NULL",
                                    "(No column name)": "2897361"
                                },
                                {
                                    "szall_datum": "2015-09-19",
                                    "szall_mod": "NULL",
                                    "(No column name)": "3842958"
                                },
                                {
                                    "szall_datum": "2015-09-20",
                                    "szall_mod": "NULL",
                                    "(No column name)": "5002861"
                                },
                                {
                                    "szall_datum": "2015-09-21",
                                    "szall_mod": "NULL",
                                    "(No column name)": "2167581"
                                },
                                {
                                    "szall_datum": "2015-09-22",
                                    "szall_mod": "NULL",
                                    "(No column name)": "5069527"
                                },
                                {
                                    "szall_datum": "2015-09-23",
                                    "szall_mod": "NULL",
                                    "(No column name)": "4905054"
                                },
                                {
                                    "szall_datum": "2015-09-24",
                                    "szall_mod": "NULL",
                                    "(No column name)": "4508041"
                                },
                                {
                                    "szall_datum": "2015-09-25",
                                    "szall_mod": "NULL",
                                    "(No column name)": "2118285"
                                },
                                {
                                    "szall_datum": "2015-09-26",
                                    "szall_mod": "NULL",
                                    "(No column name)": "5371400"
                                },
                                {
                                    "szall_datum": "2015-09-27",
                                    "szall_mod": "NULL",
                                    "(No column name)": "2599365"
                                },
                                {
                                    "szall_datum": "2015-09-28",
                                    "szall_mod": "NULL",
                                    "(No column name)": "2985540"
                                },
                                {
                                    "szall_datum": "2015-09-29",
                                    "szall_mod": "NULL",
                                    "(No column name)": "4123273"
                                },
                                {
                                    "szall_datum": "2015-09-30",
                                    "szall_mod": "NULL",
                                    "(No column name)": "2109749"
                                },
                                {
                                    "szall_datum": "2015-10-01",
                                    "szall_mod": "NULL",
                                    "(No column name)": "2371274"
                                },
                                {
                                    "szall_datum": "2015-10-02",
                                    "szall_mod": "NULL",
                                    "(No column name)": "1816210"
                                },
                                {
                                    "szall_datum": "2015-10-03",
                                    "szall_mod": "NULL",
                                    "(No column name)": "4010859"
                                },
                                {
                                    "szall_datum": "2015-10-04",
                                    "szall_mod": "NULL",
                                    "(No column name)": "2103856"
                                },
                                {
                                    "szall_datum": "2015-10-05",
                                    "szall_mod": "NULL",
                                    "(No column name)": "4445660"
                                },
                                {
                                    "szall_datum": "2015-10-06",
                                    "szall_mod": "NULL",
                                    "(No column name)": "2264609"
                                },
                                {
                                    "szall_datum": "2015-10-07",
                                    "szall_mod": "NULL",
                                    "(No column name)": "2461522"
                                },
                                {
                                    "szall_datum": "2015-10-08",
                                    "szall_mod": "NULL",
                                    "(No column name)": "6772405"
                                },
                                {
                                    "szall_datum": "2015-10-09",
                                    "szall_mod": "NULL",
                                    "(No column name)": "3834921"
                                },
                                {
                                    "szall_datum": "2015-10-10",
                                    "szall_mod": "NULL",
                                    "(No column name)": "4056447"
                                },
                                {
                                    "szall_datum": "2015-10-11",
                                    "szall_mod": "NULL",
                                    "(No column name)": "2159815"
                                },
                                {
                                    "szall_datum": "2015-10-12",
                                    "szall_mod": "NULL",
                                    "(No column name)": "5249703"
                                },
                                {
                                    "szall_datum": "2015-10-13",
                                    "szall_mod": "NULL",
                                    "(No column name)": "1787179"
                                },
                                {
                                    "szall_datum": "2015-10-14",
                                    "szall_mod": "NULL",
                                    "(No column name)": "1884545"
                                },
                                {
                                    "szall_datum": "2015-10-15",
                                    "szall_mod": "NULL",
                                    "(No column name)": "3670738"
                                },
                                {
                                    "szall_datum": "2015-10-16",
                                    "szall_mod": "NULL",
                                    "(No column name)": "4333876"
                                },
                                {
                                    "szall_datum": "2015-10-17",
                                    "szall_mod": "NULL",
                                    "(No column name)": "4345735"
                                },
                                {
                                    "szall_datum": "2015-10-18",
                                    "szall_mod": "NULL",
                                    "(No column name)": "3592679"
                                },
                                {
                                    "szall_datum": "2015-10-19",
                                    "szall_mod": "NULL",
                                    "(No column name)": "2970029"
                                },
                                {
                                    "szall_datum": "2015-10-20",
                                    "szall_mod": "NULL",
                                    "(No column name)": "5683423"
                                },
                                {
                                    "szall_datum": "2015-10-21",
                                    "szall_mod": "NULL",
                                    "(No column name)": "2619347"
                                },
                                {
                                    "szall_datum": "2015-10-22",
                                    "szall_mod": "NULL",
                                    "(No column name)": "1979747"
                                },
                                {
                                    "szall_datum": "2015-10-23",
                                    "szall_mod": "NULL",
                                    "(No column name)": "2348932"
                                },
                                {
                                    "szall_datum": "2015-10-24",
                                    "szall_mod": "NULL",
                                    "(No column name)": "4517147"
                                },
                                {
                                    "szall_datum": "2015-10-25",
                                    "szall_mod": "NULL",
                                    "(No column name)": "3832701"
                                },
                                {
                                    "szall_datum": "2015-10-26",
                                    "szall_mod": "NULL",
                                    "(No column name)": "3449796"
                                },
                                {
                                    "szall_datum": "2015-10-27",
                                    "szall_mod": "NULL",
                                    "(No column name)": "2763354"
                                },
                                {
                                    "szall_datum": "2015-10-28",
                                    "szall_mod": "NULL",
                                    "(No column name)": "3228842"
                                },
                                {
                                    "szall_datum": "2015-10-29",
                                    "szall_mod": "NULL",
                                    "(No column name)": "2949611"
                                },
                                {
                                    "szall_datum": "2015-10-30",
                                    "szall_mod": "NULL",
                                    "(No column name)": "4345898"
                                },
                                {
                                    "szall_datum": "2015-10-31",
                                    "szall_mod": "NULL",
                                    "(No column name)": "2861489"
                                },
                                {
                                    "szall_datum": "2015-11-01",
                                    "szall_mod": "NULL",
                                    "(No column name)": "3486677"
                                },
                                {
                                    "szall_datum": "2015-11-02",
                                    "szall_mod": "NULL",
                                    "(No column name)": "2400514"
                                },
                                {
                                    "szall_datum": "2015-11-03",
                                    "szall_mod": "NULL",
                                    "(No column name)": "6228688"
                                },
                                {
                                    "szall_datum": "2015-11-04",
                                    "szall_mod": "NULL",
                                    "(No column name)": "2891455"
                                },
                                {
                                    "szall_datum": "2015-11-05",
                                    "szall_mod": "NULL",
                                    "(No column name)": "2477876"
                                },
                                {
                                    "szall_datum": "2015-11-06",
                                    "szall_mod": "NULL",
                                    "(No column name)": "2634982"
                                },
                                {
                                    "szall_datum": "2015-11-07",
                                    "szall_mod": "NULL",
                                    "(No column name)": "5397340"
                                },
                                {
                                    "szall_datum": "2015-11-08",
                                    "szall_mod": "NULL",
                                    "(No column name)": "3335072"
                                },
                                {
                                    "szall_datum": "2015-11-09",
                                    "szall_mod": "NULL",
                                    "(No column name)": "3649494"
                                },
                                {
                                    "szall_datum": "2015-11-10",
                                    "szall_mod": "NULL",
                                    "(No column name)": "4093814"
                                },
                                {
                                    "szall_datum": "2015-11-11",
                                    "szall_mod": "NULL",
                                    "(No column name)": "2883359"
                                },
                                {
                                    "szall_datum": "2015-11-12",
                                    "szall_mod": "NULL",
                                    "(No column name)": "3567145"
                                },
                                {
                                    "szall_datum": "2015-11-13",
                                    "szall_mod": "NULL",
                                    "(No column name)": "2319123"
                                },
                                {
                                    "szall_datum": "2015-11-14",
                                    "szall_mod": "NULL",
                                    "(No column name)": "4701677"
                                },
                                {
                                    "szall_datum": "2015-11-15",
                                    "szall_mod": "NULL",
                                    "(No column name)": "1788138"
                                },
                                {
                                    "szall_datum": "2015-11-16",
                                    "szall_mod": "NULL",
                                    "(No column name)": "4862379"
                                },
                                {
                                    "szall_datum": "2015-11-17",
                                    "szall_mod": "NULL",
                                    "(No column name)": "3568072"
                                },
                                {
                                    "szall_datum": "2015-11-18",
                                    "szall_mod": "NULL",
                                    "(No column name)": "4820494"
                                },
                                {
                                    "szall_datum": "2015-11-19",
                                    "szall_mod": "NULL",
                                    "(No column name)": "2340144"
                                },
                                {
                                    "szall_datum": "2015-11-20",
                                    "szall_mod": "NULL",
                                    "(No column name)": "2952986"
                                },
                                {
                                    "szall_datum": "2015-11-21",
                                    "szall_mod": "NULL",
                                    "(No column name)": "3802284"
                                },
                                {
                                    "szall_datum": "2015-11-22",
                                    "szall_mod": "NULL",
                                    "(No column name)": "3525022"
                                },
                                {
                                    "szall_datum": "2015-11-23",
                                    "szall_mod": "NULL",
                                    "(No column name)": "3153480"
                                },
                                {
                                    "szall_datum": "2015-11-24",
                                    "szall_mod": "NULL",
                                    "(No column name)": "5039549"
                                },
                                {
                                    "szall_datum": "2015-11-25",
                                    "szall_mod": "NULL",
                                    "(No column name)": "2086705"
                                },
                                {
                                    "szall_datum": "2015-11-26",
                                    "szall_mod": "NULL",
                                    "(No column name)": "2638352"
                                },
                                {
                                    "szall_datum": "2015-11-27",
                                    "szall_mod": "NULL",
                                    "(No column name)": "1787430"
                                },
                                {
                                    "szall_datum": "2015-11-28",
                                    "szall_mod": "NULL",
                                    "(No column name)": "6422485"
                                },
                                {
                                    "szall_datum": "2015-11-29",
                                    "szall_mod": "NULL",
                                    "(No column name)": "3526865"
                                },
                                {
                                    "szall_datum": "2015-11-30",
                                    "szall_mod": "NULL",
                                    "(No column name)": "2920065"
                                },
                                {
                                    "szall_datum": "2015-12-01",
                                    "szall_mod": "NULL",
                                    "(No column name)": "4235679"
                                },
                                {
                                    "szall_datum": "2015-12-02",
                                    "szall_mod": "NULL",
                                    "(No column name)": "5019731"
                                },
                                {
                                    "szall_datum": "2015-12-03",
                                    "szall_mod": "NULL",
                                    "(No column name)": "3544829"
                                },
                                {
                                    "szall_datum": "2015-12-04",
                                    "szall_mod": "NULL",
                                    "(No column name)": "1892798"
                                },
                                {
                                    "szall_datum": "2015-12-05",
                                    "szall_mod": "NULL",
                                    "(No column name)": "3721128"
                                },
                                {
                                    "szall_datum": "2015-12-06",
                                    "szall_mod": "NULL",
                                    "(No column name)": "2884438"
                                },
                                {
                                    "szall_datum": "2015-12-07",
                                    "szall_mod": "NULL",
                                    "(No column name)": "4509894"
                                },
                                {
                                    "szall_datum": "2015-12-08",
                                    "szall_mod": "NULL",
                                    "(No column name)": "3044234"
                                },
                                {
                                    "szall_datum": "2015-12-09",
                                    "szall_mod": "NULL",
                                    "(No column name)": "2870296"
                                },
                                {
                                    "szall_datum": "2015-12-10",
                                    "szall_mod": "NULL",
                                    "(No column name)": "4941409"
                                },
                                {
                                    "szall_datum": "2015-12-11",
                                    "szall_mod": "NULL",
                                    "(No column name)": "6814568"
                                },
                                {
                                    "szall_datum": "2015-12-12",
                                    "szall_mod": "NULL",
                                    "(No column name)": "4620153"
                                },
                                {
                                    "szall_datum": "2015-12-13",
                                    "szall_mod": "NULL",
                                    "(No column name)": "1539717"
                                },
                                {
                                    "szall_datum": "2015-12-14",
                                    "szall_mod": "NULL",
                                    "(No column name)": "4333979"
                                },
                                {
                                    "szall_datum": "2015-12-15",
                                    "szall_mod": "NULL",
                                    "(No column name)": "2626256"
                                },
                                {
                                    "szall_datum": "2015-12-16",
                                    "szall_mod": "NULL",
                                    "(No column name)": "2331477"
                                },
                                {
                                    "szall_datum": "2015-12-17",
                                    "szall_mod": "NULL",
                                    "(No column name)": "1952610"
                                },
                                {
                                    "szall_datum": "2015-12-18",
                                    "szall_mod": "NULL",
                                    "(No column name)": "3955357"
                                },
                                {
                                    "szall_datum": "2015-12-19",
                                    "szall_mod": "NULL",
                                    "(No column name)": "2664353"
                                },
                                {
                                    "szall_datum": "2015-12-20",
                                    "szall_mod": "NULL",
                                    "(No column name)": "4264965"
                                },
                                {
                                    "szall_datum": "2015-12-21",
                                    "szall_mod": "NULL",
                                    "(No column name)": "2207108"
                                },
                                {
                                    "szall_datum": "2015-12-22",
                                    "szall_mod": "NULL",
                                    "(No column name)": "2342474"
                                },
                                {
                                    "szall_datum": "2015-12-23",
                                    "szall_mod": "NULL",
                                    "(No column name)": "2477096"
                                },
                                {
                                    "szall_datum": "2015-12-24",
                                    "szall_mod": "NULL",
                                    "(No column name)": "2105576"
                                },
                                {
                                    "szall_datum": "2015-12-25",
                                    "szall_mod": "NULL",
                                    "(No column name)": "3211730"
                                },
                                {
                                    "szall_datum": "2015-12-26",
                                    "szall_mod": "NULL",
                                    "(No column name)": "3482979"
                                },
                                {
                                    "szall_datum": "2015-12-27",
                                    "szall_mod": "NULL",
                                    "(No column name)": "3198224"
                                },
                                {
                                    "szall_datum": "2015-12-28",
                                    "szall_mod": "NULL",
                                    "(No column name)": "4118877"
                                },
                                {
                                    "szall_datum": "2015-12-29",
                                    "szall_mod": "NULL",
                                    "(No column name)": "3219712"
                                },
                                {
                                    "szall_datum": "2015-12-30",
                                    "szall_mod": "NULL",
                                    "(No column name)": "2351627"
                                },
                                {
                                    "szall_datum": "2015-12-31",
                                    "szall_mod": "NULL",
                                    "(No column name)": "3585438"
                                },
                                {
                                    "szall_datum": "2016-01-01",
                                    "szall_mod": "NULL",
                                    "(No column name)": "4375775"
                                },
                                {
                                    "szall_datum": "2016-01-02",
                                    "szall_mod": "NULL",
                                    "(No column name)": "2882266"
                                },
                                {
                                    "szall_datum": "2016-01-03",
                                    "szall_mod": "NULL",
                                    "(No column name)": "4676041"
                                },
                                {
                                    "szall_datum": "2016-01-04",
                                    "szall_mod": "NULL",
                                    "(No column name)": "3485558"
                                },
                                {
                                    "szall_datum": "2016-01-05",
                                    "szall_mod": "NULL",
                                    "(No column name)": "2796894"
                                },
                                {
                                    "szall_datum": "2016-01-06",
                                    "szall_mod": "NULL",
                                    "(No column name)": "3475974"
                                },
                                {
                                    "szall_datum": "2016-01-07",
                                    "szall_mod": "NULL",
                                    "(No column name)": "1752660"
                                },
                                {
                                    "szall_datum": "2016-01-08",
                                    "szall_mod": "NULL",
                                    "(No column name)": "5321942"
                                },
                                {
                                    "szall_datum": "2016-01-09",
                                    "szall_mod": "NULL",
                                    "(No column name)": "3205199"
                                },
                                {
                                    "szall_datum": "2016-01-10",
                                    "szall_mod": "NULL",
                                    "(No column name)": "3754840"
                                },
                                {
                                    "szall_datum": "2016-01-11",
                                    "szall_mod": "NULL",
                                    "(No column name)": "6222600"
                                },
                                {
                                    "szall_datum": "2016-01-12",
                                    "szall_mod": "NULL",
                                    "(No column name)": "3016060"
                                },
                                {
                                    "szall_datum": "2016-01-13",
                                    "szall_mod": "NULL",
                                    "(No column name)": "3677520"
                                },
                                {
                                    "szall_datum": "2016-01-14",
                                    "szall_mod": "NULL",
                                    "(No column name)": "2378090"
                                },
                                {
                                    "szall_datum": "2016-01-15",
                                    "szall_mod": "NULL",
                                    "(No column name)": "3507620"
                                },
                                {
                                    "szall_datum": "2016-01-16",
                                    "szall_mod": "NULL",
                                    "(No column name)": "3400760"
                                },
                                {
                                    "szall_datum": "2016-01-17",
                                    "szall_mod": "NULL",
                                    "(No column name)": "5460380"
                                },
                                {
                                    "szall_datum": "2016-01-18",
                                    "szall_mod": "NULL",
                                    "(No column name)": "5915360"
                                },
                                {
                                    "szall_datum": "2016-01-19",
                                    "szall_mod": "NULL",
                                    "(No column name)": "2320500"
                                },
                                {
                                    "szall_datum": "2016-01-20",
                                    "szall_mod": "NULL",
                                    "(No column name)": "2861630"
                                },
                                {
                                    "szall_datum": "2016-01-21",
                                    "szall_mod": "NULL",
                                    "(No column name)": "3385410"
                                },
                                {
                                    "szall_datum": "2016-01-22",
                                    "szall_mod": "NULL",
                                    "(No column name)": "3558960"
                                },
                                {
                                    "szall_datum": "2016-01-23",
                                    "szall_mod": "NULL",
                                    "(No column name)": "2675630"
                                },
                                {
                                    "szall_datum": "2016-01-24",
                                    "szall_mod": "NULL",
                                    "(No column name)": "5456580"
                                },
                                {
                                    "szall_datum": "2016-01-25",
                                    "szall_mod": "NULL",
                                    "(No column name)": "2387660"
                                },
                                {
                                    "szall_datum": "2016-01-26",
                                    "szall_mod": "NULL",
                                    "(No column name)": "2822220"
                                },
                                {
                                    "szall_datum": "2016-01-27",
                                    "szall_mod": "NULL",
                                    "(No column name)": "3155580"
                                },
                                {
                                    "szall_datum": "2016-01-28",
                                    "szall_mod": "NULL",
                                    "(No column name)": "7782620"
                                },
                                {
                                    "szall_datum": "2016-01-29",
                                    "szall_mod": "NULL",
                                    "(No column name)": "3300420"
                                },
                                {
                                    "szall_datum": "2016-01-30",
                                    "szall_mod": "NULL",
                                    "(No column name)": "4463790"
                                },
                                {
                                    "szall_datum": "2016-01-31",
                                    "szall_mod": "NULL",
                                    "(No column name)": "4576980"
                                },
                                {
                                    "szall_datum": "2016-02-01",
                                    "szall_mod": "NULL",
                                    "(No column name)": "6002140"
                                },
                                {
                                    "szall_datum": "2016-02-02",
                                    "szall_mod": "NULL",
                                    "(No column name)": "4015440"
                                },
                                {
                                    "szall_datum": "2016-02-03",
                                    "szall_mod": "NULL",
                                    "(No column name)": "3479120"
                                },
                                {
                                    "szall_datum": "2016-02-04",
                                    "szall_mod": "NULL",
                                    "(No column name)": "2325830"
                                },
                                {
                                    "szall_datum": "2016-02-05",
                                    "szall_mod": "NULL",
                                    "(No column name)": "6074190"
                                },
                                {
                                    "szall_datum": "2016-02-06",
                                    "szall_mod": "NULL",
                                    "(No column name)": "5750260"
                                },
                                {
                                    "szall_datum": "2016-02-07",
                                    "szall_mod": "NULL",
                                    "(No column name)": "2109970"
                                },
                                {
                                    "szall_datum": "2016-02-08",
                                    "szall_mod": "NULL",
                                    "(No column name)": "3808950"
                                },
                                {
                                    "szall_datum": "2016-02-09",
                                    "szall_mod": "NULL",
                                    "(No column name)": "5460380"
                                },
                                {
                                    "szall_datum": "2016-02-10",
                                    "szall_mod": "NULL",
                                    "(No column name)": "3420460"
                                },
                                {
                                    "szall_datum": "2016-02-11",
                                    "szall_mod": "NULL",
                                    "(No column name)": "5517190"
                                },
                                {
                                    "szall_datum": "2016-02-12",
                                    "szall_mod": "NULL",
                                    "(No column name)": "5415830"
                                },
                                {
                                    "szall_datum": "2016-02-13",
                                    "szall_mod": "NULL",
                                    "(No column name)": "2062170"
                                },
                                {
                                    "szall_datum": "2016-02-14",
                                    "szall_mod": "NULL",
                                    "(No column name)": "4044280"
                                },
                                {
                                    "szall_datum": "2016-02-15",
                                    "szall_mod": "NULL",
                                    "(No column name)": "4864830"
                                },
                                {
                                    "szall_datum": "2016-02-16",
                                    "szall_mod": "NULL",
                                    "(No column name)": "3644140"
                                },
                                {
                                    "szall_datum": "2016-02-17",
                                    "szall_mod": "NULL",
                                    "(No column name)": "6822160"
                                },
                                {
                                    "szall_datum": "2016-02-18",
                                    "szall_mod": "NULL",
                                    "(No column name)": "1336290"
                                },
                                {
                                    "szall_datum": "2016-02-19",
                                    "szall_mod": "NULL",
                                    "(No column name)": "2607690"
                                },
                                {
                                    "szall_datum": "2016-02-20",
                                    "szall_mod": "NULL",
                                    "(No column name)": "4366720"
                                },
                                {
                                    "szall_datum": "2016-02-21",
                                    "szall_mod": "NULL",
                                    "(No column name)": "6049185"
                                },
                                {
                                    "szall_datum": "2016-02-22",
                                    "szall_mod": "NULL",
                                    "(No column name)": "4647300"
                                },
                                {
                                    "szall_datum": "2016-02-23",
                                    "szall_mod": "NULL",
                                    "(No column name)": "8281820"
                                },
                                {
                                    "szall_datum": "2016-02-24",
                                    "szall_mod": "NULL",
                                    "(No column name)": "5161230"
                                },
                                {
                                    "szall_datum": "2016-02-25",
                                    "szall_mod": "NULL",
                                    "(No column name)": "4153440"
                                },
                                {
                                    "szall_datum": "2016-02-26",
                                    "szall_mod": "NULL",
                                    "(No column name)": "4397170"
                                },
                                {
                                    "szall_datum": "2016-02-27",
                                    "szall_mod": "NULL",
                                    "(No column name)": "5069210"
                                },
                                {
                                    "szall_datum": "2016-02-28",
                                    "szall_mod": "NULL",
                                    "(No column name)": "4207190"
                                },
                                {
                                    "szall_datum": "2016-02-29",
                                    "szall_mod": "NULL",
                                    "(No column name)": "3931440"
                                },
                                {
                                    "szall_datum": "2016-03-01",
                                    "szall_mod": "NULL",
                                    "(No column name)": "4012130"
                                },
                                {
                                    "szall_datum": "2016-03-02",
                                    "szall_mod": "NULL",
                                    "(No column name)": "3661560"
                                },
                                {
                                    "szall_datum": "2016-03-03",
                                    "szall_mod": "NULL",
                                    "(No column name)": "4323760"
                                },
                                {
                                    "szall_datum": "2016-03-04",
                                    "szall_mod": "NULL",
                                    "(No column name)": "7628590"
                                },
                                {
                                    "szall_datum": "2016-03-05",
                                    "szall_mod": "NULL",
                                    "(No column name)": "5367760"
                                },
                                {
                                    "szall_datum": "2016-03-06",
                                    "szall_mod": "NULL",
                                    "(No column name)": "2123540"
                                },
                                {
                                    "szall_datum": "2016-03-07",
                                    "szall_mod": "NULL",
                                    "(No column name)": "2917240"
                                },
                                {
                                    "szall_datum": "2016-03-08",
                                    "szall_mod": "NULL",
                                    "(No column name)": "3541890"
                                },
                                {
                                    "szall_datum": "2016-03-09",
                                    "szall_mod": "NULL",
                                    "(No column name)": "4130680"
                                },
                                {
                                    "szall_datum": "2016-03-10",
                                    "szall_mod": "NULL",
                                    "(No column name)": "4129890"
                                },
                                {
                                    "szall_datum": "2016-03-11",
                                    "szall_mod": "NULL",
                                    "(No column name)": "4901490"
                                },
                                {
                                    "szall_datum": "2016-03-12",
                                    "szall_mod": "NULL",
                                    "(No column name)": "3895770"
                                },
                                {
                                    "szall_datum": "2016-03-13",
                                    "szall_mod": "NULL",
                                    "(No column name)": "3792570"
                                },
                                {
                                    "szall_datum": "2016-03-14",
                                    "szall_mod": "NULL",
                                    "(No column name)": "3634240"
                                },
                                {
                                    "szall_datum": "2016-03-15",
                                    "szall_mod": "NULL",
                                    "(No column name)": "4392180"
                                },
                                {
                                    "szall_datum": "2016-03-16",
                                    "szall_mod": "NULL",
                                    "(No column name)": "2214340"
                                },
                                {
                                    "szall_datum": "2016-03-17",
                                    "szall_mod": "NULL",
                                    "(No column name)": "2679880"
                                },
                                {
                                    "szall_datum": "2016-03-18",
                                    "szall_mod": "NULL",
                                    "(No column name)": "3022030"
                                },
                                {
                                    "szall_datum": "2016-03-19",
                                    "szall_mod": "NULL",
                                    "(No column name)": "4291160"
                                },
                                {
                                    "szall_datum": "2016-03-20",
                                    "szall_mod": "NULL",
                                    "(No column name)": "4178720"
                                },
                                {
                                    "szall_datum": "2016-03-21",
                                    "szall_mod": "NULL",
                                    "(No column name)": "3059990"
                                },
                                {
                                    "szall_datum": "2016-03-22",
                                    "szall_mod": "NULL",
                                    "(No column name)": "4187655"
                                },
                                {
                                    "szall_datum": "2016-03-23",
                                    "szall_mod": "NULL",
                                    "(No column name)": "4242780"
                                },
                                {
                                    "szall_datum": "2016-03-24",
                                    "szall_mod": "NULL",
                                    "(No column name)": "3146270"
                                },
                                {
                                    "szall_datum": "2016-03-25",
                                    "szall_mod": "NULL",
                                    "(No column name)": "3667180"
                                },
                                {
                                    "szall_datum": "2016-03-26",
                                    "szall_mod": "NULL",
                                    "(No column name)": "5031110"
                                },
                                {
                                    "szall_datum": "2016-03-27",
                                    "szall_mod": "NULL",
                                    "(No column name)": "5215830"
                                },
                                {
                                    "szall_datum": "2016-03-28",
                                    "szall_mod": "NULL",
                                    "(No column name)": "2287790"
                                },
                                {
                                    "szall_datum": "2016-03-29",
                                    "szall_mod": "NULL",
                                    "(No column name)": "2717320"
                                },
                                {
                                    "szall_datum": "2016-03-30",
                                    "szall_mod": "NULL",
                                    "(No column name)": "3169130"
                                },
                                {
                                    "szall_datum": "2016-03-31",
                                    "szall_mod": "NULL",
                                    "(No column name)": "3861260"
                                },
                                {
                                    "szall_datum": "2016-04-01",
                                    "szall_mod": "NULL",
                                    "(No column name)": "3766870"
                                },
                                {
                                    "szall_datum": "2016-04-02",
                                    "szall_mod": "NULL",
                                    "(No column name)": "5393960"
                                },
                                {
                                    "szall_datum": "2016-04-03",
                                    "szall_mod": "NULL",
                                    "(No column name)": "4788420"
                                },
                                {
                                    "szall_datum": "2016-04-04",
                                    "szall_mod": "NULL",
                                    "(No column name)": "5004490"
                                },
                                {
                                    "szall_datum": "2016-04-05",
                                    "szall_mod": "NULL",
                                    "(No column name)": "3051040"
                                },
                                {
                                    "szall_datum": "2016-04-06",
                                    "szall_mod": "NULL",
                                    "(No column name)": "4234430"
                                },
                                {
                                    "szall_datum": "2016-04-07",
                                    "szall_mod": "NULL",
                                    "(No column name)": "2851520"
                                },
                                {
                                    "szall_datum": "2016-04-08",
                                    "szall_mod": "NULL",
                                    "(No column name)": "3062740"
                                },
                                {
                                    "szall_datum": "2016-04-09",
                                    "szall_mod": "NULL",
                                    "(No column name)": "4494200"
                                },
                                {
                                    "szall_datum": "2016-04-10",
                                    "szall_mod": "NULL",
                                    "(No column name)": "4452890"
                                },
                                {
                                    "szall_datum": "2016-04-11",
                                    "szall_mod": "NULL",
                                    "(No column name)": "3300060"
                                },
                                {
                                    "szall_datum": "2016-04-12",
                                    "szall_mod": "NULL",
                                    "(No column name)": "3891450"
                                },
                                {
                                    "szall_datum": "2016-04-13",
                                    "szall_mod": "NULL",
                                    "(No column name)": "4387320"
                                },
                                {
                                    "szall_datum": "2016-04-14",
                                    "szall_mod": "NULL",
                                    "(No column name)": "6400220"
                                },
                                {
                                    "szall_datum": "2016-04-15",
                                    "szall_mod": "NULL",
                                    "(No column name)": "2940290"
                                },
                                {
                                    "szall_datum": "2016-04-16",
                                    "szall_mod": "NULL",
                                    "(No column name)": "3771240"
                                },
                                {
                                    "szall_datum": "2016-04-17",
                                    "szall_mod": "NULL",
                                    "(No column name)": "4189850"
                                },
                                {
                                    "szall_datum": "2016-04-18",
                                    "szall_mod": "NULL",
                                    "(No column name)": "4420260"
                                },
                                {
                                    "szall_datum": "2016-04-19",
                                    "szall_mod": "NULL",
                                    "(No column name)": "4514700"
                                },
                                {
                                    "szall_datum": "2016-04-20",
                                    "szall_mod": "NULL",
                                    "(No column name)": "4248850"
                                },
                                {
                                    "szall_datum": "2016-04-21",
                                    "szall_mod": "NULL",
                                    "(No column name)": "3264700"
                                },
                                {
                                    "szall_datum": "2016-04-22",
                                    "szall_mod": "NULL",
                                    "(No column name)": "1758030"
                                },
                                {
                                    "szall_datum": "2016-04-23",
                                    "szall_mod": "NULL",
                                    "(No column name)": "3710460"
                                },
                                {
                                    "szall_datum": "2016-04-24",
                                    "szall_mod": "NULL",
                                    "(No column name)": "6733180"
                                },
                                {
                                    "szall_datum": "2016-04-25",
                                    "szall_mod": "NULL",
                                    "(No column name)": "4075990"
                                },
                                {
                                    "szall_datum": "2016-04-26",
                                    "szall_mod": "NULL",
                                    "(No column name)": "4855350"
                                },
                                {
                                    "szall_datum": "2016-04-27",
                                    "szall_mod": "NULL",
                                    "(No column name)": "2837740"
                                },
                                {
                                    "szall_datum": "2016-04-28",
                                    "szall_mod": "NULL",
                                    "(No column name)": "1922070"
                                },
                                {
                                    "szall_datum": "2016-04-29",
                                    "szall_mod": "NULL",
                                    "(No column name)": "4854250"
                                },
                                {
                                    "szall_datum": "2016-04-30",
                                    "szall_mod": "NULL",
                                    "(No column name)": "5090770"
                                },
                                {
                                    "szall_datum": "2016-05-01",
                                    "szall_mod": "NULL",
                                    "(No column name)": "2381700"
                                },
                                {
                                    "szall_datum": "2016-05-02",
                                    "szall_mod": "NULL",
                                    "(No column name)": "5694560"
                                },
                                {
                                    "szall_datum": "2016-05-03",
                                    "szall_mod": "NULL",
                                    "(No column name)": "3177210"
                                },
                                {
                                    "szall_datum": "2016-05-04",
                                    "szall_mod": "NULL",
                                    "(No column name)": "6038290"
                                },
                                {
                                    "szall_datum": "2016-05-05",
                                    "szall_mod": "NULL",
                                    "(No column name)": "3623460"
                                },
                                {
                                    "szall_datum": "2016-05-06",
                                    "szall_mod": "NULL",
                                    "(No column name)": "5319870"
                                },
                                {
                                    "szall_datum": "2016-05-07",
                                    "szall_mod": "NULL",
                                    "(No column name)": "2361340"
                                },
                                {
                                    "szall_datum": "2016-05-08",
                                    "szall_mod": "NULL",
                                    "(No column name)": "4227150"
                                },
                                {
                                    "szall_datum": "2016-05-09",
                                    "szall_mod": "NULL",
                                    "(No column name)": "4629720"
                                },
                                {
                                    "szall_datum": "2016-05-10",
                                    "szall_mod": "NULL",
                                    "(No column name)": "3313420"
                                },
                                {
                                    "szall_datum": "2016-05-11",
                                    "szall_mod": "NULL",
                                    "(No column name)": "3456480"
                                },
                                {
                                    "szall_datum": "2016-05-12",
                                    "szall_mod": "NULL",
                                    "(No column name)": "4190440"
                                },
                                {
                                    "szall_datum": "2016-05-13",
                                    "szall_mod": "NULL",
                                    "(No column name)": "7263460"
                                },
                                {
                                    "szall_datum": "2016-05-14",
                                    "szall_mod": "NULL",
                                    "(No column name)": "2626150"
                                },
                                {
                                    "szall_datum": "2016-05-15",
                                    "szall_mod": "NULL",
                                    "(No column name)": "1652990"
                                },
                                {
                                    "szall_datum": "2016-05-16",
                                    "szall_mod": "NULL",
                                    "(No column name)": "3574960"
                                },
                                {
                                    "szall_datum": "2016-05-17",
                                    "szall_mod": "NULL",
                                    "(No column name)": "4843400"
                                },
                                {
                                    "szall_datum": "2016-05-18",
                                    "szall_mod": "NULL",
                                    "(No column name)": "5667490"
                                },
                                {
                                    "szall_datum": "2016-05-19",
                                    "szall_mod": "NULL",
                                    "(No column name)": "4445130"
                                },
                                {
                                    "szall_datum": "2016-05-20",
                                    "szall_mod": "NULL",
                                    "(No column name)": "3801480"
                                },
                                {
                                    "szall_datum": "2016-05-21",
                                    "szall_mod": "NULL",
                                    "(No column name)": "2487800"
                                },
                                {
                                    "szall_datum": "2016-05-22",
                                    "szall_mod": "NULL",
                                    "(No column name)": "3694610"
                                },
                                {
                                    "szall_datum": "2016-05-23",
                                    "szall_mod": "NULL",
                                    "(No column name)": "2616110"
                                },
                                {
                                    "szall_datum": "2016-05-24",
                                    "szall_mod": "NULL",
                                    "(No column name)": "4355870"
                                },
                                {
                                    "szall_datum": "2016-05-25",
                                    "szall_mod": "NULL",
                                    "(No column name)": "3535360"
                                },
                                {
                                    "szall_datum": "2016-05-26",
                                    "szall_mod": "NULL",
                                    "(No column name)": "3501180"
                                },
                                {
                                    "szall_datum": "2016-05-27",
                                    "szall_mod": "NULL",
                                    "(No column name)": "2976520"
                                },
                                {
                                    "szall_datum": "2016-05-28",
                                    "szall_mod": "NULL",
                                    "(No column name)": "3175280"
                                },
                                {
                                    "szall_datum": "2016-05-29",
                                    "szall_mod": "NULL",
                                    "(No column name)": "2381635"
                                },
                                {
                                    "szall_datum": "2016-05-30",
                                    "szall_mod": "NULL",
                                    "(No column name)": "2721780"
                                },
                                {
                                    "szall_datum": "2016-05-31",
                                    "szall_mod": "NULL",
                                    "(No column name)": "2845200"
                                },
                                {
                                    "szall_datum": "2016-06-01",
                                    "szall_mod": "NULL",
                                    "(No column name)": "4125800"
                                },
                                {
                                    "szall_datum": "2016-06-02",
                                    "szall_mod": "NULL",
                                    "(No column name)": "2618270"
                                },
                                {
                                    "szall_datum": "2016-06-03",
                                    "szall_mod": "NULL",
                                    "(No column name)": "2719980"
                                },
                                {
                                    "szall_datum": "2016-06-04",
                                    "szall_mod": "NULL",
                                    "(No column name)": "3038780"
                                },
                                {
                                    "szall_datum": "2016-06-05",
                                    "szall_mod": "NULL",
                                    "(No column name)": "2892290"
                                },
                                {
                                    "szall_datum": "2016-06-06",
                                    "szall_mod": "NULL",
                                    "(No column name)": "4762090"
                                },
                                {
                                    "szall_datum": "2016-06-07",
                                    "szall_mod": "NULL",
                                    "(No column name)": "3715600"
                                },
                                {
                                    "szall_datum": "2016-06-08",
                                    "szall_mod": "NULL",
                                    "(No column name)": "4781100"
                                },
                                {
                                    "szall_datum": "2016-06-09",
                                    "szall_mod": "NULL",
                                    "(No column name)": "5090020"
                                },
                                {
                                    "szall_datum": "2016-06-10",
                                    "szall_mod": "NULL",
                                    "(No column name)": "3589270"
                                },
                                {
                                    "szall_datum": "2016-06-11",
                                    "szall_mod": "NULL",
                                    "(No column name)": "4555210"
                                },
                                {
                                    "szall_datum": "2016-06-12",
                                    "szall_mod": "NULL",
                                    "(No column name)": "5337040"
                                },
                                {
                                    "szall_datum": "2016-06-13",
                                    "szall_mod": "NULL",
                                    "(No column name)": "1755590"
                                },
                                {
                                    "szall_datum": "2016-06-14",
                                    "szall_mod": "NULL",
                                    "(No column name)": "3151780"
                                },
                                {
                                    "szall_datum": "2016-06-15",
                                    "szall_mod": "NULL",
                                    "(No column name)": "4722240"
                                },
                                {
                                    "szall_datum": "2016-06-16",
                                    "szall_mod": "NULL",
                                    "(No column name)": "3503200"
                                },
                                {
                                    "szall_datum": "2016-06-17",
                                    "szall_mod": "NULL",
                                    "(No column name)": "3440880"
                                },
                                {
                                    "szall_datum": "2016-06-18",
                                    "szall_mod": "NULL",
                                    "(No column name)": "5137650"
                                },
                                {
                                    "szall_datum": "2016-06-19",
                                    "szall_mod": "NULL",
                                    "(No column name)": "3686260"
                                },
                                {
                                    "szall_datum": "2016-06-20",
                                    "szall_mod": "NULL",
                                    "(No column name)": "3523880"
                                },
                                {
                                    "szall_datum": "2016-06-21",
                                    "szall_mod": "NULL",
                                    "(No column name)": "3051320"
                                },
                                {
                                    "szall_datum": "2016-06-22",
                                    "szall_mod": "NULL",
                                    "(No column name)": "4029610"
                                },
                                {
                                    "szall_datum": "2016-06-23",
                                    "szall_mod": "NULL",
                                    "(No column name)": "3030420"
                                },
                                {
                                    "szall_datum": "2016-06-24",
                                    "szall_mod": "NULL",
                                    "(No column name)": "3068665"
                                },
                                {
                                    "szall_datum": "2016-06-25",
                                    "szall_mod": "NULL",
                                    "(No column name)": "4113940"
                                },
                                {
                                    "szall_datum": "2016-06-26",
                                    "szall_mod": "NULL",
                                    "(No column name)": "3095415"
                                },
                                {
                                    "szall_datum": "2016-06-27",
                                    "szall_mod": "NULL",
                                    "(No column name)": "3164230"
                                },
                                {
                                    "szall_datum": "2016-06-28",
                                    "szall_mod": "NULL",
                                    "(No column name)": "4126800"
                                },
                                {
                                    "szall_datum": "2016-06-29",
                                    "szall_mod": "NULL",
                                    "(No column name)": "3875630"
                                },
                                {
                                    "szall_datum": "2016-06-30",
                                    "szall_mod": "NULL",
                                    "(No column name)": "2336930"
                                },
                                {
                                    "szall_datum": "2016-07-01",
                                    "szall_mod": "NULL",
                                    "(No column name)": "5626970"
                                },
                                {
                                    "szall_datum": "2016-07-02",
                                    "szall_mod": "NULL",
                                    "(No column name)": "6503790"
                                },
                                {
                                    "szall_datum": "2016-07-03",
                                    "szall_mod": "NULL",
                                    "(No column name)": "3379190"
                                },
                                {
                                    "szall_datum": "2016-07-04",
                                    "szall_mod": "NULL",
                                    "(No column name)": "4566020"
                                },
                                {
                                    "szall_datum": "2016-07-05",
                                    "szall_mod": "NULL",
                                    "(No column name)": "5622320"
                                },
                                {
                                    "szall_datum": "2016-07-06",
                                    "szall_mod": "NULL",
                                    "(No column name)": "3294170"
                                },
                                {
                                    "szall_datum": "2016-07-07",
                                    "szall_mod": "NULL",
                                    "(No column name)": "3605370"
                                },
                                {
                                    "szall_datum": "2016-07-08",
                                    "szall_mod": "NULL",
                                    "(No column name)": "3643130"
                                },
                                {
                                    "szall_datum": "2016-07-09",
                                    "szall_mod": "NULL",
                                    "(No column name)": "3522470"
                                },
                                {
                                    "szall_datum": "2016-07-10",
                                    "szall_mod": "NULL",
                                    "(No column name)": "3590060"
                                },
                                {
                                    "szall_datum": "2016-07-11",
                                    "szall_mod": "NULL",
                                    "(No column name)": "3146150"
                                },
                                {
                                    "szall_datum": "2016-07-12",
                                    "szall_mod": "NULL",
                                    "(No column name)": "4999100"
                                },
                                {
                                    "szall_datum": "2016-07-13",
                                    "szall_mod": "NULL",
                                    "(No column name)": "3707230"
                                },
                                {
                                    "szall_datum": "2016-07-14",
                                    "szall_mod": "NULL",
                                    "(No column name)": "3522120"
                                },
                                {
                                    "szall_datum": "2016-07-15",
                                    "szall_mod": "NULL",
                                    "(No column name)": "3012125"
                                },
                                {
                                    "szall_datum": "2016-07-16",
                                    "szall_mod": "NULL",
                                    "(No column name)": "3959640"
                                },
                                {
                                    "szall_datum": "2016-07-17",
                                    "szall_mod": "NULL",
                                    "(No column name)": "2522420"
                                },
                                {
                                    "szall_datum": "2016-07-18",
                                    "szall_mod": "NULL",
                                    "(No column name)": "4172280"
                                },
                                {
                                    "szall_datum": "2016-07-19",
                                    "szall_mod": "NULL",
                                    "(No column name)": "7556340"
                                },
                                {
                                    "szall_datum": "2016-07-20",
                                    "szall_mod": "NULL",
                                    "(No column name)": "4060990"
                                },
                                {
                                    "szall_datum": "2016-07-21",
                                    "szall_mod": "NULL",
                                    "(No column name)": "4910540"
                                },
                                {
                                    "szall_datum": "2016-07-22",
                                    "szall_mod": "NULL",
                                    "(No column name)": "5036240"
                                },
                                {
                                    "szall_datum": "2016-07-23",
                                    "szall_mod": "NULL",
                                    "(No column name)": "2426190"
                                },
                                {
                                    "szall_datum": "2016-07-24",
                                    "szall_mod": "NULL",
                                    "(No column name)": "3005140"
                                },
                                {
                                    "szall_datum": "2016-07-25",
                                    "szall_mod": "NULL",
                                    "(No column name)": "2203910"
                                },
                                {
                                    "szall_datum": "2016-07-26",
                                    "szall_mod": "NULL",
                                    "(No column name)": "3728470"
                                },
                                {
                                    "szall_datum": "2016-07-27",
                                    "szall_mod": "NULL",
                                    "(No column name)": "3184280"
                                },
                                {
                                    "szall_datum": "2016-07-28",
                                    "szall_mod": "NULL",
                                    "(No column name)": "4365050"
                                },
                                {
                                    "szall_datum": "2016-07-29",
                                    "szall_mod": "NULL",
                                    "(No column name)": "3343890"
                                },
                                {
                                    "szall_datum": "2016-07-30",
                                    "szall_mod": "NULL",
                                    "(No column name)": "2655940"
                                },
                                {
                                    "szall_datum": "2016-07-31",
                                    "szall_mod": "NULL",
                                    "(No column name)": "5124680"
                                },
                                {
                                    "szall_datum": "2016-08-01",
                                    "szall_mod": "NULL",
                                    "(No column name)": "3024550"
                                },
                                {
                                    "szall_datum": "2016-08-02",
                                    "szall_mod": "NULL",
                                    "(No column name)": "2958850"
                                },
                                {
                                    "szall_datum": "2016-08-03",
                                    "szall_mod": "NULL",
                                    "(No column name)": "2898760"
                                },
                                {
                                    "szall_datum": "2016-08-04",
                                    "szall_mod": "NULL",
                                    "(No column name)": "3198220"
                                },
                                {
                                    "szall_datum": "2016-08-05",
                                    "szall_mod": "NULL",
                                    "(No column name)": "5606900"
                                },
                                {
                                    "szall_datum": "2016-08-06",
                                    "szall_mod": "NULL",
                                    "(No column name)": "2919510"
                                },
                                {
                                    "szall_datum": "2016-08-07",
                                    "szall_mod": "NULL",
                                    "(No column name)": "3192490"
                                },
                                {
                                    "szall_datum": "2016-08-08",
                                    "szall_mod": "NULL",
                                    "(No column name)": "3781250"
                                },
                                {
                                    "szall_datum": "2016-08-09",
                                    "szall_mod": "NULL",
                                    "(No column name)": "3239030"
                                },
                                {
                                    "szall_datum": "2016-08-10",
                                    "szall_mod": "NULL",
                                    "(No column name)": "3928210"
                                },
                                {
                                    "szall_datum": "2016-08-11",
                                    "szall_mod": "NULL",
                                    "(No column name)": "5403595"
                                },
                                {
                                    "szall_datum": "2016-08-12",
                                    "szall_mod": "NULL",
                                    "(No column name)": "7423420"
                                },
                                {
                                    "szall_datum": "2016-08-13",
                                    "szall_mod": "NULL",
                                    "(No column name)": "3947310"
                                },
                                {
                                    "szall_datum": "2016-08-14",
                                    "szall_mod": "NULL",
                                    "(No column name)": "3530780"
                                },
                                {
                                    "szall_datum": "2016-08-15",
                                    "szall_mod": "NULL",
                                    "(No column name)": "4693540"
                                },
                                {
                                    "szall_datum": "2016-08-16",
                                    "szall_mod": "NULL",
                                    "(No column name)": "3959660"
                                },
                                {
                                    "szall_datum": "2016-08-17",
                                    "szall_mod": "NULL",
                                    "(No column name)": "3696295"
                                },
                                {
                                    "szall_datum": "2016-08-18",
                                    "szall_mod": "NULL",
                                    "(No column name)": "2582810"
                                },
                                {
                                    "szall_datum": "2016-08-19",
                                    "szall_mod": "NULL",
                                    "(No column name)": "2090785"
                                },
                                {
                                    "szall_datum": "2016-08-20",
                                    "szall_mod": "NULL",
                                    "(No column name)": "4678060"
                                },
                                {
                                    "szall_datum": "2016-08-21",
                                    "szall_mod": "NULL",
                                    "(No column name)": "4487690"
                                },
                                {
                                    "szall_datum": "2016-08-22",
                                    "szall_mod": "NULL",
                                    "(No column name)": "3404100"
                                },
                                {
                                    "szall_datum": "2016-08-23",
                                    "szall_mod": "NULL",
                                    "(No column name)": "3292840"
                                },
                                {
                                    "szall_datum": "2016-08-24",
                                    "szall_mod": "NULL",
                                    "(No column name)": "5507535"
                                },
                                {
                                    "szall_datum": "2016-08-25",
                                    "szall_mod": "NULL",
                                    "(No column name)": "4704270"
                                },
                                {
                                    "szall_datum": "2016-08-26",
                                    "szall_mod": "NULL",
                                    "(No column name)": "3365120"
                                },
                                {
                                    "szall_datum": "2016-08-27",
                                    "szall_mod": "NULL",
                                    "(No column name)": "4927875"
                                },
                                {
                                    "szall_datum": "2016-08-28",
                                    "szall_mod": "NULL",
                                    "(No column name)": "5693150"
                                },
                                {
                                    "szall_datum": "2016-08-29",
                                    "szall_mod": "NULL",
                                    "(No column name)": "2683580"
                                },
                                {
                                    "szall_datum": "2016-08-30",
                                    "szall_mod": "NULL",
                                    "(No column name)": "2180910"
                                },
                                {
                                    "szall_datum": "2016-08-31",
                                    "szall_mod": "NULL",
                                    "(No column name)": "4480390"
                                },
                                {
                                    "szall_datum": "2016-09-01",
                                    "szall_mod": "NULL",
                                    "(No column name)": "4019600"
                                },
                                {
                                    "szall_datum": "2016-09-02",
                                    "szall_mod": "NULL",
                                    "(No column name)": "4154440"
                                },
                                {
                                    "szall_datum": "2016-09-03",
                                    "szall_mod": "NULL",
                                    "(No column name)": "3535280"
                                },
                                {
                                    "szall_datum": "2016-09-04",
                                    "szall_mod": "NULL",
                                    "(No column name)": "3746890"
                                },
                                {
                                    "szall_datum": "2016-09-05",
                                    "szall_mod": "NULL",
                                    "(No column name)": "5515190"
                                },
                                {
                                    "szall_datum": "2016-09-06",
                                    "szall_mod": "NULL",
                                    "(No column name)": "5204700"
                                },
                                {
                                    "szall_datum": "2016-09-07",
                                    "szall_mod": "NULL",
                                    "(No column name)": "5781100"
                                },
                                {
                                    "szall_datum": "2016-09-08",
                                    "szall_mod": "NULL",
                                    "(No column name)": "2602560"
                                },
                                {
                                    "szall_datum": "2016-09-09",
                                    "szall_mod": "NULL",
                                    "(No column name)": "6465250"
                                },
                                {
                                    "szall_datum": "2016-09-10",
                                    "szall_mod": "NULL",
                                    "(No column name)": "2920090"
                                },
                                {
                                    "szall_datum": "2016-09-11",
                                    "szall_mod": "NULL",
                                    "(No column name)": "5143500"
                                },
                                {
                                    "szall_datum": "2016-09-12",
                                    "szall_mod": "NULL",
                                    "(No column name)": "2640110"
                                },
                                {
                                    "szall_datum": "2016-09-13",
                                    "szall_mod": "NULL",
                                    "(No column name)": "3332160"
                                },
                                {
                                    "szall_datum": "2016-09-14",
                                    "szall_mod": "NULL",
                                    "(No column name)": "4838690"
                                },
                                {
                                    "szall_datum": "2016-09-15",
                                    "szall_mod": "NULL",
                                    "(No column name)": "3229410"
                                },
                                {
                                    "szall_datum": "2016-09-16",
                                    "szall_mod": "NULL",
                                    "(No column name)": "4742950"
                                },
                                {
                                    "szall_datum": "2016-09-17",
                                    "szall_mod": "NULL",
                                    "(No column name)": "2749110"
                                },
                                {
                                    "szall_datum": "2016-09-18",
                                    "szall_mod": "NULL",
                                    "(No column name)": "3522200"
                                },
                                {
                                    "szall_datum": "2016-09-19",
                                    "szall_mod": "NULL",
                                    "(No column name)": "2482300"
                                },
                                {
                                    "szall_datum": "2016-09-20",
                                    "szall_mod": "NULL",
                                    "(No column name)": "2439360"
                                },
                                {
                                    "szall_datum": "2016-09-21",
                                    "szall_mod": "NULL",
                                    "(No column name)": "4167540"
                                },
                                {
                                    "szall_datum": "2016-09-22",
                                    "szall_mod": "NULL",
                                    "(No column name)": "2940870"
                                },
                                {
                                    "szall_datum": "2016-09-23",
                                    "szall_mod": "NULL",
                                    "(No column name)": "3007410"
                                },
                                {
                                    "szall_datum": "2016-09-24",
                                    "szall_mod": "NULL",
                                    "(No column name)": "3212370"
                                },
                                {
                                    "szall_datum": "2016-09-25",
                                    "szall_mod": "NULL",
                                    "(No column name)": "3032280"
                                },
                                {
                                    "szall_datum": "2016-09-26",
                                    "szall_mod": "NULL",
                                    "(No column name)": "4666010"
                                },
                                {
                                    "szall_datum": "2016-09-27",
                                    "szall_mod": "NULL",
                                    "(No column name)": "4388290"
                                },
                                {
                                    "szall_datum": "2016-09-28",
                                    "szall_mod": "NULL",
                                    "(No column name)": "4607720"
                                },
                                {
                                    "szall_datum": "2016-09-29",
                                    "szall_mod": "NULL",
                                    "(No column name)": "3400750"
                                },
                                {
                                    "szall_datum": "2016-09-30",
                                    "szall_mod": "NULL",
                                    "(No column name)": "6260360"
                                },
                                {
                                    "szall_datum": "2016-10-01",
                                    "szall_mod": "NULL",
                                    "(No column name)": "3223690"
                                },
                                {
                                    "szall_datum": "2016-10-02",
                                    "szall_mod": "NULL",
                                    "(No column name)": "3508300"
                                },
                                {
                                    "szall_datum": "2016-10-03",
                                    "szall_mod": "NULL",
                                    "(No column name)": "3697160"
                                },
                                {
                                    "szall_datum": "2016-10-04",
                                    "szall_mod": "NULL",
                                    "(No column name)": "4546700"
                                },
                                {
                                    "szall_datum": "2016-10-05",
                                    "szall_mod": "NULL",
                                    "(No column name)": "4135140"
                                },
                                {
                                    "szall_datum": "2016-10-06",
                                    "szall_mod": "NULL",
                                    "(No column name)": "4203880"
                                },
                                {
                                    "szall_datum": "2016-10-07",
                                    "szall_mod": "NULL",
                                    "(No column name)": "3368120"
                                },
                                {
                                    "szall_datum": "2016-10-08",
                                    "szall_mod": "NULL",
                                    "(No column name)": "3595670"
                                },
                                {
                                    "szall_datum": "2016-10-09",
                                    "szall_mod": "NULL",
                                    "(No column name)": "3937930"
                                },
                                {
                                    "szall_datum": "2016-10-10",
                                    "szall_mod": "NULL",
                                    "(No column name)": "3686210"
                                },
                                {
                                    "szall_datum": "2016-10-11",
                                    "szall_mod": "NULL",
                                    "(No column name)": "5358090"
                                },
                                {
                                    "szall_datum": "2016-10-12",
                                    "szall_mod": "NULL",
                                    "(No column name)": "2833460"
                                },
                                {
                                    "szall_datum": "2016-10-13",
                                    "szall_mod": "NULL",
                                    "(No column name)": "3175310"
                                },
                                {
                                    "szall_datum": "2016-10-14",
                                    "szall_mod": "NULL",
                                    "(No column name)": "2143890"
                                },
                                {
                                    "szall_datum": "2016-10-15",
                                    "szall_mod": "NULL",
                                    "(No column name)": "4817920"
                                },
                                {
                                    "szall_datum": "2016-10-16",
                                    "szall_mod": "NULL",
                                    "(No column name)": "3392030"
                                },
                                {
                                    "szall_datum": "2016-10-17",
                                    "szall_mod": "NULL",
                                    "(No column name)": "4133120"
                                },
                                {
                                    "szall_datum": "2016-10-18",
                                    "szall_mod": "NULL",
                                    "(No column name)": "3793130"
                                },
                                {
                                    "szall_datum": "2016-10-19",
                                    "szall_mod": "NULL",
                                    "(No column name)": "3355640"
                                },
                                {
                                    "szall_datum": "2016-10-20",
                                    "szall_mod": "NULL",
                                    "(No column name)": "2862130"
                                },
                                {
                                    "szall_datum": "2016-10-21",
                                    "szall_mod": "NULL",
                                    "(No column name)": "5998000"
                                },
                                {
                                    "szall_datum": "2016-10-22",
                                    "szall_mod": "NULL",
                                    "(No column name)": "4802960"
                                },
                                {
                                    "szall_datum": "2016-10-23",
                                    "szall_mod": "NULL",
                                    "(No column name)": "3303990"
                                },
                                {
                                    "szall_datum": "2016-10-24",
                                    "szall_mod": "NULL",
                                    "(No column name)": "2426650"
                                },
                                {
                                    "szall_datum": "2016-10-25",
                                    "szall_mod": "NULL",
                                    "(No column name)": "5527330"
                                },
                                {
                                    "szall_datum": "2016-10-26",
                                    "szall_mod": "NULL",
                                    "(No column name)": "2044500"
                                },
                                {
                                    "szall_datum": "2016-10-27",
                                    "szall_mod": "NULL",
                                    "(No column name)": "4381730"
                                },
                                {
                                    "szall_datum": "2016-10-28",
                                    "szall_mod": "NULL",
                                    "(No column name)": "4801700"
                                },
                                {
                                    "szall_datum": "2016-10-29",
                                    "szall_mod": "NULL",
                                    "(No column name)": "2365950"
                                },
                                {
                                    "szall_datum": "2016-10-30",
                                    "szall_mod": "NULL",
                                    "(No column name)": "5346950"
                                },
                                {
                                    "szall_datum": "2016-10-31",
                                    "szall_mod": "NULL",
                                    "(No column name)": "4206350"
                                },
                                {
                                    "szall_datum": "2016-11-01",
                                    "szall_mod": "NULL",
                                    "(No column name)": "3810310"
                                },
                                {
                                    "szall_datum": "2016-11-02",
                                    "szall_mod": "NULL",
                                    "(No column name)": "4134550"
                                },
                                {
                                    "szall_datum": "2016-11-03",
                                    "szall_mod": "NULL",
                                    "(No column name)": "2070120"
                                },
                                {
                                    "szall_datum": "2016-11-04",
                                    "szall_mod": "NULL",
                                    "(No column name)": "2660990"
                                },
                                {
                                    "szall_datum": "2016-11-05",
                                    "szall_mod": "NULL",
                                    "(No column name)": "4376940"
                                },
                                {
                                    "szall_datum": "2016-11-06",
                                    "szall_mod": "NULL",
                                    "(No column name)": "2934230"
                                },
                                {
                                    "szall_datum": "2016-11-07",
                                    "szall_mod": "NULL",
                                    "(No column name)": "3240720"
                                },
                                {
                                    "szall_datum": "2016-11-08",
                                    "szall_mod": "NULL",
                                    "(No column name)": "4745970"
                                },
                                {
                                    "szall_datum": "2016-11-09",
                                    "szall_mod": "NULL",
                                    "(No column name)": "3419490"
                                },
                                {
                                    "szall_datum": "2016-11-10",
                                    "szall_mod": "NULL",
                                    "(No column name)": "2982710"
                                },
                                {
                                    "szall_datum": "2016-11-11",
                                    "szall_mod": "NULL",
                                    "(No column name)": "1632010"
                                },
                                {
                                    "szall_datum": "2016-11-12",
                                    "szall_mod": "NULL",
                                    "(No column name)": "3565560"
                                },
                                {
                                    "szall_datum": "2016-11-13",
                                    "szall_mod": "NULL",
                                    "(No column name)": "4414500"
                                },
                                {
                                    "szall_datum": "2016-11-14",
                                    "szall_mod": "NULL",
                                    "(No column name)": "3847170"
                                },
                                {
                                    "szall_datum": "2016-11-15",
                                    "szall_mod": "NULL",
                                    "(No column name)": "2154840"
                                },
                                {
                                    "szall_datum": "2016-11-16",
                                    "szall_mod": "NULL",
                                    "(No column name)": "4975740"
                                },
                                {
                                    "szall_datum": "2016-11-17",
                                    "szall_mod": "NULL",
                                    "(No column name)": "2940710"
                                },
                                {
                                    "szall_datum": "2016-11-18",
                                    "szall_mod": "NULL",
                                    "(No column name)": "2942410"
                                },
                                {
                                    "szall_datum": "2016-11-19",
                                    "szall_mod": "NULL",
                                    "(No column name)": "3229010"
                                },
                                {
                                    "szall_datum": "2016-11-20",
                                    "szall_mod": "NULL",
                                    "(No column name)": "4476570"
                                },
                                {
                                    "szall_datum": "2016-11-21",
                                    "szall_mod": "NULL",
                                    "(No column name)": "5478410"
                                },
                                {
                                    "szall_datum": "2016-11-22",
                                    "szall_mod": "NULL",
                                    "(No column name)": "4054580"
                                },
                                {
                                    "szall_datum": "2016-11-23",
                                    "szall_mod": "NULL",
                                    "(No column name)": "2800110"
                                },
                                {
                                    "szall_datum": "2016-11-24",
                                    "szall_mod": "NULL",
                                    "(No column name)": "4208630"
                                },
                                {
                                    "szall_datum": "2016-11-25",
                                    "szall_mod": "NULL",
                                    "(No column name)": "2882610"
                                },
                                {
                                    "szall_datum": "2016-11-26",
                                    "szall_mod": "NULL",
                                    "(No column name)": "6389340"
                                },
                                {
                                    "szall_datum": "2016-11-27",
                                    "szall_mod": "NULL",
                                    "(No column name)": "3834130"
                                },
                                {
                                    "szall_datum": "2016-11-28",
                                    "szall_mod": "NULL",
                                    "(No column name)": "3643310"
                                },
                                {
                                    "szall_datum": "2016-11-29",
                                    "szall_mod": "NULL",
                                    "(No column name)": "4522490"
                                },
                                {
                                    "szall_datum": "2016-11-30",
                                    "szall_mod": "NULL",
                                    "(No column name)": "3666830"
                                },
                                {
                                    "szall_datum": "2016-12-01",
                                    "szall_mod": "NULL",
                                    "(No column name)": "4173130"
                                },
                                {
                                    "szall_datum": "2016-12-02",
                                    "szall_mod": "NULL",
                                    "(No column name)": "2724270"
                                },
                                {
                                    "szall_datum": "2016-12-03",
                                    "szall_mod": "NULL",
                                    "(No column name)": "1766960"
                                },
                                {
                                    "szall_datum": "2016-12-04",
                                    "szall_mod": "NULL",
                                    "(No column name)": "6064530"
                                },
                                {
                                    "szall_datum": "2016-12-05",
                                    "szall_mod": "NULL",
                                    "(No column name)": "5203220"
                                },
                                {
                                    "szall_datum": "2016-12-06",
                                    "szall_mod": "NULL",
                                    "(No column name)": "2775800"
                                },
                                {
                                    "szall_datum": "2016-12-07",
                                    "szall_mod": "NULL",
                                    "(No column name)": "4354410"
                                },
                                {
                                    "szall_datum": "2016-12-08",
                                    "szall_mod": "NULL",
                                    "(No column name)": "3776910"
                                },
                                {
                                    "szall_datum": "2016-12-09",
                                    "szall_mod": "NULL",
                                    "(No column name)": "2747150"
                                },
                                {
                                    "szall_datum": "2016-12-10",
                                    "szall_mod": "NULL",
                                    "(No column name)": "5009260"
                                },
                                {
                                    "szall_datum": "2016-12-11",
                                    "szall_mod": "NULL",
                                    "(No column name)": "4416850"
                                },
                                {
                                    "szall_datum": "2016-12-12",
                                    "szall_mod": "NULL",
                                    "(No column name)": "3128300"
                                },
                                {
                                    "szall_datum": "2016-12-13",
                                    "szall_mod": "NULL",
                                    "(No column name)": "2727440"
                                },
                                {
                                    "szall_datum": "2016-12-14",
                                    "szall_mod": "NULL",
                                    "(No column name)": "2757990"
                                },
                                {
                                    "szall_datum": "2016-12-15",
                                    "szall_mod": "NULL",
                                    "(No column name)": "2473800"
                                },
                                {
                                    "szall_datum": "2016-12-16",
                                    "szall_mod": "NULL",
                                    "(No column name)": "2729250"
                                },
                                {
                                    "szall_datum": "2016-12-17",
                                    "szall_mod": "NULL",
                                    "(No column name)": "2924470"
                                },
                                {
                                    "szall_datum": "2016-12-18",
                                    "szall_mod": "NULL",
                                    "(No column name)": "3602920"
                                },
                                {
                                    "szall_datum": "2016-12-19",
                                    "szall_mod": "NULL",
                                    "(No column name)": "1502450"
                                },
                                {
                                    "szall_datum": "2016-12-20",
                                    "szall_mod": "NULL",
                                    "(No column name)": "2110790"
                                },
                                {
                                    "szall_datum": "2016-12-21",
                                    "szall_mod": "NULL",
                                    "(No column name)": "4636650"
                                },
                                {
                                    "szall_datum": "2016-12-22",
                                    "szall_mod": "NULL",
                                    "(No column name)": "5453660"
                                },
                                {
                                    "szall_datum": "2016-12-23",
                                    "szall_mod": "NULL",
                                    "(No column name)": "7098400"
                                },
                                {
                                    "szall_datum": "2016-12-24",
                                    "szall_mod": "NULL",
                                    "(No column name)": "2677970"
                                },
                                {
                                    "szall_datum": "2016-12-25",
                                    "szall_mod": "NULL",
                                    "(No column name)": "5370300"
                                },
                                {
                                    "szall_datum": "2016-12-26",
                                    "szall_mod": "NULL",
                                    "(No column name)": "3496920"
                                },
                                {
                                    "szall_datum": "2016-12-27",
                                    "szall_mod": "NULL",
                                    "(No column name)": "4161440"
                                },
                                {
                                    "szall_datum": "2016-12-28",
                                    "szall_mod": "NULL",
                                    "(No column name)": "3105280"
                                },
                                {
                                    "szall_datum": "2016-12-29",
                                    "szall_mod": "NULL",
                                    "(No column name)": "7708300"
                                },
                                {
                                    "szall_datum": "2016-12-30",
                                    "szall_mod": "NULL",
                                    "(No column name)": "4112740"
                                },
                                {
                                    "szall_datum": "2016-12-31",
                                    "szall_mod": "NULL",
                                    "(No column name)": "2452130"
                                },
                                {
                                    "szall_datum": "2017-01-01",
                                    "szall_mod": "NULL",
                                    "(No column name)": "2866240"
                                },
                                {
                                    "szall_datum": "2017-01-02",
                                    "szall_mod": "NULL",
                                    "(No column name)": "2636450"
                                },
                                {
                                    "szall_datum": "2017-01-03",
                                    "szall_mod": "NULL",
                                    "(No column name)": "2485770"
                                },
                                {
                                    "szall_datum": "2017-01-04",
                                    "szall_mod": "NULL",
                                    "(No column name)": "3817130"
                                },
                                {
                                    "szall_datum": "2017-01-05",
                                    "szall_mod": "NULL",
                                    "(No column name)": "4753550"
                                },
                                {
                                    "szall_datum": "2017-01-06",
                                    "szall_mod": "NULL",
                                    "(No column name)": "6881010"
                                },
                                {
                                    "szall_datum": "2017-01-07",
                                    "szall_mod": "NULL",
                                    "(No column name)": "3503190"
                                },
                                {
                                    "szall_datum": "2017-01-08",
                                    "szall_mod": "NULL",
                                    "(No column name)": "2999140"
                                },
                                {
                                    "szall_datum": "2017-01-09",
                                    "szall_mod": "NULL",
                                    "(No column name)": "5695280"
                                },
                                {
                                    "szall_datum": "2017-01-10",
                                    "szall_mod": "NULL",
                                    "(No column name)": "2346540"
                                },
                                {
                                    "szall_datum": "2017-01-11",
                                    "szall_mod": "NULL",
                                    "(No column name)": "2594980"
                                },
                                {
                                    "szall_datum": "2017-01-12",
                                    "szall_mod": "NULL",
                                    "(No column name)": "4505710"
                                },
                                {
                                    "szall_datum": "2017-01-13",
                                    "szall_mod": "NULL",
                                    "(No column name)": "3513310"
                                },
                                {
                                    "szall_datum": "2017-01-14",
                                    "szall_mod": "NULL",
                                    "(No column name)": "2623070"
                                },
                                {
                                    "szall_datum": "2017-01-15",
                                    "szall_mod": "NULL",
                                    "(No column name)": "2600350"
                                },
                                {
                                    "szall_datum": "2017-01-16",
                                    "szall_mod": "NULL",
                                    "(No column name)": "5536120"
                                },
                                {
                                    "szall_datum": "2017-01-17",
                                    "szall_mod": "NULL",
                                    "(No column name)": "4087990"
                                },
                                {
                                    "szall_datum": "2017-01-18",
                                    "szall_mod": "NULL",
                                    "(No column name)": "4276140"
                                },
                                {
                                    "szall_datum": "2017-01-19",
                                    "szall_mod": "NULL",
                                    "(No column name)": "5190740"
                                },
                                {
                                    "szall_datum": "2017-01-20",
                                    "szall_mod": "NULL",
                                    "(No column name)": "2531960"
                                },
                                {
                                    "szall_datum": "2017-01-21",
                                    "szall_mod": "NULL",
                                    "(No column name)": "3101420"
                                },
                                {
                                    "szall_datum": "2017-01-22",
                                    "szall_mod": "NULL",
                                    "(No column name)": "5888190"
                                },
                                {
                                    "szall_datum": "2017-01-23",
                                    "szall_mod": "NULL",
                                    "(No column name)": "3816340"
                                },
                                {
                                    "szall_datum": "2017-01-24",
                                    "szall_mod": "NULL",
                                    "(No column name)": "2873100"
                                },
                                {
                                    "szall_datum": "2017-01-25",
                                    "szall_mod": "NULL",
                                    "(No column name)": "2209220"
                                },
                                {
                                    "szall_datum": "2017-01-26",
                                    "szall_mod": "NULL",
                                    "(No column name)": "3290520"
                                },
                                {
                                    "szall_datum": "2017-01-27",
                                    "szall_mod": "NULL",
                                    "(No column name)": "2246560"
                                },
                                {
                                    "szall_datum": "2017-01-28",
                                    "szall_mod": "NULL",
                                    "(No column name)": "3915170"
                                },
                                {
                                    "szall_datum": "2017-01-29",
                                    "szall_mod": "NULL",
                                    "(No column name)": "2695600"
                                },
                                {
                                    "szall_datum": "2017-01-30",
                                    "szall_mod": "NULL",
                                    "(No column name)": "2806230"
                                },
                                {
                                    "szall_datum": "2017-01-31",
                                    "szall_mod": "NULL",
                                    "(No column name)": "3749270"
                                },
                                {
                                    "szall_datum": "2017-02-01",
                                    "szall_mod": "NULL",
                                    "(No column name)": "2521980"
                                },
                                {
                                    "szall_datum": "2017-02-02",
                                    "szall_mod": "NULL",
                                    "(No column name)": "6191180"
                                },
                                {
                                    "szall_datum": "2017-02-03",
                                    "szall_mod": "NULL",
                                    "(No column name)": "2797950"
                                },
                                {
                                    "szall_datum": "2017-02-04",
                                    "szall_mod": "NULL",
                                    "(No column name)": "3090370"
                                },
                                {
                                    "szall_datum": "2017-02-05",
                                    "szall_mod": "NULL",
                                    "(No column name)": "3008040"
                                },
                                {
                                    "szall_datum": "2017-02-06",
                                    "szall_mod": "NULL",
                                    "(No column name)": "2115070"
                                },
                                {
                                    "szall_datum": "2017-02-07",
                                    "szall_mod": "NULL",
                                    "(No column name)": "2923960"
                                },
                                {
                                    "szall_datum": "2017-02-08",
                                    "szall_mod": "NULL",
                                    "(No column name)": "5423560"
                                },
                                {
                                    "szall_datum": "2017-02-09",
                                    "szall_mod": "NULL",
                                    "(No column name)": "3377340"
                                },
                                {
                                    "szall_datum": "2017-02-10",
                                    "szall_mod": "NULL",
                                    "(No column name)": "3715320"
                                },
                                {
                                    "szall_datum": "2017-02-11",
                                    "szall_mod": "NULL",
                                    "(No column name)": "2909970"
                                },
                                {
                                    "szall_datum": "2017-02-12",
                                    "szall_mod": "NULL",
                                    "(No column name)": "2915860"
                                },
                                {
                                    "szall_datum": "2017-02-13",
                                    "szall_mod": "NULL",
                                    "(No column name)": "3469680"
                                },
                                {
                                    "szall_datum": "2017-02-14",
                                    "szall_mod": "NULL",
                                    "(No column name)": "7073830"
                                },
                                {
                                    "szall_datum": "2017-02-15",
                                    "szall_mod": "NULL",
                                    "(No column name)": "2641700"
                                },
                                {
                                    "szall_datum": "2017-02-16",
                                    "szall_mod": "NULL",
                                    "(No column name)": "4293370"
                                },
                                {
                                    "szall_datum": "2017-02-17",
                                    "szall_mod": "NULL",
                                    "(No column name)": "3121880"
                                },
                                {
                                    "szall_datum": "2017-02-18",
                                    "szall_mod": "NULL",
                                    "(No column name)": "4031350"
                                },
                                {
                                    "szall_datum": "2017-02-19",
                                    "szall_mod": "NULL",
                                    "(No column name)": "3865240"
                                },
                                {
                                    "szall_datum": "2017-02-20",
                                    "szall_mod": "NULL",
                                    "(No column name)": "1912120"
                                },
                                {
                                    "szall_datum": "2017-02-21",
                                    "szall_mod": "NULL",
                                    "(No column name)": "2663390"
                                },
                                {
                                    "szall_datum": "2017-02-22",
                                    "szall_mod": "NULL",
                                    "(No column name)": "2637920"
                                },
                                {
                                    "szall_datum": "2017-02-23",
                                    "szall_mod": "NULL",
                                    "(No column name)": "3854940"
                                },
                                {
                                    "szall_datum": "2017-02-24",
                                    "szall_mod": "NULL",
                                    "(No column name)": "3262950"
                                },
                                {
                                    "szall_datum": "2017-02-25",
                                    "szall_mod": "NULL",
                                    "(No column name)": "3244810"
                                },
                                {
                                    "szall_datum": "2017-02-26",
                                    "szall_mod": "NULL",
                                    "(No column name)": "2950680"
                                },
                                {
                                    "szall_datum": "2017-02-27",
                                    "szall_mod": "NULL",
                                    "(No column name)": "2921740"
                                },
                                {
                                    "szall_datum": "2017-02-28",
                                    "szall_mod": "NULL",
                                    "(No column name)": "4445640"
                                },
                                {
                                    "szall_datum": "2017-03-01",
                                    "szall_mod": "NULL",
                                    "(No column name)": "6098830"
                                },
                                {
                                    "szall_datum": "2017-03-02",
                                    "szall_mod": "NULL",
                                    "(No column name)": "2379280"
                                },
                                {
                                    "szall_datum": "2017-03-03",
                                    "szall_mod": "NULL",
                                    "(No column name)": "5160190"
                                },
                                {
                                    "szall_datum": "2017-03-04",
                                    "szall_mod": "NULL",
                                    "(No column name)": "1789340"
                                },
                                {
                                    "szall_datum": "2017-03-05",
                                    "szall_mod": "NULL",
                                    "(No column name)": "4498920"
                                },
                                {
                                    "szall_datum": "2017-03-06",
                                    "szall_mod": "NULL",
                                    "(No column name)": "4970220"
                                },
                                {
                                    "szall_datum": "2017-03-07",
                                    "szall_mod": "NULL",
                                    "(No column name)": "4022740"
                                },
                                {
                                    "szall_datum": "2017-03-08",
                                    "szall_mod": "NULL",
                                    "(No column name)": "3193130"
                                },
                                {
                                    "szall_datum": "2017-03-09",
                                    "szall_mod": "NULL",
                                    "(No column name)": "3529190"
                                },
                                {
                                    "szall_datum": "2017-03-10",
                                    "szall_mod": "NULL",
                                    "(No column name)": "4104060"
                                },
                                {
                                    "szall_datum": "2017-03-11",
                                    "szall_mod": "NULL",
                                    "(No column name)": "2408380"
                                },
                                {
                                    "szall_datum": "2017-03-12",
                                    "szall_mod": "NULL",
                                    "(No column name)": "3416540"
                                },
                                {
                                    "szall_datum": "2017-03-13",
                                    "szall_mod": "NULL",
                                    "(No column name)": "2669120"
                                },
                                {
                                    "szall_datum": "2017-03-14",
                                    "szall_mod": "NULL",
                                    "(No column name)": "2760380"
                                },
                                {
                                    "szall_datum": "2017-03-15",
                                    "szall_mod": "NULL",
                                    "(No column name)": "4597730"
                                },
                                {
                                    "szall_datum": "2017-03-16",
                                    "szall_mod": "NULL",
                                    "(No column name)": "5074910"
                                },
                                {
                                    "szall_datum": "2017-03-17",
                                    "szall_mod": "NULL",
                                    "(No column name)": "3133970"
                                },
                                {
                                    "szall_datum": "2017-03-18",
                                    "szall_mod": "NULL",
                                    "(No column name)": "3113810"
                                },
                                {
                                    "szall_datum": "2017-03-19",
                                    "szall_mod": "NULL",
                                    "(No column name)": "4777450"
                                },
                                {
                                    "szall_datum": "2017-03-20",
                                    "szall_mod": "NULL",
                                    "(No column name)": "3504390"
                                },
                                {
                                    "szall_datum": "2017-03-21",
                                    "szall_mod": "NULL",
                                    "(No column name)": "3462950"
                                },
                                {
                                    "szall_datum": "2017-03-22",
                                    "szall_mod": "NULL",
                                    "(No column name)": "3410240"
                                },
                                {
                                    "szall_datum": "2017-03-23",
                                    "szall_mod": "NULL",
                                    "(No column name)": "3391040"
                                },
                                {
                                    "szall_datum": "2017-03-24",
                                    "szall_mod": "NULL",
                                    "(No column name)": "5062310"
                                },
                                {
                                    "szall_datum": "2017-03-25",
                                    "szall_mod": "NULL",
                                    "(No column name)": "3655840"
                                },
                                {
                                    "szall_datum": "2017-03-26",
                                    "szall_mod": "NULL",
                                    "(No column name)": "6625820"
                                },
                                {
                                    "szall_datum": "2017-03-27",
                                    "szall_mod": "NULL",
                                    "(No column name)": "3224540"
                                },
                                {
                                    "szall_datum": "2017-03-28",
                                    "szall_mod": "NULL",
                                    "(No column name)": "3504060"
                                },
                                {
                                    "szall_datum": "2017-03-29",
                                    "szall_mod": "NULL",
                                    "(No column name)": "3530000"
                                },
                                {
                                    "szall_datum": "2017-03-30",
                                    "szall_mod": "NULL",
                                    "(No column name)": "4791940"
                                },
                                {
                                    "szall_datum": "2017-03-31",
                                    "szall_mod": "NULL",
                                    "(No column name)": "2883800"
                                },
                                {
                                    "szall_datum": "2017-04-01",
                                    "szall_mod": "NULL",
                                    "(No column name)": "3668460"
                                },
                                {
                                    "szall_datum": "2017-04-02",
                                    "szall_mod": "NULL",
                                    "(No column name)": "3275900"
                                },
                                {
                                    "szall_datum": "2017-04-03",
                                    "szall_mod": "NULL",
                                    "(No column name)": "2272470"
                                },
                                {
                                    "szall_datum": "2017-04-04",
                                    "szall_mod": "NULL",
                                    "(No column name)": "2014040"
                                },
                                {
                                    "szall_datum": "2017-04-05",
                                    "szall_mod": "NULL",
                                    "(No column name)": "2354780"
                                },
                                {
                                    "szall_datum": "2017-04-06",
                                    "szall_mod": "NULL",
                                    "(No column name)": "2016810"
                                },
                                {
                                    "szall_datum": "2017-04-07",
                                    "szall_mod": "NULL",
                                    "(No column name)": "3519220"
                                },
                                {
                                    "szall_datum": "2017-04-08",
                                    "szall_mod": "NULL",
                                    "(No column name)": "2182420"
                                },
                                {
                                    "szall_datum": "2017-04-09",
                                    "szall_mod": "NULL",
                                    "(No column name)": "1596740"
                                },
                                {
                                    "szall_datum": "2017-04-10",
                                    "szall_mod": "NULL",
                                    "(No column name)": "283520"
                                },
                                {
                                    "szall_datum": "2017-04-11",
                                    "szall_mod": "NULL",
                                    "(No column name)": "132070"
                                },
                                {
                                    "szall_datum": "NULL",
                                    "szall_mod": "NULL",
                                    "(No column name)": "2611634603"
                                }
                            ]
                        },
                        "text/html": [
                            "<table>",
                            "<tr><th>szall_datum</th><th>szall_mod</th><th>(No column name)</th></tr>",
                            "<tr><td>2015-05-03</td><td>NULL</td><td>8190</td></tr>",
                            "<tr><td>2015-05-04</td><td>NULL</td><td>390584</td></tr>",
                            "<tr><td>2015-05-05</td><td>NULL</td><td>884072</td></tr>",
                            "<tr><td>2015-05-06</td><td>NULL</td><td>1497963</td></tr>",
                            "<tr><td>2015-05-07</td><td>NULL</td><td>1373651</td></tr>",
                            "<tr><td>2015-05-08</td><td>NULL</td><td>2100941</td></tr>",
                            "<tr><td>2015-05-09</td><td>NULL</td><td>2826673</td></tr>",
                            "<tr><td>2015-05-10</td><td>NULL</td><td>2220193</td></tr>",
                            "<tr><td>2015-05-11</td><td>NULL</td><td>3584145</td></tr>",
                            "<tr><td>2015-05-12</td><td>NULL</td><td>2824954</td></tr>",
                            "<tr><td>2015-05-13</td><td>NULL</td><td>2414838</td></tr>",
                            "<tr><td>2015-05-14</td><td>NULL</td><td>6251647</td></tr>",
                            "<tr><td>2015-05-15</td><td>NULL</td><td>2457001</td></tr>",
                            "<tr><td>2015-05-16</td><td>NULL</td><td>5324416</td></tr>",
                            "<tr><td>2015-05-17</td><td>NULL</td><td>1610255</td></tr>",
                            "<tr><td>2015-05-18</td><td>NULL</td><td>3114579</td></tr>",
                            "<tr><td>2015-05-19</td><td>NULL</td><td>4359132</td></tr>",
                            "<tr><td>2015-05-20</td><td>NULL</td><td>5307348</td></tr>",
                            "<tr><td>2015-05-21</td><td>NULL</td><td>2048966</td></tr>",
                            "<tr><td>2015-05-22</td><td>NULL</td><td>2315087</td></tr>",
                            "<tr><td>2015-05-23</td><td>NULL</td><td>1760510</td></tr>",
                            "<tr><td>2015-05-24</td><td>NULL</td><td>2828456</td></tr>",
                            "<tr><td>2015-05-25</td><td>NULL</td><td>2495704</td></tr>",
                            "<tr><td>2015-05-26</td><td>NULL</td><td>3522520</td></tr>",
                            "<tr><td>2015-05-27</td><td>NULL</td><td>4077216</td></tr>",
                            "<tr><td>2015-05-28</td><td>NULL</td><td>6200672</td></tr>",
                            "<tr><td>2015-05-29</td><td>NULL</td><td>4826823</td></tr>",
                            "<tr><td>2015-05-30</td><td>NULL</td><td>3010532</td></tr>",
                            "<tr><td>2015-05-31</td><td>NULL</td><td>4415992</td></tr>",
                            "<tr><td>2015-06-01</td><td>NULL</td><td>3515327</td></tr>",
                            "<tr><td>2015-06-02</td><td>NULL</td><td>3230846</td></tr>",
                            "<tr><td>2015-06-03</td><td>NULL</td><td>1920528</td></tr>",
                            "<tr><td>2015-06-04</td><td>NULL</td><td>2913725</td></tr>",
                            "<tr><td>2015-06-05</td><td>NULL</td><td>3607934</td></tr>",
                            "<tr><td>2015-06-06</td><td>NULL</td><td>7191012</td></tr>",
                            "<tr><td>2015-06-07</td><td>NULL</td><td>4633726</td></tr>",
                            "<tr><td>2015-06-08</td><td>NULL</td><td>5378322</td></tr>",
                            "<tr><td>2015-06-09</td><td>NULL</td><td>2616010</td></tr>",
                            "<tr><td>2015-06-10</td><td>NULL</td><td>3274633</td></tr>",
                            "<tr><td>2015-06-11</td><td>NULL</td><td>2972214</td></tr>",
                            "<tr><td>2015-06-12</td><td>NULL</td><td>4612567</td></tr>",
                            "<tr><td>2015-06-13</td><td>NULL</td><td>3130790</td></tr>",
                            "<tr><td>2015-06-14</td><td>NULL</td><td>3673966</td></tr>",
                            "<tr><td>2015-06-15</td><td>NULL</td><td>1972553</td></tr>",
                            "<tr><td>2015-06-16</td><td>NULL</td><td>4114721</td></tr>",
                            "<tr><td>2015-06-17</td><td>NULL</td><td>2782408</td></tr>",
                            "<tr><td>2015-06-18</td><td>NULL</td><td>2932302</td></tr>",
                            "<tr><td>2015-06-19</td><td>NULL</td><td>2424658</td></tr>",
                            "<tr><td>2015-06-20</td><td>NULL</td><td>2797712</td></tr>",
                            "<tr><td>2015-06-21</td><td>NULL</td><td>2974633</td></tr>",
                            "<tr><td>2015-06-22</td><td>NULL</td><td>3627305</td></tr>",
                            "<tr><td>2015-06-23</td><td>NULL</td><td>3821260</td></tr>",
                            "<tr><td>2015-06-24</td><td>NULL</td><td>1996744</td></tr>",
                            "<tr><td>2015-06-25</td><td>NULL</td><td>4215618</td></tr>",
                            "<tr><td>2015-06-26</td><td>NULL</td><td>5005276</td></tr>",
                            "<tr><td>2015-06-27</td><td>NULL</td><td>2693936</td></tr>",
                            "<tr><td>2015-06-28</td><td>NULL</td><td>1464861</td></tr>",
                            "<tr><td>2015-06-29</td><td>NULL</td><td>6500077</td></tr>",
                            "<tr><td>2015-06-30</td><td>NULL</td><td>2119355</td></tr>",
                            "<tr><td>2015-07-01</td><td>NULL</td><td>1611434</td></tr>",
                            "<tr><td>2015-07-02</td><td>NULL</td><td>2722605</td></tr>",
                            "<tr><td>2015-07-03</td><td>NULL</td><td>3434124</td></tr>",
                            "<tr><td>2015-07-04</td><td>NULL</td><td>2582901</td></tr>",
                            "<tr><td>2015-07-05</td><td>NULL</td><td>3580972</td></tr>",
                            "<tr><td>2015-07-06</td><td>NULL</td><td>2436755</td></tr>",
                            "<tr><td>2015-07-07</td><td>NULL</td><td>5472802</td></tr>",
                            "<tr><td>2015-07-08</td><td>NULL</td><td>3163107</td></tr>",
                            "<tr><td>2015-07-09</td><td>NULL</td><td>2957945</td></tr>",
                            "<tr><td>2015-07-10</td><td>NULL</td><td>1726251</td></tr>",
                            "<tr><td>2015-07-11</td><td>NULL</td><td>2126805</td></tr>",
                            "<tr><td>2015-07-12</td><td>NULL</td><td>3527192</td></tr>",
                            "<tr><td>2015-07-13</td><td>NULL</td><td>2863495</td></tr>",
                            "<tr><td>2015-07-14</td><td>NULL</td><td>3809316</td></tr>",
                            "<tr><td>2015-07-15</td><td>NULL</td><td>4304620</td></tr>",
                            "<tr><td>2015-07-16</td><td>NULL</td><td>2294675</td></tr>",
                            "<tr><td>2015-07-17</td><td>NULL</td><td>1844074</td></tr>",
                            "<tr><td>2015-07-18</td><td>NULL</td><td>2982773</td></tr>",
                            "<tr><td>2015-07-19</td><td>NULL</td><td>2402939</td></tr>",
                            "<tr><td>2015-07-20</td><td>NULL</td><td>3703316</td></tr>",
                            "<tr><td>2015-07-21</td><td>NULL</td><td>3589433</td></tr>",
                            "<tr><td>2015-07-22</td><td>NULL</td><td>2362309</td></tr>",
                            "<tr><td>2015-07-23</td><td>NULL</td><td>4083557</td></tr>",
                            "<tr><td>2015-07-24</td><td>NULL</td><td>3384272</td></tr>",
                            "<tr><td>2015-07-25</td><td>NULL</td><td>3248181</td></tr>",
                            "<tr><td>2015-07-26</td><td>NULL</td><td>2777039</td></tr>",
                            "<tr><td>2015-07-27</td><td>NULL</td><td>2090060</td></tr>",
                            "<tr><td>2015-07-28</td><td>NULL</td><td>2056111</td></tr>",
                            "<tr><td>2015-07-29</td><td>NULL</td><td>2245026</td></tr>",
                            "<tr><td>2015-07-30</td><td>NULL</td><td>4965543</td></tr>",
                            "<tr><td>2015-07-31</td><td>NULL</td><td>5542768</td></tr>",
                            "<tr><td>2015-08-01</td><td>NULL</td><td>2682358</td></tr>",
                            "<tr><td>2015-08-02</td><td>NULL</td><td>4377401</td></tr>",
                            "<tr><td>2015-08-03</td><td>NULL</td><td>3764381</td></tr>",
                            "<tr><td>2015-08-04</td><td>NULL</td><td>4025021</td></tr>",
                            "<tr><td>2015-08-05</td><td>NULL</td><td>2623729</td></tr>",
                            "<tr><td>2015-08-06</td><td>NULL</td><td>2307523</td></tr>",
                            "<tr><td>2015-08-07</td><td>NULL</td><td>4131067</td></tr>",
                            "<tr><td>2015-08-08</td><td>NULL</td><td>4648211</td></tr>",
                            "<tr><td>2015-08-09</td><td>NULL</td><td>4134286</td></tr>",
                            "<tr><td>2015-08-10</td><td>NULL</td><td>2874789</td></tr>",
                            "<tr><td>2015-08-11</td><td>NULL</td><td>5876203</td></tr>",
                            "<tr><td>2015-08-12</td><td>NULL</td><td>3300531</td></tr>",
                            "<tr><td>2015-08-13</td><td>NULL</td><td>6108119</td></tr>",
                            "<tr><td>2015-08-14</td><td>NULL</td><td>6752454</td></tr>",
                            "<tr><td>2015-08-15</td><td>NULL</td><td>1563927</td></tr>",
                            "<tr><td>2015-08-16</td><td>NULL</td><td>3946003</td></tr>",
                            "<tr><td>2015-08-17</td><td>NULL</td><td>4802790</td></tr>",
                            "<tr><td>2015-08-18</td><td>NULL</td><td>1880200</td></tr>",
                            "<tr><td>2015-08-19</td><td>NULL</td><td>3307248</td></tr>",
                            "<tr><td>2015-08-20</td><td>NULL</td><td>2490923</td></tr>",
                            "<tr><td>2015-08-21</td><td>NULL</td><td>6126436</td></tr>",
                            "<tr><td>2015-08-22</td><td>NULL</td><td>3595801</td></tr>",
                            "<tr><td>2015-08-23</td><td>NULL</td><td>1852312</td></tr>",
                            "<tr><td>2015-08-24</td><td>NULL</td><td>2236778</td></tr>",
                            "<tr><td>2015-08-25</td><td>NULL</td><td>5142509</td></tr>",
                            "<tr><td>2015-08-26</td><td>NULL</td><td>3630305</td></tr>",
                            "<tr><td>2015-08-27</td><td>NULL</td><td>2109459</td></tr>",
                            "<tr><td>2015-08-28</td><td>NULL</td><td>5540291</td></tr>",
                            "<tr><td>2015-08-29</td><td>NULL</td><td>1936483</td></tr>",
                            "<tr><td>2015-08-30</td><td>NULL</td><td>3036453</td></tr>",
                            "<tr><td>2015-08-31</td><td>NULL</td><td>3741826</td></tr>",
                            "<tr><td>2015-09-01</td><td>NULL</td><td>5694962</td></tr>",
                            "<tr><td>2015-09-02</td><td>NULL</td><td>4307418</td></tr>",
                            "<tr><td>2015-09-03</td><td>NULL</td><td>6729971</td></tr>",
                            "<tr><td>2015-09-04</td><td>NULL</td><td>4912367</td></tr>",
                            "<tr><td>2015-09-05</td><td>NULL</td><td>2639323</td></tr>",
                            "<tr><td>2015-09-06</td><td>NULL</td><td>2081961</td></tr>",
                            "<tr><td>2015-09-07</td><td>NULL</td><td>4430285</td></tr>",
                            "<tr><td>2015-09-08</td><td>NULL</td><td>3884585</td></tr>",
                            "<tr><td>2015-09-09</td><td>NULL</td><td>5098439</td></tr>",
                            "<tr><td>2015-09-10</td><td>NULL</td><td>3763220</td></tr>",
                            "<tr><td>2015-09-11</td><td>NULL</td><td>3943446</td></tr>",
                            "<tr><td>2015-09-12</td><td>NULL</td><td>5775918</td></tr>",
                            "<tr><td>2015-09-13</td><td>NULL</td><td>4237716</td></tr>",
                            "<tr><td>2015-09-14</td><td>NULL</td><td>5088386</td></tr>",
                            "<tr><td>2015-09-15</td><td>NULL</td><td>2687328</td></tr>",
                            "<tr><td>2015-09-16</td><td>NULL</td><td>2718555</td></tr>",
                            "<tr><td>2015-09-17</td><td>NULL</td><td>3899971</td></tr>",
                            "<tr><td>2015-09-18</td><td>NULL</td><td>2897361</td></tr>",
                            "<tr><td>2015-09-19</td><td>NULL</td><td>3842958</td></tr>",
                            "<tr><td>2015-09-20</td><td>NULL</td><td>5002861</td></tr>",
                            "<tr><td>2015-09-21</td><td>NULL</td><td>2167581</td></tr>",
                            "<tr><td>2015-09-22</td><td>NULL</td><td>5069527</td></tr>",
                            "<tr><td>2015-09-23</td><td>NULL</td><td>4905054</td></tr>",
                            "<tr><td>2015-09-24</td><td>NULL</td><td>4508041</td></tr>",
                            "<tr><td>2015-09-25</td><td>NULL</td><td>2118285</td></tr>",
                            "<tr><td>2015-09-26</td><td>NULL</td><td>5371400</td></tr>",
                            "<tr><td>2015-09-27</td><td>NULL</td><td>2599365</td></tr>",
                            "<tr><td>2015-09-28</td><td>NULL</td><td>2985540</td></tr>",
                            "<tr><td>2015-09-29</td><td>NULL</td><td>4123273</td></tr>",
                            "<tr><td>2015-09-30</td><td>NULL</td><td>2109749</td></tr>",
                            "<tr><td>2015-10-01</td><td>NULL</td><td>2371274</td></tr>",
                            "<tr><td>2015-10-02</td><td>NULL</td><td>1816210</td></tr>",
                            "<tr><td>2015-10-03</td><td>NULL</td><td>4010859</td></tr>",
                            "<tr><td>2015-10-04</td><td>NULL</td><td>2103856</td></tr>",
                            "<tr><td>2015-10-05</td><td>NULL</td><td>4445660</td></tr>",
                            "<tr><td>2015-10-06</td><td>NULL</td><td>2264609</td></tr>",
                            "<tr><td>2015-10-07</td><td>NULL</td><td>2461522</td></tr>",
                            "<tr><td>2015-10-08</td><td>NULL</td><td>6772405</td></tr>",
                            "<tr><td>2015-10-09</td><td>NULL</td><td>3834921</td></tr>",
                            "<tr><td>2015-10-10</td><td>NULL</td><td>4056447</td></tr>",
                            "<tr><td>2015-10-11</td><td>NULL</td><td>2159815</td></tr>",
                            "<tr><td>2015-10-12</td><td>NULL</td><td>5249703</td></tr>",
                            "<tr><td>2015-10-13</td><td>NULL</td><td>1787179</td></tr>",
                            "<tr><td>2015-10-14</td><td>NULL</td><td>1884545</td></tr>",
                            "<tr><td>2015-10-15</td><td>NULL</td><td>3670738</td></tr>",
                            "<tr><td>2015-10-16</td><td>NULL</td><td>4333876</td></tr>",
                            "<tr><td>2015-10-17</td><td>NULL</td><td>4345735</td></tr>",
                            "<tr><td>2015-10-18</td><td>NULL</td><td>3592679</td></tr>",
                            "<tr><td>2015-10-19</td><td>NULL</td><td>2970029</td></tr>",
                            "<tr><td>2015-10-20</td><td>NULL</td><td>5683423</td></tr>",
                            "<tr><td>2015-10-21</td><td>NULL</td><td>2619347</td></tr>",
                            "<tr><td>2015-10-22</td><td>NULL</td><td>1979747</td></tr>",
                            "<tr><td>2015-10-23</td><td>NULL</td><td>2348932</td></tr>",
                            "<tr><td>2015-10-24</td><td>NULL</td><td>4517147</td></tr>",
                            "<tr><td>2015-10-25</td><td>NULL</td><td>3832701</td></tr>",
                            "<tr><td>2015-10-26</td><td>NULL</td><td>3449796</td></tr>",
                            "<tr><td>2015-10-27</td><td>NULL</td><td>2763354</td></tr>",
                            "<tr><td>2015-10-28</td><td>NULL</td><td>3228842</td></tr>",
                            "<tr><td>2015-10-29</td><td>NULL</td><td>2949611</td></tr>",
                            "<tr><td>2015-10-30</td><td>NULL</td><td>4345898</td></tr>",
                            "<tr><td>2015-10-31</td><td>NULL</td><td>2861489</td></tr>",
                            "<tr><td>2015-11-01</td><td>NULL</td><td>3486677</td></tr>",
                            "<tr><td>2015-11-02</td><td>NULL</td><td>2400514</td></tr>",
                            "<tr><td>2015-11-03</td><td>NULL</td><td>6228688</td></tr>",
                            "<tr><td>2015-11-04</td><td>NULL</td><td>2891455</td></tr>",
                            "<tr><td>2015-11-05</td><td>NULL</td><td>2477876</td></tr>",
                            "<tr><td>2015-11-06</td><td>NULL</td><td>2634982</td></tr>",
                            "<tr><td>2015-11-07</td><td>NULL</td><td>5397340</td></tr>",
                            "<tr><td>2015-11-08</td><td>NULL</td><td>3335072</td></tr>",
                            "<tr><td>2015-11-09</td><td>NULL</td><td>3649494</td></tr>",
                            "<tr><td>2015-11-10</td><td>NULL</td><td>4093814</td></tr>",
                            "<tr><td>2015-11-11</td><td>NULL</td><td>2883359</td></tr>",
                            "<tr><td>2015-11-12</td><td>NULL</td><td>3567145</td></tr>",
                            "<tr><td>2015-11-13</td><td>NULL</td><td>2319123</td></tr>",
                            "<tr><td>2015-11-14</td><td>NULL</td><td>4701677</td></tr>",
                            "<tr><td>2015-11-15</td><td>NULL</td><td>1788138</td></tr>",
                            "<tr><td>2015-11-16</td><td>NULL</td><td>4862379</td></tr>",
                            "<tr><td>2015-11-17</td><td>NULL</td><td>3568072</td></tr>",
                            "<tr><td>2015-11-18</td><td>NULL</td><td>4820494</td></tr>",
                            "<tr><td>2015-11-19</td><td>NULL</td><td>2340144</td></tr>",
                            "<tr><td>2015-11-20</td><td>NULL</td><td>2952986</td></tr>",
                            "<tr><td>2015-11-21</td><td>NULL</td><td>3802284</td></tr>",
                            "<tr><td>2015-11-22</td><td>NULL</td><td>3525022</td></tr>",
                            "<tr><td>2015-11-23</td><td>NULL</td><td>3153480</td></tr>",
                            "<tr><td>2015-11-24</td><td>NULL</td><td>5039549</td></tr>",
                            "<tr><td>2015-11-25</td><td>NULL</td><td>2086705</td></tr>",
                            "<tr><td>2015-11-26</td><td>NULL</td><td>2638352</td></tr>",
                            "<tr><td>2015-11-27</td><td>NULL</td><td>1787430</td></tr>",
                            "<tr><td>2015-11-28</td><td>NULL</td><td>6422485</td></tr>",
                            "<tr><td>2015-11-29</td><td>NULL</td><td>3526865</td></tr>",
                            "<tr><td>2015-11-30</td><td>NULL</td><td>2920065</td></tr>",
                            "<tr><td>2015-12-01</td><td>NULL</td><td>4235679</td></tr>",
                            "<tr><td>2015-12-02</td><td>NULL</td><td>5019731</td></tr>",
                            "<tr><td>2015-12-03</td><td>NULL</td><td>3544829</td></tr>",
                            "<tr><td>2015-12-04</td><td>NULL</td><td>1892798</td></tr>",
                            "<tr><td>2015-12-05</td><td>NULL</td><td>3721128</td></tr>",
                            "<tr><td>2015-12-06</td><td>NULL</td><td>2884438</td></tr>",
                            "<tr><td>2015-12-07</td><td>NULL</td><td>4509894</td></tr>",
                            "<tr><td>2015-12-08</td><td>NULL</td><td>3044234</td></tr>",
                            "<tr><td>2015-12-09</td><td>NULL</td><td>2870296</td></tr>",
                            "<tr><td>2015-12-10</td><td>NULL</td><td>4941409</td></tr>",
                            "<tr><td>2015-12-11</td><td>NULL</td><td>6814568</td></tr>",
                            "<tr><td>2015-12-12</td><td>NULL</td><td>4620153</td></tr>",
                            "<tr><td>2015-12-13</td><td>NULL</td><td>1539717</td></tr>",
                            "<tr><td>2015-12-14</td><td>NULL</td><td>4333979</td></tr>",
                            "<tr><td>2015-12-15</td><td>NULL</td><td>2626256</td></tr>",
                            "<tr><td>2015-12-16</td><td>NULL</td><td>2331477</td></tr>",
                            "<tr><td>2015-12-17</td><td>NULL</td><td>1952610</td></tr>",
                            "<tr><td>2015-12-18</td><td>NULL</td><td>3955357</td></tr>",
                            "<tr><td>2015-12-19</td><td>NULL</td><td>2664353</td></tr>",
                            "<tr><td>2015-12-20</td><td>NULL</td><td>4264965</td></tr>",
                            "<tr><td>2015-12-21</td><td>NULL</td><td>2207108</td></tr>",
                            "<tr><td>2015-12-22</td><td>NULL</td><td>2342474</td></tr>",
                            "<tr><td>2015-12-23</td><td>NULL</td><td>2477096</td></tr>",
                            "<tr><td>2015-12-24</td><td>NULL</td><td>2105576</td></tr>",
                            "<tr><td>2015-12-25</td><td>NULL</td><td>3211730</td></tr>",
                            "<tr><td>2015-12-26</td><td>NULL</td><td>3482979</td></tr>",
                            "<tr><td>2015-12-27</td><td>NULL</td><td>3198224</td></tr>",
                            "<tr><td>2015-12-28</td><td>NULL</td><td>4118877</td></tr>",
                            "<tr><td>2015-12-29</td><td>NULL</td><td>3219712</td></tr>",
                            "<tr><td>2015-12-30</td><td>NULL</td><td>2351627</td></tr>",
                            "<tr><td>2015-12-31</td><td>NULL</td><td>3585438</td></tr>",
                            "<tr><td>2016-01-01</td><td>NULL</td><td>4375775</td></tr>",
                            "<tr><td>2016-01-02</td><td>NULL</td><td>2882266</td></tr>",
                            "<tr><td>2016-01-03</td><td>NULL</td><td>4676041</td></tr>",
                            "<tr><td>2016-01-04</td><td>NULL</td><td>3485558</td></tr>",
                            "<tr><td>2016-01-05</td><td>NULL</td><td>2796894</td></tr>",
                            "<tr><td>2016-01-06</td><td>NULL</td><td>3475974</td></tr>",
                            "<tr><td>2016-01-07</td><td>NULL</td><td>1752660</td></tr>",
                            "<tr><td>2016-01-08</td><td>NULL</td><td>5321942</td></tr>",
                            "<tr><td>2016-01-09</td><td>NULL</td><td>3205199</td></tr>",
                            "<tr><td>2016-01-10</td><td>NULL</td><td>3754840</td></tr>",
                            "<tr><td>2016-01-11</td><td>NULL</td><td>6222600</td></tr>",
                            "<tr><td>2016-01-12</td><td>NULL</td><td>3016060</td></tr>",
                            "<tr><td>2016-01-13</td><td>NULL</td><td>3677520</td></tr>",
                            "<tr><td>2016-01-14</td><td>NULL</td><td>2378090</td></tr>",
                            "<tr><td>2016-01-15</td><td>NULL</td><td>3507620</td></tr>",
                            "<tr><td>2016-01-16</td><td>NULL</td><td>3400760</td></tr>",
                            "<tr><td>2016-01-17</td><td>NULL</td><td>5460380</td></tr>",
                            "<tr><td>2016-01-18</td><td>NULL</td><td>5915360</td></tr>",
                            "<tr><td>2016-01-19</td><td>NULL</td><td>2320500</td></tr>",
                            "<tr><td>2016-01-20</td><td>NULL</td><td>2861630</td></tr>",
                            "<tr><td>2016-01-21</td><td>NULL</td><td>3385410</td></tr>",
                            "<tr><td>2016-01-22</td><td>NULL</td><td>3558960</td></tr>",
                            "<tr><td>2016-01-23</td><td>NULL</td><td>2675630</td></tr>",
                            "<tr><td>2016-01-24</td><td>NULL</td><td>5456580</td></tr>",
                            "<tr><td>2016-01-25</td><td>NULL</td><td>2387660</td></tr>",
                            "<tr><td>2016-01-26</td><td>NULL</td><td>2822220</td></tr>",
                            "<tr><td>2016-01-27</td><td>NULL</td><td>3155580</td></tr>",
                            "<tr><td>2016-01-28</td><td>NULL</td><td>7782620</td></tr>",
                            "<tr><td>2016-01-29</td><td>NULL</td><td>3300420</td></tr>",
                            "<tr><td>2016-01-30</td><td>NULL</td><td>4463790</td></tr>",
                            "<tr><td>2016-01-31</td><td>NULL</td><td>4576980</td></tr>",
                            "<tr><td>2016-02-01</td><td>NULL</td><td>6002140</td></tr>",
                            "<tr><td>2016-02-02</td><td>NULL</td><td>4015440</td></tr>",
                            "<tr><td>2016-02-03</td><td>NULL</td><td>3479120</td></tr>",
                            "<tr><td>2016-02-04</td><td>NULL</td><td>2325830</td></tr>",
                            "<tr><td>2016-02-05</td><td>NULL</td><td>6074190</td></tr>",
                            "<tr><td>2016-02-06</td><td>NULL</td><td>5750260</td></tr>",
                            "<tr><td>2016-02-07</td><td>NULL</td><td>2109970</td></tr>",
                            "<tr><td>2016-02-08</td><td>NULL</td><td>3808950</td></tr>",
                            "<tr><td>2016-02-09</td><td>NULL</td><td>5460380</td></tr>",
                            "<tr><td>2016-02-10</td><td>NULL</td><td>3420460</td></tr>",
                            "<tr><td>2016-02-11</td><td>NULL</td><td>5517190</td></tr>",
                            "<tr><td>2016-02-12</td><td>NULL</td><td>5415830</td></tr>",
                            "<tr><td>2016-02-13</td><td>NULL</td><td>2062170</td></tr>",
                            "<tr><td>2016-02-14</td><td>NULL</td><td>4044280</td></tr>",
                            "<tr><td>2016-02-15</td><td>NULL</td><td>4864830</td></tr>",
                            "<tr><td>2016-02-16</td><td>NULL</td><td>3644140</td></tr>",
                            "<tr><td>2016-02-17</td><td>NULL</td><td>6822160</td></tr>",
                            "<tr><td>2016-02-18</td><td>NULL</td><td>1336290</td></tr>",
                            "<tr><td>2016-02-19</td><td>NULL</td><td>2607690</td></tr>",
                            "<tr><td>2016-02-20</td><td>NULL</td><td>4366720</td></tr>",
                            "<tr><td>2016-02-21</td><td>NULL</td><td>6049185</td></tr>",
                            "<tr><td>2016-02-22</td><td>NULL</td><td>4647300</td></tr>",
                            "<tr><td>2016-02-23</td><td>NULL</td><td>8281820</td></tr>",
                            "<tr><td>2016-02-24</td><td>NULL</td><td>5161230</td></tr>",
                            "<tr><td>2016-02-25</td><td>NULL</td><td>4153440</td></tr>",
                            "<tr><td>2016-02-26</td><td>NULL</td><td>4397170</td></tr>",
                            "<tr><td>2016-02-27</td><td>NULL</td><td>5069210</td></tr>",
                            "<tr><td>2016-02-28</td><td>NULL</td><td>4207190</td></tr>",
                            "<tr><td>2016-02-29</td><td>NULL</td><td>3931440</td></tr>",
                            "<tr><td>2016-03-01</td><td>NULL</td><td>4012130</td></tr>",
                            "<tr><td>2016-03-02</td><td>NULL</td><td>3661560</td></tr>",
                            "<tr><td>2016-03-03</td><td>NULL</td><td>4323760</td></tr>",
                            "<tr><td>2016-03-04</td><td>NULL</td><td>7628590</td></tr>",
                            "<tr><td>2016-03-05</td><td>NULL</td><td>5367760</td></tr>",
                            "<tr><td>2016-03-06</td><td>NULL</td><td>2123540</td></tr>",
                            "<tr><td>2016-03-07</td><td>NULL</td><td>2917240</td></tr>",
                            "<tr><td>2016-03-08</td><td>NULL</td><td>3541890</td></tr>",
                            "<tr><td>2016-03-09</td><td>NULL</td><td>4130680</td></tr>",
                            "<tr><td>2016-03-10</td><td>NULL</td><td>4129890</td></tr>",
                            "<tr><td>2016-03-11</td><td>NULL</td><td>4901490</td></tr>",
                            "<tr><td>2016-03-12</td><td>NULL</td><td>3895770</td></tr>",
                            "<tr><td>2016-03-13</td><td>NULL</td><td>3792570</td></tr>",
                            "<tr><td>2016-03-14</td><td>NULL</td><td>3634240</td></tr>",
                            "<tr><td>2016-03-15</td><td>NULL</td><td>4392180</td></tr>",
                            "<tr><td>2016-03-16</td><td>NULL</td><td>2214340</td></tr>",
                            "<tr><td>2016-03-17</td><td>NULL</td><td>2679880</td></tr>",
                            "<tr><td>2016-03-18</td><td>NULL</td><td>3022030</td></tr>",
                            "<tr><td>2016-03-19</td><td>NULL</td><td>4291160</td></tr>",
                            "<tr><td>2016-03-20</td><td>NULL</td><td>4178720</td></tr>",
                            "<tr><td>2016-03-21</td><td>NULL</td><td>3059990</td></tr>",
                            "<tr><td>2016-03-22</td><td>NULL</td><td>4187655</td></tr>",
                            "<tr><td>2016-03-23</td><td>NULL</td><td>4242780</td></tr>",
                            "<tr><td>2016-03-24</td><td>NULL</td><td>3146270</td></tr>",
                            "<tr><td>2016-03-25</td><td>NULL</td><td>3667180</td></tr>",
                            "<tr><td>2016-03-26</td><td>NULL</td><td>5031110</td></tr>",
                            "<tr><td>2016-03-27</td><td>NULL</td><td>5215830</td></tr>",
                            "<tr><td>2016-03-28</td><td>NULL</td><td>2287790</td></tr>",
                            "<tr><td>2016-03-29</td><td>NULL</td><td>2717320</td></tr>",
                            "<tr><td>2016-03-30</td><td>NULL</td><td>3169130</td></tr>",
                            "<tr><td>2016-03-31</td><td>NULL</td><td>3861260</td></tr>",
                            "<tr><td>2016-04-01</td><td>NULL</td><td>3766870</td></tr>",
                            "<tr><td>2016-04-02</td><td>NULL</td><td>5393960</td></tr>",
                            "<tr><td>2016-04-03</td><td>NULL</td><td>4788420</td></tr>",
                            "<tr><td>2016-04-04</td><td>NULL</td><td>5004490</td></tr>",
                            "<tr><td>2016-04-05</td><td>NULL</td><td>3051040</td></tr>",
                            "<tr><td>2016-04-06</td><td>NULL</td><td>4234430</td></tr>",
                            "<tr><td>2016-04-07</td><td>NULL</td><td>2851520</td></tr>",
                            "<tr><td>2016-04-08</td><td>NULL</td><td>3062740</td></tr>",
                            "<tr><td>2016-04-09</td><td>NULL</td><td>4494200</td></tr>",
                            "<tr><td>2016-04-10</td><td>NULL</td><td>4452890</td></tr>",
                            "<tr><td>2016-04-11</td><td>NULL</td><td>3300060</td></tr>",
                            "<tr><td>2016-04-12</td><td>NULL</td><td>3891450</td></tr>",
                            "<tr><td>2016-04-13</td><td>NULL</td><td>4387320</td></tr>",
                            "<tr><td>2016-04-14</td><td>NULL</td><td>6400220</td></tr>",
                            "<tr><td>2016-04-15</td><td>NULL</td><td>2940290</td></tr>",
                            "<tr><td>2016-04-16</td><td>NULL</td><td>3771240</td></tr>",
                            "<tr><td>2016-04-17</td><td>NULL</td><td>4189850</td></tr>",
                            "<tr><td>2016-04-18</td><td>NULL</td><td>4420260</td></tr>",
                            "<tr><td>2016-04-19</td><td>NULL</td><td>4514700</td></tr>",
                            "<tr><td>2016-04-20</td><td>NULL</td><td>4248850</td></tr>",
                            "<tr><td>2016-04-21</td><td>NULL</td><td>3264700</td></tr>",
                            "<tr><td>2016-04-22</td><td>NULL</td><td>1758030</td></tr>",
                            "<tr><td>2016-04-23</td><td>NULL</td><td>3710460</td></tr>",
                            "<tr><td>2016-04-24</td><td>NULL</td><td>6733180</td></tr>",
                            "<tr><td>2016-04-25</td><td>NULL</td><td>4075990</td></tr>",
                            "<tr><td>2016-04-26</td><td>NULL</td><td>4855350</td></tr>",
                            "<tr><td>2016-04-27</td><td>NULL</td><td>2837740</td></tr>",
                            "<tr><td>2016-04-28</td><td>NULL</td><td>1922070</td></tr>",
                            "<tr><td>2016-04-29</td><td>NULL</td><td>4854250</td></tr>",
                            "<tr><td>2016-04-30</td><td>NULL</td><td>5090770</td></tr>",
                            "<tr><td>2016-05-01</td><td>NULL</td><td>2381700</td></tr>",
                            "<tr><td>2016-05-02</td><td>NULL</td><td>5694560</td></tr>",
                            "<tr><td>2016-05-03</td><td>NULL</td><td>3177210</td></tr>",
                            "<tr><td>2016-05-04</td><td>NULL</td><td>6038290</td></tr>",
                            "<tr><td>2016-05-05</td><td>NULL</td><td>3623460</td></tr>",
                            "<tr><td>2016-05-06</td><td>NULL</td><td>5319870</td></tr>",
                            "<tr><td>2016-05-07</td><td>NULL</td><td>2361340</td></tr>",
                            "<tr><td>2016-05-08</td><td>NULL</td><td>4227150</td></tr>",
                            "<tr><td>2016-05-09</td><td>NULL</td><td>4629720</td></tr>",
                            "<tr><td>2016-05-10</td><td>NULL</td><td>3313420</td></tr>",
                            "<tr><td>2016-05-11</td><td>NULL</td><td>3456480</td></tr>",
                            "<tr><td>2016-05-12</td><td>NULL</td><td>4190440</td></tr>",
                            "<tr><td>2016-05-13</td><td>NULL</td><td>7263460</td></tr>",
                            "<tr><td>2016-05-14</td><td>NULL</td><td>2626150</td></tr>",
                            "<tr><td>2016-05-15</td><td>NULL</td><td>1652990</td></tr>",
                            "<tr><td>2016-05-16</td><td>NULL</td><td>3574960</td></tr>",
                            "<tr><td>2016-05-17</td><td>NULL</td><td>4843400</td></tr>",
                            "<tr><td>2016-05-18</td><td>NULL</td><td>5667490</td></tr>",
                            "<tr><td>2016-05-19</td><td>NULL</td><td>4445130</td></tr>",
                            "<tr><td>2016-05-20</td><td>NULL</td><td>3801480</td></tr>",
                            "<tr><td>2016-05-21</td><td>NULL</td><td>2487800</td></tr>",
                            "<tr><td>2016-05-22</td><td>NULL</td><td>3694610</td></tr>",
                            "<tr><td>2016-05-23</td><td>NULL</td><td>2616110</td></tr>",
                            "<tr><td>2016-05-24</td><td>NULL</td><td>4355870</td></tr>",
                            "<tr><td>2016-05-25</td><td>NULL</td><td>3535360</td></tr>",
                            "<tr><td>2016-05-26</td><td>NULL</td><td>3501180</td></tr>",
                            "<tr><td>2016-05-27</td><td>NULL</td><td>2976520</td></tr>",
                            "<tr><td>2016-05-28</td><td>NULL</td><td>3175280</td></tr>",
                            "<tr><td>2016-05-29</td><td>NULL</td><td>2381635</td></tr>",
                            "<tr><td>2016-05-30</td><td>NULL</td><td>2721780</td></tr>",
                            "<tr><td>2016-05-31</td><td>NULL</td><td>2845200</td></tr>",
                            "<tr><td>2016-06-01</td><td>NULL</td><td>4125800</td></tr>",
                            "<tr><td>2016-06-02</td><td>NULL</td><td>2618270</td></tr>",
                            "<tr><td>2016-06-03</td><td>NULL</td><td>2719980</td></tr>",
                            "<tr><td>2016-06-04</td><td>NULL</td><td>3038780</td></tr>",
                            "<tr><td>2016-06-05</td><td>NULL</td><td>2892290</td></tr>",
                            "<tr><td>2016-06-06</td><td>NULL</td><td>4762090</td></tr>",
                            "<tr><td>2016-06-07</td><td>NULL</td><td>3715600</td></tr>",
                            "<tr><td>2016-06-08</td><td>NULL</td><td>4781100</td></tr>",
                            "<tr><td>2016-06-09</td><td>NULL</td><td>5090020</td></tr>",
                            "<tr><td>2016-06-10</td><td>NULL</td><td>3589270</td></tr>",
                            "<tr><td>2016-06-11</td><td>NULL</td><td>4555210</td></tr>",
                            "<tr><td>2016-06-12</td><td>NULL</td><td>5337040</td></tr>",
                            "<tr><td>2016-06-13</td><td>NULL</td><td>1755590</td></tr>",
                            "<tr><td>2016-06-14</td><td>NULL</td><td>3151780</td></tr>",
                            "<tr><td>2016-06-15</td><td>NULL</td><td>4722240</td></tr>",
                            "<tr><td>2016-06-16</td><td>NULL</td><td>3503200</td></tr>",
                            "<tr><td>2016-06-17</td><td>NULL</td><td>3440880</td></tr>",
                            "<tr><td>2016-06-18</td><td>NULL</td><td>5137650</td></tr>",
                            "<tr><td>2016-06-19</td><td>NULL</td><td>3686260</td></tr>",
                            "<tr><td>2016-06-20</td><td>NULL</td><td>3523880</td></tr>",
                            "<tr><td>2016-06-21</td><td>NULL</td><td>3051320</td></tr>",
                            "<tr><td>2016-06-22</td><td>NULL</td><td>4029610</td></tr>",
                            "<tr><td>2016-06-23</td><td>NULL</td><td>3030420</td></tr>",
                            "<tr><td>2016-06-24</td><td>NULL</td><td>3068665</td></tr>",
                            "<tr><td>2016-06-25</td><td>NULL</td><td>4113940</td></tr>",
                            "<tr><td>2016-06-26</td><td>NULL</td><td>3095415</td></tr>",
                            "<tr><td>2016-06-27</td><td>NULL</td><td>3164230</td></tr>",
                            "<tr><td>2016-06-28</td><td>NULL</td><td>4126800</td></tr>",
                            "<tr><td>2016-06-29</td><td>NULL</td><td>3875630</td></tr>",
                            "<tr><td>2016-06-30</td><td>NULL</td><td>2336930</td></tr>",
                            "<tr><td>2016-07-01</td><td>NULL</td><td>5626970</td></tr>",
                            "<tr><td>2016-07-02</td><td>NULL</td><td>6503790</td></tr>",
                            "<tr><td>2016-07-03</td><td>NULL</td><td>3379190</td></tr>",
                            "<tr><td>2016-07-04</td><td>NULL</td><td>4566020</td></tr>",
                            "<tr><td>2016-07-05</td><td>NULL</td><td>5622320</td></tr>",
                            "<tr><td>2016-07-06</td><td>NULL</td><td>3294170</td></tr>",
                            "<tr><td>2016-07-07</td><td>NULL</td><td>3605370</td></tr>",
                            "<tr><td>2016-07-08</td><td>NULL</td><td>3643130</td></tr>",
                            "<tr><td>2016-07-09</td><td>NULL</td><td>3522470</td></tr>",
                            "<tr><td>2016-07-10</td><td>NULL</td><td>3590060</td></tr>",
                            "<tr><td>2016-07-11</td><td>NULL</td><td>3146150</td></tr>",
                            "<tr><td>2016-07-12</td><td>NULL</td><td>4999100</td></tr>",
                            "<tr><td>2016-07-13</td><td>NULL</td><td>3707230</td></tr>",
                            "<tr><td>2016-07-14</td><td>NULL</td><td>3522120</td></tr>",
                            "<tr><td>2016-07-15</td><td>NULL</td><td>3012125</td></tr>",
                            "<tr><td>2016-07-16</td><td>NULL</td><td>3959640</td></tr>",
                            "<tr><td>2016-07-17</td><td>NULL</td><td>2522420</td></tr>",
                            "<tr><td>2016-07-18</td><td>NULL</td><td>4172280</td></tr>",
                            "<tr><td>2016-07-19</td><td>NULL</td><td>7556340</td></tr>",
                            "<tr><td>2016-07-20</td><td>NULL</td><td>4060990</td></tr>",
                            "<tr><td>2016-07-21</td><td>NULL</td><td>4910540</td></tr>",
                            "<tr><td>2016-07-22</td><td>NULL</td><td>5036240</td></tr>",
                            "<tr><td>2016-07-23</td><td>NULL</td><td>2426190</td></tr>",
                            "<tr><td>2016-07-24</td><td>NULL</td><td>3005140</td></tr>",
                            "<tr><td>2016-07-25</td><td>NULL</td><td>2203910</td></tr>",
                            "<tr><td>2016-07-26</td><td>NULL</td><td>3728470</td></tr>",
                            "<tr><td>2016-07-27</td><td>NULL</td><td>3184280</td></tr>",
                            "<tr><td>2016-07-28</td><td>NULL</td><td>4365050</td></tr>",
                            "<tr><td>2016-07-29</td><td>NULL</td><td>3343890</td></tr>",
                            "<tr><td>2016-07-30</td><td>NULL</td><td>2655940</td></tr>",
                            "<tr><td>2016-07-31</td><td>NULL</td><td>5124680</td></tr>",
                            "<tr><td>2016-08-01</td><td>NULL</td><td>3024550</td></tr>",
                            "<tr><td>2016-08-02</td><td>NULL</td><td>2958850</td></tr>",
                            "<tr><td>2016-08-03</td><td>NULL</td><td>2898760</td></tr>",
                            "<tr><td>2016-08-04</td><td>NULL</td><td>3198220</td></tr>",
                            "<tr><td>2016-08-05</td><td>NULL</td><td>5606900</td></tr>",
                            "<tr><td>2016-08-06</td><td>NULL</td><td>2919510</td></tr>",
                            "<tr><td>2016-08-07</td><td>NULL</td><td>3192490</td></tr>",
                            "<tr><td>2016-08-08</td><td>NULL</td><td>3781250</td></tr>",
                            "<tr><td>2016-08-09</td><td>NULL</td><td>3239030</td></tr>",
                            "<tr><td>2016-08-10</td><td>NULL</td><td>3928210</td></tr>",
                            "<tr><td>2016-08-11</td><td>NULL</td><td>5403595</td></tr>",
                            "<tr><td>2016-08-12</td><td>NULL</td><td>7423420</td></tr>",
                            "<tr><td>2016-08-13</td><td>NULL</td><td>3947310</td></tr>",
                            "<tr><td>2016-08-14</td><td>NULL</td><td>3530780</td></tr>",
                            "<tr><td>2016-08-15</td><td>NULL</td><td>4693540</td></tr>",
                            "<tr><td>2016-08-16</td><td>NULL</td><td>3959660</td></tr>",
                            "<tr><td>2016-08-17</td><td>NULL</td><td>3696295</td></tr>",
                            "<tr><td>2016-08-18</td><td>NULL</td><td>2582810</td></tr>",
                            "<tr><td>2016-08-19</td><td>NULL</td><td>2090785</td></tr>",
                            "<tr><td>2016-08-20</td><td>NULL</td><td>4678060</td></tr>",
                            "<tr><td>2016-08-21</td><td>NULL</td><td>4487690</td></tr>",
                            "<tr><td>2016-08-22</td><td>NULL</td><td>3404100</td></tr>",
                            "<tr><td>2016-08-23</td><td>NULL</td><td>3292840</td></tr>",
                            "<tr><td>2016-08-24</td><td>NULL</td><td>5507535</td></tr>",
                            "<tr><td>2016-08-25</td><td>NULL</td><td>4704270</td></tr>",
                            "<tr><td>2016-08-26</td><td>NULL</td><td>3365120</td></tr>",
                            "<tr><td>2016-08-27</td><td>NULL</td><td>4927875</td></tr>",
                            "<tr><td>2016-08-28</td><td>NULL</td><td>5693150</td></tr>",
                            "<tr><td>2016-08-29</td><td>NULL</td><td>2683580</td></tr>",
                            "<tr><td>2016-08-30</td><td>NULL</td><td>2180910</td></tr>",
                            "<tr><td>2016-08-31</td><td>NULL</td><td>4480390</td></tr>",
                            "<tr><td>2016-09-01</td><td>NULL</td><td>4019600</td></tr>",
                            "<tr><td>2016-09-02</td><td>NULL</td><td>4154440</td></tr>",
                            "<tr><td>2016-09-03</td><td>NULL</td><td>3535280</td></tr>",
                            "<tr><td>2016-09-04</td><td>NULL</td><td>3746890</td></tr>",
                            "<tr><td>2016-09-05</td><td>NULL</td><td>5515190</td></tr>",
                            "<tr><td>2016-09-06</td><td>NULL</td><td>5204700</td></tr>",
                            "<tr><td>2016-09-07</td><td>NULL</td><td>5781100</td></tr>",
                            "<tr><td>2016-09-08</td><td>NULL</td><td>2602560</td></tr>",
                            "<tr><td>2016-09-09</td><td>NULL</td><td>6465250</td></tr>",
                            "<tr><td>2016-09-10</td><td>NULL</td><td>2920090</td></tr>",
                            "<tr><td>2016-09-11</td><td>NULL</td><td>5143500</td></tr>",
                            "<tr><td>2016-09-12</td><td>NULL</td><td>2640110</td></tr>",
                            "<tr><td>2016-09-13</td><td>NULL</td><td>3332160</td></tr>",
                            "<tr><td>2016-09-14</td><td>NULL</td><td>4838690</td></tr>",
                            "<tr><td>2016-09-15</td><td>NULL</td><td>3229410</td></tr>",
                            "<tr><td>2016-09-16</td><td>NULL</td><td>4742950</td></tr>",
                            "<tr><td>2016-09-17</td><td>NULL</td><td>2749110</td></tr>",
                            "<tr><td>2016-09-18</td><td>NULL</td><td>3522200</td></tr>",
                            "<tr><td>2016-09-19</td><td>NULL</td><td>2482300</td></tr>",
                            "<tr><td>2016-09-20</td><td>NULL</td><td>2439360</td></tr>",
                            "<tr><td>2016-09-21</td><td>NULL</td><td>4167540</td></tr>",
                            "<tr><td>2016-09-22</td><td>NULL</td><td>2940870</td></tr>",
                            "<tr><td>2016-09-23</td><td>NULL</td><td>3007410</td></tr>",
                            "<tr><td>2016-09-24</td><td>NULL</td><td>3212370</td></tr>",
                            "<tr><td>2016-09-25</td><td>NULL</td><td>3032280</td></tr>",
                            "<tr><td>2016-09-26</td><td>NULL</td><td>4666010</td></tr>",
                            "<tr><td>2016-09-27</td><td>NULL</td><td>4388290</td></tr>",
                            "<tr><td>2016-09-28</td><td>NULL</td><td>4607720</td></tr>",
                            "<tr><td>2016-09-29</td><td>NULL</td><td>3400750</td></tr>",
                            "<tr><td>2016-09-30</td><td>NULL</td><td>6260360</td></tr>",
                            "<tr><td>2016-10-01</td><td>NULL</td><td>3223690</td></tr>",
                            "<tr><td>2016-10-02</td><td>NULL</td><td>3508300</td></tr>",
                            "<tr><td>2016-10-03</td><td>NULL</td><td>3697160</td></tr>",
                            "<tr><td>2016-10-04</td><td>NULL</td><td>4546700</td></tr>",
                            "<tr><td>2016-10-05</td><td>NULL</td><td>4135140</td></tr>",
                            "<tr><td>2016-10-06</td><td>NULL</td><td>4203880</td></tr>",
                            "<tr><td>2016-10-07</td><td>NULL</td><td>3368120</td></tr>",
                            "<tr><td>2016-10-08</td><td>NULL</td><td>3595670</td></tr>",
                            "<tr><td>2016-10-09</td><td>NULL</td><td>3937930</td></tr>",
                            "<tr><td>2016-10-10</td><td>NULL</td><td>3686210</td></tr>",
                            "<tr><td>2016-10-11</td><td>NULL</td><td>5358090</td></tr>",
                            "<tr><td>2016-10-12</td><td>NULL</td><td>2833460</td></tr>",
                            "<tr><td>2016-10-13</td><td>NULL</td><td>3175310</td></tr>",
                            "<tr><td>2016-10-14</td><td>NULL</td><td>2143890</td></tr>",
                            "<tr><td>2016-10-15</td><td>NULL</td><td>4817920</td></tr>",
                            "<tr><td>2016-10-16</td><td>NULL</td><td>3392030</td></tr>",
                            "<tr><td>2016-10-17</td><td>NULL</td><td>4133120</td></tr>",
                            "<tr><td>2016-10-18</td><td>NULL</td><td>3793130</td></tr>",
                            "<tr><td>2016-10-19</td><td>NULL</td><td>3355640</td></tr>",
                            "<tr><td>2016-10-20</td><td>NULL</td><td>2862130</td></tr>",
                            "<tr><td>2016-10-21</td><td>NULL</td><td>5998000</td></tr>",
                            "<tr><td>2016-10-22</td><td>NULL</td><td>4802960</td></tr>",
                            "<tr><td>2016-10-23</td><td>NULL</td><td>3303990</td></tr>",
                            "<tr><td>2016-10-24</td><td>NULL</td><td>2426650</td></tr>",
                            "<tr><td>2016-10-25</td><td>NULL</td><td>5527330</td></tr>",
                            "<tr><td>2016-10-26</td><td>NULL</td><td>2044500</td></tr>",
                            "<tr><td>2016-10-27</td><td>NULL</td><td>4381730</td></tr>",
                            "<tr><td>2016-10-28</td><td>NULL</td><td>4801700</td></tr>",
                            "<tr><td>2016-10-29</td><td>NULL</td><td>2365950</td></tr>",
                            "<tr><td>2016-10-30</td><td>NULL</td><td>5346950</td></tr>",
                            "<tr><td>2016-10-31</td><td>NULL</td><td>4206350</td></tr>",
                            "<tr><td>2016-11-01</td><td>NULL</td><td>3810310</td></tr>",
                            "<tr><td>2016-11-02</td><td>NULL</td><td>4134550</td></tr>",
                            "<tr><td>2016-11-03</td><td>NULL</td><td>2070120</td></tr>",
                            "<tr><td>2016-11-04</td><td>NULL</td><td>2660990</td></tr>",
                            "<tr><td>2016-11-05</td><td>NULL</td><td>4376940</td></tr>",
                            "<tr><td>2016-11-06</td><td>NULL</td><td>2934230</td></tr>",
                            "<tr><td>2016-11-07</td><td>NULL</td><td>3240720</td></tr>",
                            "<tr><td>2016-11-08</td><td>NULL</td><td>4745970</td></tr>",
                            "<tr><td>2016-11-09</td><td>NULL</td><td>3419490</td></tr>",
                            "<tr><td>2016-11-10</td><td>NULL</td><td>2982710</td></tr>",
                            "<tr><td>2016-11-11</td><td>NULL</td><td>1632010</td></tr>",
                            "<tr><td>2016-11-12</td><td>NULL</td><td>3565560</td></tr>",
                            "<tr><td>2016-11-13</td><td>NULL</td><td>4414500</td></tr>",
                            "<tr><td>2016-11-14</td><td>NULL</td><td>3847170</td></tr>",
                            "<tr><td>2016-11-15</td><td>NULL</td><td>2154840</td></tr>",
                            "<tr><td>2016-11-16</td><td>NULL</td><td>4975740</td></tr>",
                            "<tr><td>2016-11-17</td><td>NULL</td><td>2940710</td></tr>",
                            "<tr><td>2016-11-18</td><td>NULL</td><td>2942410</td></tr>",
                            "<tr><td>2016-11-19</td><td>NULL</td><td>3229010</td></tr>",
                            "<tr><td>2016-11-20</td><td>NULL</td><td>4476570</td></tr>",
                            "<tr><td>2016-11-21</td><td>NULL</td><td>5478410</td></tr>",
                            "<tr><td>2016-11-22</td><td>NULL</td><td>4054580</td></tr>",
                            "<tr><td>2016-11-23</td><td>NULL</td><td>2800110</td></tr>",
                            "<tr><td>2016-11-24</td><td>NULL</td><td>4208630</td></tr>",
                            "<tr><td>2016-11-25</td><td>NULL</td><td>2882610</td></tr>",
                            "<tr><td>2016-11-26</td><td>NULL</td><td>6389340</td></tr>",
                            "<tr><td>2016-11-27</td><td>NULL</td><td>3834130</td></tr>",
                            "<tr><td>2016-11-28</td><td>NULL</td><td>3643310</td></tr>",
                            "<tr><td>2016-11-29</td><td>NULL</td><td>4522490</td></tr>",
                            "<tr><td>2016-11-30</td><td>NULL</td><td>3666830</td></tr>",
                            "<tr><td>2016-12-01</td><td>NULL</td><td>4173130</td></tr>",
                            "<tr><td>2016-12-02</td><td>NULL</td><td>2724270</td></tr>",
                            "<tr><td>2016-12-03</td><td>NULL</td><td>1766960</td></tr>",
                            "<tr><td>2016-12-04</td><td>NULL</td><td>6064530</td></tr>",
                            "<tr><td>2016-12-05</td><td>NULL</td><td>5203220</td></tr>",
                            "<tr><td>2016-12-06</td><td>NULL</td><td>2775800</td></tr>",
                            "<tr><td>2016-12-07</td><td>NULL</td><td>4354410</td></tr>",
                            "<tr><td>2016-12-08</td><td>NULL</td><td>3776910</td></tr>",
                            "<tr><td>2016-12-09</td><td>NULL</td><td>2747150</td></tr>",
                            "<tr><td>2016-12-10</td><td>NULL</td><td>5009260</td></tr>",
                            "<tr><td>2016-12-11</td><td>NULL</td><td>4416850</td></tr>",
                            "<tr><td>2016-12-12</td><td>NULL</td><td>3128300</td></tr>",
                            "<tr><td>2016-12-13</td><td>NULL</td><td>2727440</td></tr>",
                            "<tr><td>2016-12-14</td><td>NULL</td><td>2757990</td></tr>",
                            "<tr><td>2016-12-15</td><td>NULL</td><td>2473800</td></tr>",
                            "<tr><td>2016-12-16</td><td>NULL</td><td>2729250</td></tr>",
                            "<tr><td>2016-12-17</td><td>NULL</td><td>2924470</td></tr>",
                            "<tr><td>2016-12-18</td><td>NULL</td><td>3602920</td></tr>",
                            "<tr><td>2016-12-19</td><td>NULL</td><td>1502450</td></tr>",
                            "<tr><td>2016-12-20</td><td>NULL</td><td>2110790</td></tr>",
                            "<tr><td>2016-12-21</td><td>NULL</td><td>4636650</td></tr>",
                            "<tr><td>2016-12-22</td><td>NULL</td><td>5453660</td></tr>",
                            "<tr><td>2016-12-23</td><td>NULL</td><td>7098400</td></tr>",
                            "<tr><td>2016-12-24</td><td>NULL</td><td>2677970</td></tr>",
                            "<tr><td>2016-12-25</td><td>NULL</td><td>5370300</td></tr>",
                            "<tr><td>2016-12-26</td><td>NULL</td><td>3496920</td></tr>",
                            "<tr><td>2016-12-27</td><td>NULL</td><td>4161440</td></tr>",
                            "<tr><td>2016-12-28</td><td>NULL</td><td>3105280</td></tr>",
                            "<tr><td>2016-12-29</td><td>NULL</td><td>7708300</td></tr>",
                            "<tr><td>2016-12-30</td><td>NULL</td><td>4112740</td></tr>",
                            "<tr><td>2016-12-31</td><td>NULL</td><td>2452130</td></tr>",
                            "<tr><td>2017-01-01</td><td>NULL</td><td>2866240</td></tr>",
                            "<tr><td>2017-01-02</td><td>NULL</td><td>2636450</td></tr>",
                            "<tr><td>2017-01-03</td><td>NULL</td><td>2485770</td></tr>",
                            "<tr><td>2017-01-04</td><td>NULL</td><td>3817130</td></tr>",
                            "<tr><td>2017-01-05</td><td>NULL</td><td>4753550</td></tr>",
                            "<tr><td>2017-01-06</td><td>NULL</td><td>6881010</td></tr>",
                            "<tr><td>2017-01-07</td><td>NULL</td><td>3503190</td></tr>",
                            "<tr><td>2017-01-08</td><td>NULL</td><td>2999140</td></tr>",
                            "<tr><td>2017-01-09</td><td>NULL</td><td>5695280</td></tr>",
                            "<tr><td>2017-01-10</td><td>NULL</td><td>2346540</td></tr>",
                            "<tr><td>2017-01-11</td><td>NULL</td><td>2594980</td></tr>",
                            "<tr><td>2017-01-12</td><td>NULL</td><td>4505710</td></tr>",
                            "<tr><td>2017-01-13</td><td>NULL</td><td>3513310</td></tr>",
                            "<tr><td>2017-01-14</td><td>NULL</td><td>2623070</td></tr>",
                            "<tr><td>2017-01-15</td><td>NULL</td><td>2600350</td></tr>",
                            "<tr><td>2017-01-16</td><td>NULL</td><td>5536120</td></tr>",
                            "<tr><td>2017-01-17</td><td>NULL</td><td>4087990</td></tr>",
                            "<tr><td>2017-01-18</td><td>NULL</td><td>4276140</td></tr>",
                            "<tr><td>2017-01-19</td><td>NULL</td><td>5190740</td></tr>",
                            "<tr><td>2017-01-20</td><td>NULL</td><td>2531960</td></tr>",
                            "<tr><td>2017-01-21</td><td>NULL</td><td>3101420</td></tr>",
                            "<tr><td>2017-01-22</td><td>NULL</td><td>5888190</td></tr>",
                            "<tr><td>2017-01-23</td><td>NULL</td><td>3816340</td></tr>",
                            "<tr><td>2017-01-24</td><td>NULL</td><td>2873100</td></tr>",
                            "<tr><td>2017-01-25</td><td>NULL</td><td>2209220</td></tr>",
                            "<tr><td>2017-01-26</td><td>NULL</td><td>3290520</td></tr>",
                            "<tr><td>2017-01-27</td><td>NULL</td><td>2246560</td></tr>",
                            "<tr><td>2017-01-28</td><td>NULL</td><td>3915170</td></tr>",
                            "<tr><td>2017-01-29</td><td>NULL</td><td>2695600</td></tr>",
                            "<tr><td>2017-01-30</td><td>NULL</td><td>2806230</td></tr>",
                            "<tr><td>2017-01-31</td><td>NULL</td><td>3749270</td></tr>",
                            "<tr><td>2017-02-01</td><td>NULL</td><td>2521980</td></tr>",
                            "<tr><td>2017-02-02</td><td>NULL</td><td>6191180</td></tr>",
                            "<tr><td>2017-02-03</td><td>NULL</td><td>2797950</td></tr>",
                            "<tr><td>2017-02-04</td><td>NULL</td><td>3090370</td></tr>",
                            "<tr><td>2017-02-05</td><td>NULL</td><td>3008040</td></tr>",
                            "<tr><td>2017-02-06</td><td>NULL</td><td>2115070</td></tr>",
                            "<tr><td>2017-02-07</td><td>NULL</td><td>2923960</td></tr>",
                            "<tr><td>2017-02-08</td><td>NULL</td><td>5423560</td></tr>",
                            "<tr><td>2017-02-09</td><td>NULL</td><td>3377340</td></tr>",
                            "<tr><td>2017-02-10</td><td>NULL</td><td>3715320</td></tr>",
                            "<tr><td>2017-02-11</td><td>NULL</td><td>2909970</td></tr>",
                            "<tr><td>2017-02-12</td><td>NULL</td><td>2915860</td></tr>",
                            "<tr><td>2017-02-13</td><td>NULL</td><td>3469680</td></tr>",
                            "<tr><td>2017-02-14</td><td>NULL</td><td>7073830</td></tr>",
                            "<tr><td>2017-02-15</td><td>NULL</td><td>2641700</td></tr>",
                            "<tr><td>2017-02-16</td><td>NULL</td><td>4293370</td></tr>",
                            "<tr><td>2017-02-17</td><td>NULL</td><td>3121880</td></tr>",
                            "<tr><td>2017-02-18</td><td>NULL</td><td>4031350</td></tr>",
                            "<tr><td>2017-02-19</td><td>NULL</td><td>3865240</td></tr>",
                            "<tr><td>2017-02-20</td><td>NULL</td><td>1912120</td></tr>",
                            "<tr><td>2017-02-21</td><td>NULL</td><td>2663390</td></tr>",
                            "<tr><td>2017-02-22</td><td>NULL</td><td>2637920</td></tr>",
                            "<tr><td>2017-02-23</td><td>NULL</td><td>3854940</td></tr>",
                            "<tr><td>2017-02-24</td><td>NULL</td><td>3262950</td></tr>",
                            "<tr><td>2017-02-25</td><td>NULL</td><td>3244810</td></tr>",
                            "<tr><td>2017-02-26</td><td>NULL</td><td>2950680</td></tr>",
                            "<tr><td>2017-02-27</td><td>NULL</td><td>2921740</td></tr>",
                            "<tr><td>2017-02-28</td><td>NULL</td><td>4445640</td></tr>",
                            "<tr><td>2017-03-01</td><td>NULL</td><td>6098830</td></tr>",
                            "<tr><td>2017-03-02</td><td>NULL</td><td>2379280</td></tr>",
                            "<tr><td>2017-03-03</td><td>NULL</td><td>5160190</td></tr>",
                            "<tr><td>2017-03-04</td><td>NULL</td><td>1789340</td></tr>",
                            "<tr><td>2017-03-05</td><td>NULL</td><td>4498920</td></tr>",
                            "<tr><td>2017-03-06</td><td>NULL</td><td>4970220</td></tr>",
                            "<tr><td>2017-03-07</td><td>NULL</td><td>4022740</td></tr>",
                            "<tr><td>2017-03-08</td><td>NULL</td><td>3193130</td></tr>",
                            "<tr><td>2017-03-09</td><td>NULL</td><td>3529190</td></tr>",
                            "<tr><td>2017-03-10</td><td>NULL</td><td>4104060</td></tr>",
                            "<tr><td>2017-03-11</td><td>NULL</td><td>2408380</td></tr>",
                            "<tr><td>2017-03-12</td><td>NULL</td><td>3416540</td></tr>",
                            "<tr><td>2017-03-13</td><td>NULL</td><td>2669120</td></tr>",
                            "<tr><td>2017-03-14</td><td>NULL</td><td>2760380</td></tr>",
                            "<tr><td>2017-03-15</td><td>NULL</td><td>4597730</td></tr>",
                            "<tr><td>2017-03-16</td><td>NULL</td><td>5074910</td></tr>",
                            "<tr><td>2017-03-17</td><td>NULL</td><td>3133970</td></tr>",
                            "<tr><td>2017-03-18</td><td>NULL</td><td>3113810</td></tr>",
                            "<tr><td>2017-03-19</td><td>NULL</td><td>4777450</td></tr>",
                            "<tr><td>2017-03-20</td><td>NULL</td><td>3504390</td></tr>",
                            "<tr><td>2017-03-21</td><td>NULL</td><td>3462950</td></tr>",
                            "<tr><td>2017-03-22</td><td>NULL</td><td>3410240</td></tr>",
                            "<tr><td>2017-03-23</td><td>NULL</td><td>3391040</td></tr>",
                            "<tr><td>2017-03-24</td><td>NULL</td><td>5062310</td></tr>",
                            "<tr><td>2017-03-25</td><td>NULL</td><td>3655840</td></tr>",
                            "<tr><td>2017-03-26</td><td>NULL</td><td>6625820</td></tr>",
                            "<tr><td>2017-03-27</td><td>NULL</td><td>3224540</td></tr>",
                            "<tr><td>2017-03-28</td><td>NULL</td><td>3504060</td></tr>",
                            "<tr><td>2017-03-29</td><td>NULL</td><td>3530000</td></tr>",
                            "<tr><td>2017-03-30</td><td>NULL</td><td>4791940</td></tr>",
                            "<tr><td>2017-03-31</td><td>NULL</td><td>2883800</td></tr>",
                            "<tr><td>2017-04-01</td><td>NULL</td><td>3668460</td></tr>",
                            "<tr><td>2017-04-02</td><td>NULL</td><td>3275900</td></tr>",
                            "<tr><td>2017-04-03</td><td>NULL</td><td>2272470</td></tr>",
                            "<tr><td>2017-04-04</td><td>NULL</td><td>2014040</td></tr>",
                            "<tr><td>2017-04-05</td><td>NULL</td><td>2354780</td></tr>",
                            "<tr><td>2017-04-06</td><td>NULL</td><td>2016810</td></tr>",
                            "<tr><td>2017-04-07</td><td>NULL</td><td>3519220</td></tr>",
                            "<tr><td>2017-04-08</td><td>NULL</td><td>2182420</td></tr>",
                            "<tr><td>2017-04-09</td><td>NULL</td><td>1596740</td></tr>",
                            "<tr><td>2017-04-10</td><td>NULL</td><td>283520</td></tr>",
                            "<tr><td>2017-04-11</td><td>NULL</td><td>132070</td></tr>",
                            "<tr><td>NULL</td><td>NULL</td><td>2611634603</td></tr>",
                            "</table>"
                        ]
                    }
                }
            ],
            "execution_count": 4
        },
        {
            "cell_type": "markdown",
            "source": [
                "```\n",
                "3. Hány olyan ügyfél van, aki még nem rendelt semmit?\n",
                "```\n",
                "\n",
                "1. Csoportosítsuk őket nem szerint, azon belül életkor szerint!\n",
                "2. A lista tartalmazza a részösszegeket és a végösszeget is!\n",
                "\n",
                "![](https://moodle.uni-corvinus.hu/theme/image.php/adaptable/atto_h5p/1709548862/icon)"
            ],
            "metadata": {
                "azdata_cell_guid": "d7876bb9-76d0-4d07-baed-3cb17b2f96c3"
            },
            "attachments": {}
        },
        {
            "cell_type": "code",
            "source": [
                "SELECT nem,year(GETDATE())-szulev,count(*) as 'Darab'\r\n",
                "FROM UGYFEL left join Rendeles ON UGYFEL.[LOGIN] = RENDELES.[LOGIN]\r\n",
                "WHERE REND_DATUM is null\r\n",
                "GROUP BY rollup( nem,year(GETDATE())-szulev)"
            ],
            "metadata": {
                "azdata_cell_guid": "56ec19ce-e249-4551-b2a8-f17569765acc",
                "language": "sql"
            },
            "outputs": [
                {
                    "output_type": "display_data",
                    "data": {
                        "text/html": "(12 rows affected)"
                    },
                    "metadata": {}
                },
                {
                    "output_type": "display_data",
                    "data": {
                        "text/html": "Total execution time: 00:00:00.092"
                    },
                    "metadata": {}
                },
                {
                    "output_type": "execute_result",
                    "metadata": {},
                    "execution_count": 7,
                    "data": {
                        "application/vnd.dataresource+json": {
                            "schema": {
                                "fields": [
                                    {
                                        "name": "nem"
                                    },
                                    {
                                        "name": "(No column name)"
                                    },
                                    {
                                        "name": "(No column name)"
                                    }
                                ]
                            },
                            "data": [
                                {
                                    "nem": "F",
                                    "(No column name)": "1"
                                },
                                {
                                    "nem": "F",
                                    "(No column name)": "1"
                                },
                                {
                                    "nem": "F",
                                    "(No column name)": "1"
                                },
                                {
                                    "nem": "F",
                                    "(No column name)": "1"
                                },
                                {
                                    "nem": "F",
                                    "(No column name)": "1"
                                },
                                {
                                    "nem": "F",
                                    "(No column name)": "1"
                                },
                                {
                                    "nem": "F",
                                    "(No column name)": "6"
                                },
                                {
                                    "nem": "N",
                                    "(No column name)": "1"
                                },
                                {
                                    "nem": "N",
                                    "(No column name)": "1"
                                },
                                {
                                    "nem": "N",
                                    "(No column name)": "1"
                                },
                                {
                                    "nem": "N",
                                    "(No column name)": "3"
                                },
                                {
                                    "nem": "NULL",
                                    "(No column name)": "9"
                                }
                            ]
                        },
                        "text/html": [
                            "<table>",
                            "<tr><th>nem</th><th>(No column name)</th><th>(No column name)</th></tr>",
                            "<tr><td>F</td><td>24</td><td>1</td></tr>",
                            "<tr><td>F</td><td>26</td><td>1</td></tr>",
                            "<tr><td>F</td><td>28</td><td>1</td></tr>",
                            "<tr><td>F</td><td>45</td><td>1</td></tr>",
                            "<tr><td>F</td><td>55</td><td>1</td></tr>",
                            "<tr><td>F</td><td>56</td><td>1</td></tr>",
                            "<tr><td>F</td><td>NULL</td><td>6</td></tr>",
                            "<tr><td>N</td><td>30</td><td>1</td></tr>",
                            "<tr><td>N</td><td>37</td><td>1</td></tr>",
                            "<tr><td>N</td><td>49</td><td>1</td></tr>",
                            "<tr><td>N</td><td>NULL</td><td>3</td></tr>",
                            "<tr><td>NULL</td><td>NULL</td><td>9</td></tr>",
                            "</table>"
                        ]
                    }
                }
            ],
            "execution_count": 7
        },
        {
            "cell_type": "markdown",
            "source": [
                "4. <span style=\"color: rgb(36, 41, 47); font-family: -apple-system, BlinkMacSystemFont, &quot;Segoe UI&quot;, Helvetica, Arial, sans-serif, &quot;Apple Color Emoji&quot;, &quot;Segoe UI Emoji&quot;; font-size: 16px;\">Készítsünk listát a megrendelt termékek legkisebb és legnagyobb egységáráról szállítási dátum, azon belül szállítási mód szerinti bontásban!</span>\n",
                "\n",
                "1. A lista csak a 2015 májusi szállításokat tartalmazza!\n",
                "2. Jelenítsük meg a részösszegeket és a végösszeget is!"
            ],
            "metadata": {
                "azdata_cell_guid": "8e7fef82-8022-49a0-8255-fc2846c2134b"
            },
            "attachments": {}
        },
        {
            "cell_type": "code",
            "source": [
                "SELECT szall_datum,szall_mod,min(egysegar),max(egysegar)\r\n",
                "FROM Rendeles JOIN Rendeles_tetel on Rendeles.SORSZAM = Rendeles_tetel.SORSZAM\r\n",
                "WHERE YEAR(szall_datum) = 2015 and month(szall_datum) = 5\r\n",
                "GROUP BY ROLLUP(szall_datum,szall_mod)"
            ],
            "metadata": {
                "azdata_cell_guid": "36f7b396-4a1f-45e5-8720-2302537c91bc",
                "language": "sql"
            },
            "outputs": [
                {
                    "output_type": "display_data",
                    "data": {
                        "text/html": "(115 rows affected)"
                    },
                    "metadata": {}
                },
                {
                    "output_type": "display_data",
                    "data": {
                        "text/html": "Total execution time: 00:00:00.153"
                    },
                    "metadata": {}
                },
                {
                    "output_type": "execute_result",
                    "metadata": {},
                    "execution_count": 8,
                    "data": {
                        "application/vnd.dataresource+json": {
                            "schema": {
                                "fields": [
                                    {
                                        "name": "szall_datum"
                                    },
                                    {
                                        "name": "szall_mod"
                                    },
                                    {
                                        "name": "(No column name)"
                                    },
                                    {
                                        "name": "(No column name)"
                                    }
                                ]
                            },
                            "data": [
                                {
                                    "szall_datum": "2015-05-03",
                                    "szall_mod": "GLS",
                                    "(No column name)": "400"
                                },
                                {
                                    "szall_datum": "2015-05-03",
                                    "szall_mod": "NULL",
                                    "(No column name)": "400"
                                },
                                {
                                    "szall_datum": "2015-05-04",
                                    "szall_mod": "GLS",
                                    "(No column name)": "1251"
                                },
                                {
                                    "szall_datum": "2015-05-04",
                                    "szall_mod": "Posta",
                                    "(No column name)": "15363"
                                },
                                {
                                    "szall_datum": "2015-05-04",
                                    "szall_mod": "Személyes átvétel",
                                    "(No column name)": "15363"
                                },
                                {
                                    "szall_datum": "2015-05-04",
                                    "szall_mod": "NULL",
                                    "(No column name)": "15363"
                                },
                                {
                                    "szall_datum": "2015-05-05",
                                    "szall_mod": "GLS",
                                    "(No column name)": "29090"
                                },
                                {
                                    "szall_datum": "2015-05-05",
                                    "szall_mod": "Posta",
                                    "(No column name)": "29090"
                                },
                                {
                                    "szall_datum": "2015-05-05",
                                    "szall_mod": "Személyes átvétel",
                                    "(No column name)": "366"
                                },
                                {
                                    "szall_datum": "2015-05-05",
                                    "szall_mod": "NULL",
                                    "(No column name)": "29090"
                                },
                                {
                                    "szall_datum": "2015-05-06",
                                    "szall_mod": "GLS",
                                    "(No column name)": "35454"
                                },
                                {
                                    "szall_datum": "2015-05-06",
                                    "szall_mod": "Posta",
                                    "(No column name)": "702"
                                },
                                {
                                    "szall_datum": "2015-05-06",
                                    "szall_mod": "Személyes átvétel",
                                    "(No column name)": "41818"
                                },
                                {
                                    "szall_datum": "2015-05-06",
                                    "szall_mod": "NULL",
                                    "(No column name)": "41818"
                                },
                                {
                                    "szall_datum": "2015-05-07",
                                    "szall_mod": "GLS",
                                    "(No column name)": "41818"
                                },
                                {
                                    "szall_datum": "2015-05-07",
                                    "szall_mod": "Posta",
                                    "(No column name)": "394"
                                },
                                {
                                    "szall_datum": "2015-05-07",
                                    "szall_mod": "Személyes átvétel",
                                    "(No column name)": "1604"
                                },
                                {
                                    "szall_datum": "2015-05-07",
                                    "szall_mod": "NULL",
                                    "(No column name)": "41818"
                                },
                                {
                                    "szall_datum": "2015-05-08",
                                    "szall_mod": "GLS",
                                    "(No column name)": "15363"
                                },
                                {
                                    "szall_datum": "2015-05-08",
                                    "szall_mod": "Posta",
                                    "(No column name)": "35454"
                                },
                                {
                                    "szall_datum": "2015-05-08",
                                    "szall_mod": "Személyes átvétel",
                                    "(No column name)": "41818"
                                },
                                {
                                    "szall_datum": "2015-05-08",
                                    "szall_mod": "NULL",
                                    "(No column name)": "41818"
                                },
                                {
                                    "szall_datum": "2015-05-09",
                                    "szall_mod": "GLS",
                                    "(No column name)": "12954"
                                },
                                {
                                    "szall_datum": "2015-05-09",
                                    "szall_mod": "Posta",
                                    "(No column name)": "1604"
                                },
                                {
                                    "szall_datum": "2015-05-09",
                                    "szall_mod": "Személyes átvétel",
                                    "(No column name)": "41818"
                                },
                                {
                                    "szall_datum": "2015-05-09",
                                    "szall_mod": "NULL",
                                    "(No column name)": "41818"
                                },
                                {
                                    "szall_datum": "2015-05-10",
                                    "szall_mod": "GLS",
                                    "(No column name)": "35454"
                                },
                                {
                                    "szall_datum": "2015-05-10",
                                    "szall_mod": "Posta",
                                    "(No column name)": "29090"
                                },
                                {
                                    "szall_datum": "2015-05-10",
                                    "szall_mod": "Személyes átvétel",
                                    "(No column name)": "789"
                                },
                                {
                                    "szall_datum": "2015-05-10",
                                    "szall_mod": "NULL",
                                    "(No column name)": "35454"
                                },
                                {
                                    "szall_datum": "2015-05-11",
                                    "szall_mod": "GLS",
                                    "(No column name)": "41818"
                                },
                                {
                                    "szall_datum": "2015-05-11",
                                    "szall_mod": "Posta",
                                    "(No column name)": "29090"
                                },
                                {
                                    "szall_datum": "2015-05-11",
                                    "szall_mod": "Személyes átvétel",
                                    "(No column name)": "35454"
                                },
                                {
                                    "szall_datum": "2015-05-11",
                                    "szall_mod": "NULL",
                                    "(No column name)": "41818"
                                },
                                {
                                    "szall_datum": "2015-05-12",
                                    "szall_mod": "GLS",
                                    "(No column name)": "6272"
                                },
                                {
                                    "szall_datum": "2015-05-12",
                                    "szall_mod": "Posta",
                                    "(No column name)": "41818"
                                },
                                {
                                    "szall_datum": "2015-05-12",
                                    "szall_mod": "Személyes átvétel",
                                    "(No column name)": "35454"
                                },
                                {
                                    "szall_datum": "2015-05-12",
                                    "szall_mod": "NULL",
                                    "(No column name)": "41818"
                                },
                                {
                                    "szall_datum": "2015-05-13",
                                    "szall_mod": "GLS",
                                    "(No column name)": "15363"
                                },
                                {
                                    "szall_datum": "2015-05-13",
                                    "szall_mod": "Posta",
                                    "(No column name)": "41818"
                                },
                                {
                                    "szall_datum": "2015-05-13",
                                    "szall_mod": "Személyes átvétel",
                                    "(No column name)": "29090"
                                },
                                {
                                    "szall_datum": "2015-05-13",
                                    "szall_mod": "NULL",
                                    "(No column name)": "41818"
                                },
                                {
                                    "szall_datum": "2015-05-14",
                                    "szall_mod": "GLS",
                                    "(No column name)": "41818"
                                },
                                {
                                    "szall_datum": "2015-05-14",
                                    "szall_mod": "Posta",
                                    "(No column name)": "41818"
                                },
                                {
                                    "szall_datum": "2015-05-14",
                                    "szall_mod": "Személyes átvétel",
                                    "(No column name)": "41818"
                                },
                                {
                                    "szall_datum": "2015-05-14",
                                    "szall_mod": "NULL",
                                    "(No column name)": "41818"
                                },
                                {
                                    "szall_datum": "2015-05-15",
                                    "szall_mod": "GLS",
                                    "(No column name)": "15363"
                                },
                                {
                                    "szall_datum": "2015-05-15",
                                    "szall_mod": "Posta",
                                    "(No column name)": "15363"
                                },
                                {
                                    "szall_datum": "2015-05-15",
                                    "szall_mod": "Személyes átvétel",
                                    "(No column name)": "41818"
                                },
                                {
                                    "szall_datum": "2015-05-15",
                                    "szall_mod": "NULL",
                                    "(No column name)": "41818"
                                },
                                {
                                    "szall_datum": "2015-05-16",
                                    "szall_mod": "GLS",
                                    "(No column name)": "41818"
                                },
                                {
                                    "szall_datum": "2015-05-16",
                                    "szall_mod": "Posta",
                                    "(No column name)": "35454"
                                },
                                {
                                    "szall_datum": "2015-05-16",
                                    "szall_mod": "Személyes átvétel",
                                    "(No column name)": "29090"
                                },
                                {
                                    "szall_datum": "2015-05-16",
                                    "szall_mod": "NULL",
                                    "(No column name)": "41818"
                                },
                                {
                                    "szall_datum": "2015-05-17",
                                    "szall_mod": "GLS",
                                    "(No column name)": "29090"
                                },
                                {
                                    "szall_datum": "2015-05-17",
                                    "szall_mod": "Posta",
                                    "(No column name)": "35454"
                                },
                                {
                                    "szall_datum": "2015-05-17",
                                    "szall_mod": "Személyes átvétel",
                                    "(No column name)": "35454"
                                },
                                {
                                    "szall_datum": "2015-05-17",
                                    "szall_mod": "NULL",
                                    "(No column name)": "35454"
                                },
                                {
                                    "szall_datum": "2015-05-18",
                                    "szall_mod": "GLS",
                                    "(No column name)": "35454"
                                },
                                {
                                    "szall_datum": "2015-05-18",
                                    "szall_mod": "Posta",
                                    "(No column name)": "41818"
                                },
                                {
                                    "szall_datum": "2015-05-18",
                                    "szall_mod": "Személyes átvétel",
                                    "(No column name)": "41818"
                                },
                                {
                                    "szall_datum": "2015-05-18",
                                    "szall_mod": "NULL",
                                    "(No column name)": "41818"
                                },
                                {
                                    "szall_datum": "2015-05-19",
                                    "szall_mod": "GLS",
                                    "(No column name)": "41818"
                                },
                                {
                                    "szall_datum": "2015-05-19",
                                    "szall_mod": "Posta",
                                    "(No column name)": "41818"
                                },
                                {
                                    "szall_datum": "2015-05-19",
                                    "szall_mod": "Személyes átvétel",
                                    "(No column name)": "12954"
                                },
                                {
                                    "szall_datum": "2015-05-19",
                                    "szall_mod": "NULL",
                                    "(No column name)": "41818"
                                },
                                {
                                    "szall_datum": "2015-05-20",
                                    "szall_mod": "GLS",
                                    "(No column name)": "41818"
                                },
                                {
                                    "szall_datum": "2015-05-20",
                                    "szall_mod": "Posta",
                                    "(No column name)": "1251"
                                },
                                {
                                    "szall_datum": "2015-05-20",
                                    "szall_mod": "Személyes átvétel",
                                    "(No column name)": "41818"
                                },
                                {
                                    "szall_datum": "2015-05-20",
                                    "szall_mod": "NULL",
                                    "(No column name)": "41818"
                                },
                                {
                                    "szall_datum": "2015-05-21",
                                    "szall_mod": "GLS",
                                    "(No column name)": "10818"
                                },
                                {
                                    "szall_datum": "2015-05-21",
                                    "szall_mod": "Posta",
                                    "(No column name)": "15363"
                                },
                                {
                                    "szall_datum": "2015-05-21",
                                    "szall_mod": "Személyes átvétel",
                                    "(No column name)": "29090"
                                },
                                {
                                    "szall_datum": "2015-05-21",
                                    "szall_mod": "NULL",
                                    "(No column name)": "29090"
                                },
                                {
                                    "szall_datum": "2015-05-22",
                                    "szall_mod": "GLS",
                                    "(No column name)": "41818"
                                },
                                {
                                    "szall_datum": "2015-05-22",
                                    "szall_mod": "Posta",
                                    "(No column name)": "21818"
                                },
                                {
                                    "szall_datum": "2015-05-22",
                                    "szall_mod": "Személyes átvétel",
                                    "(No column name)": "29090"
                                },
                                {
                                    "szall_datum": "2015-05-22",
                                    "szall_mod": "NULL",
                                    "(No column name)": "41818"
                                },
                                {
                                    "szall_datum": "2015-05-23",
                                    "szall_mod": "GLS",
                                    "(No column name)": "35454"
                                },
                                {
                                    "szall_datum": "2015-05-23",
                                    "szall_mod": "Posta",
                                    "(No column name)": "990"
                                },
                                {
                                    "szall_datum": "2015-05-23",
                                    "szall_mod": "Személyes átvétel",
                                    "(No column name)": "15363"
                                },
                                {
                                    "szall_datum": "2015-05-23",
                                    "szall_mod": "NULL",
                                    "(No column name)": "35454"
                                },
                                {
                                    "szall_datum": "2015-05-24",
                                    "szall_mod": "GLS",
                                    "(No column name)": "35454"
                                },
                                {
                                    "szall_datum": "2015-05-24",
                                    "szall_mod": "Posta",
                                    "(No column name)": "41818"
                                },
                                {
                                    "szall_datum": "2015-05-24",
                                    "szall_mod": "Személyes átvétel",
                                    "(No column name)": "35454"
                                },
                                {
                                    "szall_datum": "2015-05-24",
                                    "szall_mod": "NULL",
                                    "(No column name)": "41818"
                                },
                                {
                                    "szall_datum": "2015-05-25",
                                    "szall_mod": "GLS",
                                    "(No column name)": "1042"
                                },
                                {
                                    "szall_datum": "2015-05-25",
                                    "szall_mod": "Posta",
                                    "(No column name)": "10818"
                                },
                                {
                                    "szall_datum": "2015-05-25",
                                    "szall_mod": "Személyes átvétel",
                                    "(No column name)": "41818"
                                },
                                {
                                    "szall_datum": "2015-05-25",
                                    "szall_mod": "NULL",
                                    "(No column name)": "41818"
                                },
                                {
                                    "szall_datum": "2015-05-26",
                                    "szall_mod": "GLS",
                                    "(No column name)": "35454"
                                },
                                {
                                    "szall_datum": "2015-05-26",
                                    "szall_mod": "Posta",
                                    "(No column name)": "7272"
                                },
                                {
                                    "szall_datum": "2015-05-26",
                                    "szall_mod": "Személyes átvétel",
                                    "(No column name)": "29090"
                                },
                                {
                                    "szall_datum": "2015-05-26",
                                    "szall_mod": "NULL",
                                    "(No column name)": "35454"
                                },
                                {
                                    "szall_datum": "2015-05-27",
                                    "szall_mod": "GLS",
                                    "(No column name)": "41818"
                                },
                                {
                                    "szall_datum": "2015-05-27",
                                    "szall_mod": "Posta",
                                    "(No column name)": "41818"
                                },
                                {
                                    "szall_datum": "2015-05-27",
                                    "szall_mod": "Személyes átvétel",
                                    "(No column name)": "41818"
                                },
                                {
                                    "szall_datum": "2015-05-27",
                                    "szall_mod": "NULL",
                                    "(No column name)": "41818"
                                },
                                {
                                    "szall_datum": "2015-05-28",
                                    "szall_mod": "GLS",
                                    "(No column name)": "41818"
                                },
                                {
                                    "szall_datum": "2015-05-28",
                                    "szall_mod": "Posta",
                                    "(No column name)": "35454"
                                },
                                {
                                    "szall_datum": "2015-05-28",
                                    "szall_mod": "Személyes átvétel",
                                    "(No column name)": "41818"
                                },
                                {
                                    "szall_datum": "2015-05-28",
                                    "szall_mod": "NULL",
                                    "(No column name)": "41818"
                                },
                                {
                                    "szall_datum": "2015-05-29",
                                    "szall_mod": "GLS",
                                    "(No column name)": "21818"
                                },
                                {
                                    "szall_datum": "2015-05-29",
                                    "szall_mod": "Posta",
                                    "(No column name)": "21818"
                                },
                                {
                                    "szall_datum": "2015-05-29",
                                    "szall_mod": "Személyes átvétel",
                                    "(No column name)": "41818"
                                },
                                {
                                    "szall_datum": "2015-05-29",
                                    "szall_mod": "NULL",
                                    "(No column name)": "41818"
                                },
                                {
                                    "szall_datum": "2015-05-30",
                                    "szall_mod": "GLS",
                                    "(No column name)": "35454"
                                },
                                {
                                    "szall_datum": "2015-05-30",
                                    "szall_mod": "Posta",
                                    "(No column name)": "990"
                                },
                                {
                                    "szall_datum": "2015-05-30",
                                    "szall_mod": "Személyes átvétel",
                                    "(No column name)": "41818"
                                },
                                {
                                    "szall_datum": "2015-05-30",
                                    "szall_mod": "NULL",
                                    "(No column name)": "41818"
                                },
                                {
                                    "szall_datum": "2015-05-31",
                                    "szall_mod": "GLS",
                                    "(No column name)": "35454"
                                },
                                {
                                    "szall_datum": "2015-05-31",
                                    "szall_mod": "Posta",
                                    "(No column name)": "12954"
                                },
                                {
                                    "szall_datum": "2015-05-31",
                                    "szall_mod": "Személyes átvétel",
                                    "(No column name)": "35454"
                                },
                                {
                                    "szall_datum": "2015-05-31",
                                    "szall_mod": "NULL",
                                    "(No column name)": "35454"
                                },
                                {
                                    "szall_datum": "NULL",
                                    "szall_mod": "NULL",
                                    "(No column name)": "41818"
                                }
                            ]
                        },
                        "text/html": [
                            "<table>",
                            "<tr><th>szall_datum</th><th>szall_mod</th><th>(No column name)</th><th>(No column name)</th></tr>",
                            "<tr><td>2015-05-03</td><td>GLS</td><td>17</td><td>400</td></tr>",
                            "<tr><td>2015-05-03</td><td>NULL</td><td>17</td><td>400</td></tr>",
                            "<tr><td>2015-05-04</td><td>GLS</td><td>9</td><td>1251</td></tr>",
                            "<tr><td>2015-05-04</td><td>Posta</td><td>12</td><td>15363</td></tr>",
                            "<tr><td>2015-05-04</td><td>Személyes átvétel</td><td>23</td><td>15363</td></tr>",
                            "<tr><td>2015-05-04</td><td>NULL</td><td>9</td><td>15363</td></tr>",
                            "<tr><td>2015-05-05</td><td>GLS</td><td>18</td><td>29090</td></tr>",
                            "<tr><td>2015-05-05</td><td>Posta</td><td>10</td><td>29090</td></tr>",
                            "<tr><td>2015-05-05</td><td>Személyes átvétel</td><td>11</td><td>366</td></tr>",
                            "<tr><td>2015-05-05</td><td>NULL</td><td>10</td><td>29090</td></tr>",
                            "<tr><td>2015-05-06</td><td>GLS</td><td>7</td><td>35454</td></tr>",
                            "<tr><td>2015-05-06</td><td>Posta</td><td>8</td><td>702</td></tr>",
                            "<tr><td>2015-05-06</td><td>Személyes átvétel</td><td>2</td><td>41818</td></tr>",
                            "<tr><td>2015-05-06</td><td>NULL</td><td>2</td><td>41818</td></tr>",
                            "<tr><td>2015-05-07</td><td>GLS</td><td>3</td><td>41818</td></tr>",
                            "<tr><td>2015-05-07</td><td>Posta</td><td>12</td><td>394</td></tr>",
                            "<tr><td>2015-05-07</td><td>Személyes átvétel</td><td>2</td><td>1604</td></tr>",
                            "<tr><td>2015-05-07</td><td>NULL</td><td>2</td><td>41818</td></tr>",
                            "<tr><td>2015-05-08</td><td>GLS</td><td>2</td><td>15363</td></tr>",
                            "<tr><td>2015-05-08</td><td>Posta</td><td>12</td><td>35454</td></tr>",
                            "<tr><td>2015-05-08</td><td>Személyes átvétel</td><td>5</td><td>41818</td></tr>",
                            "<tr><td>2015-05-08</td><td>NULL</td><td>2</td><td>41818</td></tr>",
                            "<tr><td>2015-05-09</td><td>GLS</td><td>7</td><td>12954</td></tr>",
                            "<tr><td>2015-05-09</td><td>Posta</td><td>13</td><td>1604</td></tr>",
                            "<tr><td>2015-05-09</td><td>Személyes átvétel</td><td>2</td><td>41818</td></tr>",
                            "<tr><td>2015-05-09</td><td>NULL</td><td>2</td><td>41818</td></tr>",
                            "<tr><td>2015-05-10</td><td>GLS</td><td>10</td><td>35454</td></tr>",
                            "<tr><td>2015-05-10</td><td>Posta</td><td>5</td><td>29090</td></tr>",
                            "<tr><td>2015-05-10</td><td>Személyes átvétel</td><td>0</td><td>789</td></tr>",
                            "<tr><td>2015-05-10</td><td>NULL</td><td>0</td><td>35454</td></tr>",
                            "<tr><td>2015-05-11</td><td>GLS</td><td>7</td><td>41818</td></tr>",
                            "<tr><td>2015-05-11</td><td>Posta</td><td>2</td><td>29090</td></tr>",
                            "<tr><td>2015-05-11</td><td>Személyes átvétel</td><td>8</td><td>35454</td></tr>",
                            "<tr><td>2015-05-11</td><td>NULL</td><td>2</td><td>41818</td></tr>",
                            "<tr><td>2015-05-12</td><td>GLS</td><td>7</td><td>6272</td></tr>",
                            "<tr><td>2015-05-12</td><td>Posta</td><td>0</td><td>41818</td></tr>",
                            "<tr><td>2015-05-12</td><td>Személyes átvétel</td><td>7</td><td>35454</td></tr>",
                            "<tr><td>2015-05-12</td><td>NULL</td><td>0</td><td>41818</td></tr>",
                            "<tr><td>2015-05-13</td><td>GLS</td><td>17</td><td>15363</td></tr>",
                            "<tr><td>2015-05-13</td><td>Posta</td><td>0</td><td>41818</td></tr>",
                            "<tr><td>2015-05-13</td><td>Személyes átvétel</td><td>5</td><td>29090</td></tr>",
                            "<tr><td>2015-05-13</td><td>NULL</td><td>0</td><td>41818</td></tr>",
                            "<tr><td>2015-05-14</td><td>GLS</td><td>2</td><td>41818</td></tr>",
                            "<tr><td>2015-05-14</td><td>Posta</td><td>3</td><td>41818</td></tr>",
                            "<tr><td>2015-05-14</td><td>Személyes átvétel</td><td>0</td><td>41818</td></tr>",
                            "<tr><td>2015-05-14</td><td>NULL</td><td>0</td><td>41818</td></tr>",
                            "<tr><td>2015-05-15</td><td>GLS</td><td>5</td><td>15363</td></tr>",
                            "<tr><td>2015-05-15</td><td>Posta</td><td>5</td><td>15363</td></tr>",
                            "<tr><td>2015-05-15</td><td>Személyes átvétel</td><td>2</td><td>41818</td></tr>",
                            "<tr><td>2015-05-15</td><td>NULL</td><td>2</td><td>41818</td></tr>",
                            "<tr><td>2015-05-16</td><td>GLS</td><td>7</td><td>41818</td></tr>",
                            "<tr><td>2015-05-16</td><td>Posta</td><td>8</td><td>35454</td></tr>",
                            "<tr><td>2015-05-16</td><td>Személyes átvétel</td><td>2</td><td>29090</td></tr>",
                            "<tr><td>2015-05-16</td><td>NULL</td><td>2</td><td>41818</td></tr>",
                            "<tr><td>2015-05-17</td><td>GLS</td><td>2</td><td>29090</td></tr>",
                            "<tr><td>2015-05-17</td><td>Posta</td><td>23</td><td>35454</td></tr>",
                            "<tr><td>2015-05-17</td><td>Személyes átvétel</td><td>13</td><td>35454</td></tr>",
                            "<tr><td>2015-05-17</td><td>NULL</td><td>2</td><td>35454</td></tr>",
                            "<tr><td>2015-05-18</td><td>GLS</td><td>7</td><td>35454</td></tr>",
                            "<tr><td>2015-05-18</td><td>Posta</td><td>12</td><td>41818</td></tr>",
                            "<tr><td>2015-05-18</td><td>Személyes átvétel</td><td>3</td><td>41818</td></tr>",
                            "<tr><td>2015-05-18</td><td>NULL</td><td>3</td><td>41818</td></tr>",
                            "<tr><td>2015-05-19</td><td>GLS</td><td>5</td><td>41818</td></tr>",
                            "<tr><td>2015-05-19</td><td>Posta</td><td>13</td><td>41818</td></tr>",
                            "<tr><td>2015-05-19</td><td>Személyes átvétel</td><td>7</td><td>12954</td></tr>",
                            "<tr><td>2015-05-19</td><td>NULL</td><td>5</td><td>41818</td></tr>",
                            "<tr><td>2015-05-20</td><td>GLS</td><td>5</td><td>41818</td></tr>",
                            "<tr><td>2015-05-20</td><td>Posta</td><td>7</td><td>1251</td></tr>",
                            "<tr><td>2015-05-20</td><td>Személyes átvétel</td><td>7</td><td>41818</td></tr>",
                            "<tr><td>2015-05-20</td><td>NULL</td><td>5</td><td>41818</td></tr>",
                            "<tr><td>2015-05-21</td><td>GLS</td><td>9</td><td>10818</td></tr>",
                            "<tr><td>2015-05-21</td><td>Posta</td><td>3</td><td>15363</td></tr>",
                            "<tr><td>2015-05-21</td><td>Személyes átvétel</td><td>2</td><td>29090</td></tr>",
                            "<tr><td>2015-05-21</td><td>NULL</td><td>2</td><td>29090</td></tr>",
                            "<tr><td>2015-05-22</td><td>GLS</td><td>0</td><td>41818</td></tr>",
                            "<tr><td>2015-05-22</td><td>Posta</td><td>2</td><td>21818</td></tr>",
                            "<tr><td>2015-05-22</td><td>Személyes átvétel</td><td>4</td><td>29090</td></tr>",
                            "<tr><td>2015-05-22</td><td>NULL</td><td>0</td><td>41818</td></tr>",
                            "<tr><td>2015-05-23</td><td>GLS</td><td>0</td><td>35454</td></tr>",
                            "<tr><td>2015-05-23</td><td>Posta</td><td>0</td><td>990</td></tr>",
                            "<tr><td>2015-05-23</td><td>Személyes átvétel</td><td>9</td><td>15363</td></tr>",
                            "<tr><td>2015-05-23</td><td>NULL</td><td>0</td><td>35454</td></tr>",
                            "<tr><td>2015-05-24</td><td>GLS</td><td>5</td><td>35454</td></tr>",
                            "<tr><td>2015-05-24</td><td>Posta</td><td>5</td><td>41818</td></tr>",
                            "<tr><td>2015-05-24</td><td>Személyes átvétel</td><td>8</td><td>35454</td></tr>",
                            "<tr><td>2015-05-24</td><td>NULL</td><td>5</td><td>41818</td></tr>",
                            "<tr><td>2015-05-25</td><td>GLS</td><td>0</td><td>1042</td></tr>",
                            "<tr><td>2015-05-25</td><td>Posta</td><td>27</td><td>10818</td></tr>",
                            "<tr><td>2015-05-25</td><td>Személyes átvétel</td><td>3</td><td>41818</td></tr>",
                            "<tr><td>2015-05-25</td><td>NULL</td><td>0</td><td>41818</td></tr>",
                            "<tr><td>2015-05-26</td><td>GLS</td><td>2</td><td>35454</td></tr>",
                            "<tr><td>2015-05-26</td><td>Posta</td><td>17</td><td>7272</td></tr>",
                            "<tr><td>2015-05-26</td><td>Személyes átvétel</td><td>2</td><td>29090</td></tr>",
                            "<tr><td>2015-05-26</td><td>NULL</td><td>2</td><td>35454</td></tr>",
                            "<tr><td>2015-05-27</td><td>GLS</td><td>2</td><td>41818</td></tr>",
                            "<tr><td>2015-05-27</td><td>Posta</td><td>7</td><td>41818</td></tr>",
                            "<tr><td>2015-05-27</td><td>Személyes átvétel</td><td>2</td><td>41818</td></tr>",
                            "<tr><td>2015-05-27</td><td>NULL</td><td>2</td><td>41818</td></tr>",
                            "<tr><td>2015-05-28</td><td>GLS</td><td>2</td><td>41818</td></tr>",
                            "<tr><td>2015-05-28</td><td>Posta</td><td>12</td><td>35454</td></tr>",
                            "<tr><td>2015-05-28</td><td>Személyes átvétel</td><td>5</td><td>41818</td></tr>",
                            "<tr><td>2015-05-28</td><td>NULL</td><td>2</td><td>41818</td></tr>",
                            "<tr><td>2015-05-29</td><td>GLS</td><td>3</td><td>21818</td></tr>",
                            "<tr><td>2015-05-29</td><td>Posta</td><td>2</td><td>21818</td></tr>",
                            "<tr><td>2015-05-29</td><td>Személyes átvétel</td><td>3</td><td>41818</td></tr>",
                            "<tr><td>2015-05-29</td><td>NULL</td><td>2</td><td>41818</td></tr>",
                            "<tr><td>2015-05-30</td><td>GLS</td><td>4</td><td>35454</td></tr>",
                            "<tr><td>2015-05-30</td><td>Posta</td><td>2</td><td>990</td></tr>",
                            "<tr><td>2015-05-30</td><td>Személyes átvétel</td><td>3</td><td>41818</td></tr>",
                            "<tr><td>2015-05-30</td><td>NULL</td><td>2</td><td>41818</td></tr>",
                            "<tr><td>2015-05-31</td><td>GLS</td><td>16</td><td>35454</td></tr>",
                            "<tr><td>2015-05-31</td><td>Posta</td><td>13</td><td>12954</td></tr>",
                            "<tr><td>2015-05-31</td><td>Személyes átvétel</td><td>13</td><td>35454</td></tr>",
                            "<tr><td>2015-05-31</td><td>NULL</td><td>13</td><td>35454</td></tr>",
                            "<tr><td>NULL</td><td>NULL</td><td>0</td><td>41818</td></tr>",
                            "</table>"
                        ]
                    }
                }
            ],
            "execution_count": 8
        },
        {
            "cell_type": "markdown",
            "source": [
                "5. <span style=\"color: rgb(36, 41, 47); font-family: -apple-system, BlinkMacSystemFont, &quot;Segoe UI&quot;, Helvetica, Arial, sans-serif, &quot;Apple Color Emoji&quot;, &quot;Segoe UI Emoji&quot;; font-size: 16px;\">Készítsünk csoportot a termékek listaára alapján a következők szerint:&nbsp;<br></span> <span style=\"color: rgb(36, 41, 47); font-family: -apple-system, BlinkMacSystemFont, &quot;Segoe UI&quot;, Helvetica, Arial, sans-serif, &quot;Apple Color Emoji&quot;, &quot;Segoe UI Emoji&quot;; font-size: 16px;\">Az \"olcsó\" termékek legyenek azok, amelyek listaára 3000 alatt van.<br>&nbsp;A \"drága\" termékek legyenek az 5000 felettiek, a többi legyen \"közepes\".</span>\n",
                "\n",
                "1. Listázzuk az egyes csoportokat, és a csoportokba tartozó termékek darabszámát!\n",
                "2. A lista jelenítse meg a végösszeget is!"
            ],
            "metadata": {
                "azdata_cell_guid": "84239ca2-6b5e-49f5-9860-d44c11d6de32"
            },
            "attachments": {}
        },
        {
            "cell_type": "code",
            "source": [
                "SELECT  CASE \r\n",
                "        WHEN listaar < 3000 then 'Olcsó'\r\n",
                "        WHEN listaar > 5000 then 'Drága'\r\n",
                "        ELSE 'Közepes'\r\n",
                "        END,\r\n",
                "        count(*) as 'Darabszám'\r\n",
                "FROM TERMEK\r\n",
                "GROUP BY ROLLUP(CASE \r\n",
                "        WHEN listaar < 3000 then 'Olcsó'\r\n",
                "        WHEN listaar > 5000 then 'Drága'\r\n",
                "        ELSE 'Közepes'\r\n",
                "        END)"
            ],
            "metadata": {
                "azdata_cell_guid": "06d9a62b-9430-424b-a135-d80e675f0eb3",
                "language": "sql"
            },
            "outputs": [
                {
                    "output_type": "display_data",
                    "data": {
                        "text/html": "(4 rows affected)"
                    },
                    "metadata": {}
                },
                {
                    "output_type": "display_data",
                    "data": {
                        "text/html": "Total execution time: 00:00:00.084"
                    },
                    "metadata": {}
                },
                {
                    "output_type": "execute_result",
                    "metadata": {},
                    "execution_count": 12,
                    "data": {
                        "application/vnd.dataresource+json": {
                            "schema": {
                                "fields": [
                                    {
                                        "name": "(No column name)"
                                    },
                                    {
                                        "name": "Darabszám"
                                    }
                                ]
                            },
                            "data": [
                                {
                                    "(No column name)": "Drága",
                                    "Darabszám": "20"
                                },
                                {
                                    "(No column name)": "Közepes",
                                    "Darabszám": "5"
                                },
                                {
                                    "(No column name)": "Olcsó",
                                    "Darabszám": "526"
                                },
                                {
                                    "(No column name)": "NULL",
                                    "Darabszám": "551"
                                }
                            ]
                        },
                        "text/html": [
                            "<table>",
                            "<tr><th>(No column name)</th><th>Darabszám</th></tr>",
                            "<tr><td>Drága</td><td>20</td></tr>",
                            "<tr><td>Közepes</td><td>5</td></tr>",
                            "<tr><td>Olcsó</td><td>526</td></tr>",
                            "<tr><td>NULL</td><td>551</td></tr>",
                            "</table>"
                        ]
                    }
                }
            ],
            "execution_count": 12
        },
        {
            "cell_type": "markdown",
            "source": [
                "6. <span style=\"font-weight: 600; color: rgb(36, 41, 47); font-family: -apple-system, BlinkMacSystemFont, &quot;Segoe UI&quot;, Helvetica, Arial, sans-serif, &quot;Apple Color Emoji&quot;, &quot;Segoe UI Emoji&quot;; font-size: 16px;\">Készítsünk listát az ügyfelek adatairól név szerinti sorrendben.</span>\n",
                "\n",
                "1. Minden sorban jelenjen meg a sorrend szerint előző, illetve következő ügyfél neve is.\n",
                "2. Ha nincs előző vagy következő ügyfél, akkor a 'Nincs' jelenjen meg!"
            ],
            "metadata": {
                "azdata_cell_guid": "b0d15045-3c43-4f3a-b8d4-76b4f24e5546"
            },
            "attachments": {}
        },
        {
            "cell_type": "code",
            "source": [
                ""
            ],
            "metadata": {
                "azdata_cell_guid": "f2b7400d-1255-40ac-9250-4d57f9da5357",
                "language": "sql"
            },
            "outputs": [],
            "execution_count": null
        },
        {
            "cell_type": "markdown",
            "source": [
                "7. <span style=\"font-weight: 600; color: rgb(36, 41, 47); font-family: -apple-system, BlinkMacSystemFont, &quot;Segoe UI&quot;, Helvetica, Arial, sans-serif, &quot;Apple Color Emoji&quot;, &quot;Segoe UI Emoji&quot;; font-size: 16px;\">Készítsünk lekérdezést, amely megmutatja, hogy melyik termékkategóriába hány termék tartozik. A lista a kategória nevét és a darabszámot jelenítse meg.</span>\n",
                "\n",
                "1. A lista ne tartalmazzon duplikált sorokat.\n",
                "2. A feladatot partíciók segítségével oldjuk meg!"
            ],
            "metadata": {
                "azdata_cell_guid": "7ebf7ddd-1bd2-4246-815a-be8ae37e3b5b"
            },
            "attachments": {}
        },
        {
            "cell_type": "code",
            "source": [
                ""
            ],
            "metadata": {
                "azdata_cell_guid": "84b7e896-f36e-4985-88f5-e0f706494fef",
                "language": "sql"
            },
            "outputs": [],
            "execution_count": null
        },
        {
            "cell_type": "markdown",
            "source": [
                "8. <span style=\"font-weight: 600; color: rgb(36, 41, 47); font-family: -apple-system, BlinkMacSystemFont, &quot;Segoe UI&quot;, Helvetica, Arial, sans-serif, &quot;Apple Color Emoji&quot;, &quot;Segoe UI Emoji&quot;; font-size: 16px;\">Készítsünk listát a rendelési tételekről. Az egyes rendelési tételeket termékenként soroljuk be 4 osztályba a rendelés mennyisége alapján. Jelenítsük meg ezt az információt is egy új oszlopban, az oszlop neve legyen 'Mennyiségi kategória'.</span>\n",
                "\n",
                "1. A lista csak a 100 Ft feletti egységárú rendelési tételeket vegye figyelembe!"
            ],
            "metadata": {
                "azdata_cell_guid": "27a3d3dc-eafb-4a5e-b103-9f465b9eda8f"
            },
            "attachments": {}
        },
        {
            "cell_type": "code",
            "source": [
                ""
            ],
            "metadata": {
                "azdata_cell_guid": "f09edb3f-649b-4a96-958e-9e12774ae8b7",
                "language": "sql"
            },
            "outputs": [],
            "execution_count": null
        },
        {
            "cell_type": "markdown",
            "source": [
                "9. <span style=\"font-weight: 600; color: rgb(36, 41, 47); font-family: -apple-system, BlinkMacSystemFont, &quot;Segoe UI&quot;, Helvetica, Arial, sans-serif, &quot;Apple Color Emoji&quot;, &quot;Segoe UI Emoji&quot;; font-size: 16px;\">Listázzuk a termékek kódját, megnevezését, kategóriájának nevét, és listaárát.</span>\n",
                "\n",
                "1. A listát egészítsük ki két új oszloppal, amelyek a kategória legolcsóbb, illetve legdrágább termékének árát tartalmazzák.\n",
                "2. A két új oszlop létrehozásánál partíciókkal dolgozzunk!"
            ],
            "metadata": {
                "azdata_cell_guid": "f12a331a-0e26-4d3d-9c68-812316286577"
            },
            "attachments": {}
        },
        {
            "cell_type": "code",
            "source": [
                ""
            ],
            "metadata": {
                "azdata_cell_guid": "10a77fc9-e61a-46fc-a401-59720d82bc50",
                "language": "sql"
            },
            "outputs": [],
            "execution_count": null
        },
        {
            "cell_type": "markdown",
            "source": [
                "10. <span style=\"font-weight: 600; color: rgb(36, 41, 47); font-family: -apple-system, BlinkMacSystemFont, &quot;Segoe UI&quot;, Helvetica, Arial, sans-serif, &quot;Apple Color Emoji&quot;, &quot;Segoe UI Emoji&quot;; font-size: 16px;\">Készítsünk listát a rendelésekről. A lista legyen rendezve ügyfelenként (LOGIN), azon belül a rendelés dátuma szerint. A listához készítsünk sorszámozást is. A sorszám a következő formában jelenjen meg: sorszám_év_login. Pl: 1_2015_adam1</span>\n",
                "\n",
                "1. A számozás login-onként, azon belül rendelési évenként kezdődjön újra.\n",
                "2. A sorszám oszlop neve legyen Azonosító"
            ],
            "metadata": {
                "azdata_cell_guid": "9229e2b6-e200-4499-b95b-2d0222149831"
            },
            "attachments": {}
        },
        {
            "cell_type": "code",
            "source": [
                ""
            ],
            "metadata": {
                "azdata_cell_guid": "8b49ed67-28c6-4880-82a8-cd369e5bba99",
                "language": "sql"
            },
            "outputs": [],
            "execution_count": null
        },
        {
            "cell_type": "markdown",
            "source": [
                "11. <span style=\"color: rgb(36, 41, 47); font-family: -apple-system, BlinkMacSystemFont, &quot;Segoe UI&quot;, Helvetica, Arial, sans-serif, &quot;Apple Color Emoji&quot;, &quot;Segoe UI Emoji&quot;; font-size: 16px;\">Készítsünk listát a termékek adatairól listaár szerint növekvő sorrendben! A lista jelenítse meg két új oszlopban a sorrend szerint előző, illetve következő termék listaárát is a termék saját kategóriájában és raktárában!</span>\n",
                "\n",
                "1. Ahol nincs előző vagy következő érték, ott 0 jelenjen meg!\n",
                "2. Az oszlopokat nevezzük el értelemszerűen!"
            ],
            "metadata": {
                "azdata_cell_guid": "7f5fc7a7-3b6a-4d89-b292-490830afb0c6"
            },
            "attachments": {}
        },
        {
            "cell_type": "code",
            "source": [
                ""
            ],
            "metadata": {
                "azdata_cell_guid": "4a9ece40-f782-4c0d-92cd-9c21969067ed",
                "language": "sql"
            },
            "outputs": [],
            "execution_count": null
        },
        {
            "cell_type": "markdown",
            "source": [
                "12. <span style=\"color: rgb(36, 41, 47); font-family: -apple-system, BlinkMacSystemFont, &quot;Segoe UI&quot;, Helvetica, Arial, sans-serif, &quot;Apple Color Emoji&quot;, &quot;Segoe UI Emoji&quot;; font-size: 16px;\">Listázzuk a termékek kódját, nevét és listaárát listaár szerinti sorrendben!</span>\n",
                "\n",
                "1. Vegyünk fel egy új oszlopot Mozgóátlag néven, amely minden esetben az aktuális termék, az előző, és a következő termék átlagárát tartalmazza!\n",
                "2. A mozgóátlagot kerekítsük két tizedesre!"
            ],
            "metadata": {
                "azdata_cell_guid": "5a483c52-bb98-44bb-bd03-1146d4b0abfa"
            },
            "attachments": {}
        },
        {
            "cell_type": "code",
            "source": [
                ""
            ],
            "metadata": {
                "azdata_cell_guid": "dd6e89bd-08f9-4b18-8460-03c45b503df0",
                "language": "sql"
            },
            "outputs": [],
            "execution_count": null
        },
        {
            "cell_type": "markdown",
            "source": [
                "13. <span style=\"color: rgb(36, 41, 47); font-family: -apple-system, BlinkMacSystemFont, &quot;Segoe UI&quot;, Helvetica, Arial, sans-serif, &quot;Apple Color Emoji&quot;, &quot;Segoe UI Emoji&quot;; font-size: 16px;\">Készítsünk listát, amely a rendelések sorszámát és a rendelés értékét tartalmazza. A listát egészítsük ki egy új oszloppal, amely minden rendelés esetén addigi rendelések összegét tartalmazza (az aktuálisat is beleértve)!</span>\n",
                "\n",
                "1. A listát rendezzük sorszám szerint növekvő sorrendbe.\n",
                "2. A lista ne tartalmazzon duplikált sorokat!"
            ],
            "metadata": {
                "azdata_cell_guid": "85d5cb66-96c6-42de-99cf-85ab22d08548"
            },
            "attachments": {}
        },
        {
            "cell_type": "code",
            "source": [
                ""
            ],
            "metadata": {
                "azdata_cell_guid": "cb07d64b-0eaa-498b-b4d2-0b46971e95ce",
                "language": "sql"
            },
            "outputs": [],
            "execution_count": null
        },
        {
            "cell_type": "markdown",
            "source": [
                "14. <span style=\"color: rgb(36, 41, 47); font-family: -apple-system, BlinkMacSystemFont, &quot;Segoe UI&quot;, Helvetica, Arial, sans-serif, &quot;Apple Color Emoji&quot;, &quot;Segoe UI Emoji&quot;; font-size: 16px;\">Készítsünk listát a termékek kódjáról, nevéről, kategória azonosítójáról, raktár azonosítójáról és listaáráról, valamint a termék adott szempontok szerinti rangsorokban elfoglalt helyezéseiről. (Szempontonként külön oszlopban, a helyezéseknél növekvő sorrendet feltételezve). A szempontok a következők legyenek: listaár, kategória szerinti listaár, és raktárkód szerinti listaár.</span>\n",
                "\n",
                "1. Az oszlopokat nevezzük el értelemszerűen.\n",
                "2. A helyezések egyenlőség esetén \"sűrűn\" kövessék egymást.\n",
                "3. A lista legyen rendezett kategória azonosító, azon belül listaár szerint!"
            ],
            "metadata": {
                "azdata_cell_guid": "f95ad665-a807-4099-bf06-64ed974f866f"
            },
            "attachments": {}
        },
        {
            "cell_type": "code",
            "source": [
                ""
            ],
            "metadata": {
                "azdata_cell_guid": "74c7ec8a-ae4a-4d03-b1c4-e8f6bb1be12c",
                "language": "sql"
            },
            "outputs": [],
            "execution_count": null
        },
        {
            "cell_type": "markdown",
            "source": [
                "15. <span style=\"color: rgb(36, 41, 47); font-family: -apple-system, BlinkMacSystemFont, &quot;Segoe UI&quot;, Helvetica, Arial, sans-serif, &quot;Apple Color Emoji&quot;, &quot;Segoe UI Emoji&quot;; font-size: 16px;\">Készítsünk listát a rendelési tételekről, amely minden sor esetén göngyölítve tartalmazza az ügyfél adott rendelési tételig meglévő rendelési tételeinek összértékét!</span>\n",
                "\n",
                "1. Az új oszlop neve legyen Eddigi rendelési tételek összértéke!\n",
                "2. Az ügyfél neve is jelenjen meg!"
            ],
            "metadata": {
                "azdata_cell_guid": "93552388-ffec-49ff-99e5-ae8dc8072601"
            },
            "attachments": {}
        },
        {
            "cell_type": "code",
            "source": [
                ""
            ],
            "metadata": {
                "azdata_cell_guid": "0e7f547f-7d96-4611-b1c2-0fa84a581e79",
                "language": "sql"
            },
            "outputs": [],
            "execution_count": null
        }
    ]
}