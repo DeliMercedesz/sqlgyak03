{
    "metadata": {
        "kernelspec": {
            "name": "SQL",
            "display_name": "SQL",
            "language": "sql"
        },
        "language_info": {
            "name": "sql",
            "version": ""
        }
    },
    "nbformat_minor": 2,
    "nbformat": 4,
    "cells": [
        {
            "cell_type": "markdown",
            "source": [
                "1. <span style=\"color: rgb(36, 41, 47); font-family: -apple-system, BlinkMacSystemFont, &quot;Segoe UI&quot;, Helvetica, Arial, sans-serif, &quot;Apple Color Emoji&quot;, &quot;Segoe UI Emoji&quot;; font-size: 16px;\">Készítsünk listát éves bontásban norbert2 azonosítójú ügyfél rendeléseinek értékéről!</span>\n",
                "\n",
                "1. A lista megfelelően jelölve tartalmazza a végösszeget is!"
            ],
            "metadata": {
                "azdata_cell_guid": "363cd270-6577-449b-9c89-d4b7c7972d52"
            },
            "attachments": {}
        },
        {
            "cell_type": "code",
            "source": [
                "SELECT IIF(GROUPING_ID(year(rend_datum))=1,'Végösszeg',cast(YEar(rend_datum) as nvarchar)),count(*) as 'Darabszám'\r\n",
                "FROM RENDELES\r\n",
                "WHERE [LOGIN] = 'norbert2'\r\n",
                "GROUP BY rollup(year(rend_datum))"
            ],
            "metadata": {
                "azdata_cell_guid": "6ab9f633-a3b5-48c9-a1dc-4fb8235ae85b",
                "language": "sql"
            },
            "outputs": [
                {
                    "output_type": "display_data",
                    "data": {
                        "text/html": "(3 rows affected)"
                    },
                    "metadata": {}
                },
                {
                    "output_type": "display_data",
                    "data": {
                        "text/html": "Total execution time: 00:00:00.587"
                    },
                    "metadata": {}
                },
                {
                    "output_type": "execute_result",
                    "execution_count": 2,
                    "data": {
                        "application/vnd.dataresource+json": {
                            "schema": {
                                "fields": [
                                    {
                                        "name": "(No column name)"
                                    },
                                    {
                                        "name": "Darabszám"
                                    }
                                ]
                            },
                            "data": [
                                {
                                    "(No column name)": "2015",
                                    "Darabszám": "6"
                                },
                                {
                                    "(No column name)": "2017",
                                    "Darabszám": "5"
                                },
                                {
                                    "(No column name)": "Végösszeg",
                                    "Darabszám": "11"
                                }
                            ]
                        },
                        "text/html": "<table><tr><th>(No column name)</th><th>Darabszám</th></tr><tr><td>2015</td><td>6</td></tr><tr><td>2017</td><td>5</td></tr><tr><td>Végösszeg</td><td>11</td></tr></table>"
                    },
                    "metadata": {}
                }
            ],
            "execution_count": 2
        },
        {
            "cell_type": "markdown",
            "source": [
                "2. <span style=\"color: rgb(36, 41, 47); font-family: -apple-system, BlinkMacSystemFont, &quot;Segoe UI&quot;, Helvetica, Arial, sans-serif, &quot;Apple Color Emoji&quot;, &quot;Segoe UI Emoji&quot;; font-size: 16px;\">Készítsünk listát szállítási dátumonként, azon belül szállítási módonként az egyes rendelések összmennyiségéről!</span>\n",
                "\n",
                "1. Csak azokat a termékeket vegyük figyelembe, amelyek mennyiségi egysége db!\n",
                "2. A listát szűrjük úgy, hogy az csak a részösszeg sorokat és a végösszeget tartalmazza!"
            ],
            "metadata": {
                "azdata_cell_guid": "ea75c103-911f-41a3-a32c-3d40fb3e4e4a"
            },
            "attachments": {}
        },
        {
            "cell_type": "code",
            "source": [
                "SELECT szall_datum,szall_mod,sum(egysegar*mennyiseg)\r\n",
                "FROM REndeles_tetel JOIN TERMEK ON REndeles_tetel.TERMEKKOD = TERMEK.TERMEKKOD\r\n",
                "                    JOIN RENDELES ON RENDELES.SORSZAM = REndeles_tetel.SORSZAM\r\n",
                "WHERE MEGYS = 'db'\r\n",
                "GROUP BY ROLLUP(szall_datum,szall_mod)\r\n",
                "having GROUPING_ID(szall_datum,szall_mod)>0"
            ],
            "metadata": {
                "azdata_cell_guid": "222b9618-a8e8-42b4-a8e8-d002257122b7",
                "language": "sql"
            },
            "outputs": [
                {
                    "output_type": "display_data",
                    "data": {
                        "text/html": "Warning: Null value is eliminated by an aggregate or other SET operation."
                    },
                    "metadata": {}
                },
                {
                    "output_type": "display_data",
                    "data": {
                        "text/html": "(711 rows affected)"
                    },
                    "metadata": {}
                },
                {
                    "output_type": "display_data",
                    "data": {
                        "text/html": "Total execution time: 00:00:00.325"
                    },
                    "metadata": {}
                },
                {
                    "output_type": "execute_result",
                    "metadata": {},
                    "execution_count": 4,
                    "data": {
                        "application/vnd.dataresource+json": {
                            "schema": {
                                "fields": [
                                    {
                                        "name": "szall_datum"
                                    },
                                    {
                                        "name": "szall_mod"
                                    },
                                    {
                                        "name": "(No column name)"
                                    }
                                ]
                            },
                            "data": [
                                {
                                    "szall_datum": "2015-05-03",
                                    "szall_mod": "NULL",
                                    "(No column name)": "8190"
                                },
                                {
                                    "szall_datum": "2015-05-04",
                                    "szall_mod": "NULL",
                                    "(No column name)": "390584"
                                },
                                {
                                    "szall_datum": "2015-05-05",
                                    "szall_mod": "NULL",
                                    "(No column name)": "884072"
                                },
                                {
                                    "szall_datum": "2015-05-06",
                                    "szall_mod": "NULL",
                                    "(No column name)": "1497963"
                                },
                                {
                                    "szall_datum": "2015-05-07",
                                    "szall_mod": "NULL",
                                    "(No column name)": "1373651"
                                },
                                {
                                    "szall_datum": "2015-05-08",
                                    "szall_mod": "NULL",
                                    "(No column name)": "2100941"
                                },
                                {
                                    "szall_datum": "2015-05-09",
                                    "szall_mod": "NULL",
                                    "(No column name)": "2826673"
                                },
                                {
                                    "szall_datum": "2015-05-10",
                                    "szall_mod": "NULL",
                                    "(No column name)": "2220193"
                                },
                                {
                                    "szall_datum": "2015-05-11",
                                    "szall_mod": "NULL",
                                    "(No column name)": "3584145"
                                },
                                {
                                    "szall_datum": "2015-05-12",
                                    "szall_mod": "NULL",
                                    "(No column name)": "2824954"
                                },
                                {
                                    "szall_datum": "2015-05-13",
                                    "szall_mod": "NULL",
                                    "(No column name)": "2414838"
                                },
                                {
                                    "szall_datum": "2015-05-14",
                                    "szall_mod": "NULL",
                                    "(No column name)": "6251647"
                                },
                                {
                                    "szall_datum": "2015-05-15",
                                    "szall_mod": "NULL",
                                    "(No column name)": "2457001"
                                },
                                {
                                    "szall_datum": "2015-05-16",
                                    "szall_mod": "NULL",
                                    "(No column name)": "5324416"
                                },
                                {
                                    "szall_datum": "2015-05-17",
                                    "szall_mod": "NULL",
                                    "(No column name)": "1610255"
                                },
                                {
                                    "szall_datum": "2015-05-18",
                                    "szall_mod": "NULL",
                                    "(No column name)": "3114579"
                                },
                                {
                                    "szall_datum": "2015-05-19",
                                    "szall_mod": "NULL",
                                    "(No column name)": "4359132"
                                },
                                {
                                    "szall_datum": "2015-05-20",
                                    "szall_mod": "NULL",
                                    "(No column name)": "5307348"
                                },
                                {
                                    "szall_datum": "2015-05-21",
                                    "szall_mod": "NULL",
                                    "(No column name)": "2048966"
                                },
                                {
                                    "szall_datum": "2015-05-22",
                                    "szall_mod": "NULL",
                                    "(No column name)": "2315087"
                                },
                                {
                                    "szall_datum": "2015-05-23",
                                    "szall_mod": "NULL",
                                    "(No column name)": "1760510"
                                },
                                {
                                    "szall_datum": "2015-05-24",
                                    "szall_mod": "NULL",
                                    "(No column name)": "2828456"
                                },
                                {
                                    "szall_datum": "2015-05-25",
                                    "szall_mod": "NULL",
                                    "(No column name)": "2495704"
                                },
                                {
                                    "szall_datum": "2015-05-26",
                                    "szall_mod": "NULL",
                                    "(No column name)": "3522520"
                                },
                                {
                                    "szall_datum": "2015-05-27",
                                    "szall_mod": "NULL",
                                    "(No column name)": "4077216"
                                },
                                {
                                    "szall_datum": "2015-05-28",
                                    "szall_mod": "NULL",
                                    "(No column name)": "6200672"
                                },
                                {
                                    "szall_datum": "2015-05-29",
                                    "szall_mod": "NULL",
                                    "(No column name)": "4826823"
                                },
                                {
                                    "szall_datum": "2015-05-30",
                                    "szall_mod": "NULL",
                                    "(No column name)": "3010532"
                                },
                                {
                                    "szall_datum": "2015-05-31",
                                    "szall_mod": "NULL",
                                    "(No column name)": "4415992"
                                },
                                {
                                    "szall_datum": "2015-06-01",
                                    "szall_mod": "NULL",
                                    "(No column name)": "3515327"
                                },
                                {
                                    "szall_datum": "2015-06-02",
                                    "szall_mod": "NULL",
                                    "(No column name)": "3230846"
                                },
                                {
                                    "szall_datum": "2015-06-03",
                                    "szall_mod": "NULL",
                                    "(No column name)": "1920528"
                                },
                                {
                                    "szall_datum": "2015-06-04",
                                    "szall_mod": "NULL",
                                    "(No column name)": "2913725"
                                },
                                {
                                    "szall_datum": "2015-06-05",
                                    "szall_mod": "NULL",
                                    "(No column name)": "3607934"
                                },
                                {
                                    "szall_datum": "2015-06-06",
                                    "szall_mod": "NULL",
                                    "(No column name)": "7191012"
                                },
                                {
                                    "szall_datum": "2015-06-07",
                                    "szall_mod": "NULL",
                                    "(No column name)": "4633726"
                                },
                                {
                                    "szall_datum": "2015-06-08",
                                    "szall_mod": "NULL",
                                    "(No column name)": "5378322"
                                },
                                {
                                    "szall_datum": "2015-06-09",
                                    "szall_mod": "NULL",
                                    "(No column name)": "2616010"
                                },
                                {
                                    "szall_datum": "2015-06-10",
                                    "szall_mod": "NULL",
                                    "(No column name)": "3274633"
                                },
                                {
                                    "szall_datum": "2015-06-11",
                                    "szall_mod": "NULL",
                                    "(No column name)": "2972214"
                                },
                                {
                                    "szall_datum": "2015-06-12",
                                    "szall_mod": "NULL",
                                    "(No column name)": "4612567"
                                },
                                {
                                    "szall_datum": "2015-06-13",
                                    "szall_mod": "NULL",
                                    "(No column name)": "3130790"
                                },
                                {
                                    "szall_datum": "2015-06-14",
                                    "szall_mod": "NULL",
                                    "(No column name)": "3673966"
                                },
                                {
                                    "szall_datum": "2015-06-15",
                                    "szall_mod": "NULL",
                                    "(No column name)": "1972553"
                                },
                                {
                                    "szall_datum": "2015-06-16",
                                    "szall_mod": "NULL",
                                    "(No column name)": "4114721"
                                },
                                {
                                    "szall_datum": "2015-06-17",
                                    "szall_mod": "NULL",
                                    "(No column name)": "2782408"
                                },
                                {
                                    "szall_datum": "2015-06-18",
                                    "szall_mod": "NULL",
                                    "(No column name)": "2932302"
                                },
                                {
                                    "szall_datum": "2015-06-19",
                                    "szall_mod": "NULL",
                                    "(No column name)": "2424658"
                                },
                                {
                                    "szall_datum": "2015-06-20",
                                    "szall_mod": "NULL",
                                    "(No column name)": "2797712"
                                },
                                {
                                    "szall_datum": "2015-06-21",
                                    "szall_mod": "NULL",
                                    "(No column name)": "2974633"
                                },
                                {
                                    "szall_datum": "2015-06-22",
                                    "szall_mod": "NULL",
                                    "(No column name)": "3627305"
                                },
                                {
                                    "szall_datum": "2015-06-23",
                                    "szall_mod": "NULL",
                                    "(No column name)": "3821260"
                                },
                                {
                                    "szall_datum": "2015-06-24",
                                    "szall_mod": "NULL",
                                    "(No column name)": "1996744"
                                },
                                {
                                    "szall_datum": "2015-06-25",
                                    "szall_mod": "NULL",
                                    "(No column name)": "4215618"
                                },
                                {
                                    "szall_datum": "2015-06-26",
                                    "szall_mod": "NULL",
                                    "(No column name)": "5005276"
                                },
                                {
                                    "szall_datum": "2015-06-27",
                                    "szall_mod": "NULL",
                                    "(No column name)": "2693936"
                                },
                                {
                                    "szall_datum": "2015-06-28",
                                    "szall_mod": "NULL",
                                    "(No column name)": "1464861"
                                },
                                {
                                    "szall_datum": "2015-06-29",
                                    "szall_mod": "NULL",
                                    "(No column name)": "6500077"
                                },
                                {
                                    "szall_datum": "2015-06-30",
                                    "szall_mod": "NULL",
                                    "(No column name)": "2119355"
                                },
                                {
                                    "szall_datum": "2015-07-01",
                                    "szall_mod": "NULL",
                                    "(No column name)": "1611434"
                                },
                                {
                                    "szall_datum": "2015-07-02",
                                    "szall_mod": "NULL",
                                    "(No column name)": "2722605"
                                },
                                {
                                    "szall_datum": "2015-07-03",
                                    "szall_mod": "NULL",
                                    "(No column name)": "3434124"
                                },
                                {
                                    "szall_datum": "2015-07-04",
                                    "szall_mod": "NULL",
                                    "(No column name)": "2582901"
                                },
                                {
                                    "szall_datum": "2015-07-05",
                                    "szall_mod": "NULL",
                                    "(No column name)": "3580972"
                                },
                                {
                                    "szall_datum": "2015-07-06",
                                    "szall_mod": "NULL",
                                    "(No column name)": "2436755"
                                },
                                {
                                    "szall_datum": "2015-07-07",
                                    "szall_mod": "NULL",
                                    "(No column name)": "5472802"
                                },
                                {
                                    "szall_datum": "2015-07-08",
                                    "szall_mod": "NULL",
                                    "(No column name)": "3163107"
                                },
                                {
                                    "szall_datum": "2015-07-09",
                                    "szall_mod": "NULL",
                                    "(No column name)": "2957945"
                                },
                                {
                                    "szall_datum": "2015-07-10",
                                    "szall_mod": "NULL",
                                    "(No column name)": "1726251"
                                },
                                {
                                    "szall_datum": "2015-07-11",
                                    "szall_mod": "NULL",
                                    "(No column name)": "2126805"
                                },
                                {
                                    "szall_datum": "2015-07-12",
                                    "szall_mod": "NULL",
                                    "(No column name)": "3527192"
                                },
                                {
                                    "szall_datum": "2015-07-13",
                                    "szall_mod": "NULL",
                                    "(No column name)": "2863495"
                                },
                                {
                                    "szall_datum": "2015-07-14",
                                    "szall_mod": "NULL",
                                    "(No column name)": "3809316"
                                },
                                {
                                    "szall_datum": "2015-07-15",
                                    "szall_mod": "NULL",
                                    "(No column name)": "4304620"
                                },
                                {
                                    "szall_datum": "2015-07-16",
                                    "szall_mod": "NULL",
                                    "(No column name)": "2294675"
                                },
                                {
                                    "szall_datum": "2015-07-17",
                                    "szall_mod": "NULL",
                                    "(No column name)": "1844074"
                                },
                                {
                                    "szall_datum": "2015-07-18",
                                    "szall_mod": "NULL",
                                    "(No column name)": "2982773"
                                },
                                {
                                    "szall_datum": "2015-07-19",
                                    "szall_mod": "NULL",
                                    "(No column name)": "2402939"
                                },
                                {
                                    "szall_datum": "2015-07-20",
                                    "szall_mod": "NULL",
                                    "(No column name)": "3703316"
                                },
                                {
                                    "szall_datum": "2015-07-21",
                                    "szall_mod": "NULL",
                                    "(No column name)": "3589433"
                                },
                                {
                                    "szall_datum": "2015-07-22",
                                    "szall_mod": "NULL",
                                    "(No column name)": "2362309"
                                },
                                {
                                    "szall_datum": "2015-07-23",
                                    "szall_mod": "NULL",
                                    "(No column name)": "4083557"
                                },
                                {
                                    "szall_datum": "2015-07-24",
                                    "szall_mod": "NULL",
                                    "(No column name)": "3384272"
                                },
                                {
                                    "szall_datum": "2015-07-25",
                                    "szall_mod": "NULL",
                                    "(No column name)": "3248181"
                                },
                                {
                                    "szall_datum": "2015-07-26",
                                    "szall_mod": "NULL",
                                    "(No column name)": "2777039"
                                },
                                {
                                    "szall_datum": "2015-07-27",
                                    "szall_mod": "NULL",
                                    "(No column name)": "2090060"
                                },
                                {
                                    "szall_datum": "2015-07-28",
                                    "szall_mod": "NULL",
                                    "(No column name)": "2056111"
                                },
                                {
                                    "szall_datum": "2015-07-29",
                                    "szall_mod": "NULL",
                                    "(No column name)": "2245026"
                                },
                                {
                                    "szall_datum": "2015-07-30",
                                    "szall_mod": "NULL",
                                    "(No column name)": "4965543"
                                },
                                {
                                    "szall_datum": "2015-07-31",
                                    "szall_mod": "NULL",
                                    "(No column name)": "5542768"
                                },
                                {
                                    "szall_datum": "2015-08-01",
                                    "szall_mod": "NULL",
                                    "(No column name)": "2682358"
                                },
                                {
                                    "szall_datum": "2015-08-02",
                                    "szall_mod": "NULL",
                                    "(No column name)": "4377401"
                                },
                                {
                                    "szall_datum": "2015-08-03",
                                    "szall_mod": "NULL",
                                    "(No column name)": "3764381"
                                },
                                {
                                    "szall_datum": "2015-08-04",
                                    "szall_mod": "NULL",
                                    "(No column name)": "4025021"
                                },
                                {
                                    "szall_datum": "2015-08-05",
                                    "szall_mod": "NULL",
                                    "(No column name)": "2623729"
                                },
                                {
                                    "szall_datum": "2015-08-06",
                                    "szall_mod": "NULL",
                                    "(No column name)": "2307523"
                                },
                                {
                                    "szall_datum": "2015-08-07",
                                    "szall_mod": "NULL",
                                    "(No column name)": "4131067"
                                },
                                {
                                    "szall_datum": "2015-08-08",
                                    "szall_mod": "NULL",
                                    "(No column name)": "4648211"
                                },
                                {
                                    "szall_datum": "2015-08-09",
                                    "szall_mod": "NULL",
                                    "(No column name)": "4134286"
                                },
                                {
                                    "szall_datum": "2015-08-10",
                                    "szall_mod": "NULL",
                                    "(No column name)": "2874789"
                                },
                                {
                                    "szall_datum": "2015-08-11",
                                    "szall_mod": "NULL",
                                    "(No column name)": "5876203"
                                },
                                {
                                    "szall_datum": "2015-08-12",
                                    "szall_mod": "NULL",
                                    "(No column name)": "3300531"
                                },
                                {
                                    "szall_datum": "2015-08-13",
                                    "szall_mod": "NULL",
                                    "(No column name)": "6108119"
                                },
                                {
                                    "szall_datum": "2015-08-14",
                                    "szall_mod": "NULL",
                                    "(No column name)": "6752454"
                                },
                                {
                                    "szall_datum": "2015-08-15",
                                    "szall_mod": "NULL",
                                    "(No column name)": "1563927"
                                },
                                {
                                    "szall_datum": "2015-08-16",
                                    "szall_mod": "NULL",
                                    "(No column name)": "3946003"
                                },
                                {
                                    "szall_datum": "2015-08-17",
                                    "szall_mod": "NULL",
                                    "(No column name)": "4802790"
                                },
                                {
                                    "szall_datum": "2015-08-18",
                                    "szall_mod": "NULL",
                                    "(No column name)": "1880200"
                                },
                                {
                                    "szall_datum": "2015-08-19",
                                    "szall_mod": "NULL",
                                    "(No column name)": "3307248"
                                },
                                {
                                    "szall_datum": "2015-08-20",
                                    "szall_mod": "NULL",
                                    "(No column name)": "2490923"
                                },
                                {
                                    "szall_datum": "2015-08-21",
                                    "szall_mod": "NULL",
                                    "(No column name)": "6126436"
                                },
                                {
                                    "szall_datum": "2015-08-22",
                                    "szall_mod": "NULL",
                                    "(No column name)": "3595801"
                                },
                                {
                                    "szall_datum": "2015-08-23",
                                    "szall_mod": "NULL",
                                    "(No column name)": "1852312"
                                },
                                {
                                    "szall_datum": "2015-08-24",
                                    "szall_mod": "NULL",
                                    "(No column name)": "2236778"
                                },
                                {
                                    "szall_datum": "2015-08-25",
                                    "szall_mod": "NULL",
                                    "(No column name)": "5142509"
                                },
                                {
                                    "szall_datum": "2015-08-26",
                                    "szall_mod": "NULL",
                                    "(No column name)": "3630305"
                                },
                                {
                                    "szall_datum": "2015-08-27",
                                    "szall_mod": "NULL",
                                    "(No column name)": "2109459"
                                },
                                {
                                    "szall_datum": "2015-08-28",
                                    "szall_mod": "NULL",
                                    "(No column name)": "5540291"
                                },
                                {
                                    "szall_datum": "2015-08-29",
                                    "szall_mod": "NULL",
                                    "(No column name)": "1936483"
                                },
                                {
                                    "szall_datum": "2015-08-30",
                                    "szall_mod": "NULL",
                                    "(No column name)": "3036453"
                                },
                                {
                                    "szall_datum": "2015-08-31",
                                    "szall_mod": "NULL",
                                    "(No column name)": "3741826"
                                },
                                {
                                    "szall_datum": "2015-09-01",
                                    "szall_mod": "NULL",
                                    "(No column name)": "5694962"
                                },
                                {
                                    "szall_datum": "2015-09-02",
                                    "szall_mod": "NULL",
                                    "(No column name)": "4307418"
                                },
                                {
                                    "szall_datum": "2015-09-03",
                                    "szall_mod": "NULL",
                                    "(No column name)": "6729971"
                                },
                                {
                                    "szall_datum": "2015-09-04",
                                    "szall_mod": "NULL",
                                    "(No column name)": "4912367"
                                },
                                {
                                    "szall_datum": "2015-09-05",
                                    "szall_mod": "NULL",
                                    "(No column name)": "2639323"
                                },
                                {
                                    "szall_datum": "2015-09-06",
                                    "szall_mod": "NULL",
                                    "(No column name)": "2081961"
                                },
                                {
                                    "szall_datum": "2015-09-07",
                                    "szall_mod": "NULL",
                                    "(No column name)": "4430285"
                                },
                                {
                                    "szall_datum": "2015-09-08",
                                    "szall_mod": "NULL",
                                    "(No column name)": "3884585"
                                },
                                {
                                    "szall_datum": "2015-09-09",
                                    "szall_mod": "NULL",
                                    "(No column name)": "5098439"
                                },
                                {
                                    "szall_datum": "2015-09-10",
                                    "szall_mod": "NULL",
                                    "(No column name)": "3763220"
                                },
                                {
                                    "szall_datum": "2015-09-11",
                                    "szall_mod": "NULL",
                                    "(No column name)": "3943446"
                                },
                                {
                                    "szall_datum": "2015-09-12",
                                    "szall_mod": "NULL",
                                    "(No column name)": "5775918"
                                },
                                {
                                    "szall_datum": "2015-09-13",
                                    "szall_mod": "NULL",
                                    "(No column name)": "4237716"
                                },
                                {
                                    "szall_datum": "2015-09-14",
                                    "szall_mod": "NULL",
                                    "(No column name)": "5088386"
                                },
                                {
                                    "szall_datum": "2015-09-15",
                                    "szall_mod": "NULL",
                                    "(No column name)": "2687328"
                                },
                                {
                                    "szall_datum": "2015-09-16",
                                    "szall_mod": "NULL",
                                    "(No column name)": "2718555"
                                },
                                {
                                    "szall_datum": "2015-09-17",
                                    "szall_mod": "NULL",
                                    "(No column name)": "3899971"
                                },
                                {
                                    "szall_datum": "2015-09-18",
                                    "szall_mod": "NULL",
                                    "(No column name)": "2897361"
                                },
                                {
                                    "szall_datum": "2015-09-19",
                                    "szall_mod": "NULL",
                                    "(No column name)": "3842958"
                                },
                                {
                                    "szall_datum": "2015-09-20",
                                    "szall_mod": "NULL",
                                    "(No column name)": "5002861"
                                },
                                {
                                    "szall_datum": "2015-09-21",
                                    "szall_mod": "NULL",
                                    "(No column name)": "2167581"
                                },
                                {
                                    "szall_datum": "2015-09-22",
                                    "szall_mod": "NULL",
                                    "(No column name)": "5069527"
                                },
                                {
                                    "szall_datum": "2015-09-23",
                                    "szall_mod": "NULL",
                                    "(No column name)": "4905054"
                                },
                                {
                                    "szall_datum": "2015-09-24",
                                    "szall_mod": "NULL",
                                    "(No column name)": "4508041"
                                },
                                {
                                    "szall_datum": "2015-09-25",
                                    "szall_mod": "NULL",
                                    "(No column name)": "2118285"
                                },
                                {
                                    "szall_datum": "2015-09-26",
                                    "szall_mod": "NULL",
                                    "(No column name)": "5371400"
                                },
                                {
                                    "szall_datum": "2015-09-27",
                                    "szall_mod": "NULL",
                                    "(No column name)": "2599365"
                                },
                                {
                                    "szall_datum": "2015-09-28",
                                    "szall_mod": "NULL",
                                    "(No column name)": "2985540"
                                },
                                {
                                    "szall_datum": "2015-09-29",
                                    "szall_mod": "NULL",
                                    "(No column name)": "4123273"
                                },
                                {
                                    "szall_datum": "2015-09-30",
                                    "szall_mod": "NULL",
                                    "(No column name)": "2109749"
                                },
                                {
                                    "szall_datum": "2015-10-01",
                                    "szall_mod": "NULL",
                                    "(No column name)": "2371274"
                                },
                                {
                                    "szall_datum": "2015-10-02",
                                    "szall_mod": "NULL",
                                    "(No column name)": "1816210"
                                },
                                {
                                    "szall_datum": "2015-10-03",
                                    "szall_mod": "NULL",
                                    "(No column name)": "4010859"
                                },
                                {
                                    "szall_datum": "2015-10-04",
                                    "szall_mod": "NULL",
                                    "(No column name)": "2103856"
                                },
                                {
                                    "szall_datum": "2015-10-05",
                                    "szall_mod": "NULL",
                                    "(No column name)": "4445660"
                                },
                                {
                                    "szall_datum": "2015-10-06",
                                    "szall_mod": "NULL",
                                    "(No column name)": "2264609"
                                },
                                {
                                    "szall_datum": "2015-10-07",
                                    "szall_mod": "NULL",
                                    "(No column name)": "2461522"
                                },
                                {
                                    "szall_datum": "2015-10-08",
                                    "szall_mod": "NULL",
                                    "(No column name)": "6772405"
                                },
                                {
                                    "szall_datum": "2015-10-09",
                                    "szall_mod": "NULL",
                                    "(No column name)": "3834921"
                                },
                                {
                                    "szall_datum": "2015-10-10",
                                    "szall_mod": "NULL",
                                    "(No column name)": "4056447"
                                },
                                {
                                    "szall_datum": "2015-10-11",
                                    "szall_mod": "NULL",
                                    "(No column name)": "2159815"
                                },
                                {
                                    "szall_datum": "2015-10-12",
                                    "szall_mod": "NULL",
                                    "(No column name)": "5249703"
                                },
                                {
                                    "szall_datum": "2015-10-13",
                                    "szall_mod": "NULL",
                                    "(No column name)": "1787179"
                                },
                                {
                                    "szall_datum": "2015-10-14",
                                    "szall_mod": "NULL",
                                    "(No column name)": "1884545"
                                },
                                {
                                    "szall_datum": "2015-10-15",
                                    "szall_mod": "NULL",
                                    "(No column name)": "3670738"
                                },
                                {
                                    "szall_datum": "2015-10-16",
                                    "szall_mod": "NULL",
                                    "(No column name)": "4333876"
                                },
                                {
                                    "szall_datum": "2015-10-17",
                                    "szall_mod": "NULL",
                                    "(No column name)": "4345735"
                                },
                                {
                                    "szall_datum": "2015-10-18",
                                    "szall_mod": "NULL",
                                    "(No column name)": "3592679"
                                },
                                {
                                    "szall_datum": "2015-10-19",
                                    "szall_mod": "NULL",
                                    "(No column name)": "2970029"
                                },
                                {
                                    "szall_datum": "2015-10-20",
                                    "szall_mod": "NULL",
                                    "(No column name)": "5683423"
                                },
                                {
                                    "szall_datum": "2015-10-21",
                                    "szall_mod": "NULL",
                                    "(No column name)": "2619347"
                                },
                                {
                                    "szall_datum": "2015-10-22",
                                    "szall_mod": "NULL",
                                    "(No column name)": "1979747"
                                },
                                {
                                    "szall_datum": "2015-10-23",
                                    "szall_mod": "NULL",
                                    "(No column name)": "2348932"
                                },
                                {
                                    "szall_datum": "2015-10-24",
                                    "szall_mod": "NULL",
                                    "(No column name)": "4517147"
                                },
                                {
                                    "szall_datum": "2015-10-25",
                                    "szall_mod": "NULL",
                                    "(No column name)": "3832701"
                                },
                                {
                                    "szall_datum": "2015-10-26",
                                    "szall_mod": "NULL",
                                    "(No column name)": "3449796"
                                },
                                {
                                    "szall_datum": "2015-10-27",
                                    "szall_mod": "NULL",
                                    "(No column name)": "2763354"
                                },
                                {
                                    "szall_datum": "2015-10-28",
                                    "szall_mod": "NULL",
                                    "(No column name)": "3228842"
                                },
                                {
                                    "szall_datum": "2015-10-29",
                                    "szall_mod": "NULL",
                                    "(No column name)": "2949611"
                                },
                                {
                                    "szall_datum": "2015-10-30",
                                    "szall_mod": "NULL",
                                    "(No column name)": "4345898"
                                },
                                {
                                    "szall_datum": "2015-10-31",
                                    "szall_mod": "NULL",
                                    "(No column name)": "2861489"
                                },
                                {
                                    "szall_datum": "2015-11-01",
                                    "szall_mod": "NULL",
                                    "(No column name)": "3486677"
                                },
                                {
                                    "szall_datum": "2015-11-02",
                                    "szall_mod": "NULL",
                                    "(No column name)": "2400514"
                                },
                                {
                                    "szall_datum": "2015-11-03",
                                    "szall_mod": "NULL",
                                    "(No column name)": "6228688"
                                },
                                {
                                    "szall_datum": "2015-11-04",
                                    "szall_mod": "NULL",
                                    "(No column name)": "2891455"
                                },
                                {
                                    "szall_datum": "2015-11-05",
                                    "szall_mod": "NULL",
                                    "(No column name)": "2477876"
                                },
                                {
                                    "szall_datum": "2015-11-06",
                                    "szall_mod": "NULL",
                                    "(No column name)": "2634982"
                                },
                                {
                                    "szall_datum": "2015-11-07",
                                    "szall_mod": "NULL",
                                    "(No column name)": "5397340"
                                },
                                {
                                    "szall_datum": "2015-11-08",
                                    "szall_mod": "NULL",
                                    "(No column name)": "3335072"
                                },
                                {
                                    "szall_datum": "2015-11-09",
                                    "szall_mod": "NULL",
                                    "(No column name)": "3649494"
                                },
                                {
                                    "szall_datum": "2015-11-10",
                                    "szall_mod": "NULL",
                                    "(No column name)": "4093814"
                                },
                                {
                                    "szall_datum": "2015-11-11",
                                    "szall_mod": "NULL",
                                    "(No column name)": "2883359"
                                },
                                {
                                    "szall_datum": "2015-11-12",
                                    "szall_mod": "NULL",
                                    "(No column name)": "3567145"
                                },
                                {
                                    "szall_datum": "2015-11-13",
                                    "szall_mod": "NULL",
                                    "(No column name)": "2319123"
                                },
                                {
                                    "szall_datum": "2015-11-14",
                                    "szall_mod": "NULL",
                                    "(No column name)": "4701677"
                                },
                                {
                                    "szall_datum": "2015-11-15",
                                    "szall_mod": "NULL",
                                    "(No column name)": "1788138"
                                },
                                {
                                    "szall_datum": "2015-11-16",
                                    "szall_mod": "NULL",
                                    "(No column name)": "4862379"
                                },
                                {
                                    "szall_datum": "2015-11-17",
                                    "szall_mod": "NULL",
                                    "(No column name)": "3568072"
                                },
                                {
                                    "szall_datum": "2015-11-18",
                                    "szall_mod": "NULL",
                                    "(No column name)": "4820494"
                                },
                                {
                                    "szall_datum": "2015-11-19",
                                    "szall_mod": "NULL",
                                    "(No column name)": "2340144"
                                },
                                {
                                    "szall_datum": "2015-11-20",
                                    "szall_mod": "NULL",
                                    "(No column name)": "2952986"
                                },
                                {
                                    "szall_datum": "2015-11-21",
                                    "szall_mod": "NULL",
                                    "(No column name)": "3802284"
                                },
                                {
                                    "szall_datum": "2015-11-22",
                                    "szall_mod": "NULL",
                                    "(No column name)": "3525022"
                                },
                                {
                                    "szall_datum": "2015-11-23",
                                    "szall_mod": "NULL",
                                    "(No column name)": "3153480"
                                },
                                {
                                    "szall_datum": "2015-11-24",
                                    "szall_mod": "NULL",
                                    "(No column name)": "5039549"
                                },
                                {
                                    "szall_datum": "2015-11-25",
                                    "szall_mod": "NULL",
                                    "(No column name)": "2086705"
                                },
                                {
                                    "szall_datum": "2015-11-26",
                                    "szall_mod": "NULL",
                                    "(No column name)": "2638352"
                                },
                                {
                                    "szall_datum": "2015-11-27",
                                    "szall_mod": "NULL",
                                    "(No column name)": "1787430"
                                },
                                {
                                    "szall_datum": "2015-11-28",
                                    "szall_mod": "NULL",
                                    "(No column name)": "6422485"
                                },
                                {
                                    "szall_datum": "2015-11-29",
                                    "szall_mod": "NULL",
                                    "(No column name)": "3526865"
                                },
                                {
                                    "szall_datum": "2015-11-30",
                                    "szall_mod": "NULL",
                                    "(No column name)": "2920065"
                                },
                                {
                                    "szall_datum": "2015-12-01",
                                    "szall_mod": "NULL",
                                    "(No column name)": "4235679"
                                },
                                {
                                    "szall_datum": "2015-12-02",
                                    "szall_mod": "NULL",
                                    "(No column name)": "5019731"
                                },
                                {
                                    "szall_datum": "2015-12-03",
                                    "szall_mod": "NULL",
                                    "(No column name)": "3544829"
                                },
                                {
                                    "szall_datum": "2015-12-04",
                                    "szall_mod": "NULL",
                                    "(No column name)": "1892798"
                                },
                                {
                                    "szall_datum": "2015-12-05",
                                    "szall_mod": "NULL",
                                    "(No column name)": "3721128"
                                },
                                {
                                    "szall_datum": "2015-12-06",
                                    "szall_mod": "NULL",
                                    "(No column name)": "2884438"
                                },
                                {
                                    "szall_datum": "2015-12-07",
                                    "szall_mod": "NULL",
                                    "(No column name)": "4509894"
                                },
                                {
                                    "szall_datum": "2015-12-08",
                                    "szall_mod": "NULL",
                                    "(No column name)": "3044234"
                                },
                                {
                                    "szall_datum": "2015-12-09",
                                    "szall_mod": "NULL",
                                    "(No column name)": "2870296"
                                },
                                {
                                    "szall_datum": "2015-12-10",
                                    "szall_mod": "NULL",
                                    "(No column name)": "4941409"
                                },
                                {
                                    "szall_datum": "2015-12-11",
                                    "szall_mod": "NULL",
                                    "(No column name)": "6814568"
                                },
                                {
                                    "szall_datum": "2015-12-12",
                                    "szall_mod": "NULL",
                                    "(No column name)": "4620153"
                                },
                                {
                                    "szall_datum": "2015-12-13",
                                    "szall_mod": "NULL",
                                    "(No column name)": "1539717"
                                },
                                {
                                    "szall_datum": "2015-12-14",
                                    "szall_mod": "NULL",
                                    "(No column name)": "4333979"
                                },
                                {
                                    "szall_datum": "2015-12-15",
                                    "szall_mod": "NULL",
                                    "(No column name)": "2626256"
                                },
                                {
                                    "szall_datum": "2015-12-16",
                                    "szall_mod": "NULL",
                                    "(No column name)": "2331477"
                                },
                                {
                                    "szall_datum": "2015-12-17",
                                    "szall_mod": "NULL",
                                    "(No column name)": "1952610"
                                },
                                {
                                    "szall_datum": "2015-12-18",
                                    "szall_mod": "NULL",
                                    "(No column name)": "3955357"
                                },
                                {
                                    "szall_datum": "2015-12-19",
                                    "szall_mod": "NULL",
                                    "(No column name)": "2664353"
                                },
                                {
                                    "szall_datum": "2015-12-20",
                                    "szall_mod": "NULL",
                                    "(No column name)": "4264965"
                                },
                                {
                                    "szall_datum": "2015-12-21",
                                    "szall_mod": "NULL",
                                    "(No column name)": "2207108"
                                },
                                {
                                    "szall_datum": "2015-12-22",
                                    "szall_mod": "NULL",
                                    "(No column name)": "2342474"
                                },
                                {
                                    "szall_datum": "2015-12-23",
                                    "szall_mod": "NULL",
                                    "(No column name)": "2477096"
                                },
                                {
                                    "szall_datum": "2015-12-24",
                                    "szall_mod": "NULL",
                                    "(No column name)": "2105576"
                                },
                                {
                                    "szall_datum": "2015-12-25",
                                    "szall_mod": "NULL",
                                    "(No column name)": "3211730"
                                },
                                {
                                    "szall_datum": "2015-12-26",
                                    "szall_mod": "NULL",
                                    "(No column name)": "3482979"
                                },
                                {
                                    "szall_datum": "2015-12-27",
                                    "szall_mod": "NULL",
                                    "(No column name)": "3198224"
                                },
                                {
                                    "szall_datum": "2015-12-28",
                                    "szall_mod": "NULL",
                                    "(No column name)": "4118877"
                                },
                                {
                                    "szall_datum": "2015-12-29",
                                    "szall_mod": "NULL",
                                    "(No column name)": "3219712"
                                },
                                {
                                    "szall_datum": "2015-12-30",
                                    "szall_mod": "NULL",
                                    "(No column name)": "2351627"
                                },
                                {
                                    "szall_datum": "2015-12-31",
                                    "szall_mod": "NULL",
                                    "(No column name)": "3585438"
                                },
                                {
                                    "szall_datum": "2016-01-01",
                                    "szall_mod": "NULL",
                                    "(No column name)": "4375775"
                                },
                                {
                                    "szall_datum": "2016-01-02",
                                    "szall_mod": "NULL",
                                    "(No column name)": "2882266"
                                },
                                {
                                    "szall_datum": "2016-01-03",
                                    "szall_mod": "NULL",
                                    "(No column name)": "4676041"
                                },
                                {
                                    "szall_datum": "2016-01-04",
                                    "szall_mod": "NULL",
                                    "(No column name)": "3485558"
                                },
                                {
                                    "szall_datum": "2016-01-05",
                                    "szall_mod": "NULL",
                                    "(No column name)": "2796894"
                                },
                                {
                                    "szall_datum": "2016-01-06",
                                    "szall_mod": "NULL",
                                    "(No column name)": "3475974"
                                },
                                {
                                    "szall_datum": "2016-01-07",
                                    "szall_mod": "NULL",
                                    "(No column name)": "1752660"
                                },
                                {
                                    "szall_datum": "2016-01-08",
                                    "szall_mod": "NULL",
                                    "(No column name)": "5321942"
                                },
                                {
                                    "szall_datum": "2016-01-09",
                                    "szall_mod": "NULL",
                                    "(No column name)": "3205199"
                                },
                                {
                                    "szall_datum": "2016-01-10",
                                    "szall_mod": "NULL",
                                    "(No column name)": "3754840"
                                },
                                {
                                    "szall_datum": "2016-01-11",
                                    "szall_mod": "NULL",
                                    "(No column name)": "6222600"
                                },
                                {
                                    "szall_datum": "2016-01-12",
                                    "szall_mod": "NULL",
                                    "(No column name)": "3016060"
                                },
                                {
                                    "szall_datum": "2016-01-13",
                                    "szall_mod": "NULL",
                                    "(No column name)": "3677520"
                                },
                                {
                                    "szall_datum": "2016-01-14",
                                    "szall_mod": "NULL",
                                    "(No column name)": "2378090"
                                },
                                {
                                    "szall_datum": "2016-01-15",
                                    "szall_mod": "NULL",
                                    "(No column name)": "3507620"
                                },
                                {
                                    "szall_datum": "2016-01-16",
                                    "szall_mod": "NULL",
                                    "(No column name)": "3400760"
                                },
                                {
                                    "szall_datum": "2016-01-17",
                                    "szall_mod": "NULL",
                                    "(No column name)": "5460380"
                                },
                                {
                                    "szall_datum": "2016-01-18",
                                    "szall_mod": "NULL",
                                    "(No column name)": "5915360"
                                },
                                {
                                    "szall_datum": "2016-01-19",
                                    "szall_mod": "NULL",
                                    "(No column name)": "2320500"
                                },
                                {
                                    "szall_datum": "2016-01-20",
                                    "szall_mod": "NULL",
                                    "(No column name)": "2861630"
                                },
                                {
                                    "szall_datum": "2016-01-21",
                                    "szall_mod": "NULL",
                                    "(No column name)": "3385410"
                                },
                                {
                                    "szall_datum": "2016-01-22",
                                    "szall_mod": "NULL",
                                    "(No column name)": "3558960"
                                },
                                {
                                    "szall_datum": "2016-01-23",
                                    "szall_mod": "NULL",
                                    "(No column name)": "2675630"
                                },
                                {
                                    "szall_datum": "2016-01-24",
                                    "szall_mod": "NULL",
                                    "(No column name)": "5456580"
                                },
                                {
                                    "szall_datum": "2016-01-25",
                                    "szall_mod": "NULL",
                                    "(No column name)": "2387660"
                                },
                                {
                                    "szall_datum": "2016-01-26",
                                    "szall_mod": "NULL",
                                    "(No column name)": "2822220"
                                },
                                {
                                    "szall_datum": "2016-01-27",
                                    "szall_mod": "NULL",
                                    "(No column name)": "3155580"
                                },
                                {
                                    "szall_datum": "2016-01-28",
                                    "szall_mod": "NULL",
                                    "(No column name)": "7782620"
                                },
                                {
                                    "szall_datum": "2016-01-29",
                                    "szall_mod": "NULL",
                                    "(No column name)": "3300420"
                                },
                                {
                                    "szall_datum": "2016-01-30",
                                    "szall_mod": "NULL",
                                    "(No column name)": "4463790"
                                },
                                {
                                    "szall_datum": "2016-01-31",
                                    "szall_mod": "NULL",
                                    "(No column name)": "4576980"
                                },
                                {
                                    "szall_datum": "2016-02-01",
                                    "szall_mod": "NULL",
                                    "(No column name)": "6002140"
                                },
                                {
                                    "szall_datum": "2016-02-02",
                                    "szall_mod": "NULL",
                                    "(No column name)": "4015440"
                                },
                                {
                                    "szall_datum": "2016-02-03",
                                    "szall_mod": "NULL",
                                    "(No column name)": "3479120"
                                },
                                {
                                    "szall_datum": "2016-02-04",
                                    "szall_mod": "NULL",
                                    "(No column name)": "2325830"
                                },
                                {
                                    "szall_datum": "2016-02-05",
                                    "szall_mod": "NULL",
                                    "(No column name)": "6074190"
                                },
                                {
                                    "szall_datum": "2016-02-06",
                                    "szall_mod": "NULL",
                                    "(No column name)": "5750260"
                                },
                                {
                                    "szall_datum": "2016-02-07",
                                    "szall_mod": "NULL",
                                    "(No column name)": "2109970"
                                },
                                {
                                    "szall_datum": "2016-02-08",
                                    "szall_mod": "NULL",
                                    "(No column name)": "3808950"
                                },
                                {
                                    "szall_datum": "2016-02-09",
                                    "szall_mod": "NULL",
                                    "(No column name)": "5460380"
                                },
                                {
                                    "szall_datum": "2016-02-10",
                                    "szall_mod": "NULL",
                                    "(No column name)": "3420460"
                                },
                                {
                                    "szall_datum": "2016-02-11",
                                    "szall_mod": "NULL",
                                    "(No column name)": "5517190"
                                },
                                {
                                    "szall_datum": "2016-02-12",
                                    "szall_mod": "NULL",
                                    "(No column name)": "5415830"
                                },
                                {
                                    "szall_datum": "2016-02-13",
                                    "szall_mod": "NULL",
                                    "(No column name)": "2062170"
                                },
                                {
                                    "szall_datum": "2016-02-14",
                                    "szall_mod": "NULL",
                                    "(No column name)": "4044280"
                                },
                                {
                                    "szall_datum": "2016-02-15",
                                    "szall_mod": "NULL",
                                    "(No column name)": "4864830"
                                },
                                {
                                    "szall_datum": "2016-02-16",
                                    "szall_mod": "NULL",
                                    "(No column name)": "3644140"
                                },
                                {
                                    "szall_datum": "2016-02-17",
                                    "szall_mod": "NULL",
                                    "(No column name)": "6822160"
                                },
                                {
                                    "szall_datum": "2016-02-18",
                                    "szall_mod": "NULL",
                                    "(No column name)": "1336290"
                                },
                                {
                                    "szall_datum": "2016-02-19",
                                    "szall_mod": "NULL",
                                    "(No column name)": "2607690"
                                },
                                {
                                    "szall_datum": "2016-02-20",
                                    "szall_mod": "NULL",
                                    "(No column name)": "4366720"
                                },
                                {
                                    "szall_datum": "2016-02-21",
                                    "szall_mod": "NULL",
                                    "(No column name)": "6049185"
                                },
                                {
                                    "szall_datum": "2016-02-22",
                                    "szall_mod": "NULL",
                                    "(No column name)": "4647300"
                                },
                                {
                                    "szall_datum": "2016-02-23",
                                    "szall_mod": "NULL",
                                    "(No column name)": "8281820"
                                },
                                {
                                    "szall_datum": "2016-02-24",
                                    "szall_mod": "NULL",
                                    "(No column name)": "5161230"
                                },
                                {
                                    "szall_datum": "2016-02-25",
                                    "szall_mod": "NULL",
                                    "(No column name)": "4153440"
                                },
                                {
                                    "szall_datum": "2016-02-26",
                                    "szall_mod": "NULL",
                                    "(No column name)": "4397170"
                                },
                                {
                                    "szall_datum": "2016-02-27",
                                    "szall_mod": "NULL",
                                    "(No column name)": "5069210"
                                },
                                {
                                    "szall_datum": "2016-02-28",
                                    "szall_mod": "NULL",
                                    "(No column name)": "4207190"
                                },
                                {
                                    "szall_datum": "2016-02-29",
                                    "szall_mod": "NULL",
                                    "(No column name)": "3931440"
                                },
                                {
                                    "szall_datum": "2016-03-01",
                                    "szall_mod": "NULL",
                                    "(No column name)": "4012130"
                                },
                                {
                                    "szall_datum": "2016-03-02",
                                    "szall_mod": "NULL",
                                    "(No column name)": "3661560"
                                },
                                {
                                    "szall_datum": "2016-03-03",
                                    "szall_mod": "NULL",
                                    "(No column name)": "4323760"
                                },
                                {
                                    "szall_datum": "2016-03-04",
                                    "szall_mod": "NULL",
                                    "(No column name)": "7628590"
                                },
                                {
                                    "szall_datum": "2016-03-05",
                                    "szall_mod": "NULL",
                                    "(No column name)": "5367760"
                                },
                                {
                                    "szall_datum": "2016-03-06",
                                    "szall_mod": "NULL",
                                    "(No column name)": "2123540"
                                },
                                {
                                    "szall_datum": "2016-03-07",
                                    "szall_mod": "NULL",
                                    "(No column name)": "2917240"
                                },
                                {
                                    "szall_datum": "2016-03-08",
                                    "szall_mod": "NULL",
                                    "(No column name)": "3541890"
                                },
                                {
                                    "szall_datum": "2016-03-09",
                                    "szall_mod": "NULL",
                                    "(No column name)": "4130680"
                                },
                                {
                                    "szall_datum": "2016-03-10",
                                    "szall_mod": "NULL",
                                    "(No column name)": "4129890"
                                },
                                {
                                    "szall_datum": "2016-03-11",
                                    "szall_mod": "NULL",
                                    "(No column name)": "4901490"
                                },
                                {
                                    "szall_datum": "2016-03-12",
                                    "szall_mod": "NULL",
                                    "(No column name)": "3895770"
                                },
                                {
                                    "szall_datum": "2016-03-13",
                                    "szall_mod": "NULL",
                                    "(No column name)": "3792570"
                                },
                                {
                                    "szall_datum": "2016-03-14",
                                    "szall_mod": "NULL",
                                    "(No column name)": "3634240"
                                },
                                {
                                    "szall_datum": "2016-03-15",
                                    "szall_mod": "NULL",
                                    "(No column name)": "4392180"
                                },
                                {
                                    "szall_datum": "2016-03-16",
                                    "szall_mod": "NULL",
                                    "(No column name)": "2214340"
                                },
                                {
                                    "szall_datum": "2016-03-17",
                                    "szall_mod": "NULL",
                                    "(No column name)": "2679880"
                                },
                                {
                                    "szall_datum": "2016-03-18",
                                    "szall_mod": "NULL",
                                    "(No column name)": "3022030"
                                },
                                {
                                    "szall_datum": "2016-03-19",
                                    "szall_mod": "NULL",
                                    "(No column name)": "4291160"
                                },
                                {
                                    "szall_datum": "2016-03-20",
                                    "szall_mod": "NULL",
                                    "(No column name)": "4178720"
                                },
                                {
                                    "szall_datum": "2016-03-21",
                                    "szall_mod": "NULL",
                                    "(No column name)": "3059990"
                                },
                                {
                                    "szall_datum": "2016-03-22",
                                    "szall_mod": "NULL",
                                    "(No column name)": "4187655"
                                },
                                {
                                    "szall_datum": "2016-03-23",
                                    "szall_mod": "NULL",
                                    "(No column name)": "4242780"
                                },
                                {
                                    "szall_datum": "2016-03-24",
                                    "szall_mod": "NULL",
                                    "(No column name)": "3146270"
                                },
                                {
                                    "szall_datum": "2016-03-25",
                                    "szall_mod": "NULL",
                                    "(No column name)": "3667180"
                                },
                                {
                                    "szall_datum": "2016-03-26",
                                    "szall_mod": "NULL",
                                    "(No column name)": "5031110"
                                },
                                {
                                    "szall_datum": "2016-03-27",
                                    "szall_mod": "NULL",
                                    "(No column name)": "5215830"
                                },
                                {
                                    "szall_datum": "2016-03-28",
                                    "szall_mod": "NULL",
                                    "(No column name)": "2287790"
                                },
                                {
                                    "szall_datum": "2016-03-29",
                                    "szall_mod": "NULL",
                                    "(No column name)": "2717320"
                                },
                                {
                                    "szall_datum": "2016-03-30",
                                    "szall_mod": "NULL",
                                    "(No column name)": "3169130"
                                },
                                {
                                    "szall_datum": "2016-03-31",
                                    "szall_mod": "NULL",
                                    "(No column name)": "3861260"
                                },
                                {
                                    "szall_datum": "2016-04-01",
                                    "szall_mod": "NULL",
                                    "(No column name)": "3766870"
                                },
                                {
                                    "szall_datum": "2016-04-02",
                                    "szall_mod": "NULL",
                                    "(No column name)": "5393960"
                                },
                                {
                                    "szall_datum": "2016-04-03",
                                    "szall_mod": "NULL",
                                    "(No column name)": "4788420"
                                },
                                {
                                    "szall_datum": "2016-04-04",
                                    "szall_mod": "NULL",
                                    "(No column name)": "5004490"
                                },
                                {
                                    "szall_datum": "2016-04-05",
                                    "szall_mod": "NULL",
                                    "(No column name)": "3051040"
                                },
                                {
                                    "szall_datum": "2016-04-06",
                                    "szall_mod": "NULL",
                                    "(No column name)": "4234430"
                                },
                                {
                                    "szall_datum": "2016-04-07",
                                    "szall_mod": "NULL",
                                    "(No column name)": "2851520"
                                },
                                {
                                    "szall_datum": "2016-04-08",
                                    "szall_mod": "NULL",
                                    "(No column name)": "3062740"
                                },
                                {
                                    "szall_datum": "2016-04-09",
                                    "szall_mod": "NULL",
                                    "(No column name)": "4494200"
                                },
                                {
                                    "szall_datum": "2016-04-10",
                                    "szall_mod": "NULL",
                                    "(No column name)": "4452890"
                                },
                                {
                                    "szall_datum": "2016-04-11",
                                    "szall_mod": "NULL",
                                    "(No column name)": "3300060"
                                },
                                {
                                    "szall_datum": "2016-04-12",
                                    "szall_mod": "NULL",
                                    "(No column name)": "3891450"
                                },
                                {
                                    "szall_datum": "2016-04-13",
                                    "szall_mod": "NULL",
                                    "(No column name)": "4387320"
                                },
                                {
                                    "szall_datum": "2016-04-14",
                                    "szall_mod": "NULL",
                                    "(No column name)": "6400220"
                                },
                                {
                                    "szall_datum": "2016-04-15",
                                    "szall_mod": "NULL",
                                    "(No column name)": "2940290"
                                },
                                {
                                    "szall_datum": "2016-04-16",
                                    "szall_mod": "NULL",
                                    "(No column name)": "3771240"
                                },
                                {
                                    "szall_datum": "2016-04-17",
                                    "szall_mod": "NULL",
                                    "(No column name)": "4189850"
                                },
                                {
                                    "szall_datum": "2016-04-18",
                                    "szall_mod": "NULL",
                                    "(No column name)": "4420260"
                                },
                                {
                                    "szall_datum": "2016-04-19",
                                    "szall_mod": "NULL",
                                    "(No column name)": "4514700"
                                },
                                {
                                    "szall_datum": "2016-04-20",
                                    "szall_mod": "NULL",
                                    "(No column name)": "4248850"
                                },
                                {
                                    "szall_datum": "2016-04-21",
                                    "szall_mod": "NULL",
                                    "(No column name)": "3264700"
                                },
                                {
                                    "szall_datum": "2016-04-22",
                                    "szall_mod": "NULL",
                                    "(No column name)": "1758030"
                                },
                                {
                                    "szall_datum": "2016-04-23",
                                    "szall_mod": "NULL",
                                    "(No column name)": "3710460"
                                },
                                {
                                    "szall_datum": "2016-04-24",
                                    "szall_mod": "NULL",
                                    "(No column name)": "6733180"
                                },
                                {
                                    "szall_datum": "2016-04-25",
                                    "szall_mod": "NULL",
                                    "(No column name)": "4075990"
                                },
                                {
                                    "szall_datum": "2016-04-26",
                                    "szall_mod": "NULL",
                                    "(No column name)": "4855350"
                                },
                                {
                                    "szall_datum": "2016-04-27",
                                    "szall_mod": "NULL",
                                    "(No column name)": "2837740"
                                },
                                {
                                    "szall_datum": "2016-04-28",
                                    "szall_mod": "NULL",
                                    "(No column name)": "1922070"
                                },
                                {
                                    "szall_datum": "2016-04-29",
                                    "szall_mod": "NULL",
                                    "(No column name)": "4854250"
                                },
                                {
                                    "szall_datum": "2016-04-30",
                                    "szall_mod": "NULL",
                                    "(No column name)": "5090770"
                                },
                                {
                                    "szall_datum": "2016-05-01",
                                    "szall_mod": "NULL",
                                    "(No column name)": "2381700"
                                },
                                {
                                    "szall_datum": "2016-05-02",
                                    "szall_mod": "NULL",
                                    "(No column name)": "5694560"
                                },
                                {
                                    "szall_datum": "2016-05-03",
                                    "szall_mod": "NULL",
                                    "(No column name)": "3177210"
                                },
                                {
                                    "szall_datum": "2016-05-04",
                                    "szall_mod": "NULL",
                                    "(No column name)": "6038290"
                                },
                                {
                                    "szall_datum": "2016-05-05",
                                    "szall_mod": "NULL",
                                    "(No column name)": "3623460"
                                },
                                {
                                    "szall_datum": "2016-05-06",
                                    "szall_mod": "NULL",
                                    "(No column name)": "5319870"
                                },
                                {
                                    "szall_datum": "2016-05-07",
                                    "szall_mod": "NULL",
                                    "(No column name)": "2361340"
                                },
                                {
                                    "szall_datum": "2016-05-08",
                                    "szall_mod": "NULL",
                                    "(No column name)": "4227150"
                                },
                                {
                                    "szall_datum": "2016-05-09",
                                    "szall_mod": "NULL",
                                    "(No column name)": "4629720"
                                },
                                {
                                    "szall_datum": "2016-05-10",
                                    "szall_mod": "NULL",
                                    "(No column name)": "3313420"
                                },
                                {
                                    "szall_datum": "2016-05-11",
                                    "szall_mod": "NULL",
                                    "(No column name)": "3456480"
                                },
                                {
                                    "szall_datum": "2016-05-12",
                                    "szall_mod": "NULL",
                                    "(No column name)": "4190440"
                                },
                                {
                                    "szall_datum": "2016-05-13",
                                    "szall_mod": "NULL",
                                    "(No column name)": "7263460"
                                },
                                {
                                    "szall_datum": "2016-05-14",
                                    "szall_mod": "NULL",
                                    "(No column name)": "2626150"
                                },
                                {
                                    "szall_datum": "2016-05-15",
                                    "szall_mod": "NULL",
                                    "(No column name)": "1652990"
                                },
                                {
                                    "szall_datum": "2016-05-16",
                                    "szall_mod": "NULL",
                                    "(No column name)": "3574960"
                                },
                                {
                                    "szall_datum": "2016-05-17",
                                    "szall_mod": "NULL",
                                    "(No column name)": "4843400"
                                },
                                {
                                    "szall_datum": "2016-05-18",
                                    "szall_mod": "NULL",
                                    "(No column name)": "5667490"
                                },
                                {
                                    "szall_datum": "2016-05-19",
                                    "szall_mod": "NULL",
                                    "(No column name)": "4445130"
                                },
                                {
                                    "szall_datum": "2016-05-20",
                                    "szall_mod": "NULL",
                                    "(No column name)": "3801480"
                                },
                                {
                                    "szall_datum": "2016-05-21",
                                    "szall_mod": "NULL",
                                    "(No column name)": "2487800"
                                },
                                {
                                    "szall_datum": "2016-05-22",
                                    "szall_mod": "NULL",
                                    "(No column name)": "3694610"
                                },
                                {
                                    "szall_datum": "2016-05-23",
                                    "szall_mod": "NULL",
                                    "(No column name)": "2616110"
                                },
                                {
                                    "szall_datum": "2016-05-24",
                                    "szall_mod": "NULL",
                                    "(No column name)": "4355870"
                                },
                                {
                                    "szall_datum": "2016-05-25",
                                    "szall_mod": "NULL",
                                    "(No column name)": "3535360"
                                },
                                {
                                    "szall_datum": "2016-05-26",
                                    "szall_mod": "NULL",
                                    "(No column name)": "3501180"
                                },
                                {
                                    "szall_datum": "2016-05-27",
                                    "szall_mod": "NULL",
                                    "(No column name)": "2976520"
                                },
                                {
                                    "szall_datum": "2016-05-28",
                                    "szall_mod": "NULL",
                                    "(No column name)": "3175280"
                                },
                                {
                                    "szall_datum": "2016-05-29",
                                    "szall_mod": "NULL",
                                    "(No column name)": "2381635"
                                },
                                {
                                    "szall_datum": "2016-05-30",
                                    "szall_mod": "NULL",
                                    "(No column name)": "2721780"
                                },
                                {
                                    "szall_datum": "2016-05-31",
                                    "szall_mod": "NULL",
                                    "(No column name)": "2845200"
                                },
                                {
                                    "szall_datum": "2016-06-01",
                                    "szall_mod": "NULL",
                                    "(No column name)": "4125800"
                                },
                                {
                                    "szall_datum": "2016-06-02",
                                    "szall_mod": "NULL",
                                    "(No column name)": "2618270"
                                },
                                {
                                    "szall_datum": "2016-06-03",
                                    "szall_mod": "NULL",
                                    "(No column name)": "2719980"
                                },
                                {
                                    "szall_datum": "2016-06-04",
                                    "szall_mod": "NULL",
                                    "(No column name)": "3038780"
                                },
                                {
                                    "szall_datum": "2016-06-05",
                                    "szall_mod": "NULL",
                                    "(No column name)": "2892290"
                                },
                                {
                                    "szall_datum": "2016-06-06",
                                    "szall_mod": "NULL",
                                    "(No column name)": "4762090"
                                },
                                {
                                    "szall_datum": "2016-06-07",
                                    "szall_mod": "NULL",
                                    "(No column name)": "3715600"
                                },
                                {
                                    "szall_datum": "2016-06-08",
                                    "szall_mod": "NULL",
                                    "(No column name)": "4781100"
                                },
                                {
                                    "szall_datum": "2016-06-09",
                                    "szall_mod": "NULL",
                                    "(No column name)": "5090020"
                                },
                                {
                                    "szall_datum": "2016-06-10",
                                    "szall_mod": "NULL",
                                    "(No column name)": "3589270"
                                },
                                {
                                    "szall_datum": "2016-06-11",
                                    "szall_mod": "NULL",
                                    "(No column name)": "4555210"
                                },
                                {
                                    "szall_datum": "2016-06-12",
                                    "szall_mod": "NULL",
                                    "(No column name)": "5337040"
                                },
                                {
                                    "szall_datum": "2016-06-13",
                                    "szall_mod": "NULL",
                                    "(No column name)": "1755590"
                                },
                                {
                                    "szall_datum": "2016-06-14",
                                    "szall_mod": "NULL",
                                    "(No column name)": "3151780"
                                },
                                {
                                    "szall_datum": "2016-06-15",
                                    "szall_mod": "NULL",
                                    "(No column name)": "4722240"
                                },
                                {
                                    "szall_datum": "2016-06-16",
                                    "szall_mod": "NULL",
                                    "(No column name)": "3503200"
                                },
                                {
                                    "szall_datum": "2016-06-17",
                                    "szall_mod": "NULL",
                                    "(No column name)": "3440880"
                                },
                                {
                                    "szall_datum": "2016-06-18",
                                    "szall_mod": "NULL",
                                    "(No column name)": "5137650"
                                },
                                {
                                    "szall_datum": "2016-06-19",
                                    "szall_mod": "NULL",
                                    "(No column name)": "3686260"
                                },
                                {
                                    "szall_datum": "2016-06-20",
                                    "szall_mod": "NULL",
                                    "(No column name)": "3523880"
                                },
                                {
                                    "szall_datum": "2016-06-21",
                                    "szall_mod": "NULL",
                                    "(No column name)": "3051320"
                                },
                                {
                                    "szall_datum": "2016-06-22",
                                    "szall_mod": "NULL",
                                    "(No column name)": "4029610"
                                },
                                {
                                    "szall_datum": "2016-06-23",
                                    "szall_mod": "NULL",
                                    "(No column name)": "3030420"
                                },
                                {
                                    "szall_datum": "2016-06-24",
                                    "szall_mod": "NULL",
                                    "(No column name)": "3068665"
                                },
                                {
                                    "szall_datum": "2016-06-25",
                                    "szall_mod": "NULL",
                                    "(No column name)": "4113940"
                                },
                                {
                                    "szall_datum": "2016-06-26",
                                    "szall_mod": "NULL",
                                    "(No column name)": "3095415"
                                },
                                {
                                    "szall_datum": "2016-06-27",
                                    "szall_mod": "NULL",
                                    "(No column name)": "3164230"
                                },
                                {
                                    "szall_datum": "2016-06-28",
                                    "szall_mod": "NULL",
                                    "(No column name)": "4126800"
                                },
                                {
                                    "szall_datum": "2016-06-29",
                                    "szall_mod": "NULL",
                                    "(No column name)": "3875630"
                                },
                                {
                                    "szall_datum": "2016-06-30",
                                    "szall_mod": "NULL",
                                    "(No column name)": "2336930"
                                },
                                {
                                    "szall_datum": "2016-07-01",
                                    "szall_mod": "NULL",
                                    "(No column name)": "5626970"
                                },
                                {
                                    "szall_datum": "2016-07-02",
                                    "szall_mod": "NULL",
                                    "(No column name)": "6503790"
                                },
                                {
                                    "szall_datum": "2016-07-03",
                                    "szall_mod": "NULL",
                                    "(No column name)": "3379190"
                                },
                                {
                                    "szall_datum": "2016-07-04",
                                    "szall_mod": "NULL",
                                    "(No column name)": "4566020"
                                },
                                {
                                    "szall_datum": "2016-07-05",
                                    "szall_mod": "NULL",
                                    "(No column name)": "5622320"
                                },
                                {
                                    "szall_datum": "2016-07-06",
                                    "szall_mod": "NULL",
                                    "(No column name)": "3294170"
                                },
                                {
                                    "szall_datum": "2016-07-07",
                                    "szall_mod": "NULL",
                                    "(No column name)": "3605370"
                                },
                                {
                                    "szall_datum": "2016-07-08",
                                    "szall_mod": "NULL",
                                    "(No column name)": "3643130"
                                },
                                {
                                    "szall_datum": "2016-07-09",
                                    "szall_mod": "NULL",
                                    "(No column name)": "3522470"
                                },
                                {
                                    "szall_datum": "2016-07-10",
                                    "szall_mod": "NULL",
                                    "(No column name)": "3590060"
                                },
                                {
                                    "szall_datum": "2016-07-11",
                                    "szall_mod": "NULL",
                                    "(No column name)": "3146150"
                                },
                                {
                                    "szall_datum": "2016-07-12",
                                    "szall_mod": "NULL",
                                    "(No column name)": "4999100"
                                },
                                {
                                    "szall_datum": "2016-07-13",
                                    "szall_mod": "NULL",
                                    "(No column name)": "3707230"
                                },
                                {
                                    "szall_datum": "2016-07-14",
                                    "szall_mod": "NULL",
                                    "(No column name)": "3522120"
                                },
                                {
                                    "szall_datum": "2016-07-15",
                                    "szall_mod": "NULL",
                                    "(No column name)": "3012125"
                                },
                                {
                                    "szall_datum": "2016-07-16",
                                    "szall_mod": "NULL",
                                    "(No column name)": "3959640"
                                },
                                {
                                    "szall_datum": "2016-07-17",
                                    "szall_mod": "NULL",
                                    "(No column name)": "2522420"
                                },
                                {
                                    "szall_datum": "2016-07-18",
                                    "szall_mod": "NULL",
                                    "(No column name)": "4172280"
                                },
                                {
                                    "szall_datum": "2016-07-19",
                                    "szall_mod": "NULL",
                                    "(No column name)": "7556340"
                                },
                                {
                                    "szall_datum": "2016-07-20",
                                    "szall_mod": "NULL",
                                    "(No column name)": "4060990"
                                },
                                {
                                    "szall_datum": "2016-07-21",
                                    "szall_mod": "NULL",
                                    "(No column name)": "4910540"
                                },
                                {
                                    "szall_datum": "2016-07-22",
                                    "szall_mod": "NULL",
                                    "(No column name)": "5036240"
                                },
                                {
                                    "szall_datum": "2016-07-23",
                                    "szall_mod": "NULL",
                                    "(No column name)": "2426190"
                                },
                                {
                                    "szall_datum": "2016-07-24",
                                    "szall_mod": "NULL",
                                    "(No column name)": "3005140"
                                },
                                {
                                    "szall_datum": "2016-07-25",
                                    "szall_mod": "NULL",
                                    "(No column name)": "2203910"
                                },
                                {
                                    "szall_datum": "2016-07-26",
                                    "szall_mod": "NULL",
                                    "(No column name)": "3728470"
                                },
                                {
                                    "szall_datum": "2016-07-27",
                                    "szall_mod": "NULL",
                                    "(No column name)": "3184280"
                                },
                                {
                                    "szall_datum": "2016-07-28",
                                    "szall_mod": "NULL",
                                    "(No column name)": "4365050"
                                },
                                {
                                    "szall_datum": "2016-07-29",
                                    "szall_mod": "NULL",
                                    "(No column name)": "3343890"
                                },
                                {
                                    "szall_datum": "2016-07-30",
                                    "szall_mod": "NULL",
                                    "(No column name)": "2655940"
                                },
                                {
                                    "szall_datum": "2016-07-31",
                                    "szall_mod": "NULL",
                                    "(No column name)": "5124680"
                                },
                                {
                                    "szall_datum": "2016-08-01",
                                    "szall_mod": "NULL",
                                    "(No column name)": "3024550"
                                },
                                {
                                    "szall_datum": "2016-08-02",
                                    "szall_mod": "NULL",
                                    "(No column name)": "2958850"
                                },
                                {
                                    "szall_datum": "2016-08-03",
                                    "szall_mod": "NULL",
                                    "(No column name)": "2898760"
                                },
                                {
                                    "szall_datum": "2016-08-04",
                                    "szall_mod": "NULL",
                                    "(No column name)": "3198220"
                                },
                                {
                                    "szall_datum": "2016-08-05",
                                    "szall_mod": "NULL",
                                    "(No column name)": "5606900"
                                },
                                {
                                    "szall_datum": "2016-08-06",
                                    "szall_mod": "NULL",
                                    "(No column name)": "2919510"
                                },
                                {
                                    "szall_datum": "2016-08-07",
                                    "szall_mod": "NULL",
                                    "(No column name)": "3192490"
                                },
                                {
                                    "szall_datum": "2016-08-08",
                                    "szall_mod": "NULL",
                                    "(No column name)": "3781250"
                                },
                                {
                                    "szall_datum": "2016-08-09",
                                    "szall_mod": "NULL",
                                    "(No column name)": "3239030"
                                },
                                {
                                    "szall_datum": "2016-08-10",
                                    "szall_mod": "NULL",
                                    "(No column name)": "3928210"
                                },
                                {
                                    "szall_datum": "2016-08-11",
                                    "szall_mod": "NULL",
                                    "(No column name)": "5403595"
                                },
                                {
                                    "szall_datum": "2016-08-12",
                                    "szall_mod": "NULL",
                                    "(No column name)": "7423420"
                                },
                                {
                                    "szall_datum": "2016-08-13",
                                    "szall_mod": "NULL",
                                    "(No column name)": "3947310"
                                },
                                {
                                    "szall_datum": "2016-08-14",
                                    "szall_mod": "NULL",
                                    "(No column name)": "3530780"
                                },
                                {
                                    "szall_datum": "2016-08-15",
                                    "szall_mod": "NULL",
                                    "(No column name)": "4693540"
                                },
                                {
                                    "szall_datum": "2016-08-16",
                                    "szall_mod": "NULL",
                                    "(No column name)": "3959660"
                                },
                                {
                                    "szall_datum": "2016-08-17",
                                    "szall_mod": "NULL",
                                    "(No column name)": "3696295"
                                },
                                {
                                    "szall_datum": "2016-08-18",
                                    "szall_mod": "NULL",
                                    "(No column name)": "2582810"
                                },
                                {
                                    "szall_datum": "2016-08-19",
                                    "szall_mod": "NULL",
                                    "(No column name)": "2090785"
                                },
                                {
                                    "szall_datum": "2016-08-20",
                                    "szall_mod": "NULL",
                                    "(No column name)": "4678060"
                                },
                                {
                                    "szall_datum": "2016-08-21",
                                    "szall_mod": "NULL",
                                    "(No column name)": "4487690"
                                },
                                {
                                    "szall_datum": "2016-08-22",
                                    "szall_mod": "NULL",
                                    "(No column name)": "3404100"
                                },
                                {
                                    "szall_datum": "2016-08-23",
                                    "szall_mod": "NULL",
                                    "(No column name)": "3292840"
                                },
                                {
                                    "szall_datum": "2016-08-24",
                                    "szall_mod": "NULL",
                                    "(No column name)": "5507535"
                                },
                                {
                                    "szall_datum": "2016-08-25",
                                    "szall_mod": "NULL",
                                    "(No column name)": "4704270"
                                },
                                {
                                    "szall_datum": "2016-08-26",
                                    "szall_mod": "NULL",
                                    "(No column name)": "3365120"
                                },
                                {
                                    "szall_datum": "2016-08-27",
                                    "szall_mod": "NULL",
                                    "(No column name)": "4927875"
                                },
                                {
                                    "szall_datum": "2016-08-28",
                                    "szall_mod": "NULL",
                                    "(No column name)": "5693150"
                                },
                                {
                                    "szall_datum": "2016-08-29",
                                    "szall_mod": "NULL",
                                    "(No column name)": "2683580"
                                },
                                {
                                    "szall_datum": "2016-08-30",
                                    "szall_mod": "NULL",
                                    "(No column name)": "2180910"
                                },
                                {
                                    "szall_datum": "2016-08-31",
                                    "szall_mod": "NULL",
                                    "(No column name)": "4480390"
                                },
                                {
                                    "szall_datum": "2016-09-01",
                                    "szall_mod": "NULL",
                                    "(No column name)": "4019600"
                                },
                                {
                                    "szall_datum": "2016-09-02",
                                    "szall_mod": "NULL",
                                    "(No column name)": "4154440"
                                },
                                {
                                    "szall_datum": "2016-09-03",
                                    "szall_mod": "NULL",
                                    "(No column name)": "3535280"
                                },
                                {
                                    "szall_datum": "2016-09-04",
                                    "szall_mod": "NULL",
                                    "(No column name)": "3746890"
                                },
                                {
                                    "szall_datum": "2016-09-05",
                                    "szall_mod": "NULL",
                                    "(No column name)": "5515190"
                                },
                                {
                                    "szall_datum": "2016-09-06",
                                    "szall_mod": "NULL",
                                    "(No column name)": "5204700"
                                },
                                {
                                    "szall_datum": "2016-09-07",
                                    "szall_mod": "NULL",
                                    "(No column name)": "5781100"
                                },
                                {
                                    "szall_datum": "2016-09-08",
                                    "szall_mod": "NULL",
                                    "(No column name)": "2602560"
                                },
                                {
                                    "szall_datum": "2016-09-09",
                                    "szall_mod": "NULL",
                                    "(No column name)": "6465250"
                                },
                                {
                                    "szall_datum": "2016-09-10",
                                    "szall_mod": "NULL",
                                    "(No column name)": "2920090"
                                },
                                {
                                    "szall_datum": "2016-09-11",
                                    "szall_mod": "NULL",
                                    "(No column name)": "5143500"
                                },
                                {
                                    "szall_datum": "2016-09-12",
                                    "szall_mod": "NULL",
                                    "(No column name)": "2640110"
                                },
                                {
                                    "szall_datum": "2016-09-13",
                                    "szall_mod": "NULL",
                                    "(No column name)": "3332160"
                                },
                                {
                                    "szall_datum": "2016-09-14",
                                    "szall_mod": "NULL",
                                    "(No column name)": "4838690"
                                },
                                {
                                    "szall_datum": "2016-09-15",
                                    "szall_mod": "NULL",
                                    "(No column name)": "3229410"
                                },
                                {
                                    "szall_datum": "2016-09-16",
                                    "szall_mod": "NULL",
                                    "(No column name)": "4742950"
                                },
                                {
                                    "szall_datum": "2016-09-17",
                                    "szall_mod": "NULL",
                                    "(No column name)": "2749110"
                                },
                                {
                                    "szall_datum": "2016-09-18",
                                    "szall_mod": "NULL",
                                    "(No column name)": "3522200"
                                },
                                {
                                    "szall_datum": "2016-09-19",
                                    "szall_mod": "NULL",
                                    "(No column name)": "2482300"
                                },
                                {
                                    "szall_datum": "2016-09-20",
                                    "szall_mod": "NULL",
                                    "(No column name)": "2439360"
                                },
                                {
                                    "szall_datum": "2016-09-21",
                                    "szall_mod": "NULL",
                                    "(No column name)": "4167540"
                                },
                                {
                                    "szall_datum": "2016-09-22",
                                    "szall_mod": "NULL",
                                    "(No column name)": "2940870"
                                },
                                {
                                    "szall_datum": "2016-09-23",
                                    "szall_mod": "NULL",
                                    "(No column name)": "3007410"
                                },
                                {
                                    "szall_datum": "2016-09-24",
                                    "szall_mod": "NULL",
                                    "(No column name)": "3212370"
                                },
                                {
                                    "szall_datum": "2016-09-25",
                                    "szall_mod": "NULL",
                                    "(No column name)": "3032280"
                                },
                                {
                                    "szall_datum": "2016-09-26",
                                    "szall_mod": "NULL",
                                    "(No column name)": "4666010"
                                },
                                {
                                    "szall_datum": "2016-09-27",
                                    "szall_mod": "NULL",
                                    "(No column name)": "4388290"
                                },
                                {
                                    "szall_datum": "2016-09-28",
                                    "szall_mod": "NULL",
                                    "(No column name)": "4607720"
                                },
                                {
                                    "szall_datum": "2016-09-29",
                                    "szall_mod": "NULL",
                                    "(No column name)": "3400750"
                                },
                                {
                                    "szall_datum": "2016-09-30",
                                    "szall_mod": "NULL",
                                    "(No column name)": "6260360"
                                },
                                {
                                    "szall_datum": "2016-10-01",
                                    "szall_mod": "NULL",
                                    "(No column name)": "3223690"
                                },
                                {
                                    "szall_datum": "2016-10-02",
                                    "szall_mod": "NULL",
                                    "(No column name)": "3508300"
                                },
                                {
                                    "szall_datum": "2016-10-03",
                                    "szall_mod": "NULL",
                                    "(No column name)": "3697160"
                                },
                                {
                                    "szall_datum": "2016-10-04",
                                    "szall_mod": "NULL",
                                    "(No column name)": "4546700"
                                },
                                {
                                    "szall_datum": "2016-10-05",
                                    "szall_mod": "NULL",
                                    "(No column name)": "4135140"
                                },
                                {
                                    "szall_datum": "2016-10-06",
                                    "szall_mod": "NULL",
                                    "(No column name)": "4203880"
                                },
                                {
                                    "szall_datum": "2016-10-07",
                                    "szall_mod": "NULL",
                                    "(No column name)": "3368120"
                                },
                                {
                                    "szall_datum": "2016-10-08",
                                    "szall_mod": "NULL",
                                    "(No column name)": "3595670"
                                },
                                {
                                    "szall_datum": "2016-10-09",
                                    "szall_mod": "NULL",
                                    "(No column name)": "3937930"
                                },
                                {
                                    "szall_datum": "2016-10-10",
                                    "szall_mod": "NULL",
                                    "(No column name)": "3686210"
                                },
                                {
                                    "szall_datum": "2016-10-11",
                                    "szall_mod": "NULL",
                                    "(No column name)": "5358090"
                                },
                                {
                                    "szall_datum": "2016-10-12",
                                    "szall_mod": "NULL",
                                    "(No column name)": "2833460"
                                },
                                {
                                    "szall_datum": "2016-10-13",
                                    "szall_mod": "NULL",
                                    "(No column name)": "3175310"
                                },
                                {
                                    "szall_datum": "2016-10-14",
                                    "szall_mod": "NULL",
                                    "(No column name)": "2143890"
                                },
                                {
                                    "szall_datum": "2016-10-15",
                                    "szall_mod": "NULL",
                                    "(No column name)": "4817920"
                                },
                                {
                                    "szall_datum": "2016-10-16",
                                    "szall_mod": "NULL",
                                    "(No column name)": "3392030"
                                },
                                {
                                    "szall_datum": "2016-10-17",
                                    "szall_mod": "NULL",
                                    "(No column name)": "4133120"
                                },
                                {
                                    "szall_datum": "2016-10-18",
                                    "szall_mod": "NULL",
                                    "(No column name)": "3793130"
                                },
                                {
                                    "szall_datum": "2016-10-19",
                                    "szall_mod": "NULL",
                                    "(No column name)": "3355640"
                                },
                                {
                                    "szall_datum": "2016-10-20",
                                    "szall_mod": "NULL",
                                    "(No column name)": "2862130"
                                },
                                {
                                    "szall_datum": "2016-10-21",
                                    "szall_mod": "NULL",
                                    "(No column name)": "5998000"
                                },
                                {
                                    "szall_datum": "2016-10-22",
                                    "szall_mod": "NULL",
                                    "(No column name)": "4802960"
                                },
                                {
                                    "szall_datum": "2016-10-23",
                                    "szall_mod": "NULL",
                                    "(No column name)": "3303990"
                                },
                                {
                                    "szall_datum": "2016-10-24",
                                    "szall_mod": "NULL",
                                    "(No column name)": "2426650"
                                },
                                {
                                    "szall_datum": "2016-10-25",
                                    "szall_mod": "NULL",
                                    "(No column name)": "5527330"
                                },
                                {
                                    "szall_datum": "2016-10-26",
                                    "szall_mod": "NULL",
                                    "(No column name)": "2044500"
                                },
                                {
                                    "szall_datum": "2016-10-27",
                                    "szall_mod": "NULL",
                                    "(No column name)": "4381730"
                                },
                                {
                                    "szall_datum": "2016-10-28",
                                    "szall_mod": "NULL",
                                    "(No column name)": "4801700"
                                },
                                {
                                    "szall_datum": "2016-10-29",
                                    "szall_mod": "NULL",
                                    "(No column name)": "2365950"
                                },
                                {
                                    "szall_datum": "2016-10-30",
                                    "szall_mod": "NULL",
                                    "(No column name)": "5346950"
                                },
                                {
                                    "szall_datum": "2016-10-31",
                                    "szall_mod": "NULL",
                                    "(No column name)": "4206350"
                                },
                                {
                                    "szall_datum": "2016-11-01",
                                    "szall_mod": "NULL",
                                    "(No column name)": "3810310"
                                },
                                {
                                    "szall_datum": "2016-11-02",
                                    "szall_mod": "NULL",
                                    "(No column name)": "4134550"
                                },
                                {
                                    "szall_datum": "2016-11-03",
                                    "szall_mod": "NULL",
                                    "(No column name)": "2070120"
                                },
                                {
                                    "szall_datum": "2016-11-04",
                                    "szall_mod": "NULL",
                                    "(No column name)": "2660990"
                                },
                                {
                                    "szall_datum": "2016-11-05",
                                    "szall_mod": "NULL",
                                    "(No column name)": "4376940"
                                },
                                {
                                    "szall_datum": "2016-11-06",
                                    "szall_mod": "NULL",
                                    "(No column name)": "2934230"
                                },
                                {
                                    "szall_datum": "2016-11-07",
                                    "szall_mod": "NULL",
                                    "(No column name)": "3240720"
                                },
                                {
                                    "szall_datum": "2016-11-08",
                                    "szall_mod": "NULL",
                                    "(No column name)": "4745970"
                                },
                                {
                                    "szall_datum": "2016-11-09",
                                    "szall_mod": "NULL",
                                    "(No column name)": "3419490"
                                },
                                {
                                    "szall_datum": "2016-11-10",
                                    "szall_mod": "NULL",
                                    "(No column name)": "2982710"
                                },
                                {
                                    "szall_datum": "2016-11-11",
                                    "szall_mod": "NULL",
                                    "(No column name)": "1632010"
                                },
                                {
                                    "szall_datum": "2016-11-12",
                                    "szall_mod": "NULL",
                                    "(No column name)": "3565560"
                                },
                                {
                                    "szall_datum": "2016-11-13",
                                    "szall_mod": "NULL",
                                    "(No column name)": "4414500"
                                },
                                {
                                    "szall_datum": "2016-11-14",
                                    "szall_mod": "NULL",
                                    "(No column name)": "3847170"
                                },
                                {
                                    "szall_datum": "2016-11-15",
                                    "szall_mod": "NULL",
                                    "(No column name)": "2154840"
                                },
                                {
                                    "szall_datum": "2016-11-16",
                                    "szall_mod": "NULL",
                                    "(No column name)": "4975740"
                                },
                                {
                                    "szall_datum": "2016-11-17",
                                    "szall_mod": "NULL",
                                    "(No column name)": "2940710"
                                },
                                {
                                    "szall_datum": "2016-11-18",
                                    "szall_mod": "NULL",
                                    "(No column name)": "2942410"
                                },
                                {
                                    "szall_datum": "2016-11-19",
                                    "szall_mod": "NULL",
                                    "(No column name)": "3229010"
                                },
                                {
                                    "szall_datum": "2016-11-20",
                                    "szall_mod": "NULL",
                                    "(No column name)": "4476570"
                                },
                                {
                                    "szall_datum": "2016-11-21",
                                    "szall_mod": "NULL",
                                    "(No column name)": "5478410"
                                },
                                {
                                    "szall_datum": "2016-11-22",
                                    "szall_mod": "NULL",
                                    "(No column name)": "4054580"
                                },
                                {
                                    "szall_datum": "2016-11-23",
                                    "szall_mod": "NULL",
                                    "(No column name)": "2800110"
                                },
                                {
                                    "szall_datum": "2016-11-24",
                                    "szall_mod": "NULL",
                                    "(No column name)": "4208630"
                                },
                                {
                                    "szall_datum": "2016-11-25",
                                    "szall_mod": "NULL",
                                    "(No column name)": "2882610"
                                },
                                {
                                    "szall_datum": "2016-11-26",
                                    "szall_mod": "NULL",
                                    "(No column name)": "6389340"
                                },
                                {
                                    "szall_datum": "2016-11-27",
                                    "szall_mod": "NULL",
                                    "(No column name)": "3834130"
                                },
                                {
                                    "szall_datum": "2016-11-28",
                                    "szall_mod": "NULL",
                                    "(No column name)": "3643310"
                                },
                                {
                                    "szall_datum": "2016-11-29",
                                    "szall_mod": "NULL",
                                    "(No column name)": "4522490"
                                },
                                {
                                    "szall_datum": "2016-11-30",
                                    "szall_mod": "NULL",
                                    "(No column name)": "3666830"
                                },
                                {
                                    "szall_datum": "2016-12-01",
                                    "szall_mod": "NULL",
                                    "(No column name)": "4173130"
                                },
                                {
                                    "szall_datum": "2016-12-02",
                                    "szall_mod": "NULL",
                                    "(No column name)": "2724270"
                                },
                                {
                                    "szall_datum": "2016-12-03",
                                    "szall_mod": "NULL",
                                    "(No column name)": "1766960"
                                },
                                {
                                    "szall_datum": "2016-12-04",
                                    "szall_mod": "NULL",
                                    "(No column name)": "6064530"
                                },
                                {
                                    "szall_datum": "2016-12-05",
                                    "szall_mod": "NULL",
                                    "(No column name)": "5203220"
                                },
                                {
                                    "szall_datum": "2016-12-06",
                                    "szall_mod": "NULL",
                                    "(No column name)": "2775800"
                                },
                                {
                                    "szall_datum": "2016-12-07",
                                    "szall_mod": "NULL",
                                    "(No column name)": "4354410"
                                },
                                {
                                    "szall_datum": "2016-12-08",
                                    "szall_mod": "NULL",
                                    "(No column name)": "3776910"
                                },
                                {
                                    "szall_datum": "2016-12-09",
                                    "szall_mod": "NULL",
                                    "(No column name)": "2747150"
                                },
                                {
                                    "szall_datum": "2016-12-10",
                                    "szall_mod": "NULL",
                                    "(No column name)": "5009260"
                                },
                                {
                                    "szall_datum": "2016-12-11",
                                    "szall_mod": "NULL",
                                    "(No column name)": "4416850"
                                },
                                {
                                    "szall_datum": "2016-12-12",
                                    "szall_mod": "NULL",
                                    "(No column name)": "3128300"
                                },
                                {
                                    "szall_datum": "2016-12-13",
                                    "szall_mod": "NULL",
                                    "(No column name)": "2727440"
                                },
                                {
                                    "szall_datum": "2016-12-14",
                                    "szall_mod": "NULL",
                                    "(No column name)": "2757990"
                                },
                                {
                                    "szall_datum": "2016-12-15",
                                    "szall_mod": "NULL",
                                    "(No column name)": "2473800"
                                },
                                {
                                    "szall_datum": "2016-12-16",
                                    "szall_mod": "NULL",
                                    "(No column name)": "2729250"
                                },
                                {
                                    "szall_datum": "2016-12-17",
                                    "szall_mod": "NULL",
                                    "(No column name)": "2924470"
                                },
                                {
                                    "szall_datum": "2016-12-18",
                                    "szall_mod": "NULL",
                                    "(No column name)": "3602920"
                                },
                                {
                                    "szall_datum": "2016-12-19",
                                    "szall_mod": "NULL",
                                    "(No column name)": "1502450"
                                },
                                {
                                    "szall_datum": "2016-12-20",
                                    "szall_mod": "NULL",
                                    "(No column name)": "2110790"
                                },
                                {
                                    "szall_datum": "2016-12-21",
                                    "szall_mod": "NULL",
                                    "(No column name)": "4636650"
                                },
                                {
                                    "szall_datum": "2016-12-22",
                                    "szall_mod": "NULL",
                                    "(No column name)": "5453660"
                                },
                                {
                                    "szall_datum": "2016-12-23",
                                    "szall_mod": "NULL",
                                    "(No column name)": "7098400"
                                },
                                {
                                    "szall_datum": "2016-12-24",
                                    "szall_mod": "NULL",
                                    "(No column name)": "2677970"
                                },
                                {
                                    "szall_datum": "2016-12-25",
                                    "szall_mod": "NULL",
                                    "(No column name)": "5370300"
                                },
                                {
                                    "szall_datum": "2016-12-26",
                                    "szall_mod": "NULL",
                                    "(No column name)": "3496920"
                                },
                                {
                                    "szall_datum": "2016-12-27",
                                    "szall_mod": "NULL",
                                    "(No column name)": "4161440"
                                },
                                {
                                    "szall_datum": "2016-12-28",
                                    "szall_mod": "NULL",
                                    "(No column name)": "3105280"
                                },
                                {
                                    "szall_datum": "2016-12-29",
                                    "szall_mod": "NULL",
                                    "(No column name)": "7708300"
                                },
                                {
                                    "szall_datum": "2016-12-30",
                                    "szall_mod": "NULL",
                                    "(No column name)": "4112740"
                                },
                                {
                                    "szall_datum": "2016-12-31",
                                    "szall_mod": "NULL",
                                    "(No column name)": "2452130"
                                },
                                {
                                    "szall_datum": "2017-01-01",
                                    "szall_mod": "NULL",
                                    "(No column name)": "2866240"
                                },
                                {
                                    "szall_datum": "2017-01-02",
                                    "szall_mod": "NULL",
                                    "(No column name)": "2636450"
                                },
                                {
                                    "szall_datum": "2017-01-03",
                                    "szall_mod": "NULL",
                                    "(No column name)": "2485770"
                                },
                                {
                                    "szall_datum": "2017-01-04",
                                    "szall_mod": "NULL",
                                    "(No column name)": "3817130"
                                },
                                {
                                    "szall_datum": "2017-01-05",
                                    "szall_mod": "NULL",
                                    "(No column name)": "4753550"
                                },
                                {
                                    "szall_datum": "2017-01-06",
                                    "szall_mod": "NULL",
                                    "(No column name)": "6881010"
                                },
                                {
                                    "szall_datum": "2017-01-07",
                                    "szall_mod": "NULL",
                                    "(No column name)": "3503190"
                                },
                                {
                                    "szall_datum": "2017-01-08",
                                    "szall_mod": "NULL",
                                    "(No column name)": "2999140"
                                },
                                {
                                    "szall_datum": "2017-01-09",
                                    "szall_mod": "NULL",
                                    "(No column name)": "5695280"
                                },
                                {
                                    "szall_datum": "2017-01-10",
                                    "szall_mod": "NULL",
                                    "(No column name)": "2346540"
                                },
                                {
                                    "szall_datum": "2017-01-11",
                                    "szall_mod": "NULL",
                                    "(No column name)": "2594980"
                                },
                                {
                                    "szall_datum": "2017-01-12",
                                    "szall_mod": "NULL",
                                    "(No column name)": "4505710"
                                },
                                {
                                    "szall_datum": "2017-01-13",
                                    "szall_mod": "NULL",
                                    "(No column name)": "3513310"
                                },
                                {
                                    "szall_datum": "2017-01-14",
                                    "szall_mod": "NULL",
                                    "(No column name)": "2623070"
                                },
                                {
                                    "szall_datum": "2017-01-15",
                                    "szall_mod": "NULL",
                                    "(No column name)": "2600350"
                                },
                                {
                                    "szall_datum": "2017-01-16",
                                    "szall_mod": "NULL",
                                    "(No column name)": "5536120"
                                },
                                {
                                    "szall_datum": "2017-01-17",
                                    "szall_mod": "NULL",
                                    "(No column name)": "4087990"
                                },
                                {
                                    "szall_datum": "2017-01-18",
                                    "szall_mod": "NULL",
                                    "(No column name)": "4276140"
                                },
                                {
                                    "szall_datum": "2017-01-19",
                                    "szall_mod": "NULL",
                                    "(No column name)": "5190740"
                                },
                                {
                                    "szall_datum": "2017-01-20",
                                    "szall_mod": "NULL",
                                    "(No column name)": "2531960"
                                },
                                {
                                    "szall_datum": "2017-01-21",
                                    "szall_mod": "NULL",
                                    "(No column name)": "3101420"
                                },
                                {
                                    "szall_datum": "2017-01-22",
                                    "szall_mod": "NULL",
                                    "(No column name)": "5888190"
                                },
                                {
                                    "szall_datum": "2017-01-23",
                                    "szall_mod": "NULL",
                                    "(No column name)": "3816340"
                                },
                                {
                                    "szall_datum": "2017-01-24",
                                    "szall_mod": "NULL",
                                    "(No column name)": "2873100"
                                },
                                {
                                    "szall_datum": "2017-01-25",
                                    "szall_mod": "NULL",
                                    "(No column name)": "2209220"
                                },
                                {
                                    "szall_datum": "2017-01-26",
                                    "szall_mod": "NULL",
                                    "(No column name)": "3290520"
                                },
                                {
                                    "szall_datum": "2017-01-27",
                                    "szall_mod": "NULL",
                                    "(No column name)": "2246560"
                                },
                                {
                                    "szall_datum": "2017-01-28",
                                    "szall_mod": "NULL",
                                    "(No column name)": "3915170"
                                },
                                {
                                    "szall_datum": "2017-01-29",
                                    "szall_mod": "NULL",
                                    "(No column name)": "2695600"
                                },
                                {
                                    "szall_datum": "2017-01-30",
                                    "szall_mod": "NULL",
                                    "(No column name)": "2806230"
                                },
                                {
                                    "szall_datum": "2017-01-31",
                                    "szall_mod": "NULL",
                                    "(No column name)": "3749270"
                                },
                                {
                                    "szall_datum": "2017-02-01",
                                    "szall_mod": "NULL",
                                    "(No column name)": "2521980"
                                },
                                {
                                    "szall_datum": "2017-02-02",
                                    "szall_mod": "NULL",
                                    "(No column name)": "6191180"
                                },
                                {
                                    "szall_datum": "2017-02-03",
                                    "szall_mod": "NULL",
                                    "(No column name)": "2797950"
                                },
                                {
                                    "szall_datum": "2017-02-04",
                                    "szall_mod": "NULL",
                                    "(No column name)": "3090370"
                                },
                                {
                                    "szall_datum": "2017-02-05",
                                    "szall_mod": "NULL",
                                    "(No column name)": "3008040"
                                },
                                {
                                    "szall_datum": "2017-02-06",
                                    "szall_mod": "NULL",
                                    "(No column name)": "2115070"
                                },
                                {
                                    "szall_datum": "2017-02-07",
                                    "szall_mod": "NULL",
                                    "(No column name)": "2923960"
                                },
                                {
                                    "szall_datum": "2017-02-08",
                                    "szall_mod": "NULL",
                                    "(No column name)": "5423560"
                                },
                                {
                                    "szall_datum": "2017-02-09",
                                    "szall_mod": "NULL",
                                    "(No column name)": "3377340"
                                },
                                {
                                    "szall_datum": "2017-02-10",
                                    "szall_mod": "NULL",
                                    "(No column name)": "3715320"
                                },
                                {
                                    "szall_datum": "2017-02-11",
                                    "szall_mod": "NULL",
                                    "(No column name)": "2909970"
                                },
                                {
                                    "szall_datum": "2017-02-12",
                                    "szall_mod": "NULL",
                                    "(No column name)": "2915860"
                                },
                                {
                                    "szall_datum": "2017-02-13",
                                    "szall_mod": "NULL",
                                    "(No column name)": "3469680"
                                },
                                {
                                    "szall_datum": "2017-02-14",
                                    "szall_mod": "NULL",
                                    "(No column name)": "7073830"
                                },
                                {
                                    "szall_datum": "2017-02-15",
                                    "szall_mod": "NULL",
                                    "(No column name)": "2641700"
                                },
                                {
                                    "szall_datum": "2017-02-16",
                                    "szall_mod": "NULL",
                                    "(No column name)": "4293370"
                                },
                                {
                                    "szall_datum": "2017-02-17",
                                    "szall_mod": "NULL",
                                    "(No column name)": "3121880"
                                },
                                {
                                    "szall_datum": "2017-02-18",
                                    "szall_mod": "NULL",
                                    "(No column name)": "4031350"
                                },
                                {
                                    "szall_datum": "2017-02-19",
                                    "szall_mod": "NULL",
                                    "(No column name)": "3865240"
                                },
                                {
                                    "szall_datum": "2017-02-20",
                                    "szall_mod": "NULL",
                                    "(No column name)": "1912120"
                                },
                                {
                                    "szall_datum": "2017-02-21",
                                    "szall_mod": "NULL",
                                    "(No column name)": "2663390"
                                },
                                {
                                    "szall_datum": "2017-02-22",
                                    "szall_mod": "NULL",
                                    "(No column name)": "2637920"
                                },
                                {
                                    "szall_datum": "2017-02-23",
                                    "szall_mod": "NULL",
                                    "(No column name)": "3854940"
                                },
                                {
                                    "szall_datum": "2017-02-24",
                                    "szall_mod": "NULL",
                                    "(No column name)": "3262950"
                                },
                                {
                                    "szall_datum": "2017-02-25",
                                    "szall_mod": "NULL",
                                    "(No column name)": "3244810"
                                },
                                {
                                    "szall_datum": "2017-02-26",
                                    "szall_mod": "NULL",
                                    "(No column name)": "2950680"
                                },
                                {
                                    "szall_datum": "2017-02-27",
                                    "szall_mod": "NULL",
                                    "(No column name)": "2921740"
                                },
                                {
                                    "szall_datum": "2017-02-28",
                                    "szall_mod": "NULL",
                                    "(No column name)": "4445640"
                                },
                                {
                                    "szall_datum": "2017-03-01",
                                    "szall_mod": "NULL",
                                    "(No column name)": "6098830"
                                },
                                {
                                    "szall_datum": "2017-03-02",
                                    "szall_mod": "NULL",
                                    "(No column name)": "2379280"
                                },
                                {
                                    "szall_datum": "2017-03-03",
                                    "szall_mod": "NULL",
                                    "(No column name)": "5160190"
                                },
                                {
                                    "szall_datum": "2017-03-04",
                                    "szall_mod": "NULL",
                                    "(No column name)": "1789340"
                                },
                                {
                                    "szall_datum": "2017-03-05",
                                    "szall_mod": "NULL",
                                    "(No column name)": "4498920"
                                },
                                {
                                    "szall_datum": "2017-03-06",
                                    "szall_mod": "NULL",
                                    "(No column name)": "4970220"
                                },
                                {
                                    "szall_datum": "2017-03-07",
                                    "szall_mod": "NULL",
                                    "(No column name)": "4022740"
                                },
                                {
                                    "szall_datum": "2017-03-08",
                                    "szall_mod": "NULL",
                                    "(No column name)": "3193130"
                                },
                                {
                                    "szall_datum": "2017-03-09",
                                    "szall_mod": "NULL",
                                    "(No column name)": "3529190"
                                },
                                {
                                    "szall_datum": "2017-03-10",
                                    "szall_mod": "NULL",
                                    "(No column name)": "4104060"
                                },
                                {
                                    "szall_datum": "2017-03-11",
                                    "szall_mod": "NULL",
                                    "(No column name)": "2408380"
                                },
                                {
                                    "szall_datum": "2017-03-12",
                                    "szall_mod": "NULL",
                                    "(No column name)": "3416540"
                                },
                                {
                                    "szall_datum": "2017-03-13",
                                    "szall_mod": "NULL",
                                    "(No column name)": "2669120"
                                },
                                {
                                    "szall_datum": "2017-03-14",
                                    "szall_mod": "NULL",
                                    "(No column name)": "2760380"
                                },
                                {
                                    "szall_datum": "2017-03-15",
                                    "szall_mod": "NULL",
                                    "(No column name)": "4597730"
                                },
                                {
                                    "szall_datum": "2017-03-16",
                                    "szall_mod": "NULL",
                                    "(No column name)": "5074910"
                                },
                                {
                                    "szall_datum": "2017-03-17",
                                    "szall_mod": "NULL",
                                    "(No column name)": "3133970"
                                },
                                {
                                    "szall_datum": "2017-03-18",
                                    "szall_mod": "NULL",
                                    "(No column name)": "3113810"
                                },
                                {
                                    "szall_datum": "2017-03-19",
                                    "szall_mod": "NULL",
                                    "(No column name)": "4777450"
                                },
                                {
                                    "szall_datum": "2017-03-20",
                                    "szall_mod": "NULL",
                                    "(No column name)": "3504390"
                                },
                                {
                                    "szall_datum": "2017-03-21",
                                    "szall_mod": "NULL",
                                    "(No column name)": "3462950"
                                },
                                {
                                    "szall_datum": "2017-03-22",
                                    "szall_mod": "NULL",
                                    "(No column name)": "3410240"
                                },
                                {
                                    "szall_datum": "2017-03-23",
                                    "szall_mod": "NULL",
                                    "(No column name)": "3391040"
                                },
                                {
                                    "szall_datum": "2017-03-24",
                                    "szall_mod": "NULL",
                                    "(No column name)": "5062310"
                                },
                                {
                                    "szall_datum": "2017-03-25",
                                    "szall_mod": "NULL",
                                    "(No column name)": "3655840"
                                },
                                {
                                    "szall_datum": "2017-03-26",
                                    "szall_mod": "NULL",
                                    "(No column name)": "6625820"
                                },
                                {
                                    "szall_datum": "2017-03-27",
                                    "szall_mod": "NULL",
                                    "(No column name)": "3224540"
                                },
                                {
                                    "szall_datum": "2017-03-28",
                                    "szall_mod": "NULL",
                                    "(No column name)": "3504060"
                                },
                                {
                                    "szall_datum": "2017-03-29",
                                    "szall_mod": "NULL",
                                    "(No column name)": "3530000"
                                },
                                {
                                    "szall_datum": "2017-03-30",
                                    "szall_mod": "NULL",
                                    "(No column name)": "4791940"
                                },
                                {
                                    "szall_datum": "2017-03-31",
                                    "szall_mod": "NULL",
                                    "(No column name)": "2883800"
                                },
                                {
                                    "szall_datum": "2017-04-01",
                                    "szall_mod": "NULL",
                                    "(No column name)": "3668460"
                                },
                                {
                                    "szall_datum": "2017-04-02",
                                    "szall_mod": "NULL",
                                    "(No column name)": "3275900"
                                },
                                {
                                    "szall_datum": "2017-04-03",
                                    "szall_mod": "NULL",
                                    "(No column name)": "2272470"
                                },
                                {
                                    "szall_datum": "2017-04-04",
                                    "szall_mod": "NULL",
                                    "(No column name)": "2014040"
                                },
                                {
                                    "szall_datum": "2017-04-05",
                                    "szall_mod": "NULL",
                                    "(No column name)": "2354780"
                                },
                                {
                                    "szall_datum": "2017-04-06",
                                    "szall_mod": "NULL",
                                    "(No column name)": "2016810"
                                },
                                {
                                    "szall_datum": "2017-04-07",
                                    "szall_mod": "NULL",
                                    "(No column name)": "3519220"
                                },
                                {
                                    "szall_datum": "2017-04-08",
                                    "szall_mod": "NULL",
                                    "(No column name)": "2182420"
                                },
                                {
                                    "szall_datum": "2017-04-09",
                                    "szall_mod": "NULL",
                                    "(No column name)": "1596740"
                                },
                                {
                                    "szall_datum": "2017-04-10",
                                    "szall_mod": "NULL",
                                    "(No column name)": "283520"
                                },
                                {
                                    "szall_datum": "2017-04-11",
                                    "szall_mod": "NULL",
                                    "(No column name)": "132070"
                                },
                                {
                                    "szall_datum": "NULL",
                                    "szall_mod": "NULL",
                                    "(No column name)": "2611634603"
                                }
                            ]
                        },
                        "text/html": [
                            "<table>",
                            "<tr><th>szall_datum</th><th>szall_mod</th><th>(No column name)</th></tr>",
                            "<tr><td>2015-05-03</td><td>NULL</td><td>8190</td></tr>",
                            "<tr><td>2015-05-04</td><td>NULL</td><td>390584</td></tr>",
                            "<tr><td>2015-05-05</td><td>NULL</td><td>884072</td></tr>",
                            "<tr><td>2015-05-06</td><td>NULL</td><td>1497963</td></tr>",
                            "<tr><td>2015-05-07</td><td>NULL</td><td>1373651</td></tr>",
                            "<tr><td>2015-05-08</td><td>NULL</td><td>2100941</td></tr>",
                            "<tr><td>2015-05-09</td><td>NULL</td><td>2826673</td></tr>",
                            "<tr><td>2015-05-10</td><td>NULL</td><td>2220193</td></tr>",
                            "<tr><td>2015-05-11</td><td>NULL</td><td>3584145</td></tr>",
                            "<tr><td>2015-05-12</td><td>NULL</td><td>2824954</td></tr>",
                            "<tr><td>2015-05-13</td><td>NULL</td><td>2414838</td></tr>",
                            "<tr><td>2015-05-14</td><td>NULL</td><td>6251647</td></tr>",
                            "<tr><td>2015-05-15</td><td>NULL</td><td>2457001</td></tr>",
                            "<tr><td>2015-05-16</td><td>NULL</td><td>5324416</td></tr>",
                            "<tr><td>2015-05-17</td><td>NULL</td><td>1610255</td></tr>",
                            "<tr><td>2015-05-18</td><td>NULL</td><td>3114579</td></tr>",
                            "<tr><td>2015-05-19</td><td>NULL</td><td>4359132</td></tr>",
                            "<tr><td>2015-05-20</td><td>NULL</td><td>5307348</td></tr>",
                            "<tr><td>2015-05-21</td><td>NULL</td><td>2048966</td></tr>",
                            "<tr><td>2015-05-22</td><td>NULL</td><td>2315087</td></tr>",
                            "<tr><td>2015-05-23</td><td>NULL</td><td>1760510</td></tr>",
                            "<tr><td>2015-05-24</td><td>NULL</td><td>2828456</td></tr>",
                            "<tr><td>2015-05-25</td><td>NULL</td><td>2495704</td></tr>",
                            "<tr><td>2015-05-26</td><td>NULL</td><td>3522520</td></tr>",
                            "<tr><td>2015-05-27</td><td>NULL</td><td>4077216</td></tr>",
                            "<tr><td>2015-05-28</td><td>NULL</td><td>6200672</td></tr>",
                            "<tr><td>2015-05-29</td><td>NULL</td><td>4826823</td></tr>",
                            "<tr><td>2015-05-30</td><td>NULL</td><td>3010532</td></tr>",
                            "<tr><td>2015-05-31</td><td>NULL</td><td>4415992</td></tr>",
                            "<tr><td>2015-06-01</td><td>NULL</td><td>3515327</td></tr>",
                            "<tr><td>2015-06-02</td><td>NULL</td><td>3230846</td></tr>",
                            "<tr><td>2015-06-03</td><td>NULL</td><td>1920528</td></tr>",
                            "<tr><td>2015-06-04</td><td>NULL</td><td>2913725</td></tr>",
                            "<tr><td>2015-06-05</td><td>NULL</td><td>3607934</td></tr>",
                            "<tr><td>2015-06-06</td><td>NULL</td><td>7191012</td></tr>",
                            "<tr><td>2015-06-07</td><td>NULL</td><td>4633726</td></tr>",
                            "<tr><td>2015-06-08</td><td>NULL</td><td>5378322</td></tr>",
                            "<tr><td>2015-06-09</td><td>NULL</td><td>2616010</td></tr>",
                            "<tr><td>2015-06-10</td><td>NULL</td><td>3274633</td></tr>",
                            "<tr><td>2015-06-11</td><td>NULL</td><td>2972214</td></tr>",
                            "<tr><td>2015-06-12</td><td>NULL</td><td>4612567</td></tr>",
                            "<tr><td>2015-06-13</td><td>NULL</td><td>3130790</td></tr>",
                            "<tr><td>2015-06-14</td><td>NULL</td><td>3673966</td></tr>",
                            "<tr><td>2015-06-15</td><td>NULL</td><td>1972553</td></tr>",
                            "<tr><td>2015-06-16</td><td>NULL</td><td>4114721</td></tr>",
                            "<tr><td>2015-06-17</td><td>NULL</td><td>2782408</td></tr>",
                            "<tr><td>2015-06-18</td><td>NULL</td><td>2932302</td></tr>",
                            "<tr><td>2015-06-19</td><td>NULL</td><td>2424658</td></tr>",
                            "<tr><td>2015-06-20</td><td>NULL</td><td>2797712</td></tr>",
                            "<tr><td>2015-06-21</td><td>NULL</td><td>2974633</td></tr>",
                            "<tr><td>2015-06-22</td><td>NULL</td><td>3627305</td></tr>",
                            "<tr><td>2015-06-23</td><td>NULL</td><td>3821260</td></tr>",
                            "<tr><td>2015-06-24</td><td>NULL</td><td>1996744</td></tr>",
                            "<tr><td>2015-06-25</td><td>NULL</td><td>4215618</td></tr>",
                            "<tr><td>2015-06-26</td><td>NULL</td><td>5005276</td></tr>",
                            "<tr><td>2015-06-27</td><td>NULL</td><td>2693936</td></tr>",
                            "<tr><td>2015-06-28</td><td>NULL</td><td>1464861</td></tr>",
                            "<tr><td>2015-06-29</td><td>NULL</td><td>6500077</td></tr>",
                            "<tr><td>2015-06-30</td><td>NULL</td><td>2119355</td></tr>",
                            "<tr><td>2015-07-01</td><td>NULL</td><td>1611434</td></tr>",
                            "<tr><td>2015-07-02</td><td>NULL</td><td>2722605</td></tr>",
                            "<tr><td>2015-07-03</td><td>NULL</td><td>3434124</td></tr>",
                            "<tr><td>2015-07-04</td><td>NULL</td><td>2582901</td></tr>",
                            "<tr><td>2015-07-05</td><td>NULL</td><td>3580972</td></tr>",
                            "<tr><td>2015-07-06</td><td>NULL</td><td>2436755</td></tr>",
                            "<tr><td>2015-07-07</td><td>NULL</td><td>5472802</td></tr>",
                            "<tr><td>2015-07-08</td><td>NULL</td><td>3163107</td></tr>",
                            "<tr><td>2015-07-09</td><td>NULL</td><td>2957945</td></tr>",
                            "<tr><td>2015-07-10</td><td>NULL</td><td>1726251</td></tr>",
                            "<tr><td>2015-07-11</td><td>NULL</td><td>2126805</td></tr>",
                            "<tr><td>2015-07-12</td><td>NULL</td><td>3527192</td></tr>",
                            "<tr><td>2015-07-13</td><td>NULL</td><td>2863495</td></tr>",
                            "<tr><td>2015-07-14</td><td>NULL</td><td>3809316</td></tr>",
                            "<tr><td>2015-07-15</td><td>NULL</td><td>4304620</td></tr>",
                            "<tr><td>2015-07-16</td><td>NULL</td><td>2294675</td></tr>",
                            "<tr><td>2015-07-17</td><td>NULL</td><td>1844074</td></tr>",
                            "<tr><td>2015-07-18</td><td>NULL</td><td>2982773</td></tr>",
                            "<tr><td>2015-07-19</td><td>NULL</td><td>2402939</td></tr>",
                            "<tr><td>2015-07-20</td><td>NULL</td><td>3703316</td></tr>",
                            "<tr><td>2015-07-21</td><td>NULL</td><td>3589433</td></tr>",
                            "<tr><td>2015-07-22</td><td>NULL</td><td>2362309</td></tr>",
                            "<tr><td>2015-07-23</td><td>NULL</td><td>4083557</td></tr>",
                            "<tr><td>2015-07-24</td><td>NULL</td><td>3384272</td></tr>",
                            "<tr><td>2015-07-25</td><td>NULL</td><td>3248181</td></tr>",
                            "<tr><td>2015-07-26</td><td>NULL</td><td>2777039</td></tr>",
                            "<tr><td>2015-07-27</td><td>NULL</td><td>2090060</td></tr>",
                            "<tr><td>2015-07-28</td><td>NULL</td><td>2056111</td></tr>",
                            "<tr><td>2015-07-29</td><td>NULL</td><td>2245026</td></tr>",
                            "<tr><td>2015-07-30</td><td>NULL</td><td>4965543</td></tr>",
                            "<tr><td>2015-07-31</td><td>NULL</td><td>5542768</td></tr>",
                            "<tr><td>2015-08-01</td><td>NULL</td><td>2682358</td></tr>",
                            "<tr><td>2015-08-02</td><td>NULL</td><td>4377401</td></tr>",
                            "<tr><td>2015-08-03</td><td>NULL</td><td>3764381</td></tr>",
                            "<tr><td>2015-08-04</td><td>NULL</td><td>4025021</td></tr>",
                            "<tr><td>2015-08-05</td><td>NULL</td><td>2623729</td></tr>",
                            "<tr><td>2015-08-06</td><td>NULL</td><td>2307523</td></tr>",
                            "<tr><td>2015-08-07</td><td>NULL</td><td>4131067</td></tr>",
                            "<tr><td>2015-08-08</td><td>NULL</td><td>4648211</td></tr>",
                            "<tr><td>2015-08-09</td><td>NULL</td><td>4134286</td></tr>",
                            "<tr><td>2015-08-10</td><td>NULL</td><td>2874789</td></tr>",
                            "<tr><td>2015-08-11</td><td>NULL</td><td>5876203</td></tr>",
                            "<tr><td>2015-08-12</td><td>NULL</td><td>3300531</td></tr>",
                            "<tr><td>2015-08-13</td><td>NULL</td><td>6108119</td></tr>",
                            "<tr><td>2015-08-14</td><td>NULL</td><td>6752454</td></tr>",
                            "<tr><td>2015-08-15</td><td>NULL</td><td>1563927</td></tr>",
                            "<tr><td>2015-08-16</td><td>NULL</td><td>3946003</td></tr>",
                            "<tr><td>2015-08-17</td><td>NULL</td><td>4802790</td></tr>",
                            "<tr><td>2015-08-18</td><td>NULL</td><td>1880200</td></tr>",
                            "<tr><td>2015-08-19</td><td>NULL</td><td>3307248</td></tr>",
                            "<tr><td>2015-08-20</td><td>NULL</td><td>2490923</td></tr>",
                            "<tr><td>2015-08-21</td><td>NULL</td><td>6126436</td></tr>",
                            "<tr><td>2015-08-22</td><td>NULL</td><td>3595801</td></tr>",
                            "<tr><td>2015-08-23</td><td>NULL</td><td>1852312</td></tr>",
                            "<tr><td>2015-08-24</td><td>NULL</td><td>2236778</td></tr>",
                            "<tr><td>2015-08-25</td><td>NULL</td><td>5142509</td></tr>",
                            "<tr><td>2015-08-26</td><td>NULL</td><td>3630305</td></tr>",
                            "<tr><td>2015-08-27</td><td>NULL</td><td>2109459</td></tr>",
                            "<tr><td>2015-08-28</td><td>NULL</td><td>5540291</td></tr>",
                            "<tr><td>2015-08-29</td><td>NULL</td><td>1936483</td></tr>",
                            "<tr><td>2015-08-30</td><td>NULL</td><td>3036453</td></tr>",
                            "<tr><td>2015-08-31</td><td>NULL</td><td>3741826</td></tr>",
                            "<tr><td>2015-09-01</td><td>NULL</td><td>5694962</td></tr>",
                            "<tr><td>2015-09-02</td><td>NULL</td><td>4307418</td></tr>",
                            "<tr><td>2015-09-03</td><td>NULL</td><td>6729971</td></tr>",
                            "<tr><td>2015-09-04</td><td>NULL</td><td>4912367</td></tr>",
                            "<tr><td>2015-09-05</td><td>NULL</td><td>2639323</td></tr>",
                            "<tr><td>2015-09-06</td><td>NULL</td><td>2081961</td></tr>",
                            "<tr><td>2015-09-07</td><td>NULL</td><td>4430285</td></tr>",
                            "<tr><td>2015-09-08</td><td>NULL</td><td>3884585</td></tr>",
                            "<tr><td>2015-09-09</td><td>NULL</td><td>5098439</td></tr>",
                            "<tr><td>2015-09-10</td><td>NULL</td><td>3763220</td></tr>",
                            "<tr><td>2015-09-11</td><td>NULL</td><td>3943446</td></tr>",
                            "<tr><td>2015-09-12</td><td>NULL</td><td>5775918</td></tr>",
                            "<tr><td>2015-09-13</td><td>NULL</td><td>4237716</td></tr>",
                            "<tr><td>2015-09-14</td><td>NULL</td><td>5088386</td></tr>",
                            "<tr><td>2015-09-15</td><td>NULL</td><td>2687328</td></tr>",
                            "<tr><td>2015-09-16</td><td>NULL</td><td>2718555</td></tr>",
                            "<tr><td>2015-09-17</td><td>NULL</td><td>3899971</td></tr>",
                            "<tr><td>2015-09-18</td><td>NULL</td><td>2897361</td></tr>",
                            "<tr><td>2015-09-19</td><td>NULL</td><td>3842958</td></tr>",
                            "<tr><td>2015-09-20</td><td>NULL</td><td>5002861</td></tr>",
                            "<tr><td>2015-09-21</td><td>NULL</td><td>2167581</td></tr>",
                            "<tr><td>2015-09-22</td><td>NULL</td><td>5069527</td></tr>",
                            "<tr><td>2015-09-23</td><td>NULL</td><td>4905054</td></tr>",
                            "<tr><td>2015-09-24</td><td>NULL</td><td>4508041</td></tr>",
                            "<tr><td>2015-09-25</td><td>NULL</td><td>2118285</td></tr>",
                            "<tr><td>2015-09-26</td><td>NULL</td><td>5371400</td></tr>",
                            "<tr><td>2015-09-27</td><td>NULL</td><td>2599365</td></tr>",
                            "<tr><td>2015-09-28</td><td>NULL</td><td>2985540</td></tr>",
                            "<tr><td>2015-09-29</td><td>NULL</td><td>4123273</td></tr>",
                            "<tr><td>2015-09-30</td><td>NULL</td><td>2109749</td></tr>",
                            "<tr><td>2015-10-01</td><td>NULL</td><td>2371274</td></tr>",
                            "<tr><td>2015-10-02</td><td>NULL</td><td>1816210</td></tr>",
                            "<tr><td>2015-10-03</td><td>NULL</td><td>4010859</td></tr>",
                            "<tr><td>2015-10-04</td><td>NULL</td><td>2103856</td></tr>",
                            "<tr><td>2015-10-05</td><td>NULL</td><td>4445660</td></tr>",
                            "<tr><td>2015-10-06</td><td>NULL</td><td>2264609</td></tr>",
                            "<tr><td>2015-10-07</td><td>NULL</td><td>2461522</td></tr>",
                            "<tr><td>2015-10-08</td><td>NULL</td><td>6772405</td></tr>",
                            "<tr><td>2015-10-09</td><td>NULL</td><td>3834921</td></tr>",
                            "<tr><td>2015-10-10</td><td>NULL</td><td>4056447</td></tr>",
                            "<tr><td>2015-10-11</td><td>NULL</td><td>2159815</td></tr>",
                            "<tr><td>2015-10-12</td><td>NULL</td><td>5249703</td></tr>",
                            "<tr><td>2015-10-13</td><td>NULL</td><td>1787179</td></tr>",
                            "<tr><td>2015-10-14</td><td>NULL</td><td>1884545</td></tr>",
                            "<tr><td>2015-10-15</td><td>NULL</td><td>3670738</td></tr>",
                            "<tr><td>2015-10-16</td><td>NULL</td><td>4333876</td></tr>",
                            "<tr><td>2015-10-17</td><td>NULL</td><td>4345735</td></tr>",
                            "<tr><td>2015-10-18</td><td>NULL</td><td>3592679</td></tr>",
                            "<tr><td>2015-10-19</td><td>NULL</td><td>2970029</td></tr>",
                            "<tr><td>2015-10-20</td><td>NULL</td><td>5683423</td></tr>",
                            "<tr><td>2015-10-21</td><td>NULL</td><td>2619347</td></tr>",
                            "<tr><td>2015-10-22</td><td>NULL</td><td>1979747</td></tr>",
                            "<tr><td>2015-10-23</td><td>NULL</td><td>2348932</td></tr>",
                            "<tr><td>2015-10-24</td><td>NULL</td><td>4517147</td></tr>",
                            "<tr><td>2015-10-25</td><td>NULL</td><td>3832701</td></tr>",
                            "<tr><td>2015-10-26</td><td>NULL</td><td>3449796</td></tr>",
                            "<tr><td>2015-10-27</td><td>NULL</td><td>2763354</td></tr>",
                            "<tr><td>2015-10-28</td><td>NULL</td><td>3228842</td></tr>",
                            "<tr><td>2015-10-29</td><td>NULL</td><td>2949611</td></tr>",
                            "<tr><td>2015-10-30</td><td>NULL</td><td>4345898</td></tr>",
                            "<tr><td>2015-10-31</td><td>NULL</td><td>2861489</td></tr>",
                            "<tr><td>2015-11-01</td><td>NULL</td><td>3486677</td></tr>",
                            "<tr><td>2015-11-02</td><td>NULL</td><td>2400514</td></tr>",
                            "<tr><td>2015-11-03</td><td>NULL</td><td>6228688</td></tr>",
                            "<tr><td>2015-11-04</td><td>NULL</td><td>2891455</td></tr>",
                            "<tr><td>2015-11-05</td><td>NULL</td><td>2477876</td></tr>",
                            "<tr><td>2015-11-06</td><td>NULL</td><td>2634982</td></tr>",
                            "<tr><td>2015-11-07</td><td>NULL</td><td>5397340</td></tr>",
                            "<tr><td>2015-11-08</td><td>NULL</td><td>3335072</td></tr>",
                            "<tr><td>2015-11-09</td><td>NULL</td><td>3649494</td></tr>",
                            "<tr><td>2015-11-10</td><td>NULL</td><td>4093814</td></tr>",
                            "<tr><td>2015-11-11</td><td>NULL</td><td>2883359</td></tr>",
                            "<tr><td>2015-11-12</td><td>NULL</td><td>3567145</td></tr>",
                            "<tr><td>2015-11-13</td><td>NULL</td><td>2319123</td></tr>",
                            "<tr><td>2015-11-14</td><td>NULL</td><td>4701677</td></tr>",
                            "<tr><td>2015-11-15</td><td>NULL</td><td>1788138</td></tr>",
                            "<tr><td>2015-11-16</td><td>NULL</td><td>4862379</td></tr>",
                            "<tr><td>2015-11-17</td><td>NULL</td><td>3568072</td></tr>",
                            "<tr><td>2015-11-18</td><td>NULL</td><td>4820494</td></tr>",
                            "<tr><td>2015-11-19</td><td>NULL</td><td>2340144</td></tr>",
                            "<tr><td>2015-11-20</td><td>NULL</td><td>2952986</td></tr>",
                            "<tr><td>2015-11-21</td><td>NULL</td><td>3802284</td></tr>",
                            "<tr><td>2015-11-22</td><td>NULL</td><td>3525022</td></tr>",
                            "<tr><td>2015-11-23</td><td>NULL</td><td>3153480</td></tr>",
                            "<tr><td>2015-11-24</td><td>NULL</td><td>5039549</td></tr>",
                            "<tr><td>2015-11-25</td><td>NULL</td><td>2086705</td></tr>",
                            "<tr><td>2015-11-26</td><td>NULL</td><td>2638352</td></tr>",
                            "<tr><td>2015-11-27</td><td>NULL</td><td>1787430</td></tr>",
                            "<tr><td>2015-11-28</td><td>NULL</td><td>6422485</td></tr>",
                            "<tr><td>2015-11-29</td><td>NULL</td><td>3526865</td></tr>",
                            "<tr><td>2015-11-30</td><td>NULL</td><td>2920065</td></tr>",
                            "<tr><td>2015-12-01</td><td>NULL</td><td>4235679</td></tr>",
                            "<tr><td>2015-12-02</td><td>NULL</td><td>5019731</td></tr>",
                            "<tr><td>2015-12-03</td><td>NULL</td><td>3544829</td></tr>",
                            "<tr><td>2015-12-04</td><td>NULL</td><td>1892798</td></tr>",
                            "<tr><td>2015-12-05</td><td>NULL</td><td>3721128</td></tr>",
                            "<tr><td>2015-12-06</td><td>NULL</td><td>2884438</td></tr>",
                            "<tr><td>2015-12-07</td><td>NULL</td><td>4509894</td></tr>",
                            "<tr><td>2015-12-08</td><td>NULL</td><td>3044234</td></tr>",
                            "<tr><td>2015-12-09</td><td>NULL</td><td>2870296</td></tr>",
                            "<tr><td>2015-12-10</td><td>NULL</td><td>4941409</td></tr>",
                            "<tr><td>2015-12-11</td><td>NULL</td><td>6814568</td></tr>",
                            "<tr><td>2015-12-12</td><td>NULL</td><td>4620153</td></tr>",
                            "<tr><td>2015-12-13</td><td>NULL</td><td>1539717</td></tr>",
                            "<tr><td>2015-12-14</td><td>NULL</td><td>4333979</td></tr>",
                            "<tr><td>2015-12-15</td><td>NULL</td><td>2626256</td></tr>",
                            "<tr><td>2015-12-16</td><td>NULL</td><td>2331477</td></tr>",
                            "<tr><td>2015-12-17</td><td>NULL</td><td>1952610</td></tr>",
                            "<tr><td>2015-12-18</td><td>NULL</td><td>3955357</td></tr>",
                            "<tr><td>2015-12-19</td><td>NULL</td><td>2664353</td></tr>",
                            "<tr><td>2015-12-20</td><td>NULL</td><td>4264965</td></tr>",
                            "<tr><td>2015-12-21</td><td>NULL</td><td>2207108</td></tr>",
                            "<tr><td>2015-12-22</td><td>NULL</td><td>2342474</td></tr>",
                            "<tr><td>2015-12-23</td><td>NULL</td><td>2477096</td></tr>",
                            "<tr><td>2015-12-24</td><td>NULL</td><td>2105576</td></tr>",
                            "<tr><td>2015-12-25</td><td>NULL</td><td>3211730</td></tr>",
                            "<tr><td>2015-12-26</td><td>NULL</td><td>3482979</td></tr>",
                            "<tr><td>2015-12-27</td><td>NULL</td><td>3198224</td></tr>",
                            "<tr><td>2015-12-28</td><td>NULL</td><td>4118877</td></tr>",
                            "<tr><td>2015-12-29</td><td>NULL</td><td>3219712</td></tr>",
                            "<tr><td>2015-12-30</td><td>NULL</td><td>2351627</td></tr>",
                            "<tr><td>2015-12-31</td><td>NULL</td><td>3585438</td></tr>",
                            "<tr><td>2016-01-01</td><td>NULL</td><td>4375775</td></tr>",
                            "<tr><td>2016-01-02</td><td>NULL</td><td>2882266</td></tr>",
                            "<tr><td>2016-01-03</td><td>NULL</td><td>4676041</td></tr>",
                            "<tr><td>2016-01-04</td><td>NULL</td><td>3485558</td></tr>",
                            "<tr><td>2016-01-05</td><td>NULL</td><td>2796894</td></tr>",
                            "<tr><td>2016-01-06</td><td>NULL</td><td>3475974</td></tr>",
                            "<tr><td>2016-01-07</td><td>NULL</td><td>1752660</td></tr>",
                            "<tr><td>2016-01-08</td><td>NULL</td><td>5321942</td></tr>",
                            "<tr><td>2016-01-09</td><td>NULL</td><td>3205199</td></tr>",
                            "<tr><td>2016-01-10</td><td>NULL</td><td>3754840</td></tr>",
                            "<tr><td>2016-01-11</td><td>NULL</td><td>6222600</td></tr>",
                            "<tr><td>2016-01-12</td><td>NULL</td><td>3016060</td></tr>",
                            "<tr><td>2016-01-13</td><td>NULL</td><td>3677520</td></tr>",
                            "<tr><td>2016-01-14</td><td>NULL</td><td>2378090</td></tr>",
                            "<tr><td>2016-01-15</td><td>NULL</td><td>3507620</td></tr>",
                            "<tr><td>2016-01-16</td><td>NULL</td><td>3400760</td></tr>",
                            "<tr><td>2016-01-17</td><td>NULL</td><td>5460380</td></tr>",
                            "<tr><td>2016-01-18</td><td>NULL</td><td>5915360</td></tr>",
                            "<tr><td>2016-01-19</td><td>NULL</td><td>2320500</td></tr>",
                            "<tr><td>2016-01-20</td><td>NULL</td><td>2861630</td></tr>",
                            "<tr><td>2016-01-21</td><td>NULL</td><td>3385410</td></tr>",
                            "<tr><td>2016-01-22</td><td>NULL</td><td>3558960</td></tr>",
                            "<tr><td>2016-01-23</td><td>NULL</td><td>2675630</td></tr>",
                            "<tr><td>2016-01-24</td><td>NULL</td><td>5456580</td></tr>",
                            "<tr><td>2016-01-25</td><td>NULL</td><td>2387660</td></tr>",
                            "<tr><td>2016-01-26</td><td>NULL</td><td>2822220</td></tr>",
                            "<tr><td>2016-01-27</td><td>NULL</td><td>3155580</td></tr>",
                            "<tr><td>2016-01-28</td><td>NULL</td><td>7782620</td></tr>",
                            "<tr><td>2016-01-29</td><td>NULL</td><td>3300420</td></tr>",
                            "<tr><td>2016-01-30</td><td>NULL</td><td>4463790</td></tr>",
                            "<tr><td>2016-01-31</td><td>NULL</td><td>4576980</td></tr>",
                            "<tr><td>2016-02-01</td><td>NULL</td><td>6002140</td></tr>",
                            "<tr><td>2016-02-02</td><td>NULL</td><td>4015440</td></tr>",
                            "<tr><td>2016-02-03</td><td>NULL</td><td>3479120</td></tr>",
                            "<tr><td>2016-02-04</td><td>NULL</td><td>2325830</td></tr>",
                            "<tr><td>2016-02-05</td><td>NULL</td><td>6074190</td></tr>",
                            "<tr><td>2016-02-06</td><td>NULL</td><td>5750260</td></tr>",
                            "<tr><td>2016-02-07</td><td>NULL</td><td>2109970</td></tr>",
                            "<tr><td>2016-02-08</td><td>NULL</td><td>3808950</td></tr>",
                            "<tr><td>2016-02-09</td><td>NULL</td><td>5460380</td></tr>",
                            "<tr><td>2016-02-10</td><td>NULL</td><td>3420460</td></tr>",
                            "<tr><td>2016-02-11</td><td>NULL</td><td>5517190</td></tr>",
                            "<tr><td>2016-02-12</td><td>NULL</td><td>5415830</td></tr>",
                            "<tr><td>2016-02-13</td><td>NULL</td><td>2062170</td></tr>",
                            "<tr><td>2016-02-14</td><td>NULL</td><td>4044280</td></tr>",
                            "<tr><td>2016-02-15</td><td>NULL</td><td>4864830</td></tr>",
                            "<tr><td>2016-02-16</td><td>NULL</td><td>3644140</td></tr>",
                            "<tr><td>2016-02-17</td><td>NULL</td><td>6822160</td></tr>",
                            "<tr><td>2016-02-18</td><td>NULL</td><td>1336290</td></tr>",
                            "<tr><td>2016-02-19</td><td>NULL</td><td>2607690</td></tr>",
                            "<tr><td>2016-02-20</td><td>NULL</td><td>4366720</td></tr>",
                            "<tr><td>2016-02-21</td><td>NULL</td><td>6049185</td></tr>",
                            "<tr><td>2016-02-22</td><td>NULL</td><td>4647300</td></tr>",
                            "<tr><td>2016-02-23</td><td>NULL</td><td>8281820</td></tr>",
                            "<tr><td>2016-02-24</td><td>NULL</td><td>5161230</td></tr>",
                            "<tr><td>2016-02-25</td><td>NULL</td><td>4153440</td></tr>",
                            "<tr><td>2016-02-26</td><td>NULL</td><td>4397170</td></tr>",
                            "<tr><td>2016-02-27</td><td>NULL</td><td>5069210</td></tr>",
                            "<tr><td>2016-02-28</td><td>NULL</td><td>4207190</td></tr>",
                            "<tr><td>2016-02-29</td><td>NULL</td><td>3931440</td></tr>",
                            "<tr><td>2016-03-01</td><td>NULL</td><td>4012130</td></tr>",
                            "<tr><td>2016-03-02</td><td>NULL</td><td>3661560</td></tr>",
                            "<tr><td>2016-03-03</td><td>NULL</td><td>4323760</td></tr>",
                            "<tr><td>2016-03-04</td><td>NULL</td><td>7628590</td></tr>",
                            "<tr><td>2016-03-05</td><td>NULL</td><td>5367760</td></tr>",
                            "<tr><td>2016-03-06</td><td>NULL</td><td>2123540</td></tr>",
                            "<tr><td>2016-03-07</td><td>NULL</td><td>2917240</td></tr>",
                            "<tr><td>2016-03-08</td><td>NULL</td><td>3541890</td></tr>",
                            "<tr><td>2016-03-09</td><td>NULL</td><td>4130680</td></tr>",
                            "<tr><td>2016-03-10</td><td>NULL</td><td>4129890</td></tr>",
                            "<tr><td>2016-03-11</td><td>NULL</td><td>4901490</td></tr>",
                            "<tr><td>2016-03-12</td><td>NULL</td><td>3895770</td></tr>",
                            "<tr><td>2016-03-13</td><td>NULL</td><td>3792570</td></tr>",
                            "<tr><td>2016-03-14</td><td>NULL</td><td>3634240</td></tr>",
                            "<tr><td>2016-03-15</td><td>NULL</td><td>4392180</td></tr>",
                            "<tr><td>2016-03-16</td><td>NULL</td><td>2214340</td></tr>",
                            "<tr><td>2016-03-17</td><td>NULL</td><td>2679880</td></tr>",
                            "<tr><td>2016-03-18</td><td>NULL</td><td>3022030</td></tr>",
                            "<tr><td>2016-03-19</td><td>NULL</td><td>4291160</td></tr>",
                            "<tr><td>2016-03-20</td><td>NULL</td><td>4178720</td></tr>",
                            "<tr><td>2016-03-21</td><td>NULL</td><td>3059990</td></tr>",
                            "<tr><td>2016-03-22</td><td>NULL</td><td>4187655</td></tr>",
                            "<tr><td>2016-03-23</td><td>NULL</td><td>4242780</td></tr>",
                            "<tr><td>2016-03-24</td><td>NULL</td><td>3146270</td></tr>",
                            "<tr><td>2016-03-25</td><td>NULL</td><td>3667180</td></tr>",
                            "<tr><td>2016-03-26</td><td>NULL</td><td>5031110</td></tr>",
                            "<tr><td>2016-03-27</td><td>NULL</td><td>5215830</td></tr>",
                            "<tr><td>2016-03-28</td><td>NULL</td><td>2287790</td></tr>",
                            "<tr><td>2016-03-29</td><td>NULL</td><td>2717320</td></tr>",
                            "<tr><td>2016-03-30</td><td>NULL</td><td>3169130</td></tr>",
                            "<tr><td>2016-03-31</td><td>NULL</td><td>3861260</td></tr>",
                            "<tr><td>2016-04-01</td><td>NULL</td><td>3766870</td></tr>",
                            "<tr><td>2016-04-02</td><td>NULL</td><td>5393960</td></tr>",
                            "<tr><td>2016-04-03</td><td>NULL</td><td>4788420</td></tr>",
                            "<tr><td>2016-04-04</td><td>NULL</td><td>5004490</td></tr>",
                            "<tr><td>2016-04-05</td><td>NULL</td><td>3051040</td></tr>",
                            "<tr><td>2016-04-06</td><td>NULL</td><td>4234430</td></tr>",
                            "<tr><td>2016-04-07</td><td>NULL</td><td>2851520</td></tr>",
                            "<tr><td>2016-04-08</td><td>NULL</td><td>3062740</td></tr>",
                            "<tr><td>2016-04-09</td><td>NULL</td><td>4494200</td></tr>",
                            "<tr><td>2016-04-10</td><td>NULL</td><td>4452890</td></tr>",
                            "<tr><td>2016-04-11</td><td>NULL</td><td>3300060</td></tr>",
                            "<tr><td>2016-04-12</td><td>NULL</td><td>3891450</td></tr>",
                            "<tr><td>2016-04-13</td><td>NULL</td><td>4387320</td></tr>",
                            "<tr><td>2016-04-14</td><td>NULL</td><td>6400220</td></tr>",
                            "<tr><td>2016-04-15</td><td>NULL</td><td>2940290</td></tr>",
                            "<tr><td>2016-04-16</td><td>NULL</td><td>3771240</td></tr>",
                            "<tr><td>2016-04-17</td><td>NULL</td><td>4189850</td></tr>",
                            "<tr><td>2016-04-18</td><td>NULL</td><td>4420260</td></tr>",
                            "<tr><td>2016-04-19</td><td>NULL</td><td>4514700</td></tr>",
                            "<tr><td>2016-04-20</td><td>NULL</td><td>4248850</td></tr>",
                            "<tr><td>2016-04-21</td><td>NULL</td><td>3264700</td></tr>",
                            "<tr><td>2016-04-22</td><td>NULL</td><td>1758030</td></tr>",
                            "<tr><td>2016-04-23</td><td>NULL</td><td>3710460</td></tr>",
                            "<tr><td>2016-04-24</td><td>NULL</td><td>6733180</td></tr>",
                            "<tr><td>2016-04-25</td><td>NULL</td><td>4075990</td></tr>",
                            "<tr><td>2016-04-26</td><td>NULL</td><td>4855350</td></tr>",
                            "<tr><td>2016-04-27</td><td>NULL</td><td>2837740</td></tr>",
                            "<tr><td>2016-04-28</td><td>NULL</td><td>1922070</td></tr>",
                            "<tr><td>2016-04-29</td><td>NULL</td><td>4854250</td></tr>",
                            "<tr><td>2016-04-30</td><td>NULL</td><td>5090770</td></tr>",
                            "<tr><td>2016-05-01</td><td>NULL</td><td>2381700</td></tr>",
                            "<tr><td>2016-05-02</td><td>NULL</td><td>5694560</td></tr>",
                            "<tr><td>2016-05-03</td><td>NULL</td><td>3177210</td></tr>",
                            "<tr><td>2016-05-04</td><td>NULL</td><td>6038290</td></tr>",
                            "<tr><td>2016-05-05</td><td>NULL</td><td>3623460</td></tr>",
                            "<tr><td>2016-05-06</td><td>NULL</td><td>5319870</td></tr>",
                            "<tr><td>2016-05-07</td><td>NULL</td><td>2361340</td></tr>",
                            "<tr><td>2016-05-08</td><td>NULL</td><td>4227150</td></tr>",
                            "<tr><td>2016-05-09</td><td>NULL</td><td>4629720</td></tr>",
                            "<tr><td>2016-05-10</td><td>NULL</td><td>3313420</td></tr>",
                            "<tr><td>2016-05-11</td><td>NULL</td><td>3456480</td></tr>",
                            "<tr><td>2016-05-12</td><td>NULL</td><td>4190440</td></tr>",
                            "<tr><td>2016-05-13</td><td>NULL</td><td>7263460</td></tr>",
                            "<tr><td>2016-05-14</td><td>NULL</td><td>2626150</td></tr>",
                            "<tr><td>2016-05-15</td><td>NULL</td><td>1652990</td></tr>",
                            "<tr><td>2016-05-16</td><td>NULL</td><td>3574960</td></tr>",
                            "<tr><td>2016-05-17</td><td>NULL</td><td>4843400</td></tr>",
                            "<tr><td>2016-05-18</td><td>NULL</td><td>5667490</td></tr>",
                            "<tr><td>2016-05-19</td><td>NULL</td><td>4445130</td></tr>",
                            "<tr><td>2016-05-20</td><td>NULL</td><td>3801480</td></tr>",
                            "<tr><td>2016-05-21</td><td>NULL</td><td>2487800</td></tr>",
                            "<tr><td>2016-05-22</td><td>NULL</td><td>3694610</td></tr>",
                            "<tr><td>2016-05-23</td><td>NULL</td><td>2616110</td></tr>",
                            "<tr><td>2016-05-24</td><td>NULL</td><td>4355870</td></tr>",
                            "<tr><td>2016-05-25</td><td>NULL</td><td>3535360</td></tr>",
                            "<tr><td>2016-05-26</td><td>NULL</td><td>3501180</td></tr>",
                            "<tr><td>2016-05-27</td><td>NULL</td><td>2976520</td></tr>",
                            "<tr><td>2016-05-28</td><td>NULL</td><td>3175280</td></tr>",
                            "<tr><td>2016-05-29</td><td>NULL</td><td>2381635</td></tr>",
                            "<tr><td>2016-05-30</td><td>NULL</td><td>2721780</td></tr>",
                            "<tr><td>2016-05-31</td><td>NULL</td><td>2845200</td></tr>",
                            "<tr><td>2016-06-01</td><td>NULL</td><td>4125800</td></tr>",
                            "<tr><td>2016-06-02</td><td>NULL</td><td>2618270</td></tr>",
                            "<tr><td>2016-06-03</td><td>NULL</td><td>2719980</td></tr>",
                            "<tr><td>2016-06-04</td><td>NULL</td><td>3038780</td></tr>",
                            "<tr><td>2016-06-05</td><td>NULL</td><td>2892290</td></tr>",
                            "<tr><td>2016-06-06</td><td>NULL</td><td>4762090</td></tr>",
                            "<tr><td>2016-06-07</td><td>NULL</td><td>3715600</td></tr>",
                            "<tr><td>2016-06-08</td><td>NULL</td><td>4781100</td></tr>",
                            "<tr><td>2016-06-09</td><td>NULL</td><td>5090020</td></tr>",
                            "<tr><td>2016-06-10</td><td>NULL</td><td>3589270</td></tr>",
                            "<tr><td>2016-06-11</td><td>NULL</td><td>4555210</td></tr>",
                            "<tr><td>2016-06-12</td><td>NULL</td><td>5337040</td></tr>",
                            "<tr><td>2016-06-13</td><td>NULL</td><td>1755590</td></tr>",
                            "<tr><td>2016-06-14</td><td>NULL</td><td>3151780</td></tr>",
                            "<tr><td>2016-06-15</td><td>NULL</td><td>4722240</td></tr>",
                            "<tr><td>2016-06-16</td><td>NULL</td><td>3503200</td></tr>",
                            "<tr><td>2016-06-17</td><td>NULL</td><td>3440880</td></tr>",
                            "<tr><td>2016-06-18</td><td>NULL</td><td>5137650</td></tr>",
                            "<tr><td>2016-06-19</td><td>NULL</td><td>3686260</td></tr>",
                            "<tr><td>2016-06-20</td><td>NULL</td><td>3523880</td></tr>",
                            "<tr><td>2016-06-21</td><td>NULL</td><td>3051320</td></tr>",
                            "<tr><td>2016-06-22</td><td>NULL</td><td>4029610</td></tr>",
                            "<tr><td>2016-06-23</td><td>NULL</td><td>3030420</td></tr>",
                            "<tr><td>2016-06-24</td><td>NULL</td><td>3068665</td></tr>",
                            "<tr><td>2016-06-25</td><td>NULL</td><td>4113940</td></tr>",
                            "<tr><td>2016-06-26</td><td>NULL</td><td>3095415</td></tr>",
                            "<tr><td>2016-06-27</td><td>NULL</td><td>3164230</td></tr>",
                            "<tr><td>2016-06-28</td><td>NULL</td><td>4126800</td></tr>",
                            "<tr><td>2016-06-29</td><td>NULL</td><td>3875630</td></tr>",
                            "<tr><td>2016-06-30</td><td>NULL</td><td>2336930</td></tr>",
                            "<tr><td>2016-07-01</td><td>NULL</td><td>5626970</td></tr>",
                            "<tr><td>2016-07-02</td><td>NULL</td><td>6503790</td></tr>",
                            "<tr><td>2016-07-03</td><td>NULL</td><td>3379190</td></tr>",
                            "<tr><td>2016-07-04</td><td>NULL</td><td>4566020</td></tr>",
                            "<tr><td>2016-07-05</td><td>NULL</td><td>5622320</td></tr>",
                            "<tr><td>2016-07-06</td><td>NULL</td><td>3294170</td></tr>",
                            "<tr><td>2016-07-07</td><td>NULL</td><td>3605370</td></tr>",
                            "<tr><td>2016-07-08</td><td>NULL</td><td>3643130</td></tr>",
                            "<tr><td>2016-07-09</td><td>NULL</td><td>3522470</td></tr>",
                            "<tr><td>2016-07-10</td><td>NULL</td><td>3590060</td></tr>",
                            "<tr><td>2016-07-11</td><td>NULL</td><td>3146150</td></tr>",
                            "<tr><td>2016-07-12</td><td>NULL</td><td>4999100</td></tr>",
                            "<tr><td>2016-07-13</td><td>NULL</td><td>3707230</td></tr>",
                            "<tr><td>2016-07-14</td><td>NULL</td><td>3522120</td></tr>",
                            "<tr><td>2016-07-15</td><td>NULL</td><td>3012125</td></tr>",
                            "<tr><td>2016-07-16</td><td>NULL</td><td>3959640</td></tr>",
                            "<tr><td>2016-07-17</td><td>NULL</td><td>2522420</td></tr>",
                            "<tr><td>2016-07-18</td><td>NULL</td><td>4172280</td></tr>",
                            "<tr><td>2016-07-19</td><td>NULL</td><td>7556340</td></tr>",
                            "<tr><td>2016-07-20</td><td>NULL</td><td>4060990</td></tr>",
                            "<tr><td>2016-07-21</td><td>NULL</td><td>4910540</td></tr>",
                            "<tr><td>2016-07-22</td><td>NULL</td><td>5036240</td></tr>",
                            "<tr><td>2016-07-23</td><td>NULL</td><td>2426190</td></tr>",
                            "<tr><td>2016-07-24</td><td>NULL</td><td>3005140</td></tr>",
                            "<tr><td>2016-07-25</td><td>NULL</td><td>2203910</td></tr>",
                            "<tr><td>2016-07-26</td><td>NULL</td><td>3728470</td></tr>",
                            "<tr><td>2016-07-27</td><td>NULL</td><td>3184280</td></tr>",
                            "<tr><td>2016-07-28</td><td>NULL</td><td>4365050</td></tr>",
                            "<tr><td>2016-07-29</td><td>NULL</td><td>3343890</td></tr>",
                            "<tr><td>2016-07-30</td><td>NULL</td><td>2655940</td></tr>",
                            "<tr><td>2016-07-31</td><td>NULL</td><td>5124680</td></tr>",
                            "<tr><td>2016-08-01</td><td>NULL</td><td>3024550</td></tr>",
                            "<tr><td>2016-08-02</td><td>NULL</td><td>2958850</td></tr>",
                            "<tr><td>2016-08-03</td><td>NULL</td><td>2898760</td></tr>",
                            "<tr><td>2016-08-04</td><td>NULL</td><td>3198220</td></tr>",
                            "<tr><td>2016-08-05</td><td>NULL</td><td>5606900</td></tr>",
                            "<tr><td>2016-08-06</td><td>NULL</td><td>2919510</td></tr>",
                            "<tr><td>2016-08-07</td><td>NULL</td><td>3192490</td></tr>",
                            "<tr><td>2016-08-08</td><td>NULL</td><td>3781250</td></tr>",
                            "<tr><td>2016-08-09</td><td>NULL</td><td>3239030</td></tr>",
                            "<tr><td>2016-08-10</td><td>NULL</td><td>3928210</td></tr>",
                            "<tr><td>2016-08-11</td><td>NULL</td><td>5403595</td></tr>",
                            "<tr><td>2016-08-12</td><td>NULL</td><td>7423420</td></tr>",
                            "<tr><td>2016-08-13</td><td>NULL</td><td>3947310</td></tr>",
                            "<tr><td>2016-08-14</td><td>NULL</td><td>3530780</td></tr>",
                            "<tr><td>2016-08-15</td><td>NULL</td><td>4693540</td></tr>",
                            "<tr><td>2016-08-16</td><td>NULL</td><td>3959660</td></tr>",
                            "<tr><td>2016-08-17</td><td>NULL</td><td>3696295</td></tr>",
                            "<tr><td>2016-08-18</td><td>NULL</td><td>2582810</td></tr>",
                            "<tr><td>2016-08-19</td><td>NULL</td><td>2090785</td></tr>",
                            "<tr><td>2016-08-20</td><td>NULL</td><td>4678060</td></tr>",
                            "<tr><td>2016-08-21</td><td>NULL</td><td>4487690</td></tr>",
                            "<tr><td>2016-08-22</td><td>NULL</td><td>3404100</td></tr>",
                            "<tr><td>2016-08-23</td><td>NULL</td><td>3292840</td></tr>",
                            "<tr><td>2016-08-24</td><td>NULL</td><td>5507535</td></tr>",
                            "<tr><td>2016-08-25</td><td>NULL</td><td>4704270</td></tr>",
                            "<tr><td>2016-08-26</td><td>NULL</td><td>3365120</td></tr>",
                            "<tr><td>2016-08-27</td><td>NULL</td><td>4927875</td></tr>",
                            "<tr><td>2016-08-28</td><td>NULL</td><td>5693150</td></tr>",
                            "<tr><td>2016-08-29</td><td>NULL</td><td>2683580</td></tr>",
                            "<tr><td>2016-08-30</td><td>NULL</td><td>2180910</td></tr>",
                            "<tr><td>2016-08-31</td><td>NULL</td><td>4480390</td></tr>",
                            "<tr><td>2016-09-01</td><td>NULL</td><td>4019600</td></tr>",
                            "<tr><td>2016-09-02</td><td>NULL</td><td>4154440</td></tr>",
                            "<tr><td>2016-09-03</td><td>NULL</td><td>3535280</td></tr>",
                            "<tr><td>2016-09-04</td><td>NULL</td><td>3746890</td></tr>",
                            "<tr><td>2016-09-05</td><td>NULL</td><td>5515190</td></tr>",
                            "<tr><td>2016-09-06</td><td>NULL</td><td>5204700</td></tr>",
                            "<tr><td>2016-09-07</td><td>NULL</td><td>5781100</td></tr>",
                            "<tr><td>2016-09-08</td><td>NULL</td><td>2602560</td></tr>",
                            "<tr><td>2016-09-09</td><td>NULL</td><td>6465250</td></tr>",
                            "<tr><td>2016-09-10</td><td>NULL</td><td>2920090</td></tr>",
                            "<tr><td>2016-09-11</td><td>NULL</td><td>5143500</td></tr>",
                            "<tr><td>2016-09-12</td><td>NULL</td><td>2640110</td></tr>",
                            "<tr><td>2016-09-13</td><td>NULL</td><td>3332160</td></tr>",
                            "<tr><td>2016-09-14</td><td>NULL</td><td>4838690</td></tr>",
                            "<tr><td>2016-09-15</td><td>NULL</td><td>3229410</td></tr>",
                            "<tr><td>2016-09-16</td><td>NULL</td><td>4742950</td></tr>",
                            "<tr><td>2016-09-17</td><td>NULL</td><td>2749110</td></tr>",
                            "<tr><td>2016-09-18</td><td>NULL</td><td>3522200</td></tr>",
                            "<tr><td>2016-09-19</td><td>NULL</td><td>2482300</td></tr>",
                            "<tr><td>2016-09-20</td><td>NULL</td><td>2439360</td></tr>",
                            "<tr><td>2016-09-21</td><td>NULL</td><td>4167540</td></tr>",
                            "<tr><td>2016-09-22</td><td>NULL</td><td>2940870</td></tr>",
                            "<tr><td>2016-09-23</td><td>NULL</td><td>3007410</td></tr>",
                            "<tr><td>2016-09-24</td><td>NULL</td><td>3212370</td></tr>",
                            "<tr><td>2016-09-25</td><td>NULL</td><td>3032280</td></tr>",
                            "<tr><td>2016-09-26</td><td>NULL</td><td>4666010</td></tr>",
                            "<tr><td>2016-09-27</td><td>NULL</td><td>4388290</td></tr>",
                            "<tr><td>2016-09-28</td><td>NULL</td><td>4607720</td></tr>",
                            "<tr><td>2016-09-29</td><td>NULL</td><td>3400750</td></tr>",
                            "<tr><td>2016-09-30</td><td>NULL</td><td>6260360</td></tr>",
                            "<tr><td>2016-10-01</td><td>NULL</td><td>3223690</td></tr>",
                            "<tr><td>2016-10-02</td><td>NULL</td><td>3508300</td></tr>",
                            "<tr><td>2016-10-03</td><td>NULL</td><td>3697160</td></tr>",
                            "<tr><td>2016-10-04</td><td>NULL</td><td>4546700</td></tr>",
                            "<tr><td>2016-10-05</td><td>NULL</td><td>4135140</td></tr>",
                            "<tr><td>2016-10-06</td><td>NULL</td><td>4203880</td></tr>",
                            "<tr><td>2016-10-07</td><td>NULL</td><td>3368120</td></tr>",
                            "<tr><td>2016-10-08</td><td>NULL</td><td>3595670</td></tr>",
                            "<tr><td>2016-10-09</td><td>NULL</td><td>3937930</td></tr>",
                            "<tr><td>2016-10-10</td><td>NULL</td><td>3686210</td></tr>",
                            "<tr><td>2016-10-11</td><td>NULL</td><td>5358090</td></tr>",
                            "<tr><td>2016-10-12</td><td>NULL</td><td>2833460</td></tr>",
                            "<tr><td>2016-10-13</td><td>NULL</td><td>3175310</td></tr>",
                            "<tr><td>2016-10-14</td><td>NULL</td><td>2143890</td></tr>",
                            "<tr><td>2016-10-15</td><td>NULL</td><td>4817920</td></tr>",
                            "<tr><td>2016-10-16</td><td>NULL</td><td>3392030</td></tr>",
                            "<tr><td>2016-10-17</td><td>NULL</td><td>4133120</td></tr>",
                            "<tr><td>2016-10-18</td><td>NULL</td><td>3793130</td></tr>",
                            "<tr><td>2016-10-19</td><td>NULL</td><td>3355640</td></tr>",
                            "<tr><td>2016-10-20</td><td>NULL</td><td>2862130</td></tr>",
                            "<tr><td>2016-10-21</td><td>NULL</td><td>5998000</td></tr>",
                            "<tr><td>2016-10-22</td><td>NULL</td><td>4802960</td></tr>",
                            "<tr><td>2016-10-23</td><td>NULL</td><td>3303990</td></tr>",
                            "<tr><td>2016-10-24</td><td>NULL</td><td>2426650</td></tr>",
                            "<tr><td>2016-10-25</td><td>NULL</td><td>5527330</td></tr>",
                            "<tr><td>2016-10-26</td><td>NULL</td><td>2044500</td></tr>",
                            "<tr><td>2016-10-27</td><td>NULL</td><td>4381730</td></tr>",
                            "<tr><td>2016-10-28</td><td>NULL</td><td>4801700</td></tr>",
                            "<tr><td>2016-10-29</td><td>NULL</td><td>2365950</td></tr>",
                            "<tr><td>2016-10-30</td><td>NULL</td><td>5346950</td></tr>",
                            "<tr><td>2016-10-31</td><td>NULL</td><td>4206350</td></tr>",
                            "<tr><td>2016-11-01</td><td>NULL</td><td>3810310</td></tr>",
                            "<tr><td>2016-11-02</td><td>NULL</td><td>4134550</td></tr>",
                            "<tr><td>2016-11-03</td><td>NULL</td><td>2070120</td></tr>",
                            "<tr><td>2016-11-04</td><td>NULL</td><td>2660990</td></tr>",
                            "<tr><td>2016-11-05</td><td>NULL</td><td>4376940</td></tr>",
                            "<tr><td>2016-11-06</td><td>NULL</td><td>2934230</td></tr>",
                            "<tr><td>2016-11-07</td><td>NULL</td><td>3240720</td></tr>",
                            "<tr><td>2016-11-08</td><td>NULL</td><td>4745970</td></tr>",
                            "<tr><td>2016-11-09</td><td>NULL</td><td>3419490</td></tr>",
                            "<tr><td>2016-11-10</td><td>NULL</td><td>2982710</td></tr>",
                            "<tr><td>2016-11-11</td><td>NULL</td><td>1632010</td></tr>",
                            "<tr><td>2016-11-12</td><td>NULL</td><td>3565560</td></tr>",
                            "<tr><td>2016-11-13</td><td>NULL</td><td>4414500</td></tr>",
                            "<tr><td>2016-11-14</td><td>NULL</td><td>3847170</td></tr>",
                            "<tr><td>2016-11-15</td><td>NULL</td><td>2154840</td></tr>",
                            "<tr><td>2016-11-16</td><td>NULL</td><td>4975740</td></tr>",
                            "<tr><td>2016-11-17</td><td>NULL</td><td>2940710</td></tr>",
                            "<tr><td>2016-11-18</td><td>NULL</td><td>2942410</td></tr>",
                            "<tr><td>2016-11-19</td><td>NULL</td><td>3229010</td></tr>",
                            "<tr><td>2016-11-20</td><td>NULL</td><td>4476570</td></tr>",
                            "<tr><td>2016-11-21</td><td>NULL</td><td>5478410</td></tr>",
                            "<tr><td>2016-11-22</td><td>NULL</td><td>4054580</td></tr>",
                            "<tr><td>2016-11-23</td><td>NULL</td><td>2800110</td></tr>",
                            "<tr><td>2016-11-24</td><td>NULL</td><td>4208630</td></tr>",
                            "<tr><td>2016-11-25</td><td>NULL</td><td>2882610</td></tr>",
                            "<tr><td>2016-11-26</td><td>NULL</td><td>6389340</td></tr>",
                            "<tr><td>2016-11-27</td><td>NULL</td><td>3834130</td></tr>",
                            "<tr><td>2016-11-28</td><td>NULL</td><td>3643310</td></tr>",
                            "<tr><td>2016-11-29</td><td>NULL</td><td>4522490</td></tr>",
                            "<tr><td>2016-11-30</td><td>NULL</td><td>3666830</td></tr>",
                            "<tr><td>2016-12-01</td><td>NULL</td><td>4173130</td></tr>",
                            "<tr><td>2016-12-02</td><td>NULL</td><td>2724270</td></tr>",
                            "<tr><td>2016-12-03</td><td>NULL</td><td>1766960</td></tr>",
                            "<tr><td>2016-12-04</td><td>NULL</td><td>6064530</td></tr>",
                            "<tr><td>2016-12-05</td><td>NULL</td><td>5203220</td></tr>",
                            "<tr><td>2016-12-06</td><td>NULL</td><td>2775800</td></tr>",
                            "<tr><td>2016-12-07</td><td>NULL</td><td>4354410</td></tr>",
                            "<tr><td>2016-12-08</td><td>NULL</td><td>3776910</td></tr>",
                            "<tr><td>2016-12-09</td><td>NULL</td><td>2747150</td></tr>",
                            "<tr><td>2016-12-10</td><td>NULL</td><td>5009260</td></tr>",
                            "<tr><td>2016-12-11</td><td>NULL</td><td>4416850</td></tr>",
                            "<tr><td>2016-12-12</td><td>NULL</td><td>3128300</td></tr>",
                            "<tr><td>2016-12-13</td><td>NULL</td><td>2727440</td></tr>",
                            "<tr><td>2016-12-14</td><td>NULL</td><td>2757990</td></tr>",
                            "<tr><td>2016-12-15</td><td>NULL</td><td>2473800</td></tr>",
                            "<tr><td>2016-12-16</td><td>NULL</td><td>2729250</td></tr>",
                            "<tr><td>2016-12-17</td><td>NULL</td><td>2924470</td></tr>",
                            "<tr><td>2016-12-18</td><td>NULL</td><td>3602920</td></tr>",
                            "<tr><td>2016-12-19</td><td>NULL</td><td>1502450</td></tr>",
                            "<tr><td>2016-12-20</td><td>NULL</td><td>2110790</td></tr>",
                            "<tr><td>2016-12-21</td><td>NULL</td><td>4636650</td></tr>",
                            "<tr><td>2016-12-22</td><td>NULL</td><td>5453660</td></tr>",
                            "<tr><td>2016-12-23</td><td>NULL</td><td>7098400</td></tr>",
                            "<tr><td>2016-12-24</td><td>NULL</td><td>2677970</td></tr>",
                            "<tr><td>2016-12-25</td><td>NULL</td><td>5370300</td></tr>",
                            "<tr><td>2016-12-26</td><td>NULL</td><td>3496920</td></tr>",
                            "<tr><td>2016-12-27</td><td>NULL</td><td>4161440</td></tr>",
                            "<tr><td>2016-12-28</td><td>NULL</td><td>3105280</td></tr>",
                            "<tr><td>2016-12-29</td><td>NULL</td><td>7708300</td></tr>",
                            "<tr><td>2016-12-30</td><td>NULL</td><td>4112740</td></tr>",
                            "<tr><td>2016-12-31</td><td>NULL</td><td>2452130</td></tr>",
                            "<tr><td>2017-01-01</td><td>NULL</td><td>2866240</td></tr>",
                            "<tr><td>2017-01-02</td><td>NULL</td><td>2636450</td></tr>",
                            "<tr><td>2017-01-03</td><td>NULL</td><td>2485770</td></tr>",
                            "<tr><td>2017-01-04</td><td>NULL</td><td>3817130</td></tr>",
                            "<tr><td>2017-01-05</td><td>NULL</td><td>4753550</td></tr>",
                            "<tr><td>2017-01-06</td><td>NULL</td><td>6881010</td></tr>",
                            "<tr><td>2017-01-07</td><td>NULL</td><td>3503190</td></tr>",
                            "<tr><td>2017-01-08</td><td>NULL</td><td>2999140</td></tr>",
                            "<tr><td>2017-01-09</td><td>NULL</td><td>5695280</td></tr>",
                            "<tr><td>2017-01-10</td><td>NULL</td><td>2346540</td></tr>",
                            "<tr><td>2017-01-11</td><td>NULL</td><td>2594980</td></tr>",
                            "<tr><td>2017-01-12</td><td>NULL</td><td>4505710</td></tr>",
                            "<tr><td>2017-01-13</td><td>NULL</td><td>3513310</td></tr>",
                            "<tr><td>2017-01-14</td><td>NULL</td><td>2623070</td></tr>",
                            "<tr><td>2017-01-15</td><td>NULL</td><td>2600350</td></tr>",
                            "<tr><td>2017-01-16</td><td>NULL</td><td>5536120</td></tr>",
                            "<tr><td>2017-01-17</td><td>NULL</td><td>4087990</td></tr>",
                            "<tr><td>2017-01-18</td><td>NULL</td><td>4276140</td></tr>",
                            "<tr><td>2017-01-19</td><td>NULL</td><td>5190740</td></tr>",
                            "<tr><td>2017-01-20</td><td>NULL</td><td>2531960</td></tr>",
                            "<tr><td>2017-01-21</td><td>NULL</td><td>3101420</td></tr>",
                            "<tr><td>2017-01-22</td><td>NULL</td><td>5888190</td></tr>",
                            "<tr><td>2017-01-23</td><td>NULL</td><td>3816340</td></tr>",
                            "<tr><td>2017-01-24</td><td>NULL</td><td>2873100</td></tr>",
                            "<tr><td>2017-01-25</td><td>NULL</td><td>2209220</td></tr>",
                            "<tr><td>2017-01-26</td><td>NULL</td><td>3290520</td></tr>",
                            "<tr><td>2017-01-27</td><td>NULL</td><td>2246560</td></tr>",
                            "<tr><td>2017-01-28</td><td>NULL</td><td>3915170</td></tr>",
                            "<tr><td>2017-01-29</td><td>NULL</td><td>2695600</td></tr>",
                            "<tr><td>2017-01-30</td><td>NULL</td><td>2806230</td></tr>",
                            "<tr><td>2017-01-31</td><td>NULL</td><td>3749270</td></tr>",
                            "<tr><td>2017-02-01</td><td>NULL</td><td>2521980</td></tr>",
                            "<tr><td>2017-02-02</td><td>NULL</td><td>6191180</td></tr>",
                            "<tr><td>2017-02-03</td><td>NULL</td><td>2797950</td></tr>",
                            "<tr><td>2017-02-04</td><td>NULL</td><td>3090370</td></tr>",
                            "<tr><td>2017-02-05</td><td>NULL</td><td>3008040</td></tr>",
                            "<tr><td>2017-02-06</td><td>NULL</td><td>2115070</td></tr>",
                            "<tr><td>2017-02-07</td><td>NULL</td><td>2923960</td></tr>",
                            "<tr><td>2017-02-08</td><td>NULL</td><td>5423560</td></tr>",
                            "<tr><td>2017-02-09</td><td>NULL</td><td>3377340</td></tr>",
                            "<tr><td>2017-02-10</td><td>NULL</td><td>3715320</td></tr>",
                            "<tr><td>2017-02-11</td><td>NULL</td><td>2909970</td></tr>",
                            "<tr><td>2017-02-12</td><td>NULL</td><td>2915860</td></tr>",
                            "<tr><td>2017-02-13</td><td>NULL</td><td>3469680</td></tr>",
                            "<tr><td>2017-02-14</td><td>NULL</td><td>7073830</td></tr>",
                            "<tr><td>2017-02-15</td><td>NULL</td><td>2641700</td></tr>",
                            "<tr><td>2017-02-16</td><td>NULL</td><td>4293370</td></tr>",
                            "<tr><td>2017-02-17</td><td>NULL</td><td>3121880</td></tr>",
                            "<tr><td>2017-02-18</td><td>NULL</td><td>4031350</td></tr>",
                            "<tr><td>2017-02-19</td><td>NULL</td><td>3865240</td></tr>",
                            "<tr><td>2017-02-20</td><td>NULL</td><td>1912120</td></tr>",
                            "<tr><td>2017-02-21</td><td>NULL</td><td>2663390</td></tr>",
                            "<tr><td>2017-02-22</td><td>NULL</td><td>2637920</td></tr>",
                            "<tr><td>2017-02-23</td><td>NULL</td><td>3854940</td></tr>",
                            "<tr><td>2017-02-24</td><td>NULL</td><td>3262950</td></tr>",
                            "<tr><td>2017-02-25</td><td>NULL</td><td>3244810</td></tr>",
                            "<tr><td>2017-02-26</td><td>NULL</td><td>2950680</td></tr>",
                            "<tr><td>2017-02-27</td><td>NULL</td><td>2921740</td></tr>",
                            "<tr><td>2017-02-28</td><td>NULL</td><td>4445640</td></tr>",
                            "<tr><td>2017-03-01</td><td>NULL</td><td>6098830</td></tr>",
                            "<tr><td>2017-03-02</td><td>NULL</td><td>2379280</td></tr>",
                            "<tr><td>2017-03-03</td><td>NULL</td><td>5160190</td></tr>",
                            "<tr><td>2017-03-04</td><td>NULL</td><td>1789340</td></tr>",
                            "<tr><td>2017-03-05</td><td>NULL</td><td>4498920</td></tr>",
                            "<tr><td>2017-03-06</td><td>NULL</td><td>4970220</td></tr>",
                            "<tr><td>2017-03-07</td><td>NULL</td><td>4022740</td></tr>",
                            "<tr><td>2017-03-08</td><td>NULL</td><td>3193130</td></tr>",
                            "<tr><td>2017-03-09</td><td>NULL</td><td>3529190</td></tr>",
                            "<tr><td>2017-03-10</td><td>NULL</td><td>4104060</td></tr>",
                            "<tr><td>2017-03-11</td><td>NULL</td><td>2408380</td></tr>",
                            "<tr><td>2017-03-12</td><td>NULL</td><td>3416540</td></tr>",
                            "<tr><td>2017-03-13</td><td>NULL</td><td>2669120</td></tr>",
                            "<tr><td>2017-03-14</td><td>NULL</td><td>2760380</td></tr>",
                            "<tr><td>2017-03-15</td><td>NULL</td><td>4597730</td></tr>",
                            "<tr><td>2017-03-16</td><td>NULL</td><td>5074910</td></tr>",
                            "<tr><td>2017-03-17</td><td>NULL</td><td>3133970</td></tr>",
                            "<tr><td>2017-03-18</td><td>NULL</td><td>3113810</td></tr>",
                            "<tr><td>2017-03-19</td><td>NULL</td><td>4777450</td></tr>",
                            "<tr><td>2017-03-20</td><td>NULL</td><td>3504390</td></tr>",
                            "<tr><td>2017-03-21</td><td>NULL</td><td>3462950</td></tr>",
                            "<tr><td>2017-03-22</td><td>NULL</td><td>3410240</td></tr>",
                            "<tr><td>2017-03-23</td><td>NULL</td><td>3391040</td></tr>",
                            "<tr><td>2017-03-24</td><td>NULL</td><td>5062310</td></tr>",
                            "<tr><td>2017-03-25</td><td>NULL</td><td>3655840</td></tr>",
                            "<tr><td>2017-03-26</td><td>NULL</td><td>6625820</td></tr>",
                            "<tr><td>2017-03-27</td><td>NULL</td><td>3224540</td></tr>",
                            "<tr><td>2017-03-28</td><td>NULL</td><td>3504060</td></tr>",
                            "<tr><td>2017-03-29</td><td>NULL</td><td>3530000</td></tr>",
                            "<tr><td>2017-03-30</td><td>NULL</td><td>4791940</td></tr>",
                            "<tr><td>2017-03-31</td><td>NULL</td><td>2883800</td></tr>",
                            "<tr><td>2017-04-01</td><td>NULL</td><td>3668460</td></tr>",
                            "<tr><td>2017-04-02</td><td>NULL</td><td>3275900</td></tr>",
                            "<tr><td>2017-04-03</td><td>NULL</td><td>2272470</td></tr>",
                            "<tr><td>2017-04-04</td><td>NULL</td><td>2014040</td></tr>",
                            "<tr><td>2017-04-05</td><td>NULL</td><td>2354780</td></tr>",
                            "<tr><td>2017-04-06</td><td>NULL</td><td>2016810</td></tr>",
                            "<tr><td>2017-04-07</td><td>NULL</td><td>3519220</td></tr>",
                            "<tr><td>2017-04-08</td><td>NULL</td><td>2182420</td></tr>",
                            "<tr><td>2017-04-09</td><td>NULL</td><td>1596740</td></tr>",
                            "<tr><td>2017-04-10</td><td>NULL</td><td>283520</td></tr>",
                            "<tr><td>2017-04-11</td><td>NULL</td><td>132070</td></tr>",
                            "<tr><td>NULL</td><td>NULL</td><td>2611634603</td></tr>",
                            "</table>"
                        ]
                    }
                }
            ],
            "execution_count": 4
        },
        {
            "cell_type": "markdown",
            "source": [
                "```\n",
                "3. Hány olyan ügyfél van, aki még nem rendelt semmit?\n",
                "```\n",
                "\n",
                "1. Csoportosítsuk őket nem szerint, azon belül életkor szerint!\n",
                "2. A lista tartalmazza a részösszegeket és a végösszeget is!\n",
                "\n",
                "![](https://moodle.uni-corvinus.hu/theme/image.php/adaptable/atto_h5p/1709548862/icon)"
            ],
            "metadata": {
                "azdata_cell_guid": "d7876bb9-76d0-4d07-baed-3cb17b2f96c3"
            },
            "attachments": {}
        },
        {
            "cell_type": "code",
            "source": [
                "SELECT nem,year(GETDATE())-szulev,count(*) as 'Darab'\r\n",
                "FROM UGYFEL left join Rendeles ON UGYFEL.[LOGIN] = RENDELES.[LOGIN]\r\n",
                "WHERE REND_DATUM is null\r\n",
                "GROUP BY rollup( nem,year(GETDATE())-szulev)"
            ],
            "metadata": {
                "azdata_cell_guid": "56ec19ce-e249-4551-b2a8-f17569765acc",
                "language": "sql"
            },
            "outputs": [
                {
                    "output_type": "display_data",
                    "data": {
                        "text/html": "(12 rows affected)"
                    },
                    "metadata": {}
                },
                {
                    "output_type": "display_data",
                    "data": {
                        "text/html": "Total execution time: 00:00:00.092"
                    },
                    "metadata": {}
                },
                {
                    "output_type": "execute_result",
                    "metadata": {},
                    "execution_count": 7,
                    "data": {
                        "application/vnd.dataresource+json": {
                            "schema": {
                                "fields": [
                                    {
                                        "name": "nem"
                                    },
                                    {
                                        "name": "(No column name)"
                                    },
                                    {
                                        "name": "(No column name)"
                                    }
                                ]
                            },
                            "data": [
                                {
                                    "nem": "F",
                                    "(No column name)": "1"
                                },
                                {
                                    "nem": "F",
                                    "(No column name)": "1"
                                },
                                {
                                    "nem": "F",
                                    "(No column name)": "1"
                                },
                                {
                                    "nem": "F",
                                    "(No column name)": "1"
                                },
                                {
                                    "nem": "F",
                                    "(No column name)": "1"
                                },
                                {
                                    "nem": "F",
                                    "(No column name)": "1"
                                },
                                {
                                    "nem": "F",
                                    "(No column name)": "6"
                                },
                                {
                                    "nem": "N",
                                    "(No column name)": "1"
                                },
                                {
                                    "nem": "N",
                                    "(No column name)": "1"
                                },
                                {
                                    "nem": "N",
                                    "(No column name)": "1"
                                },
                                {
                                    "nem": "N",
                                    "(No column name)": "3"
                                },
                                {
                                    "nem": "NULL",
                                    "(No column name)": "9"
                                }
                            ]
                        },
                        "text/html": [
                            "<table>",
                            "<tr><th>nem</th><th>(No column name)</th><th>(No column name)</th></tr>",
                            "<tr><td>F</td><td>24</td><td>1</td></tr>",
                            "<tr><td>F</td><td>26</td><td>1</td></tr>",
                            "<tr><td>F</td><td>28</td><td>1</td></tr>",
                            "<tr><td>F</td><td>45</td><td>1</td></tr>",
                            "<tr><td>F</td><td>55</td><td>1</td></tr>",
                            "<tr><td>F</td><td>56</td><td>1</td></tr>",
                            "<tr><td>F</td><td>NULL</td><td>6</td></tr>",
                            "<tr><td>N</td><td>30</td><td>1</td></tr>",
                            "<tr><td>N</td><td>37</td><td>1</td></tr>",
                            "<tr><td>N</td><td>49</td><td>1</td></tr>",
                            "<tr><td>N</td><td>NULL</td><td>3</td></tr>",
                            "<tr><td>NULL</td><td>NULL</td><td>9</td></tr>",
                            "</table>"
                        ]
                    }
                }
            ],
            "execution_count": 7
        },
        {
            "cell_type": "markdown",
            "source": [
                "4. <span style=\"color: rgb(36, 41, 47); font-family: -apple-system, BlinkMacSystemFont, &quot;Segoe UI&quot;, Helvetica, Arial, sans-serif, &quot;Apple Color Emoji&quot;, &quot;Segoe UI Emoji&quot;; font-size: 16px;\">Készítsünk listát a megrendelt termékek legkisebb és legnagyobb egységáráról szállítási dátum, azon belül szállítási mód szerinti bontásban!</span>\n",
                "\n",
                "1. A lista csak a 2015 májusi szállításokat tartalmazza!\n",
                "2. Jelenítsük meg a részösszegeket és a végösszeget is!"
            ],
            "metadata": {
                "azdata_cell_guid": "8e7fef82-8022-49a0-8255-fc2846c2134b"
            },
            "attachments": {}
        },
        {
            "cell_type": "code",
            "source": [
                "SELECT szall_datum,szall_mod,min(egysegar),max(egysegar)\r\n",
                "FROM Rendeles JOIN Rendeles_tetel on Rendeles.SORSZAM = Rendeles_tetel.SORSZAM\r\n",
                "WHERE YEAR(szall_datum) = 2015 and month(szall_datum) = 5\r\n",
                "GROUP BY ROLLUP(szall_datum,szall_mod)"
            ],
            "metadata": {
                "azdata_cell_guid": "36f7b396-4a1f-45e5-8720-2302537c91bc",
                "language": "sql"
            },
            "outputs": [
                {
                    "output_type": "display_data",
                    "data": {
                        "text/html": "(115 rows affected)"
                    },
                    "metadata": {}
                },
                {
                    "output_type": "display_data",
                    "data": {
                        "text/html": "Total execution time: 00:00:00.153"
                    },
                    "metadata": {}
                },
                {
                    "output_type": "execute_result",
                    "metadata": {},
                    "execution_count": 8,
                    "data": {
                        "application/vnd.dataresource+json": {
                            "schema": {
                                "fields": [
                                    {
                                        "name": "szall_datum"
                                    },
                                    {
                                        "name": "szall_mod"
                                    },
                                    {
                                        "name": "(No column name)"
                                    },
                                    {
                                        "name": "(No column name)"
                                    }
                                ]
                            },
                            "data": [
                                {
                                    "szall_datum": "2015-05-03",
                                    "szall_mod": "GLS",
                                    "(No column name)": "400"
                                },
                                {
                                    "szall_datum": "2015-05-03",
                                    "szall_mod": "NULL",
                                    "(No column name)": "400"
                                },
                                {
                                    "szall_datum": "2015-05-04",
                                    "szall_mod": "GLS",
                                    "(No column name)": "1251"
                                },
                                {
                                    "szall_datum": "2015-05-04",
                                    "szall_mod": "Posta",
                                    "(No column name)": "15363"
                                },
                                {
                                    "szall_datum": "2015-05-04",
                                    "szall_mod": "Személyes átvétel",
                                    "(No column name)": "15363"
                                },
                                {
                                    "szall_datum": "2015-05-04",
                                    "szall_mod": "NULL",
                                    "(No column name)": "15363"
                                },
                                {
                                    "szall_datum": "2015-05-05",
                                    "szall_mod": "GLS",
                                    "(No column name)": "29090"
                                },
                                {
                                    "szall_datum": "2015-05-05",
                                    "szall_mod": "Posta",
                                    "(No column name)": "29090"
                                },
                                {
                                    "szall_datum": "2015-05-05",
                                    "szall_mod": "Személyes átvétel",
                                    "(No column name)": "366"
                                },
                                {
                                    "szall_datum": "2015-05-05",
                                    "szall_mod": "NULL",
                                    "(No column name)": "29090"
                                },
                                {
                                    "szall_datum": "2015-05-06",
                                    "szall_mod": "GLS",
                                    "(No column name)": "35454"
                                },
                                {
                                    "szall_datum": "2015-05-06",
                                    "szall_mod": "Posta",
                                    "(No column name)": "702"
                                },
                                {
                                    "szall_datum": "2015-05-06",
                                    "szall_mod": "Személyes átvétel",
                                    "(No column name)": "41818"
                                },
                                {
                                    "szall_datum": "2015-05-06",
                                    "szall_mod": "NULL",
                                    "(No column name)": "41818"
                                },
                                {
                                    "szall_datum": "2015-05-07",
                                    "szall_mod": "GLS",
                                    "(No column name)": "41818"
                                },
                                {
                                    "szall_datum": "2015-05-07",
                                    "szall_mod": "Posta",
                                    "(No column name)": "394"
                                },
                                {
                                    "szall_datum": "2015-05-07",
                                    "szall_mod": "Személyes átvétel",
                                    "(No column name)": "1604"
                                },
                                {
                                    "szall_datum": "2015-05-07",
                                    "szall_mod": "NULL",
                                    "(No column name)": "41818"
                                },
                                {
                                    "szall_datum": "2015-05-08",
                                    "szall_mod": "GLS",
                                    "(No column name)": "15363"
                                },
                                {
                                    "szall_datum": "2015-05-08",
                                    "szall_mod": "Posta",
                                    "(No column name)": "35454"
                                },
                                {
                                    "szall_datum": "2015-05-08",
                                    "szall_mod": "Személyes átvétel",
                                    "(No column name)": "41818"
                                },
                                {
                                    "szall_datum": "2015-05-08",
                                    "szall_mod": "NULL",
                                    "(No column name)": "41818"
                                },
                                {
                                    "szall_datum": "2015-05-09",
                                    "szall_mod": "GLS",
                                    "(No column name)": "12954"
                                },
                                {
                                    "szall_datum": "2015-05-09",
                                    "szall_mod": "Posta",
                                    "(No column name)": "1604"
                                },
                                {
                                    "szall_datum": "2015-05-09",
                                    "szall_mod": "Személyes átvétel",
                                    "(No column name)": "41818"
                                },
                                {
                                    "szall_datum": "2015-05-09",
                                    "szall_mod": "NULL",
                                    "(No column name)": "41818"
                                },
                                {
                                    "szall_datum": "2015-05-10",
                                    "szall_mod": "GLS",
                                    "(No column name)": "35454"
                                },
                                {
                                    "szall_datum": "2015-05-10",
                                    "szall_mod": "Posta",
                                    "(No column name)": "29090"
                                },
                                {
                                    "szall_datum": "2015-05-10",
                                    "szall_mod": "Személyes átvétel",
                                    "(No column name)": "789"
                                },
                                {
                                    "szall_datum": "2015-05-10",
                                    "szall_mod": "NULL",
                                    "(No column name)": "35454"
                                },
                                {
                                    "szall_datum": "2015-05-11",
                                    "szall_mod": "GLS",
                                    "(No column name)": "41818"
                                },
                                {
                                    "szall_datum": "2015-05-11",
                                    "szall_mod": "Posta",
                                    "(No column name)": "29090"
                                },
                                {
                                    "szall_datum": "2015-05-11",
                                    "szall_mod": "Személyes átvétel",
                                    "(No column name)": "35454"
                                },
                                {
                                    "szall_datum": "2015-05-11",
                                    "szall_mod": "NULL",
                                    "(No column name)": "41818"
                                },
                                {
                                    "szall_datum": "2015-05-12",
                                    "szall_mod": "GLS",
                                    "(No column name)": "6272"
                                },
                                {
                                    "szall_datum": "2015-05-12",
                                    "szall_mod": "Posta",
                                    "(No column name)": "41818"
                                },
                                {
                                    "szall_datum": "2015-05-12",
                                    "szall_mod": "Személyes átvétel",
                                    "(No column name)": "35454"
                                },
                                {
                                    "szall_datum": "2015-05-12",
                                    "szall_mod": "NULL",
                                    "(No column name)": "41818"
                                },
                                {
                                    "szall_datum": "2015-05-13",
                                    "szall_mod": "GLS",
                                    "(No column name)": "15363"
                                },
                                {
                                    "szall_datum": "2015-05-13",
                                    "szall_mod": "Posta",
                                    "(No column name)": "41818"
                                },
                                {
                                    "szall_datum": "2015-05-13",
                                    "szall_mod": "Személyes átvétel",
                                    "(No column name)": "29090"
                                },
                                {
                                    "szall_datum": "2015-05-13",
                                    "szall_mod": "NULL",
                                    "(No column name)": "41818"
                                },
                                {
                                    "szall_datum": "2015-05-14",
                                    "szall_mod": "GLS",
                                    "(No column name)": "41818"
                                },
                                {
                                    "szall_datum": "2015-05-14",
                                    "szall_mod": "Posta",
                                    "(No column name)": "41818"
                                },
                                {
                                    "szall_datum": "2015-05-14",
                                    "szall_mod": "Személyes átvétel",
                                    "(No column name)": "41818"
                                },
                                {
                                    "szall_datum": "2015-05-14",
                                    "szall_mod": "NULL",
                                    "(No column name)": "41818"
                                },
                                {
                                    "szall_datum": "2015-05-15",
                                    "szall_mod": "GLS",
                                    "(No column name)": "15363"
                                },
                                {
                                    "szall_datum": "2015-05-15",
                                    "szall_mod": "Posta",
                                    "(No column name)": "15363"
                                },
                                {
                                    "szall_datum": "2015-05-15",
                                    "szall_mod": "Személyes átvétel",
                                    "(No column name)": "41818"
                                },
                                {
                                    "szall_datum": "2015-05-15",
                                    "szall_mod": "NULL",
                                    "(No column name)": "41818"
                                },
                                {
                                    "szall_datum": "2015-05-16",
                                    "szall_mod": "GLS",
                                    "(No column name)": "41818"
                                },
                                {
                                    "szall_datum": "2015-05-16",
                                    "szall_mod": "Posta",
                                    "(No column name)": "35454"
                                },
                                {
                                    "szall_datum": "2015-05-16",
                                    "szall_mod": "Személyes átvétel",
                                    "(No column name)": "29090"
                                },
                                {
                                    "szall_datum": "2015-05-16",
                                    "szall_mod": "NULL",
                                    "(No column name)": "41818"
                                },
                                {
                                    "szall_datum": "2015-05-17",
                                    "szall_mod": "GLS",
                                    "(No column name)": "29090"
                                },
                                {
                                    "szall_datum": "2015-05-17",
                                    "szall_mod": "Posta",
                                    "(No column name)": "35454"
                                },
                                {
                                    "szall_datum": "2015-05-17",
                                    "szall_mod": "Személyes átvétel",
                                    "(No column name)": "35454"
                                },
                                {
                                    "szall_datum": "2015-05-17",
                                    "szall_mod": "NULL",
                                    "(No column name)": "35454"
                                },
                                {
                                    "szall_datum": "2015-05-18",
                                    "szall_mod": "GLS",
                                    "(No column name)": "35454"
                                },
                                {
                                    "szall_datum": "2015-05-18",
                                    "szall_mod": "Posta",
                                    "(No column name)": "41818"
                                },
                                {
                                    "szall_datum": "2015-05-18",
                                    "szall_mod": "Személyes átvétel",
                                    "(No column name)": "41818"
                                },
                                {
                                    "szall_datum": "2015-05-18",
                                    "szall_mod": "NULL",
                                    "(No column name)": "41818"
                                },
                                {
                                    "szall_datum": "2015-05-19",
                                    "szall_mod": "GLS",
                                    "(No column name)": "41818"
                                },
                                {
                                    "szall_datum": "2015-05-19",
                                    "szall_mod": "Posta",
                                    "(No column name)": "41818"
                                },
                                {
                                    "szall_datum": "2015-05-19",
                                    "szall_mod": "Személyes átvétel",
                                    "(No column name)": "12954"
                                },
                                {
                                    "szall_datum": "2015-05-19",
                                    "szall_mod": "NULL",
                                    "(No column name)": "41818"
                                },
                                {
                                    "szall_datum": "2015-05-20",
                                    "szall_mod": "GLS",
                                    "(No column name)": "41818"
                                },
                                {
                                    "szall_datum": "2015-05-20",
                                    "szall_mod": "Posta",
                                    "(No column name)": "1251"
                                },
                                {
                                    "szall_datum": "2015-05-20",
                                    "szall_mod": "Személyes átvétel",
                                    "(No column name)": "41818"
                                },
                                {
                                    "szall_datum": "2015-05-20",
                                    "szall_mod": "NULL",
                                    "(No column name)": "41818"
                                },
                                {
                                    "szall_datum": "2015-05-21",
                                    "szall_mod": "GLS",
                                    "(No column name)": "10818"
                                },
                                {
                                    "szall_datum": "2015-05-21",
                                    "szall_mod": "Posta",
                                    "(No column name)": "15363"
                                },
                                {
                                    "szall_datum": "2015-05-21",
                                    "szall_mod": "Személyes átvétel",
                                    "(No column name)": "29090"
                                },
                                {
                                    "szall_datum": "2015-05-21",
                                    "szall_mod": "NULL",
                                    "(No column name)": "29090"
                                },
                                {
                                    "szall_datum": "2015-05-22",
                                    "szall_mod": "GLS",
                                    "(No column name)": "41818"
                                },
                                {
                                    "szall_datum": "2015-05-22",
                                    "szall_mod": "Posta",
                                    "(No column name)": "21818"
                                },
                                {
                                    "szall_datum": "2015-05-22",
                                    "szall_mod": "Személyes átvétel",
                                    "(No column name)": "29090"
                                },
                                {
                                    "szall_datum": "2015-05-22",
                                    "szall_mod": "NULL",
                                    "(No column name)": "41818"
                                },
                                {
                                    "szall_datum": "2015-05-23",
                                    "szall_mod": "GLS",
                                    "(No column name)": "35454"
                                },
                                {
                                    "szall_datum": "2015-05-23",
                                    "szall_mod": "Posta",
                                    "(No column name)": "990"
                                },
                                {
                                    "szall_datum": "2015-05-23",
                                    "szall_mod": "Személyes átvétel",
                                    "(No column name)": "15363"
                                },
                                {
                                    "szall_datum": "2015-05-23",
                                    "szall_mod": "NULL",
                                    "(No column name)": "35454"
                                },
                                {
                                    "szall_datum": "2015-05-24",
                                    "szall_mod": "GLS",
                                    "(No column name)": "35454"
                                },
                                {
                                    "szall_datum": "2015-05-24",
                                    "szall_mod": "Posta",
                                    "(No column name)": "41818"
                                },
                                {
                                    "szall_datum": "2015-05-24",
                                    "szall_mod": "Személyes átvétel",
                                    "(No column name)": "35454"
                                },
                                {
                                    "szall_datum": "2015-05-24",
                                    "szall_mod": "NULL",
                                    "(No column name)": "41818"
                                },
                                {
                                    "szall_datum": "2015-05-25",
                                    "szall_mod": "GLS",
                                    "(No column name)": "1042"
                                },
                                {
                                    "szall_datum": "2015-05-25",
                                    "szall_mod": "Posta",
                                    "(No column name)": "10818"
                                },
                                {
                                    "szall_datum": "2015-05-25",
                                    "szall_mod": "Személyes átvétel",
                                    "(No column name)": "41818"
                                },
                                {
                                    "szall_datum": "2015-05-25",
                                    "szall_mod": "NULL",
                                    "(No column name)": "41818"
                                },
                                {
                                    "szall_datum": "2015-05-26",
                                    "szall_mod": "GLS",
                                    "(No column name)": "35454"
                                },
                                {
                                    "szall_datum": "2015-05-26",
                                    "szall_mod": "Posta",
                                    "(No column name)": "7272"
                                },
                                {
                                    "szall_datum": "2015-05-26",
                                    "szall_mod": "Személyes átvétel",
                                    "(No column name)": "29090"
                                },
                                {
                                    "szall_datum": "2015-05-26",
                                    "szall_mod": "NULL",
                                    "(No column name)": "35454"
                                },
                                {
                                    "szall_datum": "2015-05-27",
                                    "szall_mod": "GLS",
                                    "(No column name)": "41818"
                                },
                                {
                                    "szall_datum": "2015-05-27",
                                    "szall_mod": "Posta",
                                    "(No column name)": "41818"
                                },
                                {
                                    "szall_datum": "2015-05-27",
                                    "szall_mod": "Személyes átvétel",
                                    "(No column name)": "41818"
                                },
                                {
                                    "szall_datum": "2015-05-27",
                                    "szall_mod": "NULL",
                                    "(No column name)": "41818"
                                },
                                {
                                    "szall_datum": "2015-05-28",
                                    "szall_mod": "GLS",
                                    "(No column name)": "41818"
                                },
                                {
                                    "szall_datum": "2015-05-28",
                                    "szall_mod": "Posta",
                                    "(No column name)": "35454"
                                },
                                {
                                    "szall_datum": "2015-05-28",
                                    "szall_mod": "Személyes átvétel",
                                    "(No column name)": "41818"
                                },
                                {
                                    "szall_datum": "2015-05-28",
                                    "szall_mod": "NULL",
                                    "(No column name)": "41818"
                                },
                                {
                                    "szall_datum": "2015-05-29",
                                    "szall_mod": "GLS",
                                    "(No column name)": "21818"
                                },
                                {
                                    "szall_datum": "2015-05-29",
                                    "szall_mod": "Posta",
                                    "(No column name)": "21818"
                                },
                                {
                                    "szall_datum": "2015-05-29",
                                    "szall_mod": "Személyes átvétel",
                                    "(No column name)": "41818"
                                },
                                {
                                    "szall_datum": "2015-05-29",
                                    "szall_mod": "NULL",
                                    "(No column name)": "41818"
                                },
                                {
                                    "szall_datum": "2015-05-30",
                                    "szall_mod": "GLS",
                                    "(No column name)": "35454"
                                },
                                {
                                    "szall_datum": "2015-05-30",
                                    "szall_mod": "Posta",
                                    "(No column name)": "990"
                                },
                                {
                                    "szall_datum": "2015-05-30",
                                    "szall_mod": "Személyes átvétel",
                                    "(No column name)": "41818"
                                },
                                {
                                    "szall_datum": "2015-05-30",
                                    "szall_mod": "NULL",
                                    "(No column name)": "41818"
                                },
                                {
                                    "szall_datum": "2015-05-31",
                                    "szall_mod": "GLS",
                                    "(No column name)": "35454"
                                },
                                {
                                    "szall_datum": "2015-05-31",
                                    "szall_mod": "Posta",
                                    "(No column name)": "12954"
                                },
                                {
                                    "szall_datum": "2015-05-31",
                                    "szall_mod": "Személyes átvétel",
                                    "(No column name)": "35454"
                                },
                                {
                                    "szall_datum": "2015-05-31",
                                    "szall_mod": "NULL",
                                    "(No column name)": "35454"
                                },
                                {
                                    "szall_datum": "NULL",
                                    "szall_mod": "NULL",
                                    "(No column name)": "41818"
                                }
                            ]
                        },
                        "text/html": [
                            "<table>",
                            "<tr><th>szall_datum</th><th>szall_mod</th><th>(No column name)</th><th>(No column name)</th></tr>",
                            "<tr><td>2015-05-03</td><td>GLS</td><td>17</td><td>400</td></tr>",
                            "<tr><td>2015-05-03</td><td>NULL</td><td>17</td><td>400</td></tr>",
                            "<tr><td>2015-05-04</td><td>GLS</td><td>9</td><td>1251</td></tr>",
                            "<tr><td>2015-05-04</td><td>Posta</td><td>12</td><td>15363</td></tr>",
                            "<tr><td>2015-05-04</td><td>Személyes átvétel</td><td>23</td><td>15363</td></tr>",
                            "<tr><td>2015-05-04</td><td>NULL</td><td>9</td><td>15363</td></tr>",
                            "<tr><td>2015-05-05</td><td>GLS</td><td>18</td><td>29090</td></tr>",
                            "<tr><td>2015-05-05</td><td>Posta</td><td>10</td><td>29090</td></tr>",
                            "<tr><td>2015-05-05</td><td>Személyes átvétel</td><td>11</td><td>366</td></tr>",
                            "<tr><td>2015-05-05</td><td>NULL</td><td>10</td><td>29090</td></tr>",
                            "<tr><td>2015-05-06</td><td>GLS</td><td>7</td><td>35454</td></tr>",
                            "<tr><td>2015-05-06</td><td>Posta</td><td>8</td><td>702</td></tr>",
                            "<tr><td>2015-05-06</td><td>Személyes átvétel</td><td>2</td><td>41818</td></tr>",
                            "<tr><td>2015-05-06</td><td>NULL</td><td>2</td><td>41818</td></tr>",
                            "<tr><td>2015-05-07</td><td>GLS</td><td>3</td><td>41818</td></tr>",
                            "<tr><td>2015-05-07</td><td>Posta</td><td>12</td><td>394</td></tr>",
                            "<tr><td>2015-05-07</td><td>Személyes átvétel</td><td>2</td><td>1604</td></tr>",
                            "<tr><td>2015-05-07</td><td>NULL</td><td>2</td><td>41818</td></tr>",
                            "<tr><td>2015-05-08</td><td>GLS</td><td>2</td><td>15363</td></tr>",
                            "<tr><td>2015-05-08</td><td>Posta</td><td>12</td><td>35454</td></tr>",
                            "<tr><td>2015-05-08</td><td>Személyes átvétel</td><td>5</td><td>41818</td></tr>",
                            "<tr><td>2015-05-08</td><td>NULL</td><td>2</td><td>41818</td></tr>",
                            "<tr><td>2015-05-09</td><td>GLS</td><td>7</td><td>12954</td></tr>",
                            "<tr><td>2015-05-09</td><td>Posta</td><td>13</td><td>1604</td></tr>",
                            "<tr><td>2015-05-09</td><td>Személyes átvétel</td><td>2</td><td>41818</td></tr>",
                            "<tr><td>2015-05-09</td><td>NULL</td><td>2</td><td>41818</td></tr>",
                            "<tr><td>2015-05-10</td><td>GLS</td><td>10</td><td>35454</td></tr>",
                            "<tr><td>2015-05-10</td><td>Posta</td><td>5</td><td>29090</td></tr>",
                            "<tr><td>2015-05-10</td><td>Személyes átvétel</td><td>0</td><td>789</td></tr>",
                            "<tr><td>2015-05-10</td><td>NULL</td><td>0</td><td>35454</td></tr>",
                            "<tr><td>2015-05-11</td><td>GLS</td><td>7</td><td>41818</td></tr>",
                            "<tr><td>2015-05-11</td><td>Posta</td><td>2</td><td>29090</td></tr>",
                            "<tr><td>2015-05-11</td><td>Személyes átvétel</td><td>8</td><td>35454</td></tr>",
                            "<tr><td>2015-05-11</td><td>NULL</td><td>2</td><td>41818</td></tr>",
                            "<tr><td>2015-05-12</td><td>GLS</td><td>7</td><td>6272</td></tr>",
                            "<tr><td>2015-05-12</td><td>Posta</td><td>0</td><td>41818</td></tr>",
                            "<tr><td>2015-05-12</td><td>Személyes átvétel</td><td>7</td><td>35454</td></tr>",
                            "<tr><td>2015-05-12</td><td>NULL</td><td>0</td><td>41818</td></tr>",
                            "<tr><td>2015-05-13</td><td>GLS</td><td>17</td><td>15363</td></tr>",
                            "<tr><td>2015-05-13</td><td>Posta</td><td>0</td><td>41818</td></tr>",
                            "<tr><td>2015-05-13</td><td>Személyes átvétel</td><td>5</td><td>29090</td></tr>",
                            "<tr><td>2015-05-13</td><td>NULL</td><td>0</td><td>41818</td></tr>",
                            "<tr><td>2015-05-14</td><td>GLS</td><td>2</td><td>41818</td></tr>",
                            "<tr><td>2015-05-14</td><td>Posta</td><td>3</td><td>41818</td></tr>",
                            "<tr><td>2015-05-14</td><td>Személyes átvétel</td><td>0</td><td>41818</td></tr>",
                            "<tr><td>2015-05-14</td><td>NULL</td><td>0</td><td>41818</td></tr>",
                            "<tr><td>2015-05-15</td><td>GLS</td><td>5</td><td>15363</td></tr>",
                            "<tr><td>2015-05-15</td><td>Posta</td><td>5</td><td>15363</td></tr>",
                            "<tr><td>2015-05-15</td><td>Személyes átvétel</td><td>2</td><td>41818</td></tr>",
                            "<tr><td>2015-05-15</td><td>NULL</td><td>2</td><td>41818</td></tr>",
                            "<tr><td>2015-05-16</td><td>GLS</td><td>7</td><td>41818</td></tr>",
                            "<tr><td>2015-05-16</td><td>Posta</td><td>8</td><td>35454</td></tr>",
                            "<tr><td>2015-05-16</td><td>Személyes átvétel</td><td>2</td><td>29090</td></tr>",
                            "<tr><td>2015-05-16</td><td>NULL</td><td>2</td><td>41818</td></tr>",
                            "<tr><td>2015-05-17</td><td>GLS</td><td>2</td><td>29090</td></tr>",
                            "<tr><td>2015-05-17</td><td>Posta</td><td>23</td><td>35454</td></tr>",
                            "<tr><td>2015-05-17</td><td>Személyes átvétel</td><td>13</td><td>35454</td></tr>",
                            "<tr><td>2015-05-17</td><td>NULL</td><td>2</td><td>35454</td></tr>",
                            "<tr><td>2015-05-18</td><td>GLS</td><td>7</td><td>35454</td></tr>",
                            "<tr><td>2015-05-18</td><td>Posta</td><td>12</td><td>41818</td></tr>",
                            "<tr><td>2015-05-18</td><td>Személyes átvétel</td><td>3</td><td>41818</td></tr>",
                            "<tr><td>2015-05-18</td><td>NULL</td><td>3</td><td>41818</td></tr>",
                            "<tr><td>2015-05-19</td><td>GLS</td><td>5</td><td>41818</td></tr>",
                            "<tr><td>2015-05-19</td><td>Posta</td><td>13</td><td>41818</td></tr>",
                            "<tr><td>2015-05-19</td><td>Személyes átvétel</td><td>7</td><td>12954</td></tr>",
                            "<tr><td>2015-05-19</td><td>NULL</td><td>5</td><td>41818</td></tr>",
                            "<tr><td>2015-05-20</td><td>GLS</td><td>5</td><td>41818</td></tr>",
                            "<tr><td>2015-05-20</td><td>Posta</td><td>7</td><td>1251</td></tr>",
                            "<tr><td>2015-05-20</td><td>Személyes átvétel</td><td>7</td><td>41818</td></tr>",
                            "<tr><td>2015-05-20</td><td>NULL</td><td>5</td><td>41818</td></tr>",
                            "<tr><td>2015-05-21</td><td>GLS</td><td>9</td><td>10818</td></tr>",
                            "<tr><td>2015-05-21</td><td>Posta</td><td>3</td><td>15363</td></tr>",
                            "<tr><td>2015-05-21</td><td>Személyes átvétel</td><td>2</td><td>29090</td></tr>",
                            "<tr><td>2015-05-21</td><td>NULL</td><td>2</td><td>29090</td></tr>",
                            "<tr><td>2015-05-22</td><td>GLS</td><td>0</td><td>41818</td></tr>",
                            "<tr><td>2015-05-22</td><td>Posta</td><td>2</td><td>21818</td></tr>",
                            "<tr><td>2015-05-22</td><td>Személyes átvétel</td><td>4</td><td>29090</td></tr>",
                            "<tr><td>2015-05-22</td><td>NULL</td><td>0</td><td>41818</td></tr>",
                            "<tr><td>2015-05-23</td><td>GLS</td><td>0</td><td>35454</td></tr>",
                            "<tr><td>2015-05-23</td><td>Posta</td><td>0</td><td>990</td></tr>",
                            "<tr><td>2015-05-23</td><td>Személyes átvétel</td><td>9</td><td>15363</td></tr>",
                            "<tr><td>2015-05-23</td><td>NULL</td><td>0</td><td>35454</td></tr>",
                            "<tr><td>2015-05-24</td><td>GLS</td><td>5</td><td>35454</td></tr>",
                            "<tr><td>2015-05-24</td><td>Posta</td><td>5</td><td>41818</td></tr>",
                            "<tr><td>2015-05-24</td><td>Személyes átvétel</td><td>8</td><td>35454</td></tr>",
                            "<tr><td>2015-05-24</td><td>NULL</td><td>5</td><td>41818</td></tr>",
                            "<tr><td>2015-05-25</td><td>GLS</td><td>0</td><td>1042</td></tr>",
                            "<tr><td>2015-05-25</td><td>Posta</td><td>27</td><td>10818</td></tr>",
                            "<tr><td>2015-05-25</td><td>Személyes átvétel</td><td>3</td><td>41818</td></tr>",
                            "<tr><td>2015-05-25</td><td>NULL</td><td>0</td><td>41818</td></tr>",
                            "<tr><td>2015-05-26</td><td>GLS</td><td>2</td><td>35454</td></tr>",
                            "<tr><td>2015-05-26</td><td>Posta</td><td>17</td><td>7272</td></tr>",
                            "<tr><td>2015-05-26</td><td>Személyes átvétel</td><td>2</td><td>29090</td></tr>",
                            "<tr><td>2015-05-26</td><td>NULL</td><td>2</td><td>35454</td></tr>",
                            "<tr><td>2015-05-27</td><td>GLS</td><td>2</td><td>41818</td></tr>",
                            "<tr><td>2015-05-27</td><td>Posta</td><td>7</td><td>41818</td></tr>",
                            "<tr><td>2015-05-27</td><td>Személyes átvétel</td><td>2</td><td>41818</td></tr>",
                            "<tr><td>2015-05-27</td><td>NULL</td><td>2</td><td>41818</td></tr>",
                            "<tr><td>2015-05-28</td><td>GLS</td><td>2</td><td>41818</td></tr>",
                            "<tr><td>2015-05-28</td><td>Posta</td><td>12</td><td>35454</td></tr>",
                            "<tr><td>2015-05-28</td><td>Személyes átvétel</td><td>5</td><td>41818</td></tr>",
                            "<tr><td>2015-05-28</td><td>NULL</td><td>2</td><td>41818</td></tr>",
                            "<tr><td>2015-05-29</td><td>GLS</td><td>3</td><td>21818</td></tr>",
                            "<tr><td>2015-05-29</td><td>Posta</td><td>2</td><td>21818</td></tr>",
                            "<tr><td>2015-05-29</td><td>Személyes átvétel</td><td>3</td><td>41818</td></tr>",
                            "<tr><td>2015-05-29</td><td>NULL</td><td>2</td><td>41818</td></tr>",
                            "<tr><td>2015-05-30</td><td>GLS</td><td>4</td><td>35454</td></tr>",
                            "<tr><td>2015-05-30</td><td>Posta</td><td>2</td><td>990</td></tr>",
                            "<tr><td>2015-05-30</td><td>Személyes átvétel</td><td>3</td><td>41818</td></tr>",
                            "<tr><td>2015-05-30</td><td>NULL</td><td>2</td><td>41818</td></tr>",
                            "<tr><td>2015-05-31</td><td>GLS</td><td>16</td><td>35454</td></tr>",
                            "<tr><td>2015-05-31</td><td>Posta</td><td>13</td><td>12954</td></tr>",
                            "<tr><td>2015-05-31</td><td>Személyes átvétel</td><td>13</td><td>35454</td></tr>",
                            "<tr><td>2015-05-31</td><td>NULL</td><td>13</td><td>35454</td></tr>",
                            "<tr><td>NULL</td><td>NULL</td><td>0</td><td>41818</td></tr>",
                            "</table>"
                        ]
                    }
                }
            ],
            "execution_count": 8
        },
        {
            "cell_type": "markdown",
            "source": [
                "5. <span style=\"color: rgb(36, 41, 47); font-family: -apple-system, BlinkMacSystemFont, &quot;Segoe UI&quot;, Helvetica, Arial, sans-serif, &quot;Apple Color Emoji&quot;, &quot;Segoe UI Emoji&quot;; font-size: 16px;\">Készítsünk csoportot a termékek listaára alapján a következők szerint:&nbsp;<br></span> <span style=\"color: rgb(36, 41, 47); font-family: -apple-system, BlinkMacSystemFont, &quot;Segoe UI&quot;, Helvetica, Arial, sans-serif, &quot;Apple Color Emoji&quot;, &quot;Segoe UI Emoji&quot;; font-size: 16px;\">Az \"olcsó\" termékek legyenek azok, amelyek listaára 3000 alatt van.<br>&nbsp;A \"drága\" termékek legyenek az 5000 felettiek, a többi legyen \"közepes\".</span>\n",
                "\n",
                "1. Listázzuk az egyes csoportokat, és a csoportokba tartozó termékek darabszámát!\n",
                "2. A lista jelenítse meg a végösszeget is!"
            ],
            "metadata": {
                "azdata_cell_guid": "84239ca2-6b5e-49f5-9860-d44c11d6de32"
            },
            "attachments": {}
        },
        {
            "cell_type": "code",
            "source": [
                "SELECT  CASE \r\n",
                "        WHEN listaar < 3000 then 'Olcsó'\r\n",
                "        WHEN listaar > 5000 then 'Drága'\r\n",
                "        ELSE 'Közepes'\r\n",
                "        END,\r\n",
                "        count(*) as 'Darabszám'\r\n",
                "FROM TERMEK\r\n",
                "GROUP BY ROLLUP(CASE \r\n",
                "        WHEN listaar < 3000 then 'Olcsó'\r\n",
                "        WHEN listaar > 5000 then 'Drága'\r\n",
                "        ELSE 'Közepes'\r\n",
                "        END)"
            ],
            "metadata": {
                "azdata_cell_guid": "06d9a62b-9430-424b-a135-d80e675f0eb3",
                "language": "sql"
            },
            "outputs": [
                {
                    "output_type": "display_data",
                    "data": {
                        "text/html": "(4 rows affected)"
                    },
                    "metadata": {}
                },
                {
                    "output_type": "display_data",
                    "data": {
                        "text/html": "Total execution time: 00:00:00.084"
                    },
                    "metadata": {}
                },
                {
                    "output_type": "execute_result",
                    "metadata": {},
                    "execution_count": 12,
                    "data": {
                        "application/vnd.dataresource+json": {
                            "schema": {
                                "fields": [
                                    {
                                        "name": "(No column name)"
                                    },
                                    {
                                        "name": "Darabszám"
                                    }
                                ]
                            },
                            "data": [
                                {
                                    "(No column name)": "Drága",
                                    "Darabszám": "20"
                                },
                                {
                                    "(No column name)": "Közepes",
                                    "Darabszám": "5"
                                },
                                {
                                    "(No column name)": "Olcsó",
                                    "Darabszám": "526"
                                },
                                {
                                    "(No column name)": "NULL",
                                    "Darabszám": "551"
                                }
                            ]
                        },
                        "text/html": [
                            "<table>",
                            "<tr><th>(No column name)</th><th>Darabszám</th></tr>",
                            "<tr><td>Drága</td><td>20</td></tr>",
                            "<tr><td>Közepes</td><td>5</td></tr>",
                            "<tr><td>Olcsó</td><td>526</td></tr>",
                            "<tr><td>NULL</td><td>551</td></tr>",
                            "</table>"
                        ]
                    }
                }
            ],
            "execution_count": 12
        },
        {
            "cell_type": "markdown",
            "source": [
                "6. <span style=\"font-weight: 600; color: rgb(36, 41, 47); font-family: -apple-system, BlinkMacSystemFont, &quot;Segoe UI&quot;, Helvetica, Arial, sans-serif, &quot;Apple Color Emoji&quot;, &quot;Segoe UI Emoji&quot;; font-size: 16px;\">Készítsünk listát az ügyfelek adatairól név szerinti sorrendben.</span>\n",
                "\n",
                "1. Minden sorban jelenjen meg a sorrend szerint előző, illetve következő ügyfél neve is.\n",
                "2. Ha nincs előző vagy következő ügyfél, akkor a 'Nincs' jelenjen meg!"
            ],
            "metadata": {
                "azdata_cell_guid": "b0d15045-3c43-4f3a-b8d4-76b4f24e5546"
            },
            "attachments": {}
        },
        {
            "cell_type": "code",
            "source": [
                "SELECT  *,\r\n",
                "        lag(ugyfel.nev,1,'Nincs') over(order by nev) as 'Előző',\r\n",
                "        LEAD(ugyfel.nev,1,'Nincs') over(order by nev) as 'Következő'\r\n",
                "FROM Ugyfel\r\n",
                "ORDER BY nev"
            ],
            "metadata": {
                "azdata_cell_guid": "f2b7400d-1255-40ac-9250-4d57f9da5357",
                "language": "sql"
            },
            "outputs": [
                {
                    "output_type": "display_data",
                    "data": {
                        "text/html": "(200 rows affected)"
                    },
                    "metadata": {}
                },
                {
                    "output_type": "display_data",
                    "data": {
                        "text/html": "Total execution time: 00:00:00.089"
                    },
                    "metadata": {}
                },
                {
                    "output_type": "execute_result",
                    "metadata": {},
                    "execution_count": 13,
                    "data": {
                        "application/vnd.dataresource+json": {
                            "schema": {
                                "fields": [
                                    {
                                        "name": "LOGIN"
                                    },
                                    {
                                        "name": "EMAIL"
                                    },
                                    {
                                        "name": "NEV"
                                    },
                                    {
                                        "name": "SZULEV"
                                    },
                                    {
                                        "name": "NEM"
                                    },
                                    {
                                        "name": "CIM"
                                    },
                                    {
                                        "name": "Előző"
                                    },
                                    {
                                        "name": "Következő"
                                    }
                                ]
                            },
                            "data": [
                                {
                                    "LOGIN": "david",
                                    "EMAIL": "david@gmail.com",
                                    "NEV": "Ambrus Dávid",
                                    "SZULEV": "1974",
                                    "NEM": "F",
                                    "CIM": "1149 Budapest, Fő út 18.",
                                    "Előző": "Nincs",
                                    "Következő": "Andor Ibolya"
                                },
                                {
                                    "LOGIN": "IBOLYAA",
                                    "EMAIL": "ibolya.andor@mail.hu",
                                    "NEV": "Andor Ibolya",
                                    "SZULEV": "1983",
                                    "NEM": "N",
                                    "CIM": "9023 Győr, Posta köz 2.",
                                    "Előző": "Ambrus Dávid",
                                    "Következő": "Antal László"
                                },
                                {
                                    "LOGIN": "LASZLOA",
                                    "EMAIL": "lászló.antal@mail.hu",
                                    "NEV": "Antal László",
                                    "SZULEV": "1969",
                                    "NEM": "F",
                                    "CIM": "2484 Agárd, Bécsi utca 82.",
                                    "Előző": "Andor Ibolya",
                                    "Következő": "Antal Tamás"
                                },
                                {
                                    "LOGIN": "tamas",
                                    "EMAIL": "tamás.antal@mail.hu",
                                    "NEV": "Antal Tamás",
                                    "SZULEV": "1984",
                                    "NEM": "F",
                                    "CIM": "4440 Tiszavasvári, Posta köz 2.",
                                    "Előző": "Antal László",
                                    "Következő": "Back András"
                                },
                                {
                                    "LOGIN": "andras4",
                                    "EMAIL": "andras4@gmail.com",
                                    "NEV": "Back András",
                                    "SZULEV": "1984",
                                    "NEM": "F",
                                    "CIM": "3783 Edelény, Fő út 169.",
                                    "Előző": "Antal Tamás",
                                    "Következő": "Bagi Beáta"
                                },
                                {
                                    "LOGIN": "beata4",
                                    "EMAIL": "beáta.bagi@mail.hu",
                                    "NEV": "Bagi Beáta",
                                    "SZULEV": "1994",
                                    "NEM": "N",
                                    "CIM": "8477 Tüskevár, Felszabadulás utca 32.",
                                    "Előző": "Back András",
                                    "Következő": "Bagóczki Alexandra"
                                },
                                {
                                    "LOGIN": "alexandra",
                                    "EMAIL": "alexandra.bagóczki@mail.hu",
                                    "NEV": "Bagóczki Alexandra",
                                    "SZULEV": "1992",
                                    "NEM": "N",
                                    "CIM": "2381 Táborfalva, Petőfi utca 1/2.",
                                    "Előző": "Bagi Beáta",
                                    "Következő": "Bajusz Bence"
                                },
                                {
                                    "LOGIN": "BENCEB",
                                    "EMAIL": "bence.bajusz@mail.hu",
                                    "NEV": "Bajusz Bence",
                                    "SZULEV": "1973",
                                    "NEM": "F",
                                    "CIM": "8391 Sármellék, Fő utca 56.",
                                    "Előző": "Bagóczki Alexandra",
                                    "Következő": "Bakó Klaudia"
                                },
                                {
                                    "LOGIN": "klaudia2",
                                    "EMAIL": "klaudia.bakó@mail.hu",
                                    "NEV": "Bakó Klaudia",
                                    "SZULEV": "1982",
                                    "NEM": "N",
                                    "CIM": "8254 Kővágóörs, Kossuth Lajos utca 6.",
                                    "Előző": "Bajusz Bence",
                                    "Következő": "Bakódy Balázs"
                                },
                                {
                                    "LOGIN": "balazs3",
                                    "EMAIL": "balazs3@gmail.com",
                                    "NEV": "Bakódy Balázs",
                                    "SZULEV": "1986",
                                    "NEM": "F",
                                    "CIM": "2131 Göd, Arany János utca 1.",
                                    "Előző": "Bakó Klaudia",
                                    "Következő": "Balla Miklós"
                                },
                                {
                                    "LOGIN": "MIKLOSB",
                                    "EMAIL": "miklós.balla@mail.hu",
                                    "NEV": "Balla Miklós",
                                    "SZULEV": "1979",
                                    "NEM": "F",
                                    "CIM": "4060 Balmazújváros, Szent István utca 2.",
                                    "Előző": "Bakódy Balázs",
                                    "Következő": "Balogh Eszter"
                                },
                                {
                                    "LOGIN": "eszter2",
                                    "EMAIL": "eszter.balogh@mail.hu",
                                    "NEV": "Balogh Eszter",
                                    "SZULEV": "1998",
                                    "NEM": "N",
                                    "CIM": "6760 Kistelek, Kossuth utca 11.",
                                    "Előző": "Balla Miklós",
                                    "Következő": "Barabás Pál"
                                },
                                {
                                    "LOGIN": "pal",
                                    "EMAIL": "pál.barabás@mail.hu",
                                    "NEV": "Barabás Pál",
                                    "SZULEV": "1968",
                                    "NEM": "F",
                                    "CIM": "1183 Budapest, Szolnoki út 8.",
                                    "Előző": "Balogh Eszter",
                                    "Következő": "Baráth Mária"
                                },
                                {
                                    "LOGIN": "maria1",
                                    "EMAIL": "mária.baráth@mail.hu",
                                    "NEV": "Baráth Mária",
                                    "SZULEV": "1995",
                                    "NEM": "N",
                                    "CIM": "1047 Budapest, Posta köz 2.",
                                    "Előző": "Barabás Pál",
                                    "Következő": "Bárci Gusztáv"
                                },
                                {
                                    "LOGIN": "gusztav",
                                    "EMAIL": "gusztav@gmail.com",
                                    "NEV": "Bárci Gusztáv",
                                    "SZULEV": "1967",
                                    "NEM": "F",
                                    "CIM": "3643 Dédestapolcsány, Endrődi Sándor utca 47.",
                                    "Előző": "Baráth Mária",
                                    "Következő": "Barkóci Ádám"
                                },
                                {
                                    "LOGIN": "adam3",
                                    "EMAIL": "adam3@gmail.com",
                                    "NEV": "Barkóci Ádám",
                                    "SZULEV": "1970",
                                    "NEM": "F",
                                    "CIM": "3910 Tokaj, Dózsa György utca 37.",
                                    "Előző": "Bárci Gusztáv",
                                    "Következő": "Barna Debóra"
                                },
                                {
                                    "LOGIN": "debora",
                                    "EMAIL": "debóra.barna@mail.hu",
                                    "NEV": "Barna Debóra",
                                    "SZULEV": "1976",
                                    "NEM": "N",
                                    "CIM": "1155 Budapest, Fő út 169.",
                                    "Előző": "Barkóci Ádám",
                                    "Következő": "Barna Zoltán"
                                },
                                {
                                    "LOGIN": "zoltan4",
                                    "EMAIL": "zoltan4@gmail.com",
                                    "NEV": "Barna Zoltán",
                                    "SZULEV": "1986",
                                    "NEM": "F",
                                    "CIM": "8313 Balatongyörök, Jászai tér 21.",
                                    "Előző": "Barna Debóra",
                                    "Következő": "Baróti Attila"
                                },
                                {
                                    "LOGIN": "attila4",
                                    "EMAIL": "attila.baróti@mail.hu",
                                    "NEV": "Baróti Attila",
                                    "SZULEV": "1975",
                                    "NEM": "F",
                                    "CIM": "7149 Báta, Arany János utca 3.",
                                    "Előző": "Barna Zoltán",
                                    "Következő": "Barta Zsuzsanna"
                                },
                                {
                                    "LOGIN": "zsuzsanna",
                                    "EMAIL": "zsuzsanna.barta@mail.hu",
                                    "NEV": "Barta Zsuzsanna",
                                    "SZULEV": "1994",
                                    "NEM": "N",
                                    "CIM": "4172 Biharnagybajom, Dózsa György utca 37.",
                                    "Előző": "Baróti Attila",
                                    "Következő": "Berendi Péter"
                                },
                                {
                                    "LOGIN": "PETERB",
                                    "EMAIL": "péter.berendi@mail.hu",
                                    "NEV": "Berendi Péter",
                                    "SZULEV": "1969",
                                    "NEM": "F",
                                    "CIM": "3980 Sátoraljaújhely, Vasút utca 4/10.",
                                    "Előző": "Barta Zsuzsanna",
                                    "Következő": "Béres Norbert"
                                },
                                {
                                    "LOGIN": "norbert5",
                                    "EMAIL": "norbert5@gmail.com",
                                    "NEV": "Béres Norbert",
                                    "SZULEV": "1975",
                                    "NEM": "F",
                                    "CIM": "8640 Fonyód, Bajcsy-Zsilinszky utca 4.",
                                    "Előző": "Berendi Péter",
                                    "Következő": "Berta Dávid"
                                },
                                {
                                    "LOGIN": "david4",
                                    "EMAIL": "david4@gmail.com",
                                    "NEV": "Berta Dávid",
                                    "SZULEV": "1990",
                                    "NEM": "F",
                                    "CIM": "3500 Miskolc, Balatoni út 12.",
                                    "Előző": "Béres Norbert",
                                    "Következő": "Bieniek Ádám"
                                },
                                {
                                    "LOGIN": "adam4",
                                    "EMAIL": "ádám.bieniek@mail.hu",
                                    "NEV": "Bieniek Ádám",
                                    "SZULEV": "1976",
                                    "NEM": "F",
                                    "CIM": "8630 Balatonboglár, Juhászföldi út 1.",
                                    "Előző": "Berta Dávid",
                                    "Következő": "Bíró Ákos"
                                },
                                {
                                    "LOGIN": "akos",
                                    "EMAIL": "ákos.bíró@mail.hu",
                                    "NEV": "Bíró Ákos",
                                    "SZULEV": "1982",
                                    "NEM": "F",
                                    "CIM": "9023 Győr, Kossuth Lajos utca 47/b.",
                                    "Előző": "Bieniek Ádám",
                                    "Következő": "Biró Alexander"
                                },
                                {
                                    "LOGIN": "alexis",
                                    "EMAIL": "alexbiro@gmail.com",
                                    "NEV": "Biró Alexander",
                                    "SZULEV": "2000",
                                    "NEM": "F",
                                    "CIM": "6914 Pitvaros, Deák F. u. 38.",
                                    "Előző": "Bíró Ákos",
                                    "Következő": "Bíró Péter"
                                },
                                {
                                    "LOGIN": "peter4",
                                    "EMAIL": "péter.bíró@mail.hu",
                                    "NEV": "Bíró Péter",
                                    "SZULEV": "1985",
                                    "NEM": "F",
                                    "CIM": "5137 Jászkisér, Rákóczi utca 67.",
                                    "Előző": "Biró Alexander",
                                    "Következő": "Bittmann Edit"
                                },
                                {
                                    "LOGIN": "edit",
                                    "EMAIL": "edit.bittmann@mail.hu",
                                    "NEV": "Bittmann Edit",
                                    "SZULEV": "1984",
                                    "NEM": "N",
                                    "CIM": "6077 Orgovány, Fő utca 60.",
                                    "Előző": "Bíró Péter",
                                    "Következő": "Bodor Szabolcs"
                                },
                                {
                                    "LOGIN": "szabolcs",
                                    "EMAIL": "szabolcs.bodor@mail.hu",
                                    "NEV": "Bodor Szabolcs",
                                    "SZULEV": "1990",
                                    "NEM": "F",
                                    "CIM": "6786 Ruzsa, Ady Endre út 27.",
                                    "Előző": "Bittmann Edit",
                                    "Következő": "Bori Krisztina"
                                },
                                {
                                    "LOGIN": "krisztina1",
                                    "EMAIL": "krisztina.bori@mail.hu",
                                    "NEV": "Bori Krisztina",
                                    "SZULEV": "1969",
                                    "NEM": "N",
                                    "CIM": "2115 Vácszentlászló, Fő utca 47.",
                                    "Előző": "Bodor Szabolcs",
                                    "Következő": "Boros Vivien"
                                },
                                {
                                    "LOGIN": "vivien3",
                                    "EMAIL": "vivien3@gmail.com",
                                    "NEV": "Boros Vivien",
                                    "SZULEV": "1991",
                                    "NEM": "N",
                                    "CIM": "2117 Isaszeg, Fő út 122.",
                                    "Előző": "Bori Krisztina",
                                    "Következő": "Bosnyák Ilona"
                                },
                                {
                                    "LOGIN": "ilona3",
                                    "EMAIL": "ilona3@gmail.com",
                                    "NEV": "Bosnyák Ilona",
                                    "SZULEV": "1990",
                                    "NEM": "N",
                                    "CIM": "2483 Gárdony, Posta köz 2.",
                                    "Előző": "Boros Vivien",
                                    "Következő": "Botka Mátyás"
                                },
                                {
                                    "LOGIN": "matyas2",
                                    "EMAIL": "matyas2@gmail.com",
                                    "NEV": "Botka Mátyás",
                                    "SZULEV": "1972",
                                    "NEM": "F",
                                    "CIM": "2700 Cegléd, Kossuth Lajos utca 6.",
                                    "Előző": "Bosnyák Ilona",
                                    "Következő": "Bozsik Balázs"
                                },
                                {
                                    "LOGIN": "balazs1",
                                    "EMAIL": "balázs.bozsik@mail.hu",
                                    "NEV": "Bozsik Balázs",
                                    "SZULEV": "1992",
                                    "NEM": "F",
                                    "CIM": "2300 Ráckeve, Bécsi utca 82.",
                                    "Előző": "Botka Mátyás",
                                    "Következő": "Bozsó Péter"
                                },
                                {
                                    "LOGIN": "peter2",
                                    "EMAIL": "peter2@gmail.com",
                                    "NEV": "Bozsó Péter",
                                    "SZULEV": "1976",
                                    "NEM": "F",
                                    "CIM": "4800 Vásárosnamény, Zombori út 2/A",
                                    "Előző": "Bozsik Balázs",
                                    "Következő": "Böröcz Anikó"
                                },
                                {
                                    "LOGIN": "aniko4",
                                    "EMAIL": "aniko4@gmail.com",
                                    "NEV": "Böröcz Anikó",
                                    "SZULEV": "1978",
                                    "NEM": "N",
                                    "CIM": "2484 Agárd, Petőfi Sándor tér 1.",
                                    "Előző": "Bozsó Péter",
                                    "Következő": "Bucskó Róza"
                                },
                                {
                                    "LOGIN": "roza2",
                                    "EMAIL": "roza2@gmail.com",
                                    "NEV": "Bucskó Róza",
                                    "SZULEV": "1988",
                                    "NEM": "N",
                                    "CIM": "5661 Újkígyós, Arany János utca 3.",
                                    "Előző": "Böröcz Anikó",
                                    "Következő": "Búza Imre"
                                },
                                {
                                    "LOGIN": "imre",
                                    "EMAIL": "imre.búza@mail.hu",
                                    "NEV": "Búza Imre",
                                    "SZULEV": "1988",
                                    "NEM": "F",
                                    "CIM": "9181 Kimle, Petőfi Sándor tér 1.",
                                    "Előző": "Bucskó Róza",
                                    "Következő": "Czérna Krisztián"
                                },
                                {
                                    "LOGIN": "krisztian4",
                                    "EMAIL": "krisztián.czérna@mail.hu",
                                    "NEV": "Czérna Krisztián",
                                    "SZULEV": "1970",
                                    "NEM": "F",
                                    "CIM": "1107 Budapest, Dózsa György utca 37.",
                                    "Előző": "Búza Imre",
                                    "Következő": "Csiger Bertalan"
                                },
                                {
                                    "LOGIN": "bertalan",
                                    "EMAIL": "bertalan@gmail.com",
                                    "NEV": "Csiger Bertalan",
                                    "SZULEV": "1977",
                                    "NEM": "F",
                                    "CIM": "1192 Budapest, Fő út 169.",
                                    "Előző": "Czérna Krisztián",
                                    "Következő": "Csóti Attila"
                                },
                                {
                                    "LOGIN": "attila",
                                    "EMAIL": "attila@gmail.com",
                                    "NEV": "Csóti Attila",
                                    "SZULEV": "1979",
                                    "NEM": "F",
                                    "CIM": "3000 Hatvan, Bajcsy-Zsilinszky utca 4.",
                                    "Előző": "Csiger Bertalan",
                                    "Következő": "Dániel Tibor"
                                },
                                {
                                    "LOGIN": "tibor2",
                                    "EMAIL": "tibor2@gmail.com",
                                    "NEV": "Dániel Tibor",
                                    "SZULEV": "1985",
                                    "NEM": "F",
                                    "CIM": "6646 Tömörkény, Árpád utca 23.",
                                    "Előző": "Csóti Attila",
                                    "Következő": "Dunai Aladár"
                                },
                                {
                                    "LOGIN": "aladar",
                                    "EMAIL": "aladár.dunai@mail.hu",
                                    "NEV": "Dunai Aladár",
                                    "SZULEV": "1980",
                                    "NEM": "F",
                                    "CIM": "5931 Nagyszénás, Árpád utca 23.",
                                    "Előző": "Dániel Tibor",
                                    "Következő": "Dusha Tímea"
                                },
                                {
                                    "LOGIN": "timea2",
                                    "EMAIL": "tímea.dusha@mail.hu",
                                    "NEV": "Dusha Tímea",
                                    "SZULEV": "1975",
                                    "NEM": "N",
                                    "CIM": "5920 Csorvás, Kossuth utca 8.",
                                    "Előző": "Dunai Aladár",
                                    "Következő": "Endresz Bálint"
                                },
                                {
                                    "LOGIN": "balu",
                                    "EMAIL": "bálint.endresz@mail.hu",
                                    "NEV": "Endresz Bálint",
                                    "SZULEV": "1976",
                                    "NEM": "F",
                                    "CIM": "3973 Cigánd, Fő út 169.",
                                    "Előző": "Dusha Tímea",
                                    "Következő": "Enyedi Éva"
                                },
                                {
                                    "LOGIN": "eva",
                                    "EMAIL": "eva@gmail.com",
                                    "NEV": "Enyedi Éva",
                                    "SZULEV": "1967",
                                    "NEM": "N",
                                    "CIM": "4231 Bököny, Petőfi utca 8.",
                                    "Előző": "Endresz Bálint",
                                    "Következő": "Erdei András"
                                },
                                {
                                    "LOGIN": "ANDRASE",
                                    "EMAIL": "ANDRASE@gmail.com",
                                    "NEV": "Erdei András",
                                    "SZULEV": "1997",
                                    "NEM": "F",
                                    "CIM": "5071 Besenyszög, Szolnoki út 8.",
                                    "Előző": "Enyedi Éva",
                                    "Következő": "Érsek Eszter"
                                },
                                {
                                    "LOGIN": "ESZTERE",
                                    "EMAIL": "eszter.érsek@mail.hu",
                                    "NEV": "Érsek Eszter",
                                    "SZULEV": "1978",
                                    "NEM": "N",
                                    "CIM": "6785 Pusztamérges, Kossuth Lajos utca 6.",
                                    "Előző": "Erdei András",
                                    "Következő": "Farkas Béla"
                                },
                                {
                                    "LOGIN": "BELAF",
                                    "EMAIL": "BELAF@gmail.com",
                                    "NEV": "Farkas Béla",
                                    "SZULEV": "1995",
                                    "NEM": "F",
                                    "CIM": "5530 Vésztő, Petőfi Sándor utca 3.",
                                    "Előző": "Érsek Eszter",
                                    "Következő": "Farkas László"
                                },
                                {
                                    "LOGIN": "laszlo1",
                                    "EMAIL": "lászló.farkas@mail.hu",
                                    "NEV": "Farkas László",
                                    "SZULEV": "1967",
                                    "NEM": "F",
                                    "CIM": "5200 Törökszentmiklós, Rendeki utca 21.",
                                    "Előző": "Farkas Béla",
                                    "Következő": "Farkas Sándor"
                                },
                                {
                                    "LOGIN": "sandor3",
                                    "EMAIL": "sándor.farkas@mail.hu",
                                    "NEV": "Farkas Sándor",
                                    "SZULEV": "1989",
                                    "NEM": "F",
                                    "CIM": "8640 Fonyód, Tanácsköztársaság tér 1.",
                                    "Előző": "Farkas László",
                                    "Következő": "Farkas Sára"
                                },
                                {
                                    "LOGIN": "sara",
                                    "EMAIL": "sára.farkas@mail.hu",
                                    "NEV": "Farkas Sára",
                                    "SZULEV": "1973",
                                    "NEM": "N",
                                    "CIM": "5940 Tótkomlós, Felszabadulás utca 32.",
                                    "Előző": "Farkas Sándor",
                                    "Következő": "Fényes Tamás"
                                },
                                {
                                    "LOGIN": "TAMASF",
                                    "EMAIL": "TAMASF@gmail.com",
                                    "NEV": "Fényes Tamás",
                                    "SZULEV": "1997",
                                    "NEM": "F",
                                    "CIM": "9023 Győr, Arany János utca 1.",
                                    "Előző": "Farkas Sára",
                                    "Következő": "Ferencz Roland"
                                },
                                {
                                    "LOGIN": "roland1",
                                    "EMAIL": "roland.ferencz@mail.hu",
                                    "NEV": "Ferencz Roland",
                                    "SZULEV": "1985",
                                    "NEM": "F",
                                    "CIM": "2424 Előszállás, Fő út 169.",
                                    "Előző": "Fényes Tamás",
                                    "Következő": "Feró Valentin"
                                },
                                {
                                    "LOGIN": "valentin",
                                    "EMAIL": "valentin.feró@mail.hu",
                                    "NEV": "Feró Valentin",
                                    "SZULEV": "1986",
                                    "NEM": "F",
                                    "CIM": "3895 Gönc, Búvár utca 4.",
                                    "Előző": "Ferencz Roland",
                                    "Következő": "Fodor Zoltán"
                                },
                                {
                                    "LOGIN": "zoltan",
                                    "EMAIL": "zoltán.fodor@mail.hu",
                                    "NEV": "Fodor Zoltán",
                                    "SZULEV": "1979",
                                    "NEM": "F",
                                    "CIM": "3441 Mezőkeresztes, Fő utca 23.",
                                    "Előző": "Feró Valentin",
                                    "Következő": "Foltényi Sebastián"
                                },
                                {
                                    "LOGIN": "SEBASTIANF",
                                    "EMAIL": "SEBASTIANF@gmail.com",
                                    "NEV": "Foltényi Sebastián",
                                    "SZULEV": "1992",
                                    "NEM": "F",
                                    "CIM": "7960 Sellye, Grassalkovich út 10.",
                                    "Előző": "Fodor Zoltán",
                                    "Következő": "Fő Nándor"
                                },
                                {
                                    "LOGIN": "NANDORF",
                                    "EMAIL": "nándor.fő@mail.hu",
                                    "NEV": "Fő Nándor",
                                    "SZULEV": "1968",
                                    "NEM": "F",
                                    "CIM": "5920 Csorvás, Bécsi utca 82.",
                                    "Előző": "Foltényi Sebastián",
                                    "Következő": "Frank Fruzsina"
                                },
                                {
                                    "LOGIN": "fruzsina4",
                                    "EMAIL": "fruzsina4@gmail.com",
                                    "NEV": "Frank Fruzsina",
                                    "SZULEV": "1996",
                                    "NEM": "N",
                                    "CIM": "9700 Szombathely, Szabadság utca 95.",
                                    "Előző": "Fő Nándor",
                                    "Következő": "Fülöp Eszter"
                                },
                                {
                                    "LOGIN": "eszter4",
                                    "EMAIL": "eszter.fülöp@mail.hu",
                                    "NEV": "Fülöp Eszter",
                                    "SZULEV": "1993",
                                    "NEM": "N",
                                    "CIM": "3643 Dédestapolcsány, Kossuth Lajos utca 47/b.",
                                    "Előző": "Frank Fruzsina",
                                    "Következő": "Gergely József"
                                },
                                {
                                    "LOGIN": "jozsef",
                                    "EMAIL": "jozsef@gmail.com",
                                    "NEV": "Gergely József",
                                    "SZULEV": "1985",
                                    "NEM": "F",
                                    "CIM": "6050 Lajosmizse, Fő út 18.",
                                    "Előző": "Fülöp Eszter",
                                    "Következő": "Giliga János"
                                },
                                {
                                    "LOGIN": "JANOSG",
                                    "EMAIL": "JANOSG@gmail.com",
                                    "NEV": "Giliga János",
                                    "SZULEV": "1975",
                                    "NEM": "F",
                                    "CIM": "3300 Eger, Deák Ferenc út 5.",
                                    "Előző": "Gergely József",
                                    "Következő": "Gombos Tibor"
                                },
                                {
                                    "LOGIN": "tibor",
                                    "EMAIL": "tibor.gombos@mail.hu",
                                    "NEV": "Gombos Tibor",
                                    "SZULEV": "1993",
                                    "NEM": "F",
                                    "CIM": "7100 Szekszárd, Kossuth utca 77.",
                                    "Előző": "Giliga János",
                                    "Következő": "Gondos Katalin"
                                },
                                {
                                    "LOGIN": "kata",
                                    "EMAIL": "katalin.gondos@mail.hu",
                                    "NEV": "Gondos Katalin",
                                    "SZULEV": "1968",
                                    "NEM": "N",
                                    "CIM": "8237 Tihany, Kossuth Lajos utca 6.",
                                    "Előző": "Gombos Tibor",
                                    "Következő": "Gondos Miklós"
                                },
                                {
                                    "LOGIN": "miklos2",
                                    "EMAIL": "miklos2@gmail.com",
                                    "NEV": "Gondos Miklós",
                                    "SZULEV": "1995",
                                    "NEM": "F",
                                    "CIM": "2100 Gödöllő, Árpád utca 23.",
                                    "Előző": "Gondos Katalin",
                                    "Következő": "Gulyás Attila"
                                },
                                {
                                    "LOGIN": "attila1",
                                    "EMAIL": "attila.gulyás@mail.hu",
                                    "NEV": "Gulyás Attila",
                                    "SZULEV": "1982",
                                    "NEM": "F",
                                    "CIM": "3881 Abaújszántó, Szolnoki út 8.",
                                    "Előző": "Gondos Miklós",
                                    "Következő": "Gyárfás Krisztina"
                                },
                                {
                                    "LOGIN": "KRISZTINAG",
                                    "EMAIL": "KRISZTINAG@gmail.com",
                                    "NEV": "Gyárfás Krisztina",
                                    "SZULEV": "1987",
                                    "NEM": "N",
                                    "CIM": "6762 Sándorfalva, Arany János utca 1.",
                                    "Előző": "Gulyás Attila",
                                    "Következő": "Győrffy Bence"
                                },
                                {
                                    "LOGIN": "bence",
                                    "EMAIL": "bence@gmail.com",
                                    "NEV": "Győrffy Bence",
                                    "SZULEV": "1987",
                                    "NEM": "F",
                                    "CIM": "6900 Makó, Árpád utca 23.",
                                    "Előző": "Gyárfás Krisztina",
                                    "Következő": "Gyuris József"
                                },
                                {
                                    "LOGIN": "JOZSEFG",
                                    "EMAIL": "józsef.gyuris@mail.hu",
                                    "NEV": "Gyuris József",
                                    "SZULEV": "1975",
                                    "NEM": "F",
                                    "CIM": "2660 Balassagyarmat, Petőfi utca 1/2.",
                                    "Előző": "Győrffy Bence",
                                    "Következő": "Hamvay-Kovács Anita"
                                },
                                {
                                    "LOGIN": "anita",
                                    "EMAIL": "anita.hamvay-kovács@mail.hu",
                                    "NEV": "Hamvay-Kovács Anita",
                                    "SZULEV": "1971",
                                    "NEM": "N",
                                    "CIM": "7220 Sarkad, Táncsics utca 19.",
                                    "Előző": "Gyuris József",
                                    "Következő": "Harangozó János"
                                },
                                {
                                    "LOGIN": "janos3",
                                    "EMAIL": "janos3@gmail.com",
                                    "NEV": "Harangozó János",
                                    "SZULEV": "1967",
                                    "NEM": "F",
                                    "CIM": "8700 Marcali, Petőfi Sándor tér 1.",
                                    "Előző": "Hamvay-Kovács Anita",
                                    "Következő": "Hartyánszky Ágnes"
                                },
                                {
                                    "LOGIN": "agnes3",
                                    "EMAIL": "agnes3@gmail.com",
                                    "NEV": "Hartyánszky Ágnes",
                                    "SZULEV": "1967",
                                    "NEM": "N",
                                    "CIM": "6430 Bácsalmás, Posta köz 2.",
                                    "Előző": "Harangozó János",
                                    "Következő": "Hegedűs Norbert"
                                },
                                {
                                    "LOGIN": "norbert2",
                                    "EMAIL": "norbert.hegedűs@mail.hu",
                                    "NEV": "Hegedűs Norbert",
                                    "SZULEV": "1991",
                                    "NEM": "F",
                                    "CIM": "2081 Piliscsaba, Rendeki utca 21.",
                                    "Előző": "Hartyánszky Ágnes",
                                    "Következő": "Hídasi Judit"
                                },
                                {
                                    "LOGIN": "JUDITH",
                                    "EMAIL": "JUDITH@gmail.com",
                                    "NEV": "Hídasi Judit",
                                    "SZULEV": "1997",
                                    "NEM": "N",
                                    "CIM": "2100 Gödöllő, Fő út 169.",
                                    "Előző": "Hegedűs Norbert",
                                    "Következő": "Horváth Ágnes"
                                },
                                {
                                    "LOGIN": "AGNESH",
                                    "EMAIL": "AGNESH@gmail.com",
                                    "NEV": "Horváth Ágnes",
                                    "SZULEV": "1981",
                                    "NEM": "N",
                                    "CIM": "8200 Veszprém, Rákóczi utca 21.",
                                    "Előző": "Hídasi Judit",
                                    "Következő": "Horváth Árpád"
                                },
                                {
                                    "LOGIN": "ARPADH",
                                    "EMAIL": "árpád.horváth@mail.hu",
                                    "NEV": "Horváth Árpád",
                                    "SZULEV": "1990",
                                    "NEM": "F",
                                    "CIM": "7349 Szászvár, Dózsa György u. 1.",
                                    "Előző": "Horváth Ágnes",
                                    "Következő": "Horváth Bálint"
                                },
                                {
                                    "LOGIN": "balint",
                                    "EMAIL": "balint@gmail.com",
                                    "NEV": "Horváth Bálint",
                                    "SZULEV": "1996",
                                    "NEM": "F",
                                    "CIM": "6646 Tömörkény, Endrődi Sándor utca 47.",
                                    "Előző": "Horváth Árpád",
                                    "Következő": "Horváth Katalin"
                                },
                                {
                                    "LOGIN": "katalin",
                                    "EMAIL": "katalin.horváth@mail.hu",
                                    "NEV": "Horváth Katalin",
                                    "SZULEV": "1968",
                                    "NEM": "N",
                                    "CIM": "2424 Előszállás, Rákóczi út 200.",
                                    "Előző": "Horváth Bálint",
                                    "Következő": "Horváth Krisztina"
                                },
                                {
                                    "LOGIN": "kriszti",
                                    "EMAIL": "kriszti@gmail.com",
                                    "NEV": "Horváth Krisztina",
                                    "SZULEV": "1978",
                                    "NEM": "N",
                                    "CIM": "6060 Tiszakécske, Árpád utca 4.",
                                    "Előző": "Horváth Katalin",
                                    "Következő": "Horváth Márk"
                                },
                                {
                                    "LOGIN": "MARKH",
                                    "EMAIL": "márk.horváth@mail.hu",
                                    "NEV": "Horváth Márk",
                                    "SZULEV": "1997",
                                    "NEM": "F",
                                    "CIM": "4400 Nyíregyháza, Badacsonyi utca 12.",
                                    "Előző": "Horváth Krisztina",
                                    "Következő": "Horváth Nikolett"
                                },
                                {
                                    "LOGIN": "nikolett3",
                                    "EMAIL": "nikolett3@gmail.com",
                                    "NEV": "Horváth Nikolett",
                                    "SZULEV": "1981",
                                    "NEM": "N",
                                    "CIM": "1072 Budapest, Arany János utca 1.",
                                    "Előző": "Horváth Márk",
                                    "Következő": "Iván Róbert"
                                },
                                {
                                    "LOGIN": "ROBERTI",
                                    "EMAIL": "róbert.iván@mail.hu",
                                    "NEV": "Iván Róbert",
                                    "SZULEV": "1967",
                                    "NEM": "F",
                                    "CIM": "2377 Örkény, Petőfi Sándor utca 3.",
                                    "Előző": "Horváth Nikolett",
                                    "Következő": "Jakab Áron"
                                },
                                {
                                    "LOGIN": "aron2",
                                    "EMAIL": "aron2@gmail.com",
                                    "NEV": "Jakab Áron",
                                    "SZULEV": "1971",
                                    "NEM": "F",
                                    "CIM": "7133 Fadd, Bajcsy-Zsilinszky utca 4.",
                                    "Előző": "Iván Róbert",
                                    "Következő": "Józsa Zsolt"
                                },
                                {
                                    "LOGIN": "ZSOLTJ",
                                    "EMAIL": "ZSOLTJ@gmail.com",
                                    "NEV": "Józsa Zsolt",
                                    "SZULEV": "1983",
                                    "NEM": "F",
                                    "CIM": "8315 Gyenesdiás, Bajcsy-Zsilinszky utca 4.",
                                    "Előző": "Jakab Áron",
                                    "Következő": "Juhász Mihály"
                                },
                                {
                                    "LOGIN": "MIHALYJ",
                                    "EMAIL": "mihály.juhász@mail.hu",
                                    "NEV": "Juhász Mihály",
                                    "SZULEV": "1979",
                                    "NEM": "F",
                                    "CIM": "6786 Ruzsa, Rákóczi utca 1.",
                                    "Előző": "Józsa Zsolt",
                                    "Következő": "Kalacsi Márton"
                                },
                                {
                                    "LOGIN": "marton",
                                    "EMAIL": "marton@gmail.com",
                                    "NEV": "Kalacsi Márton",
                                    "SZULEV": "1989",
                                    "NEM": "F",
                                    "CIM": "5137 Jászkisér, Fő út 169.",
                                    "Előző": "Juhász Mihály",
                                    "Következő": "Karasz Sándor"
                                },
                                {
                                    "LOGIN": "sandor",
                                    "EMAIL": "sandor@gmail.com",
                                    "NEV": "Karasz Sándor",
                                    "SZULEV": "1970",
                                    "NEM": "F",
                                    "CIM": "8283 Káptalantóti, Kossuth Lajos utca 1/a.",
                                    "Előző": "Kalacsi Márton",
                                    "Következő": "Kardos Renáta"
                                },
                                {
                                    "LOGIN": "RENATAK",
                                    "EMAIL": "renáta.kardos@mail.hu",
                                    "NEV": "Kardos Renáta",
                                    "SZULEV": "1988",
                                    "NEM": "N",
                                    "CIM": "7086 Ozora, Bécsi utca 82.",
                                    "Előző": "Karasz Sándor",
                                    "Következő": "Kazy Tihamér"
                                },
                                {
                                    "LOGIN": "tihamer",
                                    "EMAIL": "tihamér.kazy@mail.hu",
                                    "NEV": "Kazy Tihamér",
                                    "SZULEV": "1991",
                                    "NEM": "F",
                                    "CIM": "2370 Dabas, Fő utca 60.",
                                    "Előző": "Kardos Renáta",
                                    "Következő": "Kelemen Áron"
                                },
                                {
                                    "LOGIN": "ARONK",
                                    "EMAIL": "áron.kelemen@mail.hu",
                                    "NEV": "Kelemen Áron",
                                    "SZULEV": "1989",
                                    "NEM": "F",
                                    "CIM": "8200 Veszprém, Petőfi utca 8.",
                                    "Előző": "Kazy Tihamér",
                                    "Következő": "Kerényi Beatrix"
                                },
                                {
                                    "LOGIN": "BEATRIXK",
                                    "EMAIL": "beatrix.kerényi@mail.hu",
                                    "NEV": "Kerényi Beatrix",
                                    "SZULEV": "1972",
                                    "NEM": "N",
                                    "CIM": "7396 Magyarszék, Kossuth Lajos utca 47/b.",
                                    "Előző": "Kelemen Áron",
                                    "Következő": "Keresztúri Viktor"
                                },
                                {
                                    "LOGIN": "VIKTORK",
                                    "EMAIL": "viktor.keresztúri@mail.hu",
                                    "NEV": "Keresztúri Viktor",
                                    "SZULEV": "1989",
                                    "NEM": "F",
                                    "CIM": "2532 Tokodaltáró, Nagy Lajos tér 4.",
                                    "Előző": "Kerényi Beatrix",
                                    "Következő": "Kertész Katalin"
                                },
                                {
                                    "LOGIN": "katalin4",
                                    "EMAIL": "katalin4@gmail.com",
                                    "NEV": "Kertész Katalin",
                                    "SZULEV": "1986",
                                    "NEM": "N",
                                    "CIM": "2800 Tatabánya, Búvár utca 4.",
                                    "Előző": "Keresztúri Viktor",
                                    "Következő": "Keszler Dániel"
                                },
                                {
                                    "LOGIN": "daniel1",
                                    "EMAIL": "dániel.keszler@mail.hu",
                                    "NEV": "Keszler Dániel",
                                    "SZULEV": "1969",
                                    "NEM": "F",
                                    "CIM": "3580 Tiszaújváros, Kossuth Lajos utca 6.",
                                    "Előző": "Kertész Katalin",
                                    "Következő": "Kispál Márk"
                                },
                                {
                                    "LOGIN": "mark",
                                    "EMAIL": "márk.kispál@mail.hu",
                                    "NEV": "Kispál Márk",
                                    "SZULEV": "1996",
                                    "NEM": "F",
                                    "CIM": "1086 Budapest, Juhászföldi út 1.",
                                    "Előző": "Keszler Dániel",
                                    "Következő": "Kiss Ádám"
                                },
                                {
                                    "LOGIN": "adam1",
                                    "EMAIL": "ádám.kiss@mail.hu",
                                    "NEV": "Kiss Ádám",
                                    "SZULEV": "1991",
                                    "NEM": "F",
                                    "CIM": "5630 Békés, Szolnoki út 8.",
                                    "Előző": "Kispál Márk",
                                    "Következő": "Kiss Andrea"
                                },
                                {
                                    "LOGIN": "andrea",
                                    "EMAIL": "andrea.kiss@mail.hu",
                                    "NEV": "Kiss Andrea",
                                    "SZULEV": "1993",
                                    "NEM": "N",
                                    "CIM": "1113 Budapest, Petőfi Sándor utca 87.",
                                    "Előző": "Kiss Ádám",
                                    "Következő": "Kiss Anita"
                                },
                                {
                                    "LOGIN": "kanita12",
                                    "EMAIL": "anita.kiss12@gmail.com",
                                    "NEV": "Kiss Anita",
                                    "SZULEV": "1975",
                                    "NEM": "N",
                                    "CIM": "2230 Gyömrő Fő tér 3.",
                                    "Előző": "Kiss Andrea",
                                    "Következő": "Kiss Lajos"
                                },
                                {
                                    "LOGIN": "lajos",
                                    "EMAIL": "lajos.kiss@mail.hu",
                                    "NEV": "Kiss Lajos",
                                    "SZULEV": "1978",
                                    "NEM": "F",
                                    "CIM": "1077 Budapest, Dob utca 1",
                                    "Előző": "Kiss Anita",
                                    "Következő": "Komjáti András"
                                },
                                {
                                    "LOGIN": "andras41",
                                    "EMAIL": "andras41@gmail.com",
                                    "NEV": "Komjáti András",
                                    "SZULEV": "1997",
                                    "NEM": "F",
                                    "CIM": "5065 Nagykörű, Kossuth út 24.",
                                    "Előző": "Kiss Lajos",
                                    "Következő": "Kornseé Gyöngyi"
                                },
                                {
                                    "LOGIN": "GYONGYIK",
                                    "EMAIL": "gyöngyi.kornseé@mail.hu",
                                    "NEV": "Kornseé Gyöngyi",
                                    "SZULEV": "1974",
                                    "NEM": "N",
                                    "CIM": "8800 Nagykanizsa, Fő út 60.",
                                    "Előző": "Komjáti András",
                                    "Következő": "Kovács Ágnes"
                                },
                                {
                                    "LOGIN": "AGNESK",
                                    "EMAIL": "AGNESK@gmail.com",
                                    "NEV": "Kovács Ágnes",
                                    "SZULEV": "1988",
                                    "NEM": "N",
                                    "CIM": "1084 Budapest, Endrődi Sándor utca 47.",
                                    "Előző": "Kornseé Gyöngyi",
                                    "Következő": "Kovács Bernadett"
                                },
                                {
                                    "LOGIN": "bernadett2",
                                    "EMAIL": "bernadett.kovács@mail.hu",
                                    "NEV": "Kovács Bernadett",
                                    "SZULEV": "1996",
                                    "NEM": "N",
                                    "CIM": "4200 Hajdúszoboszló, Fő út 122.",
                                    "Előző": "Kovács Ágnes",
                                    "Következő": "Kovács Katalin"
                                },
                                {
                                    "LOGIN": "katka",
                                    "EMAIL": "katalin.kovács@mail.hu",
                                    "NEV": "Kovács Katalin",
                                    "SZULEV": "1975",
                                    "NEM": "N",
                                    "CIM": "8254 Kővágóörs, Petőfi utca 22.",
                                    "Előző": "Kovács Bernadett",
                                    "Következő": "Koza Máté"
                                },
                                {
                                    "LOGIN": "MATEK",
                                    "EMAIL": "máté.koza@mail.hu",
                                    "NEV": "Koza Máté",
                                    "SZULEV": "1997",
                                    "NEM": "F",
                                    "CIM": "1011 Budapest, Központi telep 3.",
                                    "Előző": "Kovács Katalin",
                                    "Következő": "Kozma Péter"
                                },
                                {
                                    "LOGIN": "peter1",
                                    "EMAIL": "peter1@gmail.com",
                                    "NEV": "Kozma Péter",
                                    "SZULEV": "1976",
                                    "NEM": "F",
                                    "CIM": "6913 Csanádpalota, Központi telep 3.",
                                    "Előző": "Koza Máté",
                                    "Következő": "Kő Nikoletta"
                                },
                                {
                                    "LOGIN": "nikoletta4",
                                    "EMAIL": "nikoletta4@gmail.com",
                                    "NEV": "Kő Nikoletta",
                                    "SZULEV": "1972",
                                    "NEM": "N",
                                    "CIM": "5537 Zsadány, Fő út 18.",
                                    "Előző": "Kozma Péter",
                                    "Következő": "Köves Gábor"
                                },
                                {
                                    "LOGIN": "gabor1",
                                    "EMAIL": "gabor1@gmail.com",
                                    "NEV": "Köves Gábor",
                                    "SZULEV": "1973",
                                    "NEM": "F",
                                    "CIM": "6762 Sándorfalva, Árpád utca 23.",
                                    "Előző": "Kő Nikoletta",
                                    "Következő": "Kuruc Emese"
                                },
                                {
                                    "LOGIN": "emese",
                                    "EMAIL": "emese.kuruc@mail.hu",
                                    "NEV": "Kuruc Emese",
                                    "SZULEV": "1989",
                                    "NEM": "N",
                                    "CIM": "6700 Szeged, Rákóczi utca 67.",
                                    "Előző": "Köves Gábor",
                                    "Következő": "Lengyel Ágnes"
                                },
                                {
                                    "LOGIN": "agnes",
                                    "EMAIL": "agnes@gmail.com",
                                    "NEV": "Lengyel Ágnes",
                                    "SZULEV": "1979",
                                    "NEM": "N",
                                    "CIM": "5200 Törökszentmiklós, Deák Ferenc út 5.",
                                    "Előző": "Kuruc Emese",
                                    "Következő": "Lukács Kornél"
                                },
                                {
                                    "LOGIN": "kornel4",
                                    "EMAIL": "kornél.lukács@mail.hu",
                                    "NEV": "Lukács Kornél",
                                    "SZULEV": "1975",
                                    "NEM": "F",
                                    "CIM": "2053 Herceghalom, Bécsi utca 82.",
                                    "Előző": "Lengyel Ágnes",
                                    "Következő": "Maródi Andrea"
                                },
                                {
                                    "LOGIN": "andi",
                                    "EMAIL": "andrea.maródi@mail.hu",
                                    "NEV": "Maródi Andrea",
                                    "SZULEV": "1968",
                                    "NEM": "N",
                                    "CIM": "5465 Cserkeszőlő, Árpád utca 4.",
                                    "Előző": "Lukács Kornél",
                                    "Következő": "Miklós Szabolcs"
                                },
                                {
                                    "LOGIN": "SZABOLCSM",
                                    "EMAIL": "szabolcs.miklós@mail.hu",
                                    "NEV": "Miklós Szabolcs",
                                    "SZULEV": "1980",
                                    "NEM": "F",
                                    "CIM": "1102 Budapest, Fő út 169.",
                                    "Előző": "Maródi Andrea",
                                    "Következő": "Miklós Tamara"
                                },
                                {
                                    "LOGIN": "tamara2",
                                    "EMAIL": "tamara.miklós@mail.hu",
                                    "NEV": "Miklós Tamara",
                                    "SZULEV": "1980",
                                    "NEM": "N",
                                    "CIM": "3910 Tokaj, Kossuth út 39.",
                                    "Előző": "Miklós Szabolcs",
                                    "Következő": "Mile Norbert"
                                },
                                {
                                    "LOGIN": "norbert4",
                                    "EMAIL": "norbert4@gmail.com",
                                    "NEV": "Mile Norbert",
                                    "SZULEV": "1983",
                                    "NEM": "F",
                                    "CIM": "3973 Cigánd, Bajcsy-Zsilinszky utca 4.",
                                    "Előző": "Miklós Tamara",
                                    "Következő": "Mogyródi Krisztián"
                                },
                                {
                                    "LOGIN": "KRISZTIANM",
                                    "EMAIL": "KRISZTIANM@gmail.com",
                                    "NEV": "Mogyródi Krisztián",
                                    "SZULEV": "1968",
                                    "NEM": "F",
                                    "CIM": "9155 Lébény, Jászai tér 21.",
                                    "Előző": "Mile Norbert",
                                    "Következő": "Mohos Mónika"
                                },
                                {
                                    "LOGIN": "MONIKAM",
                                    "EMAIL": "mónika.mohos@mail.hu",
                                    "NEV": "Mohos Mónika",
                                    "SZULEV": "1974",
                                    "NEM": "N",
                                    "CIM": "2241 Sülysáp, Baracsi László utca 14.",
                                    "Előző": "Mogyródi Krisztián",
                                    "Következő": "Molnár András"
                                },
                                {
                                    "LOGIN": "andras21",
                                    "EMAIL": "andrás.molnár@mail.hu",
                                    "NEV": "Molnár András",
                                    "SZULEV": "1977",
                                    "NEM": "F",
                                    "CIM": "7900 Szigetvár, Rákóczi utca 67.",
                                    "Előző": "Mohos Mónika",
                                    "Következő": "Molnár Bálint"
                                },
                                {
                                    "LOGIN": "balint1",
                                    "EMAIL": "balint1@gmail.com",
                                    "NEV": "Molnár Bálint",
                                    "SZULEV": "1989",
                                    "NEM": "F",
                                    "CIM": "9181 Kimle, Fő út 169.",
                                    "Előző": "Molnár András",
                                    "Következő": "Molnár Eszter"
                                },
                                {
                                    "LOGIN": "eszter",
                                    "EMAIL": "eszter.molnár@mail.hu",
                                    "NEV": "Molnár Eszter",
                                    "SZULEV": "1987",
                                    "NEM": "N",
                                    "CIM": "6800 Hódmezővásárhely, Fő út 77.",
                                    "Előző": "Molnár Bálint",
                                    "Következő": "Molnár Zsófi"
                                },
                                {
                                    "LOGIN": "zsofi1",
                                    "EMAIL": "zsofi1@gmail.com",
                                    "NEV": "Molnár Zsófi",
                                    "SZULEV": "1983",
                                    "NEM": "N",
                                    "CIM": "2730 Albertirsa, Árpád utca 23.",
                                    "Előző": "Molnár Eszter",
                                    "Következő": "Mór Ottó"
                                },
                                {
                                    "LOGIN": "desdemona",
                                    "EMAIL": "mor.otto@mail.hu",
                                    "NEV": "Mór Ottó",
                                    "SZULEV": "1968",
                                    "NEM": "F",
                                    "CIM": "9200 Mosonmagyaróvár Fő u. 12.",
                                    "Előző": "Molnár Zsófi",
                                    "Következő": "Móra László"
                                },
                                {
                                    "LOGIN": "laszlo2",
                                    "EMAIL": "lászló.móra@mail.hu",
                                    "NEV": "Móra László",
                                    "SZULEV": "1975",
                                    "NEM": "F",
                                    "CIM": "9970 Szentgotthárd, Petőfi utca 1/2.",
                                    "Előző": "Mór Ottó",
                                    "Következő": "Móricz Árpád"
                                },
                                {
                                    "LOGIN": "ARPADM",
                                    "EMAIL": "árpád.móricz@mail.hu",
                                    "NEV": "Móricz Árpád",
                                    "SZULEV": "1986",
                                    "NEM": "F",
                                    "CIM": "3910 Tokaj, Rákóczi utca 67.",
                                    "Előző": "Móra László",
                                    "Következő": "Nádudvari Henrik"
                                },
                                {
                                    "LOGIN": "henrik3",
                                    "EMAIL": "henrik.nádudvari@mail.hu",
                                    "NEV": "Nádudvari Henrik",
                                    "SZULEV": "1986",
                                    "NEM": "F",
                                    "CIM": "1077 Budapest, Tanácsköztársaság tér 1.",
                                    "Előző": "Móricz Árpád",
                                    "Következő": "Nagy András"
                                },
                                {
                                    "LOGIN": "ANDRASN",
                                    "EMAIL": "andrás.nagy@mail.hu",
                                    "NEV": "Nagy András",
                                    "SZULEV": "1980",
                                    "NEM": "F",
                                    "CIM": "6500 Baja, Fő út 169.",
                                    "Előző": "Nádudvari Henrik",
                                    "Következő": "Nagy Gabriella"
                                },
                                {
                                    "LOGIN": "gabriella1",
                                    "EMAIL": "gabriella1@gmail.com",
                                    "NEV": "Nagy Gabriella",
                                    "SZULEV": "1982",
                                    "NEM": "N",
                                    "CIM": "1077 Budapest, Dob utca 1",
                                    "Előző": "Nagy András",
                                    "Következő": "Nagy Júlia"
                                },
                                {
                                    "LOGIN": "julia4",
                                    "EMAIL": "julia4@gmail.com",
                                    "NEV": "Nagy Júlia",
                                    "SZULEV": "1985",
                                    "NEM": "N",
                                    "CIM": "7000 Sárbogárd, Jászai tér 21.",
                                    "Előző": "Nagy Gabriella",
                                    "Következő": "Nagy László"
                                },
                                {
                                    "LOGIN": "LASZLON",
                                    "EMAIL": "lászló.nagy@mail.hu",
                                    "NEV": "Nagy László",
                                    "SZULEV": "1969",
                                    "NEM": "F",
                                    "CIM": "1173 Budapest, Jászai tér 21.",
                                    "Előző": "Nagy Júlia",
                                    "Következő": "Nagy Péter"
                                },
                                {
                                    "LOGIN": "melissza",
                                    "EMAIL": "nagy_peter@indamail.hu",
                                    "NEV": "Nagy Péter",
                                    "SZULEV": "1998",
                                    "NEM": "F",
                                    "CIM": "6800 Hódmezővásárhely, Oldalkosát u. 1.",
                                    "Előző": "Nagy László",
                                    "Következő": "Nagy Sándor"
                                },
                                {
                                    "LOGIN": "sandor4",
                                    "EMAIL": "sandor4@gmail.com",
                                    "NEV": "Nagy Sándor",
                                    "SZULEV": "1997",
                                    "NEM": "F",
                                    "CIM": "4600 Kisvárda, Fő utca 47.",
                                    "Előző": "Nagy Péter",
                                    "Következő": "Nagymihály Csongor"
                                },
                                {
                                    "LOGIN": "csongor3",
                                    "EMAIL": "csongor.nagymihály@mail.hu",
                                    "NEV": "Nagymihály Csongor",
                                    "SZULEV": "1984",
                                    "NEM": "F",
                                    "CIM": "9181 Kimle, Deák Ferenc út 5.",
                                    "Előző": "Nagy Sándor",
                                    "Következő": "Nagymihály Lajos"
                                },
                                {
                                    "LOGIN": "lala",
                                    "EMAIL": "lajos.nagymihály@mail.hu",
                                    "NEV": "Nagymihály Lajos",
                                    "SZULEV": "1997",
                                    "NEM": "F",
                                    "CIM": "8638 Balatonlelle, Rákóczi út 200.",
                                    "Előző": "Nagymihály Csongor",
                                    "Következő": "Neizer Andrea"
                                },
                                {
                                    "LOGIN": "andrea4",
                                    "EMAIL": "andrea4@gmail.com",
                                    "NEV": "Neizer Andrea",
                                    "SZULEV": "1981",
                                    "NEM": "N",
                                    "CIM": "1124 Budapest, Kiss u. 8.",
                                    "Előző": "Nagymihály Lajos",
                                    "Következő": "Nyíri Georgij"
                                },
                                {
                                    "LOGIN": "georgij",
                                    "EMAIL": "georgij.nyíri@mail.hu",
                                    "NEV": "Nyíri Georgij",
                                    "SZULEV": "1983",
                                    "NEM": "F",
                                    "CIM": "8391 Sármellék, Grassalkovich út 10.",
                                    "Előző": "Neizer Andrea",
                                    "Következő": "Opra Attila"
                                },
                                {
                                    "LOGIN": "ATTILAO",
                                    "EMAIL": "ATTILAO@gmail.com",
                                    "NEV": "Opra Attila",
                                    "SZULEV": "1995",
                                    "NEM": "F",
                                    "CIM": "8283 Káptalantóti, Rákóczi út 200.",
                                    "Előző": "Nyíri Georgij",
                                    "Következő": "Orbán Bernadett"
                                },
                                {
                                    "LOGIN": "BERNADETTO",
                                    "EMAIL": "bernadett.orbán@mail.hu",
                                    "NEV": "Orbán Bernadett",
                                    "SZULEV": "1987",
                                    "NEM": "N",
                                    "CIM": "5085 Rákóczifalva, Arany János utca 1.",
                                    "Előző": "Opra Attila",
                                    "Következő": "Orosz Ferenc"
                                },
                                {
                                    "LOGIN": "ferenc1",
                                    "EMAIL": "ferenc.orosz@mail.hu",
                                    "NEV": "Orosz Ferenc",
                                    "SZULEV": "1983",
                                    "NEM": "F",
                                    "CIM": "5061 Tiszasüly, Arany János utca 3.",
                                    "Előző": "Orbán Bernadett",
                                    "Következő": "Oroszi György"
                                },
                                {
                                    "LOGIN": "GYORGYO",
                                    "EMAIL": "GYORGYO@gmail.com",
                                    "NEV": "Oroszi György",
                                    "SZULEV": "1980",
                                    "NEM": "F",
                                    "CIM": "7220 Sarkad, Dózsa György u. 1.",
                                    "Előző": "Orosz Ferenc",
                                    "Következő": "Ötvös Árpád"
                                },
                                {
                                    "LOGIN": "arpad2",
                                    "EMAIL": "árpád.ötvös@mail.hu",
                                    "NEV": "Ötvös Árpád",
                                    "SZULEV": "1990",
                                    "NEM": "F",
                                    "CIM": "2600 Vác, Padragi út 158.",
                                    "Előző": "Oroszi György",
                                    "Következő": "Palágyi Polla"
                                },
                                {
                                    "LOGIN": "polla",
                                    "EMAIL": "polla@gmail.com",
                                    "NEV": "Palágyi Polla",
                                    "SZULEV": "1994",
                                    "NEM": "N",
                                    "CIM": "2484 Agárd, Fő út 18.",
                                    "Előző": "Ötvös Árpád",
                                    "Következő": "Pálinkás János"
                                },
                                {
                                    "LOGIN": "JANOSP",
                                    "EMAIL": "JANOSP@gmail.com",
                                    "NEV": "Pálinkás János",
                                    "SZULEV": "1984",
                                    "NEM": "F",
                                    "CIM": "5920 Csorvás, Padragi út 158.",
                                    "Előző": "Palágyi Polla",
                                    "Következő": "Papós Tímea"
                                },
                                {
                                    "LOGIN": "timea",
                                    "EMAIL": "timea@gmail.com",
                                    "NEV": "Papós Tímea",
                                    "SZULEV": "1996",
                                    "NEM": "N",
                                    "CIM": "1035 Budapest,  Kossuth út 77.",
                                    "Előző": "Pálinkás János",
                                    "Következő": "Papp Imre"
                                },
                                {
                                    "LOGIN": "imre1",
                                    "EMAIL": "imre.papp@mail.hu",
                                    "NEV": "Papp Imre",
                                    "SZULEV": "1976",
                                    "NEM": "F",
                                    "CIM": "1077 Budapest, Szolnoki út 8.",
                                    "Előző": "Papós Tímea",
                                    "Következő": "Pásztor Róbert"
                                },
                                {
                                    "LOGIN": "ROBERTP",
                                    "EMAIL": "ROBERTP@gmail.com",
                                    "NEV": "Pásztor Róbert",
                                    "SZULEV": "1972",
                                    "NEM": "F",
                                    "CIM": "5137 Jászkisér, Ady Endre út 27.",
                                    "Előző": "Papp Imre",
                                    "Következő": "Pataki Brigitta"
                                },
                                {
                                    "LOGIN": "brigitta3",
                                    "EMAIL": "brigitta.pataki@mail.hu",
                                    "NEV": "Pataki Brigitta",
                                    "SZULEV": "1991",
                                    "NEM": "N",
                                    "CIM": "2730 Albertirsa, Rendeki utca 21.",
                                    "Előző": "Pásztor Róbert",
                                    "Következő": "Patay Róbert"
                                },
                                {
                                    "LOGIN": "robert2",
                                    "EMAIL": "robert2@gmail.com",
                                    "NEV": "Patay Róbert",
                                    "SZULEV": "1977",
                                    "NEM": "F",
                                    "CIM": "2370 Dabas, Rákóczi utca 21.",
                                    "Előző": "Pataki Brigitta",
                                    "Következő": "Perlinger Éva"
                                },
                                {
                                    "LOGIN": "eva2",
                                    "EMAIL": "eva2@gmail.com",
                                    "NEV": "Perlinger Éva",
                                    "SZULEV": "1971",
                                    "NEM": "N",
                                    "CIM": "9653 Répcelak, Bécsi utca 82.",
                                    "Előző": "Patay Róbert",
                                    "Következő": "Pintér Zoltán"
                                },
                                {
                                    "LOGIN": "ZOLTANP",
                                    "EMAIL": "zoltán.pintér@mail.hu",
                                    "NEV": "Pintér Zoltán",
                                    "SZULEV": "1977",
                                    "NEM": "F",
                                    "CIM": "6050 Lajosmizse, Fő út 18.",
                                    "Előző": "Perlinger Éva",
                                    "Következő": "Pivarcsi Anett"
                                },
                                {
                                    "LOGIN": "anett3",
                                    "EMAIL": "anett.pivarcsi@mail.hu",
                                    "NEV": "Pivarcsi Anett",
                                    "SZULEV": "1967",
                                    "NEM": "N",
                                    "CIM": "1149 Budapest, Fő út 60.",
                                    "Előző": "Pintér Zoltán",
                                    "Következő": "Poprádi Kristóf"
                                },
                                {
                                    "LOGIN": "kristof4",
                                    "EMAIL": "kristof4@gmail.com",
                                    "NEV": "Poprádi Kristóf",
                                    "SZULEV": "1984",
                                    "NEM": "F",
                                    "CIM": "8220 Balatonalmádi, Mészáros utca 7.",
                                    "Előző": "Pivarcsi Anett",
                                    "Következő": "Pulai Zsolt"
                                },
                                {
                                    "LOGIN": "zsolt1",
                                    "EMAIL": "zsolt.pulai@mail.hu",
                                    "NEV": "Pulai Zsolt",
                                    "SZULEV": "1988",
                                    "NEM": "F",
                                    "CIM": "8391 Sármellék, Fő utca 60.",
                                    "Előző": "Poprádi Kristóf",
                                    "Következő": "Pusztai Zsuzsanna"
                                },
                                {
                                    "LOGIN": "zsuzsa",
                                    "EMAIL": "zsuzsanna@gmail.com",
                                    "NEV": "Pusztai Zsuzsanna",
                                    "SZULEV": "1980",
                                    "NEM": "N",
                                    "CIM": "6783 Ásotthalom, Badacsonyi utca 12.",
                                    "Előző": "Pulai Zsolt",
                                    "Következő": "Rab Sebestyén"
                                },
                                {
                                    "LOGIN": "sebestyen",
                                    "EMAIL": "sebestyen@gmail.com",
                                    "NEV": "Rab Sebestyén",
                                    "SZULEV": "1992",
                                    "NEM": "F",
                                    "CIM": "7130 Tolna, Központi telep 3.",
                                    "Előző": "Pusztai Zsuzsanna",
                                    "Következő": "Rácz Dániel"
                                },
                                {
                                    "LOGIN": "daniel",
                                    "EMAIL": "dániel.rácz@mail.hu",
                                    "NEV": "Rácz Dániel",
                                    "SZULEV": "1978",
                                    "NEM": "F",
                                    "CIM": "9181 Kimle, Szabadság tér 9.",
                                    "Előző": "Rab Sebestyén",
                                    "Következő": "Rácz Rajmond"
                                },
                                {
                                    "LOGIN": "rajmond4",
                                    "EMAIL": "rajmond.rácz@mail.hu",
                                    "NEV": "Rácz Rajmond",
                                    "SZULEV": "1993",
                                    "NEM": "F",
                                    "CIM": "9155 Lébény, Petőfi utca 1/2.",
                                    "Előző": "Rácz Dániel",
                                    "Következő": "Regős Annamária"
                                },
                                {
                                    "LOGIN": "ANNAMARIAR",
                                    "EMAIL": "ANNAMARIAR@gmail.com",
                                    "NEV": "Regős Annamária",
                                    "SZULEV": "1977",
                                    "NEM": "N",
                                    "CIM": "8283 Káptalantóti, Petőfi Sándor tér 1.",
                                    "Előző": "Rácz Rajmond",
                                    "Következő": "Sarodi Dóra"
                                },
                                {
                                    "LOGIN": "dora3",
                                    "EMAIL": "dóra.sarodi@mail.hu",
                                    "NEV": "Sarodi Dóra",
                                    "SZULEV": "1995",
                                    "NEM": "N",
                                    "CIM": "2855 Bokod, Fő út 18.",
                                    "Előző": "Regős Annamária",
                                    "Következő": "Simon Anikó"
                                },
                                {
                                    "LOGIN": "ANIKOS",
                                    "EMAIL": "ANIKOS@gmail.com",
                                    "NEV": "Simon Anikó",
                                    "SZULEV": "1988",
                                    "NEM": "N",
                                    "CIM": "5137 Jászkisér, Bécsi utca 82.",
                                    "Előző": "Sarodi Dóra",
                                    "Következő": "Simon Bernadett"
                                },
                                {
                                    "LOGIN": "bernadett1",
                                    "EMAIL": "bernadett1@gmail.com",
                                    "NEV": "Simon Bernadett",
                                    "SZULEV": "1984",
                                    "NEM": "N",
                                    "CIM": "2300 Ráckeve, Fő utca 108.",
                                    "Előző": "Simon Anikó",
                                    "Következő": "Sobják Dávid"
                                },
                                {
                                    "LOGIN": "david1",
                                    "EMAIL": "david1@gmail.com",
                                    "NEV": "Sobják Dávid",
                                    "SZULEV": "1970",
                                    "NEM": "F",
                                    "CIM": "5083 Kengyel, Arany János utca 3.",
                                    "Előző": "Simon Bernadett",
                                    "Következő": "Soós István"
                                },
                                {
                                    "LOGIN": "istvan",
                                    "EMAIL": "istvan@gmail.com",
                                    "NEV": "Soós István",
                                    "SZULEV": "1986",
                                    "NEM": "F",
                                    "CIM": "2370 Dabas, Kossuth utca 27.",
                                    "Előző": "Sobják Dávid",
                                    "Következő": "Szabó Julianna"
                                },
                                {
                                    "LOGIN": "julianna4",
                                    "EMAIL": "julianna4@gmail.com",
                                    "NEV": "Szabó Julianna",
                                    "SZULEV": "1990",
                                    "NEM": "N",
                                    "CIM": "6700 Szeged, Kossuth Lajos utca 6.",
                                    "Előző": "Soós István",
                                    "Következő": "Szalai Péter"
                                },
                                {
                                    "LOGIN": "peter3",
                                    "EMAIL": "peter3@gmail.com",
                                    "NEV": "Szalai Péter",
                                    "SZULEV": "1983",
                                    "NEM": "F",
                                    "CIM": "1155 Budapest, Arany János utca 3.",
                                    "Előző": "Szabó Julianna",
                                    "Következő": "Szalai Szilárd"
                                },
                                {
                                    "LOGIN": "SZILARDS",
                                    "EMAIL": "szilárd.szalai@mail.hu",
                                    "NEV": "Szalai Szilárd",
                                    "SZULEV": "1967",
                                    "NEM": "F",
                                    "CIM": "1077 Budapest, Fő út 18.",
                                    "Előző": "Szalai Péter",
                                    "Következő": "Szedlár Krisztina"
                                },
                                {
                                    "LOGIN": "krisztina",
                                    "EMAIL": "krisztina@gmail.com",
                                    "NEV": "Szedlár Krisztina",
                                    "SZULEV": "1979",
                                    "NEM": "N",
                                    "CIM": "6646 Tömörkény, Arany János utca 1.",
                                    "Előző": "Szalai Szilárd",
                                    "Következő": "Székely Brigitta"
                                },
                                {
                                    "LOGIN": "brigitta",
                                    "EMAIL": "brigitta.székely@mail.hu",
                                    "NEV": "Székely Brigitta",
                                    "SZULEV": "1978",
                                    "NEM": "N",
                                    "CIM": "2462 Martonvásár, Fő utca 47.",
                                    "Előző": "Szedlár Krisztina",
                                    "Következő": "Szekendi Beatrix"
                                },
                                {
                                    "LOGIN": "BEATRIXS",
                                    "EMAIL": "beatrix.szekendi@mail.hu",
                                    "NEV": "Szekendi Beatrix",
                                    "SZULEV": "1981",
                                    "NEM": "N",
                                    "CIM": "4060 Balmazújváros, Jászai tér 21.",
                                    "Előző": "Székely Brigitta",
                                    "Következő": "Szikszai Réka"
                                },
                                {
                                    "LOGIN": "reka4",
                                    "EMAIL": "réka.szikszai@mail.hu",
                                    "NEV": "Szikszai Réka",
                                    "SZULEV": "1969",
                                    "NEM": "N",
                                    "CIM": "8254 Kővágóörs, Templom utca 73.",
                                    "Előző": "Szekendi Beatrix",
                                    "Következő": "Szilágyi Mátyás"
                                },
                                {
                                    "LOGIN": "MATYASS",
                                    "EMAIL": "mátyás.szilágyi@mail.hu",
                                    "NEV": "Szilágyi Mátyás",
                                    "SZULEV": "1975",
                                    "NEM": "F",
                                    "CIM": "9023 Győr, Kossuth Lajos utca 6.",
                                    "Előző": "Szikszai Réka",
                                    "Következő": "Szirmai Renáta"
                                },
                                {
                                    "LOGIN": "RENATAS",
                                    "EMAIL": "RENATAS@gmail.com",
                                    "NEV": "Szirmai Renáta",
                                    "SZULEV": "1991",
                                    "NEM": "N",
                                    "CIM": "2053 Herceghalom, Kossuth utca 27.",
                                    "Előző": "Szilágyi Mátyás",
                                    "Következő": "Szomor Andrea"
                                },
                                {
                                    "LOGIN": "andrea3",
                                    "EMAIL": "andrea3@gmail.com",
                                    "NEV": "Szomor Andrea",
                                    "SZULEV": "1996",
                                    "NEM": "N",
                                    "CIM": "7960 Sellye, Bécsi utca 82.",
                                    "Előző": "Szirmai Renáta",
                                    "Következő": "Szöllősi Gábor"
                                },
                                {
                                    "LOGIN": "GABORS",
                                    "EMAIL": "GABORS@gmail.com",
                                    "NEV": "Szöllősi Gábor",
                                    "SZULEV": "1990",
                                    "NEM": "F",
                                    "CIM": "3630 Putnok, Kossuth utca 27.",
                                    "Előző": "Szomor Andrea",
                                    "Következő": "Szűcs Annamária"
                                },
                                {
                                    "LOGIN": "annamaria1",
                                    "EMAIL": "annamária.szűcs@mail.hu",
                                    "NEV": "Szűcs Annamária",
                                    "SZULEV": "1990",
                                    "NEM": "N",
                                    "CIM": "1191 Budapest, Rendeki utca 21.",
                                    "Előző": "Szöllősi Gábor",
                                    "Következő": "Szűcs Balázs"
                                },
                                {
                                    "LOGIN": "balazs2",
                                    "EMAIL": "balázs.szűcs@mail.hu",
                                    "NEV": "Szűcs Balázs",
                                    "SZULEV": "1984",
                                    "NEM": "F",
                                    "CIM": "3170 Szécsény, Szabadság utca 95.",
                                    "Előző": "Szűcs Annamária",
                                    "Következő": "Szűcs Norbert"
                                },
                                {
                                    "LOGIN": "norbert",
                                    "EMAIL": "norbert@gmail.com",
                                    "NEV": "Szűcs Norbert",
                                    "SZULEV": "1969",
                                    "NEM": "F",
                                    "CIM": "5071 Besenyszög, Győri utca 12.",
                                    "Előző": "Szűcs Balázs",
                                    "Következő": "Tankó Veronika"
                                },
                                {
                                    "LOGIN": "veronika4",
                                    "EMAIL": "veronika4@gmail.com",
                                    "NEV": "Tankó Veronika",
                                    "SZULEV": "1983",
                                    "NEM": "N",
                                    "CIM": "6412 Balotaszállás, Rendeki utca 21.",
                                    "Előző": "Szűcs Norbert",
                                    "Következő": "Tari Szilvia"
                                },
                                {
                                    "LOGIN": "szilvia1",
                                    "EMAIL": "szilvia.tari@mail.hu",
                                    "NEV": "Tari Szilvia",
                                    "SZULEV": "1971",
                                    "NEM": "N",
                                    "CIM": "6080 Szabadszállás, Bécsi utca 82.",
                                    "Előző": "Tankó Veronika",
                                    "Következő": "Tatár Nikoletta"
                                },
                                {
                                    "LOGIN": "NIKOLETTAT",
                                    "EMAIL": "nikoletta.tatár@mail.hu",
                                    "NEV": "Tatár Nikoletta",
                                    "SZULEV": "1997",
                                    "NEM": "N",
                                    "CIM": "1067 Budapest, Győri utca 12.",
                                    "Előző": "Tari Szilvia",
                                    "Következő": "Telek Gábor"
                                },
                                {
                                    "LOGIN": "gabor4",
                                    "EMAIL": "gábor.telek@mail.hu",
                                    "NEV": "Telek Gábor",
                                    "SZULEV": "1987",
                                    "NEM": "F",
                                    "CIM": "9071 Görbeháza, Fő út 169.",
                                    "Előző": "Tatár Nikoletta",
                                    "Következő": "Tornyos Andrea"
                                },
                                {
                                    "LOGIN": "ANDREAT",
                                    "EMAIL": "ANDREAT@gmail.com",
                                    "NEV": "Tornyos Andrea",
                                    "SZULEV": "1986",
                                    "NEM": "N",
                                    "CIM": "6131 Szank, Bécsi utca 82.",
                                    "Előző": "Telek Gábor",
                                    "Következő": "Tóth András"
                                },
                                {
                                    "LOGIN": "andras2",
                                    "EMAIL": "andrás.tóth@mail.hu",
                                    "NEV": "Tóth András",
                                    "SZULEV": "1997",
                                    "NEM": "F",
                                    "CIM": "4071 Egyek, Petőfi utca 30.",
                                    "Előző": "Tornyos Andrea",
                                    "Következő": "Tóth Anikó"
                                },
                                {
                                    "LOGIN": "aniko",
                                    "EMAIL": "aniko@gmail.com",
                                    "NEV": "Tóth Anikó",
                                    "SZULEV": "1973",
                                    "NEM": "N",
                                    "CIM": "2085 Pilisvörösvár, Deák Ferenc út 5.",
                                    "Előző": "Tóth András",
                                    "Következő": "Tóth Júlia"
                                },
                                {
                                    "LOGIN": "julia",
                                    "EMAIL": "julia@gmail.com",
                                    "NEV": "Tóth Júlia",
                                    "SZULEV": "1993",
                                    "NEM": "N",
                                    "CIM": "5310 Kisújszállás, Árpád utca 4.",
                                    "Előző": "Tóth Anikó",
                                    "Következő": "Tóth Roland"
                                },
                                {
                                    "LOGIN": "roland",
                                    "EMAIL": "roland@gmail.com",
                                    "NEV": "Tóth Roland",
                                    "SZULEV": "1968",
                                    "NEM": "F",
                                    "CIM": "2000 Szentendre, Fő út 169.",
                                    "Előző": "Tóth Júlia",
                                    "Következő": "Tóth Zoltán"
                                },
                                {
                                    "LOGIN": "ZOLTANT",
                                    "EMAIL": "zoltán.tóth@mail.hu",
                                    "NEV": "Tóth Zoltán",
                                    "SZULEV": "1985",
                                    "NEM": "F",
                                    "CIM": "4244 Újfehértó, Posta köz 2.",
                                    "Előző": "Tóth Roland",
                                    "Következő": "Tömböly Dénes"
                                },
                                {
                                    "LOGIN": "denes",
                                    "EMAIL": "denes@gmail.com",
                                    "NEV": "Tömböly Dénes",
                                    "SZULEV": "1975",
                                    "NEM": "F",
                                    "CIM": "2400 Dunaújváros, Kossuth út 39.",
                                    "Előző": "Tóth Zoltán",
                                    "Következő": "Turcsik Tünde"
                                },
                                {
                                    "LOGIN": "tunde",
                                    "EMAIL": "tunde@gmail.com",
                                    "NEV": "Turcsik Tünde",
                                    "SZULEV": "1974",
                                    "NEM": "N",
                                    "CIM": "7130 Tolna, Fő út 122.",
                                    "Előző": "Tömböly Dénes",
                                    "Következő": "Urbán Viktoria"
                                },
                                {
                                    "LOGIN": "VIKTORIAU",
                                    "EMAIL": "viktoria.urbán@mail.hu",
                                    "NEV": "Urbán Viktoria",
                                    "SZULEV": "1996",
                                    "NEM": "N",
                                    "CIM": "3860 Encs, Népboltsor  2.",
                                    "Előző": "Turcsik Tünde",
                                    "Következő": "Vajda József"
                                },
                                {
                                    "LOGIN": "jozsef2",
                                    "EMAIL": "józsef.vajda@mail.hu",
                                    "NEV": "Vajda József",
                                    "SZULEV": "1978",
                                    "NEM": "F",
                                    "CIM": "6700 Szeged, Baracsi László utca 14.",
                                    "Előző": "Urbán Viktoria",
                                    "Következő": "Vajda Zsuzsa"
                                },
                                {
                                    "LOGIN": "ZSUZSAV",
                                    "EMAIL": "zsuzsa.vajda@mail.hu",
                                    "NEV": "Vajda Zsuzsa",
                                    "SZULEV": "1976",
                                    "NEM": "N",
                                    "CIM": "6786 Ruzsa, Kossuth utca 77.",
                                    "Előző": "Vajda József",
                                    "Következő": "Varga István"
                                },
                                {
                                    "LOGIN": "ISTVANV",
                                    "EMAIL": "ISTVANV@gmail.com",
                                    "NEV": "Varga István",
                                    "SZULEV": "1989",
                                    "NEM": "F",
                                    "CIM": "6320 Solt, Hősök tere 11.",
                                    "Előző": "Vajda Zsuzsa",
                                    "Következő": "Varsányi Zsuzsa"
                                },
                                {
                                    "LOGIN": "zsuzsa3",
                                    "EMAIL": "zsuzsa.varsányi@mail.hu",
                                    "NEV": "Varsányi Zsuzsa",
                                    "SZULEV": "1979",
                                    "NEM": "N",
                                    "CIM": "8600 Siófok, Árpád utca 4.",
                                    "Előző": "Varga István",
                                    "Következő": "Vida Gabriella"
                                },
                                {
                                    "LOGIN": "gabriella10",
                                    "EMAIL": "gabriella10@gmail.com",
                                    "NEV": "Vida Gabriella",
                                    "SZULEV": "1969",
                                    "NEM": "N",
                                    "CIM": "2484 Agárd, Arany János utca 3.",
                                    "Előző": "Varsányi Zsuzsa",
                                    "Következő": "Vígh András"
                                },
                                {
                                    "LOGIN": "andras3",
                                    "EMAIL": "andrás.vígh@mail.hu",
                                    "NEV": "Vígh András",
                                    "SZULEV": "1971",
                                    "NEM": "F",
                                    "CIM": "1118 Budapest, Arany János utca 1.",
                                    "Előző": "Vida Gabriella",
                                    "Következő": "Viktor Éva"
                                },
                                {
                                    "LOGIN": "EVAV",
                                    "EMAIL": "EVAV@gmail.com",
                                    "NEV": "Viktor Éva",
                                    "SZULEV": "1980",
                                    "NEM": "N",
                                    "CIM": "6913 Csanádpalota, Arany János utca 3.",
                                    "Előző": "Vígh András",
                                    "Következő": "Vizi István"
                                },
                                {
                                    "LOGIN": "istvan1",
                                    "EMAIL": "istván.vizi@mail.hu",
                                    "NEV": "Vizi István",
                                    "SZULEV": "1997",
                                    "NEM": "F",
                                    "CIM": "7086 Ozora, Rákóczi utca 1.",
                                    "Előző": "Viktor Éva",
                                    "Következő": "Vörös Dániel"
                                },
                                {
                                    "LOGIN": "dani",
                                    "EMAIL": "daniel@gmail.com",
                                    "NEV": "Vörös Dániel",
                                    "SZULEV": "1986",
                                    "NEM": "F",
                                    "CIM": "7150 Bonyhád, Dózsa György u. 1.",
                                    "Előző": "Vizi István",
                                    "Következő": "Vukasinovity Bálint"
                                },
                                {
                                    "LOGIN": "balint2",
                                    "EMAIL": "balint2@gmail.com",
                                    "NEV": "Vukasinovity Bálint",
                                    "SZULEV": "1997",
                                    "NEM": "F",
                                    "CIM": "2330 Dunaharaszti, Béke utca 7.",
                                    "Előző": "Vörös Dániel",
                                    "Következő": "Zatykó Katalin"
                                },
                                {
                                    "LOGIN": "kati",
                                    "EMAIL": "katalin.zatykó@mail.hu",
                                    "NEV": "Zatykó Katalin",
                                    "SZULEV": "1995",
                                    "NEM": "N",
                                    "CIM": "7511 Ötvöskónyi, Kossuth Lajos utca 6.",
                                    "Előző": "Vukasinovity Bálint",
                                    "Következő": "Nincs"
                                }
                            ]
                        },
                        "text/html": [
                            "<table>",
                            "<tr><th>LOGIN</th><th>EMAIL</th><th>NEV</th><th>SZULEV</th><th>NEM</th><th>CIM</th><th>Előző</th><th>Következő</th></tr>",
                            "<tr><td>david</td><td>david@gmail.com</td><td>Ambrus Dávid</td><td>1974</td><td>F</td><td>1149 Budapest, Fő út 18.</td><td>Nincs</td><td>Andor Ibolya</td></tr>",
                            "<tr><td>IBOLYAA</td><td>ibolya.andor@mail.hu</td><td>Andor Ibolya</td><td>1983</td><td>N</td><td>9023 Győr, Posta köz 2.</td><td>Ambrus Dávid</td><td>Antal László</td></tr>",
                            "<tr><td>LASZLOA</td><td>lászló.antal@mail.hu</td><td>Antal László</td><td>1969</td><td>F</td><td>2484 Agárd, Bécsi utca 82.</td><td>Andor Ibolya</td><td>Antal Tamás</td></tr>",
                            "<tr><td>tamas</td><td>tamás.antal@mail.hu</td><td>Antal Tamás</td><td>1984</td><td>F</td><td>4440 Tiszavasvári, Posta köz 2.</td><td>Antal László</td><td>Back András</td></tr>",
                            "<tr><td>andras4</td><td>andras4@gmail.com</td><td>Back András</td><td>1984</td><td>F</td><td>3783 Edelény, Fő út 169.</td><td>Antal Tamás</td><td>Bagi Beáta</td></tr>",
                            "<tr><td>beata4</td><td>beáta.bagi@mail.hu</td><td>Bagi Beáta</td><td>1994</td><td>N</td><td>8477 Tüskevár, Felszabadulás utca 32.</td><td>Back András</td><td>Bagóczki Alexandra</td></tr>",
                            "<tr><td>alexandra</td><td>alexandra.bagóczki@mail.hu</td><td>Bagóczki Alexandra</td><td>1992</td><td>N</td><td>2381 Táborfalva, Petőfi utca 1/2.</td><td>Bagi Beáta</td><td>Bajusz Bence</td></tr>",
                            "<tr><td>BENCEB</td><td>bence.bajusz@mail.hu</td><td>Bajusz Bence</td><td>1973</td><td>F</td><td>8391 Sármellék, Fő utca 56.</td><td>Bagóczki Alexandra</td><td>Bakó Klaudia</td></tr>",
                            "<tr><td>klaudia2</td><td>klaudia.bakó@mail.hu</td><td>Bakó Klaudia</td><td>1982</td><td>N</td><td>8254 Kővágóörs, Kossuth Lajos utca 6.</td><td>Bajusz Bence</td><td>Bakódy Balázs</td></tr>",
                            "<tr><td>balazs3</td><td>balazs3@gmail.com</td><td>Bakódy Balázs</td><td>1986</td><td>F</td><td>2131 Göd, Arany János utca 1.</td><td>Bakó Klaudia</td><td>Balla Miklós</td></tr>",
                            "<tr><td>MIKLOSB</td><td>miklós.balla@mail.hu</td><td>Balla Miklós</td><td>1979</td><td>F</td><td>4060 Balmazújváros, Szent István utca 2.</td><td>Bakódy Balázs</td><td>Balogh Eszter</td></tr>",
                            "<tr><td>eszter2</td><td>eszter.balogh@mail.hu</td><td>Balogh Eszter</td><td>1998</td><td>N</td><td>6760 Kistelek, Kossuth utca 11.</td><td>Balla Miklós</td><td>Barabás Pál</td></tr>",
                            "<tr><td>pal</td><td>pál.barabás@mail.hu</td><td>Barabás Pál</td><td>1968</td><td>F</td><td>1183 Budapest, Szolnoki út 8.</td><td>Balogh Eszter</td><td>Baráth Mária</td></tr>",
                            "<tr><td>maria1</td><td>mária.baráth@mail.hu</td><td>Baráth Mária</td><td>1995</td><td>N</td><td>1047 Budapest, Posta köz 2.</td><td>Barabás Pál</td><td>Bárci Gusztáv</td></tr>",
                            "<tr><td>gusztav</td><td>gusztav@gmail.com</td><td>Bárci Gusztáv</td><td>1967</td><td>F</td><td>3643 Dédestapolcsány, Endrődi Sándor utca 47.</td><td>Baráth Mária</td><td>Barkóci Ádám</td></tr>",
                            "<tr><td>adam3</td><td>adam3@gmail.com</td><td>Barkóci Ádám</td><td>1970</td><td>F</td><td>3910 Tokaj, Dózsa György utca 37.</td><td>Bárci Gusztáv</td><td>Barna Debóra</td></tr>",
                            "<tr><td>debora</td><td>debóra.barna@mail.hu</td><td>Barna Debóra</td><td>1976</td><td>N</td><td>1155 Budapest, Fő út 169.</td><td>Barkóci Ádám</td><td>Barna Zoltán</td></tr>",
                            "<tr><td>zoltan4</td><td>zoltan4@gmail.com</td><td>Barna Zoltán</td><td>1986</td><td>F</td><td>8313 Balatongyörök, Jászai tér 21.</td><td>Barna Debóra</td><td>Baróti Attila</td></tr>",
                            "<tr><td>attila4</td><td>attila.baróti@mail.hu</td><td>Baróti Attila</td><td>1975</td><td>F</td><td>7149 Báta, Arany János utca 3.</td><td>Barna Zoltán</td><td>Barta Zsuzsanna</td></tr>",
                            "<tr><td>zsuzsanna</td><td>zsuzsanna.barta@mail.hu</td><td>Barta Zsuzsanna</td><td>1994</td><td>N</td><td>4172 Biharnagybajom, Dózsa György utca 37.</td><td>Baróti Attila</td><td>Berendi Péter</td></tr>",
                            "<tr><td>PETERB</td><td>péter.berendi@mail.hu</td><td>Berendi Péter</td><td>1969</td><td>F</td><td>3980 Sátoraljaújhely, Vasút utca 4/10.</td><td>Barta Zsuzsanna</td><td>Béres Norbert</td></tr>",
                            "<tr><td>norbert5</td><td>norbert5@gmail.com</td><td>Béres Norbert</td><td>1975</td><td>F</td><td>8640 Fonyód, Bajcsy-Zsilinszky utca 4.</td><td>Berendi Péter</td><td>Berta Dávid</td></tr>",
                            "<tr><td>david4</td><td>david4@gmail.com</td><td>Berta Dávid</td><td>1990</td><td>F</td><td>3500 Miskolc, Balatoni út 12.</td><td>Béres Norbert</td><td>Bieniek Ádám</td></tr>",
                            "<tr><td>adam4</td><td>ádám.bieniek@mail.hu</td><td>Bieniek Ádám</td><td>1976</td><td>F</td><td>8630 Balatonboglár, Juhászföldi út 1.</td><td>Berta Dávid</td><td>Bíró Ákos</td></tr>",
                            "<tr><td>akos</td><td>ákos.bíró@mail.hu</td><td>Bíró Ákos</td><td>1982</td><td>F</td><td>9023 Győr, Kossuth Lajos utca 47/b.</td><td>Bieniek Ádám</td><td>Biró Alexander</td></tr>",
                            "<tr><td>alexis</td><td>alexbiro@gmail.com</td><td>Biró Alexander</td><td>2000</td><td>F</td><td>6914 Pitvaros, Deák F. u. 38.</td><td>Bíró Ákos</td><td>Bíró Péter</td></tr>",
                            "<tr><td>peter4</td><td>péter.bíró@mail.hu</td><td>Bíró Péter</td><td>1985</td><td>F</td><td>5137 Jászkisér, Rákóczi utca 67.</td><td>Biró Alexander</td><td>Bittmann Edit</td></tr>",
                            "<tr><td>edit</td><td>edit.bittmann@mail.hu</td><td>Bittmann Edit</td><td>1984</td><td>N</td><td>6077 Orgovány, Fő utca 60.</td><td>Bíró Péter</td><td>Bodor Szabolcs</td></tr>",
                            "<tr><td>szabolcs</td><td>szabolcs.bodor@mail.hu</td><td>Bodor Szabolcs</td><td>1990</td><td>F</td><td>6786 Ruzsa, Ady Endre út 27.</td><td>Bittmann Edit</td><td>Bori Krisztina</td></tr>",
                            "<tr><td>krisztina1</td><td>krisztina.bori@mail.hu</td><td>Bori Krisztina</td><td>1969</td><td>N</td><td>2115 Vácszentlászló, Fő utca 47.</td><td>Bodor Szabolcs</td><td>Boros Vivien</td></tr>",
                            "<tr><td>vivien3</td><td>vivien3@gmail.com</td><td>Boros Vivien</td><td>1991</td><td>N</td><td>2117 Isaszeg, Fő út 122.</td><td>Bori Krisztina</td><td>Bosnyák Ilona</td></tr>",
                            "<tr><td>ilona3</td><td>ilona3@gmail.com</td><td>Bosnyák Ilona</td><td>1990</td><td>N</td><td>2483 Gárdony, Posta köz 2.</td><td>Boros Vivien</td><td>Botka Mátyás</td></tr>",
                            "<tr><td>matyas2</td><td>matyas2@gmail.com</td><td>Botka Mátyás</td><td>1972</td><td>F</td><td>2700 Cegléd, Kossuth Lajos utca 6.</td><td>Bosnyák Ilona</td><td>Bozsik Balázs</td></tr>",
                            "<tr><td>balazs1</td><td>balázs.bozsik@mail.hu</td><td>Bozsik Balázs</td><td>1992</td><td>F</td><td>2300 Ráckeve, Bécsi utca 82.</td><td>Botka Mátyás</td><td>Bozsó Péter</td></tr>",
                            "<tr><td>peter2</td><td>peter2@gmail.com</td><td>Bozsó Péter</td><td>1976</td><td>F</td><td>4800 Vásárosnamény, Zombori út 2/A</td><td>Bozsik Balázs</td><td>Böröcz Anikó</td></tr>",
                            "<tr><td>aniko4</td><td>aniko4@gmail.com</td><td>Böröcz Anikó</td><td>1978</td><td>N</td><td>2484 Agárd, Petőfi Sándor tér 1.</td><td>Bozsó Péter</td><td>Bucskó Róza</td></tr>",
                            "<tr><td>roza2</td><td>roza2@gmail.com</td><td>Bucskó Róza</td><td>1988</td><td>N</td><td>5661 Újkígyós, Arany János utca 3.</td><td>Böröcz Anikó</td><td>Búza Imre</td></tr>",
                            "<tr><td>imre</td><td>imre.búza@mail.hu</td><td>Búza Imre</td><td>1988</td><td>F</td><td>9181 Kimle, Petőfi Sándor tér 1.</td><td>Bucskó Róza</td><td>Czérna Krisztián</td></tr>",
                            "<tr><td>krisztian4</td><td>krisztián.czérna@mail.hu</td><td>Czérna Krisztián</td><td>1970</td><td>F</td><td>1107 Budapest, Dózsa György utca 37.</td><td>Búza Imre</td><td>Csiger Bertalan</td></tr>",
                            "<tr><td>bertalan</td><td>bertalan@gmail.com</td><td>Csiger Bertalan</td><td>1977</td><td>F</td><td>1192 Budapest, Fő út 169.</td><td>Czérna Krisztián</td><td>Csóti Attila</td></tr>",
                            "<tr><td>attila</td><td>attila@gmail.com</td><td>Csóti Attila</td><td>1979</td><td>F</td><td>3000 Hatvan, Bajcsy-Zsilinszky utca 4.</td><td>Csiger Bertalan</td><td>Dániel Tibor</td></tr>",
                            "<tr><td>tibor2</td><td>tibor2@gmail.com</td><td>Dániel Tibor</td><td>1985</td><td>F</td><td>6646 Tömörkény, Árpád utca 23.</td><td>Csóti Attila</td><td>Dunai Aladár</td></tr>",
                            "<tr><td>aladar</td><td>aladár.dunai@mail.hu</td><td>Dunai Aladár</td><td>1980</td><td>F</td><td>5931 Nagyszénás, Árpád utca 23.</td><td>Dániel Tibor</td><td>Dusha Tímea</td></tr>",
                            "<tr><td>timea2</td><td>tímea.dusha@mail.hu</td><td>Dusha Tímea</td><td>1975</td><td>N</td><td>5920 Csorvás, Kossuth utca 8.</td><td>Dunai Aladár</td><td>Endresz Bálint</td></tr>",
                            "<tr><td>balu</td><td>bálint.endresz@mail.hu</td><td>Endresz Bálint</td><td>1976</td><td>F</td><td>3973 Cigánd, Fő út 169.</td><td>Dusha Tímea</td><td>Enyedi Éva</td></tr>",
                            "<tr><td>eva</td><td>eva@gmail.com</td><td>Enyedi Éva</td><td>1967</td><td>N</td><td>4231 Bököny, Petőfi utca 8.</td><td>Endresz Bálint</td><td>Erdei András</td></tr>",
                            "<tr><td>ANDRASE</td><td>ANDRASE@gmail.com</td><td>Erdei András</td><td>1997</td><td>F</td><td>5071 Besenyszög, Szolnoki út 8.</td><td>Enyedi Éva</td><td>Érsek Eszter</td></tr>",
                            "<tr><td>ESZTERE</td><td>eszter.érsek@mail.hu</td><td>Érsek Eszter</td><td>1978</td><td>N</td><td>6785 Pusztamérges, Kossuth Lajos utca 6.</td><td>Erdei András</td><td>Farkas Béla</td></tr>",
                            "<tr><td>BELAF</td><td>BELAF@gmail.com</td><td>Farkas Béla</td><td>1995</td><td>F</td><td>5530 Vésztő, Petőfi Sándor utca 3.</td><td>Érsek Eszter</td><td>Farkas László</td></tr>",
                            "<tr><td>laszlo1</td><td>lászló.farkas@mail.hu</td><td>Farkas László</td><td>1967</td><td>F</td><td>5200 Törökszentmiklós, Rendeki utca 21.</td><td>Farkas Béla</td><td>Farkas Sándor</td></tr>",
                            "<tr><td>sandor3</td><td>sándor.farkas@mail.hu</td><td>Farkas Sándor</td><td>1989</td><td>F</td><td>8640 Fonyód, Tanácsköztársaság tér 1.</td><td>Farkas László</td><td>Farkas Sára</td></tr>",
                            "<tr><td>sara</td><td>sára.farkas@mail.hu</td><td>Farkas Sára</td><td>1973</td><td>N</td><td>5940 Tótkomlós, Felszabadulás utca 32.</td><td>Farkas Sándor</td><td>Fényes Tamás</td></tr>",
                            "<tr><td>TAMASF</td><td>TAMASF@gmail.com</td><td>Fényes Tamás</td><td>1997</td><td>F</td><td>9023 Győr, Arany János utca 1.</td><td>Farkas Sára</td><td>Ferencz Roland</td></tr>",
                            "<tr><td>roland1</td><td>roland.ferencz@mail.hu</td><td>Ferencz Roland</td><td>1985</td><td>F</td><td>2424 Előszállás, Fő út 169.</td><td>Fényes Tamás</td><td>Feró Valentin</td></tr>",
                            "<tr><td>valentin</td><td>valentin.feró@mail.hu</td><td>Feró Valentin</td><td>1986</td><td>F</td><td>3895 Gönc, Búvár utca 4.</td><td>Ferencz Roland</td><td>Fodor Zoltán</td></tr>",
                            "<tr><td>zoltan</td><td>zoltán.fodor@mail.hu</td><td>Fodor Zoltán</td><td>1979</td><td>F</td><td>3441 Mezőkeresztes, Fő utca 23.</td><td>Feró Valentin</td><td>Foltényi Sebastián</td></tr>",
                            "<tr><td>SEBASTIANF</td><td>SEBASTIANF@gmail.com</td><td>Foltényi Sebastián</td><td>1992</td><td>F</td><td>7960 Sellye, Grassalkovich út 10.</td><td>Fodor Zoltán</td><td>Fő Nándor</td></tr>",
                            "<tr><td>NANDORF</td><td>nándor.fő@mail.hu</td><td>Fő Nándor</td><td>1968</td><td>F</td><td>5920 Csorvás, Bécsi utca 82.</td><td>Foltényi Sebastián</td><td>Frank Fruzsina</td></tr>",
                            "<tr><td>fruzsina4</td><td>fruzsina4@gmail.com</td><td>Frank Fruzsina</td><td>1996</td><td>N</td><td>9700 Szombathely, Szabadság utca 95.</td><td>Fő Nándor</td><td>Fülöp Eszter</td></tr>",
                            "<tr><td>eszter4</td><td>eszter.fülöp@mail.hu</td><td>Fülöp Eszter</td><td>1993</td><td>N</td><td>3643 Dédestapolcsány, Kossuth Lajos utca 47/b.</td><td>Frank Fruzsina</td><td>Gergely József</td></tr>",
                            "<tr><td>jozsef</td><td>jozsef@gmail.com</td><td>Gergely József</td><td>1985</td><td>F</td><td>6050 Lajosmizse, Fő út 18.</td><td>Fülöp Eszter</td><td>Giliga János</td></tr>",
                            "<tr><td>JANOSG</td><td>JANOSG@gmail.com</td><td>Giliga János</td><td>1975</td><td>F</td><td>3300 Eger, Deák Ferenc út 5.</td><td>Gergely József</td><td>Gombos Tibor</td></tr>",
                            "<tr><td>tibor</td><td>tibor.gombos@mail.hu</td><td>Gombos Tibor</td><td>1993</td><td>F</td><td>7100 Szekszárd, Kossuth utca 77.</td><td>Giliga János</td><td>Gondos Katalin</td></tr>",
                            "<tr><td>kata</td><td>katalin.gondos@mail.hu</td><td>Gondos Katalin</td><td>1968</td><td>N</td><td>8237 Tihany, Kossuth Lajos utca 6.</td><td>Gombos Tibor</td><td>Gondos Miklós</td></tr>",
                            "<tr><td>miklos2</td><td>miklos2@gmail.com</td><td>Gondos Miklós</td><td>1995</td><td>F</td><td>2100 Gödöllő, Árpád utca 23.</td><td>Gondos Katalin</td><td>Gulyás Attila</td></tr>",
                            "<tr><td>attila1</td><td>attila.gulyás@mail.hu</td><td>Gulyás Attila</td><td>1982</td><td>F</td><td>3881 Abaújszántó, Szolnoki út 8.</td><td>Gondos Miklós</td><td>Gyárfás Krisztina</td></tr>",
                            "<tr><td>KRISZTINAG</td><td>KRISZTINAG@gmail.com</td><td>Gyárfás Krisztina</td><td>1987</td><td>N</td><td>6762 Sándorfalva, Arany János utca 1.</td><td>Gulyás Attila</td><td>Győrffy Bence</td></tr>",
                            "<tr><td>bence</td><td>bence@gmail.com</td><td>Győrffy Bence</td><td>1987</td><td>F</td><td>6900 Makó, Árpád utca 23.</td><td>Gyárfás Krisztina</td><td>Gyuris József</td></tr>",
                            "<tr><td>JOZSEFG</td><td>józsef.gyuris@mail.hu</td><td>Gyuris József</td><td>1975</td><td>F</td><td>2660 Balassagyarmat, Petőfi utca 1/2.</td><td>Győrffy Bence</td><td>Hamvay-Kovács Anita</td></tr>",
                            "<tr><td>anita</td><td>anita.hamvay-kovács@mail.hu</td><td>Hamvay-Kovács Anita</td><td>1971</td><td>N</td><td>7220 Sarkad, Táncsics utca 19.</td><td>Gyuris József</td><td>Harangozó János</td></tr>",
                            "<tr><td>janos3</td><td>janos3@gmail.com</td><td>Harangozó János</td><td>1967</td><td>F</td><td>8700 Marcali, Petőfi Sándor tér 1.</td><td>Hamvay-Kovács Anita</td><td>Hartyánszky Ágnes</td></tr>",
                            "<tr><td>agnes3</td><td>agnes3@gmail.com</td><td>Hartyánszky Ágnes</td><td>1967</td><td>N</td><td>6430 Bácsalmás, Posta köz 2.</td><td>Harangozó János</td><td>Hegedűs Norbert</td></tr>",
                            "<tr><td>norbert2</td><td>norbert.hegedűs@mail.hu</td><td>Hegedűs Norbert</td><td>1991</td><td>F</td><td>2081 Piliscsaba, Rendeki utca 21.</td><td>Hartyánszky Ágnes</td><td>Hídasi Judit</td></tr>",
                            "<tr><td>JUDITH</td><td>JUDITH@gmail.com</td><td>Hídasi Judit</td><td>1997</td><td>N</td><td>2100 Gödöllő, Fő út 169.</td><td>Hegedűs Norbert</td><td>Horváth Ágnes</td></tr>",
                            "<tr><td>AGNESH</td><td>AGNESH@gmail.com</td><td>Horváth Ágnes</td><td>1981</td><td>N</td><td>8200 Veszprém, Rákóczi utca 21.</td><td>Hídasi Judit</td><td>Horváth Árpád</td></tr>",
                            "<tr><td>ARPADH</td><td>árpád.horváth@mail.hu</td><td>Horváth Árpád</td><td>1990</td><td>F</td><td>7349 Szászvár, Dózsa György u. 1.</td><td>Horváth Ágnes</td><td>Horváth Bálint</td></tr>",
                            "<tr><td>balint</td><td>balint@gmail.com</td><td>Horváth Bálint</td><td>1996</td><td>F</td><td>6646 Tömörkény, Endrődi Sándor utca 47.</td><td>Horváth Árpád</td><td>Horváth Katalin</td></tr>",
                            "<tr><td>katalin</td><td>katalin.horváth@mail.hu</td><td>Horváth Katalin</td><td>1968</td><td>N</td><td>2424 Előszállás, Rákóczi út 200.</td><td>Horváth Bálint</td><td>Horváth Krisztina</td></tr>",
                            "<tr><td>kriszti</td><td>kriszti@gmail.com</td><td>Horváth Krisztina</td><td>1978</td><td>N</td><td>6060 Tiszakécske, Árpád utca 4.</td><td>Horváth Katalin</td><td>Horváth Márk</td></tr>",
                            "<tr><td>MARKH</td><td>márk.horváth@mail.hu</td><td>Horváth Márk</td><td>1997</td><td>F</td><td>4400 Nyíregyháza, Badacsonyi utca 12.</td><td>Horváth Krisztina</td><td>Horváth Nikolett</td></tr>",
                            "<tr><td>nikolett3</td><td>nikolett3@gmail.com</td><td>Horváth Nikolett</td><td>1981</td><td>N</td><td>1072 Budapest, Arany János utca 1.</td><td>Horváth Márk</td><td>Iván Róbert</td></tr>",
                            "<tr><td>ROBERTI</td><td>róbert.iván@mail.hu</td><td>Iván Róbert</td><td>1967</td><td>F</td><td>2377 Örkény, Petőfi Sándor utca 3.</td><td>Horváth Nikolett</td><td>Jakab Áron</td></tr>",
                            "<tr><td>aron2</td><td>aron2@gmail.com</td><td>Jakab Áron</td><td>1971</td><td>F</td><td>7133 Fadd, Bajcsy-Zsilinszky utca 4.</td><td>Iván Róbert</td><td>Józsa Zsolt</td></tr>",
                            "<tr><td>ZSOLTJ</td><td>ZSOLTJ@gmail.com</td><td>Józsa Zsolt</td><td>1983</td><td>F</td><td>8315 Gyenesdiás, Bajcsy-Zsilinszky utca 4.</td><td>Jakab Áron</td><td>Juhász Mihály</td></tr>",
                            "<tr><td>MIHALYJ</td><td>mihály.juhász@mail.hu</td><td>Juhász Mihály</td><td>1979</td><td>F</td><td>6786 Ruzsa, Rákóczi utca 1.</td><td>Józsa Zsolt</td><td>Kalacsi Márton</td></tr>",
                            "<tr><td>marton</td><td>marton@gmail.com</td><td>Kalacsi Márton</td><td>1989</td><td>F</td><td>5137 Jászkisér, Fő út 169.</td><td>Juhász Mihály</td><td>Karasz Sándor</td></tr>",
                            "<tr><td>sandor</td><td>sandor@gmail.com</td><td>Karasz Sándor</td><td>1970</td><td>F</td><td>8283 Káptalantóti, Kossuth Lajos utca 1/a.</td><td>Kalacsi Márton</td><td>Kardos Renáta</td></tr>",
                            "<tr><td>RENATAK</td><td>renáta.kardos@mail.hu</td><td>Kardos Renáta</td><td>1988</td><td>N</td><td>7086 Ozora, Bécsi utca 82.</td><td>Karasz Sándor</td><td>Kazy Tihamér</td></tr>",
                            "<tr><td>tihamer</td><td>tihamér.kazy@mail.hu</td><td>Kazy Tihamér</td><td>1991</td><td>F</td><td>2370 Dabas, Fő utca 60.</td><td>Kardos Renáta</td><td>Kelemen Áron</td></tr>",
                            "<tr><td>ARONK</td><td>áron.kelemen@mail.hu</td><td>Kelemen Áron</td><td>1989</td><td>F</td><td>8200 Veszprém, Petőfi utca 8.</td><td>Kazy Tihamér</td><td>Kerényi Beatrix</td></tr>",
                            "<tr><td>BEATRIXK</td><td>beatrix.kerényi@mail.hu</td><td>Kerényi Beatrix</td><td>1972</td><td>N</td><td>7396 Magyarszék, Kossuth Lajos utca 47/b.</td><td>Kelemen Áron</td><td>Keresztúri Viktor</td></tr>",
                            "<tr><td>VIKTORK</td><td>viktor.keresztúri@mail.hu</td><td>Keresztúri Viktor</td><td>1989</td><td>F</td><td>2532 Tokodaltáró, Nagy Lajos tér 4.</td><td>Kerényi Beatrix</td><td>Kertész Katalin</td></tr>",
                            "<tr><td>katalin4</td><td>katalin4@gmail.com</td><td>Kertész Katalin</td><td>1986</td><td>N</td><td>2800 Tatabánya, Búvár utca 4.</td><td>Keresztúri Viktor</td><td>Keszler Dániel</td></tr>",
                            "<tr><td>daniel1</td><td>dániel.keszler@mail.hu</td><td>Keszler Dániel</td><td>1969</td><td>F</td><td>3580 Tiszaújváros, Kossuth Lajos utca 6.</td><td>Kertész Katalin</td><td>Kispál Márk</td></tr>",
                            "<tr><td>mark</td><td>márk.kispál@mail.hu</td><td>Kispál Márk</td><td>1996</td><td>F</td><td>1086 Budapest, Juhászföldi út 1.</td><td>Keszler Dániel</td><td>Kiss Ádám</td></tr>",
                            "<tr><td>adam1</td><td>ádám.kiss@mail.hu</td><td>Kiss Ádám</td><td>1991</td><td>F</td><td>5630 Békés, Szolnoki út 8.</td><td>Kispál Márk</td><td>Kiss Andrea</td></tr>",
                            "<tr><td>andrea</td><td>andrea.kiss@mail.hu</td><td>Kiss Andrea</td><td>1993</td><td>N</td><td>1113 Budapest, Petőfi Sándor utca 87.</td><td>Kiss Ádám</td><td>Kiss Anita</td></tr>",
                            "<tr><td>kanita12</td><td>anita.kiss12@gmail.com</td><td>Kiss Anita</td><td>1975</td><td>N</td><td>2230 Gyömrő Fő tér 3.</td><td>Kiss Andrea</td><td>Kiss Lajos</td></tr>",
                            "<tr><td>lajos</td><td>lajos.kiss@mail.hu</td><td>Kiss Lajos</td><td>1978</td><td>F</td><td>1077 Budapest, Dob utca 1</td><td>Kiss Anita</td><td>Komjáti András</td></tr>",
                            "<tr><td>andras41</td><td>andras41@gmail.com</td><td>Komjáti András</td><td>1997</td><td>F</td><td>5065 Nagykörű, Kossuth út 24.</td><td>Kiss Lajos</td><td>Kornseé Gyöngyi</td></tr>",
                            "<tr><td>GYONGYIK</td><td>gyöngyi.kornseé@mail.hu</td><td>Kornseé Gyöngyi</td><td>1974</td><td>N</td><td>8800 Nagykanizsa, Fő út 60.</td><td>Komjáti András</td><td>Kovács Ágnes</td></tr>",
                            "<tr><td>AGNESK</td><td>AGNESK@gmail.com</td><td>Kovács Ágnes</td><td>1988</td><td>N</td><td>1084 Budapest, Endrődi Sándor utca 47.</td><td>Kornseé Gyöngyi</td><td>Kovács Bernadett</td></tr>",
                            "<tr><td>bernadett2</td><td>bernadett.kovács@mail.hu</td><td>Kovács Bernadett</td><td>1996</td><td>N</td><td>4200 Hajdúszoboszló, Fő út 122.</td><td>Kovács Ágnes</td><td>Kovács Katalin</td></tr>",
                            "<tr><td>katka</td><td>katalin.kovács@mail.hu</td><td>Kovács Katalin</td><td>1975</td><td>N</td><td>8254 Kővágóörs, Petőfi utca 22.</td><td>Kovács Bernadett</td><td>Koza Máté</td></tr>",
                            "<tr><td>MATEK</td><td>máté.koza@mail.hu</td><td>Koza Máté</td><td>1997</td><td>F</td><td>1011 Budapest, Központi telep 3.</td><td>Kovács Katalin</td><td>Kozma Péter</td></tr>",
                            "<tr><td>peter1</td><td>peter1@gmail.com</td><td>Kozma Péter</td><td>1976</td><td>F</td><td>6913 Csanádpalota, Központi telep 3.</td><td>Koza Máté</td><td>Kő Nikoletta</td></tr>",
                            "<tr><td>nikoletta4</td><td>nikoletta4@gmail.com</td><td>Kő Nikoletta</td><td>1972</td><td>N</td><td>5537 Zsadány, Fő út 18.</td><td>Kozma Péter</td><td>Köves Gábor</td></tr>",
                            "<tr><td>gabor1</td><td>gabor1@gmail.com</td><td>Köves Gábor</td><td>1973</td><td>F</td><td>6762 Sándorfalva, Árpád utca 23.</td><td>Kő Nikoletta</td><td>Kuruc Emese</td></tr>",
                            "<tr><td>emese</td><td>emese.kuruc@mail.hu</td><td>Kuruc Emese</td><td>1989</td><td>N</td><td>6700 Szeged, Rákóczi utca 67.</td><td>Köves Gábor</td><td>Lengyel Ágnes</td></tr>",
                            "<tr><td>agnes</td><td>agnes@gmail.com</td><td>Lengyel Ágnes</td><td>1979</td><td>N</td><td>5200 Törökszentmiklós, Deák Ferenc út 5.</td><td>Kuruc Emese</td><td>Lukács Kornél</td></tr>",
                            "<tr><td>kornel4</td><td>kornél.lukács@mail.hu</td><td>Lukács Kornél</td><td>1975</td><td>F</td><td>2053 Herceghalom, Bécsi utca 82.</td><td>Lengyel Ágnes</td><td>Maródi Andrea</td></tr>",
                            "<tr><td>andi</td><td>andrea.maródi@mail.hu</td><td>Maródi Andrea</td><td>1968</td><td>N</td><td>5465 Cserkeszőlő, Árpád utca 4.</td><td>Lukács Kornél</td><td>Miklós Szabolcs</td></tr>",
                            "<tr><td>SZABOLCSM</td><td>szabolcs.miklós@mail.hu</td><td>Miklós Szabolcs</td><td>1980</td><td>F</td><td>1102 Budapest, Fő út 169.</td><td>Maródi Andrea</td><td>Miklós Tamara</td></tr>",
                            "<tr><td>tamara2</td><td>tamara.miklós@mail.hu</td><td>Miklós Tamara</td><td>1980</td><td>N</td><td>3910 Tokaj, Kossuth út 39.</td><td>Miklós Szabolcs</td><td>Mile Norbert</td></tr>",
                            "<tr><td>norbert4</td><td>norbert4@gmail.com</td><td>Mile Norbert</td><td>1983</td><td>F</td><td>3973 Cigánd, Bajcsy-Zsilinszky utca 4.</td><td>Miklós Tamara</td><td>Mogyródi Krisztián</td></tr>",
                            "<tr><td>KRISZTIANM</td><td>KRISZTIANM@gmail.com</td><td>Mogyródi Krisztián</td><td>1968</td><td>F</td><td>9155 Lébény, Jászai tér 21.</td><td>Mile Norbert</td><td>Mohos Mónika</td></tr>",
                            "<tr><td>MONIKAM</td><td>mónika.mohos@mail.hu</td><td>Mohos Mónika</td><td>1974</td><td>N</td><td>2241 Sülysáp, Baracsi László utca 14.</td><td>Mogyródi Krisztián</td><td>Molnár András</td></tr>",
                            "<tr><td>andras21</td><td>andrás.molnár@mail.hu</td><td>Molnár András</td><td>1977</td><td>F</td><td>7900 Szigetvár, Rákóczi utca 67.</td><td>Mohos Mónika</td><td>Molnár Bálint</td></tr>",
                            "<tr><td>balint1</td><td>balint1@gmail.com</td><td>Molnár Bálint</td><td>1989</td><td>F</td><td>9181 Kimle, Fő út 169.</td><td>Molnár András</td><td>Molnár Eszter</td></tr>",
                            "<tr><td>eszter</td><td>eszter.molnár@mail.hu</td><td>Molnár Eszter</td><td>1987</td><td>N</td><td>6800 Hódmezővásárhely, Fő út 77.</td><td>Molnár Bálint</td><td>Molnár Zsófi</td></tr>",
                            "<tr><td>zsofi1</td><td>zsofi1@gmail.com</td><td>Molnár Zsófi</td><td>1983</td><td>N</td><td>2730 Albertirsa, Árpád utca 23.</td><td>Molnár Eszter</td><td>Mór Ottó</td></tr>",
                            "<tr><td>desdemona</td><td>mor.otto@mail.hu</td><td>Mór Ottó</td><td>1968</td><td>F</td><td>9200 Mosonmagyaróvár Fő u. 12.</td><td>Molnár Zsófi</td><td>Móra László</td></tr>",
                            "<tr><td>laszlo2</td><td>lászló.móra@mail.hu</td><td>Móra László</td><td>1975</td><td>F</td><td>9970 Szentgotthárd, Petőfi utca 1/2.</td><td>Mór Ottó</td><td>Móricz Árpád</td></tr>",
                            "<tr><td>ARPADM</td><td>árpád.móricz@mail.hu</td><td>Móricz Árpád</td><td>1986</td><td>F</td><td>3910 Tokaj, Rákóczi utca 67.</td><td>Móra László</td><td>Nádudvari Henrik</td></tr>",
                            "<tr><td>henrik3</td><td>henrik.nádudvari@mail.hu</td><td>Nádudvari Henrik</td><td>1986</td><td>F</td><td>1077 Budapest, Tanácsköztársaság tér 1.</td><td>Móricz Árpád</td><td>Nagy András</td></tr>",
                            "<tr><td>ANDRASN</td><td>andrás.nagy@mail.hu</td><td>Nagy András</td><td>1980</td><td>F</td><td>6500 Baja, Fő út 169.</td><td>Nádudvari Henrik</td><td>Nagy Gabriella</td></tr>",
                            "<tr><td>gabriella1</td><td>gabriella1@gmail.com</td><td>Nagy Gabriella</td><td>1982</td><td>N</td><td>1077 Budapest, Dob utca 1</td><td>Nagy András</td><td>Nagy Júlia</td></tr>",
                            "<tr><td>julia4</td><td>julia4@gmail.com</td><td>Nagy Júlia</td><td>1985</td><td>N</td><td>7000 Sárbogárd, Jászai tér 21.</td><td>Nagy Gabriella</td><td>Nagy László</td></tr>",
                            "<tr><td>LASZLON</td><td>lászló.nagy@mail.hu</td><td>Nagy László</td><td>1969</td><td>F</td><td>1173 Budapest, Jászai tér 21.</td><td>Nagy Júlia</td><td>Nagy Péter</td></tr>",
                            "<tr><td>melissza</td><td>nagy_peter@indamail.hu</td><td>Nagy Péter</td><td>1998</td><td>F</td><td>6800 Hódmezővásárhely, Oldalkosát u. 1.</td><td>Nagy László</td><td>Nagy Sándor</td></tr>",
                            "<tr><td>sandor4</td><td>sandor4@gmail.com</td><td>Nagy Sándor</td><td>1997</td><td>F</td><td>4600 Kisvárda, Fő utca 47.</td><td>Nagy Péter</td><td>Nagymihály Csongor</td></tr>",
                            "<tr><td>csongor3</td><td>csongor.nagymihály@mail.hu</td><td>Nagymihály Csongor</td><td>1984</td><td>F</td><td>9181 Kimle, Deák Ferenc út 5.</td><td>Nagy Sándor</td><td>Nagymihály Lajos</td></tr>",
                            "<tr><td>lala</td><td>lajos.nagymihály@mail.hu</td><td>Nagymihály Lajos</td><td>1997</td><td>F</td><td>8638 Balatonlelle, Rákóczi út 200.</td><td>Nagymihály Csongor</td><td>Neizer Andrea</td></tr>",
                            "<tr><td>andrea4</td><td>andrea4@gmail.com</td><td>Neizer Andrea</td><td>1981</td><td>N</td><td>1124 Budapest, Kiss u. 8.</td><td>Nagymihály Lajos</td><td>Nyíri Georgij</td></tr>",
                            "<tr><td>georgij</td><td>georgij.nyíri@mail.hu</td><td>Nyíri Georgij</td><td>1983</td><td>F</td><td>8391 Sármellék, Grassalkovich út 10.</td><td>Neizer Andrea</td><td>Opra Attila</td></tr>",
                            "<tr><td>ATTILAO</td><td>ATTILAO@gmail.com</td><td>Opra Attila</td><td>1995</td><td>F</td><td>8283 Káptalantóti, Rákóczi út 200.</td><td>Nyíri Georgij</td><td>Orbán Bernadett</td></tr>",
                            "<tr><td>BERNADETTO</td><td>bernadett.orbán@mail.hu</td><td>Orbán Bernadett</td><td>1987</td><td>N</td><td>5085 Rákóczifalva, Arany János utca 1.</td><td>Opra Attila</td><td>Orosz Ferenc</td></tr>",
                            "<tr><td>ferenc1</td><td>ferenc.orosz@mail.hu</td><td>Orosz Ferenc</td><td>1983</td><td>F</td><td>5061 Tiszasüly, Arany János utca 3.</td><td>Orbán Bernadett</td><td>Oroszi György</td></tr>",
                            "<tr><td>GYORGYO</td><td>GYORGYO@gmail.com</td><td>Oroszi György</td><td>1980</td><td>F</td><td>7220 Sarkad, Dózsa György u. 1.</td><td>Orosz Ferenc</td><td>Ötvös Árpád</td></tr>",
                            "<tr><td>arpad2</td><td>árpád.ötvös@mail.hu</td><td>Ötvös Árpád</td><td>1990</td><td>F</td><td>2600 Vác, Padragi út 158.</td><td>Oroszi György</td><td>Palágyi Polla</td></tr>",
                            "<tr><td>polla</td><td>polla@gmail.com</td><td>Palágyi Polla</td><td>1994</td><td>N</td><td>2484 Agárd, Fő út 18.</td><td>Ötvös Árpád</td><td>Pálinkás János</td></tr>",
                            "<tr><td>JANOSP</td><td>JANOSP@gmail.com</td><td>Pálinkás János</td><td>1984</td><td>F</td><td>5920 Csorvás, Padragi út 158.</td><td>Palágyi Polla</td><td>Papós Tímea</td></tr>",
                            "<tr><td>timea</td><td>timea@gmail.com</td><td>Papós Tímea</td><td>1996</td><td>N</td><td>1035 Budapest,  Kossuth út 77.</td><td>Pálinkás János</td><td>Papp Imre</td></tr>",
                            "<tr><td>imre1</td><td>imre.papp@mail.hu</td><td>Papp Imre</td><td>1976</td><td>F</td><td>1077 Budapest, Szolnoki út 8.</td><td>Papós Tímea</td><td>Pásztor Róbert</td></tr>",
                            "<tr><td>ROBERTP</td><td>ROBERTP@gmail.com</td><td>Pásztor Róbert</td><td>1972</td><td>F</td><td>5137 Jászkisér, Ady Endre út 27.</td><td>Papp Imre</td><td>Pataki Brigitta</td></tr>",
                            "<tr><td>brigitta3</td><td>brigitta.pataki@mail.hu</td><td>Pataki Brigitta</td><td>1991</td><td>N</td><td>2730 Albertirsa, Rendeki utca 21.</td><td>Pásztor Róbert</td><td>Patay Róbert</td></tr>",
                            "<tr><td>robert2</td><td>robert2@gmail.com</td><td>Patay Róbert</td><td>1977</td><td>F</td><td>2370 Dabas, Rákóczi utca 21.</td><td>Pataki Brigitta</td><td>Perlinger Éva</td></tr>",
                            "<tr><td>eva2</td><td>eva2@gmail.com</td><td>Perlinger Éva</td><td>1971</td><td>N</td><td>9653 Répcelak, Bécsi utca 82.</td><td>Patay Róbert</td><td>Pintér Zoltán</td></tr>",
                            "<tr><td>ZOLTANP</td><td>zoltán.pintér@mail.hu</td><td>Pintér Zoltán</td><td>1977</td><td>F</td><td>6050 Lajosmizse, Fő út 18.</td><td>Perlinger Éva</td><td>Pivarcsi Anett</td></tr>",
                            "<tr><td>anett3</td><td>anett.pivarcsi@mail.hu</td><td>Pivarcsi Anett</td><td>1967</td><td>N</td><td>1149 Budapest, Fő út 60.</td><td>Pintér Zoltán</td><td>Poprádi Kristóf</td></tr>",
                            "<tr><td>kristof4</td><td>kristof4@gmail.com</td><td>Poprádi Kristóf</td><td>1984</td><td>F</td><td>8220 Balatonalmádi, Mészáros utca 7.</td><td>Pivarcsi Anett</td><td>Pulai Zsolt</td></tr>",
                            "<tr><td>zsolt1</td><td>zsolt.pulai@mail.hu</td><td>Pulai Zsolt</td><td>1988</td><td>F</td><td>8391 Sármellék, Fő utca 60.</td><td>Poprádi Kristóf</td><td>Pusztai Zsuzsanna</td></tr>",
                            "<tr><td>zsuzsa</td><td>zsuzsanna@gmail.com</td><td>Pusztai Zsuzsanna</td><td>1980</td><td>N</td><td>6783 Ásotthalom, Badacsonyi utca 12.</td><td>Pulai Zsolt</td><td>Rab Sebestyén</td></tr>",
                            "<tr><td>sebestyen</td><td>sebestyen@gmail.com</td><td>Rab Sebestyén</td><td>1992</td><td>F</td><td>7130 Tolna, Központi telep 3.</td><td>Pusztai Zsuzsanna</td><td>Rácz Dániel</td></tr>",
                            "<tr><td>daniel</td><td>dániel.rácz@mail.hu</td><td>Rácz Dániel</td><td>1978</td><td>F</td><td>9181 Kimle, Szabadság tér 9.</td><td>Rab Sebestyén</td><td>Rácz Rajmond</td></tr>",
                            "<tr><td>rajmond4</td><td>rajmond.rácz@mail.hu</td><td>Rácz Rajmond</td><td>1993</td><td>F</td><td>9155 Lébény, Petőfi utca 1/2.</td><td>Rácz Dániel</td><td>Regős Annamária</td></tr>",
                            "<tr><td>ANNAMARIAR</td><td>ANNAMARIAR@gmail.com</td><td>Regős Annamária</td><td>1977</td><td>N</td><td>8283 Káptalantóti, Petőfi Sándor tér 1.</td><td>Rácz Rajmond</td><td>Sarodi Dóra</td></tr>",
                            "<tr><td>dora3</td><td>dóra.sarodi@mail.hu</td><td>Sarodi Dóra</td><td>1995</td><td>N</td><td>2855 Bokod, Fő út 18.</td><td>Regős Annamária</td><td>Simon Anikó</td></tr>",
                            "<tr><td>ANIKOS</td><td>ANIKOS@gmail.com</td><td>Simon Anikó</td><td>1988</td><td>N</td><td>5137 Jászkisér, Bécsi utca 82.</td><td>Sarodi Dóra</td><td>Simon Bernadett</td></tr>",
                            "<tr><td>bernadett1</td><td>bernadett1@gmail.com</td><td>Simon Bernadett</td><td>1984</td><td>N</td><td>2300 Ráckeve, Fő utca 108.</td><td>Simon Anikó</td><td>Sobják Dávid</td></tr>",
                            "<tr><td>david1</td><td>david1@gmail.com</td><td>Sobják Dávid</td><td>1970</td><td>F</td><td>5083 Kengyel, Arany János utca 3.</td><td>Simon Bernadett</td><td>Soós István</td></tr>",
                            "<tr><td>istvan</td><td>istvan@gmail.com</td><td>Soós István</td><td>1986</td><td>F</td><td>2370 Dabas, Kossuth utca 27.</td><td>Sobják Dávid</td><td>Szabó Julianna</td></tr>",
                            "<tr><td>julianna4</td><td>julianna4@gmail.com</td><td>Szabó Julianna</td><td>1990</td><td>N</td><td>6700 Szeged, Kossuth Lajos utca 6.</td><td>Soós István</td><td>Szalai Péter</td></tr>",
                            "<tr><td>peter3</td><td>peter3@gmail.com</td><td>Szalai Péter</td><td>1983</td><td>F</td><td>1155 Budapest, Arany János utca 3.</td><td>Szabó Julianna</td><td>Szalai Szilárd</td></tr>",
                            "<tr><td>SZILARDS</td><td>szilárd.szalai@mail.hu</td><td>Szalai Szilárd</td><td>1967</td><td>F</td><td>1077 Budapest, Fő út 18.</td><td>Szalai Péter</td><td>Szedlár Krisztina</td></tr>",
                            "<tr><td>krisztina</td><td>krisztina@gmail.com</td><td>Szedlár Krisztina</td><td>1979</td><td>N</td><td>6646 Tömörkény, Arany János utca 1.</td><td>Szalai Szilárd</td><td>Székely Brigitta</td></tr>",
                            "<tr><td>brigitta</td><td>brigitta.székely@mail.hu</td><td>Székely Brigitta</td><td>1978</td><td>N</td><td>2462 Martonvásár, Fő utca 47.</td><td>Szedlár Krisztina</td><td>Szekendi Beatrix</td></tr>",
                            "<tr><td>BEATRIXS</td><td>beatrix.szekendi@mail.hu</td><td>Szekendi Beatrix</td><td>1981</td><td>N</td><td>4060 Balmazújváros, Jászai tér 21.</td><td>Székely Brigitta</td><td>Szikszai Réka</td></tr>",
                            "<tr><td>reka4</td><td>réka.szikszai@mail.hu</td><td>Szikszai Réka</td><td>1969</td><td>N</td><td>8254 Kővágóörs, Templom utca 73.</td><td>Szekendi Beatrix</td><td>Szilágyi Mátyás</td></tr>",
                            "<tr><td>MATYASS</td><td>mátyás.szilágyi@mail.hu</td><td>Szilágyi Mátyás</td><td>1975</td><td>F</td><td>9023 Győr, Kossuth Lajos utca 6.</td><td>Szikszai Réka</td><td>Szirmai Renáta</td></tr>",
                            "<tr><td>RENATAS</td><td>RENATAS@gmail.com</td><td>Szirmai Renáta</td><td>1991</td><td>N</td><td>2053 Herceghalom, Kossuth utca 27.</td><td>Szilágyi Mátyás</td><td>Szomor Andrea</td></tr>",
                            "<tr><td>andrea3</td><td>andrea3@gmail.com</td><td>Szomor Andrea</td><td>1996</td><td>N</td><td>7960 Sellye, Bécsi utca 82.</td><td>Szirmai Renáta</td><td>Szöllősi Gábor</td></tr>",
                            "<tr><td>GABORS</td><td>GABORS@gmail.com</td><td>Szöllősi Gábor</td><td>1990</td><td>F</td><td>3630 Putnok, Kossuth utca 27.</td><td>Szomor Andrea</td><td>Szűcs Annamária</td></tr>",
                            "<tr><td>annamaria1</td><td>annamária.szűcs@mail.hu</td><td>Szűcs Annamária</td><td>1990</td><td>N</td><td>1191 Budapest, Rendeki utca 21.</td><td>Szöllősi Gábor</td><td>Szűcs Balázs</td></tr>",
                            "<tr><td>balazs2</td><td>balázs.szűcs@mail.hu</td><td>Szűcs Balázs</td><td>1984</td><td>F</td><td>3170 Szécsény, Szabadság utca 95.</td><td>Szűcs Annamária</td><td>Szűcs Norbert</td></tr>",
                            "<tr><td>norbert</td><td>norbert@gmail.com</td><td>Szűcs Norbert</td><td>1969</td><td>F</td><td>5071 Besenyszög, Győri utca 12.</td><td>Szűcs Balázs</td><td>Tankó Veronika</td></tr>",
                            "<tr><td>veronika4</td><td>veronika4@gmail.com</td><td>Tankó Veronika</td><td>1983</td><td>N</td><td>6412 Balotaszállás, Rendeki utca 21.</td><td>Szűcs Norbert</td><td>Tari Szilvia</td></tr>",
                            "<tr><td>szilvia1</td><td>szilvia.tari@mail.hu</td><td>Tari Szilvia</td><td>1971</td><td>N</td><td>6080 Szabadszállás, Bécsi utca 82.</td><td>Tankó Veronika</td><td>Tatár Nikoletta</td></tr>",
                            "<tr><td>NIKOLETTAT</td><td>nikoletta.tatár@mail.hu</td><td>Tatár Nikoletta</td><td>1997</td><td>N</td><td>1067 Budapest, Győri utca 12.</td><td>Tari Szilvia</td><td>Telek Gábor</td></tr>",
                            "<tr><td>gabor4</td><td>gábor.telek@mail.hu</td><td>Telek Gábor</td><td>1987</td><td>F</td><td>9071 Görbeháza, Fő út 169.</td><td>Tatár Nikoletta</td><td>Tornyos Andrea</td></tr>",
                            "<tr><td>ANDREAT</td><td>ANDREAT@gmail.com</td><td>Tornyos Andrea</td><td>1986</td><td>N</td><td>6131 Szank, Bécsi utca 82.</td><td>Telek Gábor</td><td>Tóth András</td></tr>",
                            "<tr><td>andras2</td><td>andrás.tóth@mail.hu</td><td>Tóth András</td><td>1997</td><td>F</td><td>4071 Egyek, Petőfi utca 30.</td><td>Tornyos Andrea</td><td>Tóth Anikó</td></tr>",
                            "<tr><td>aniko</td><td>aniko@gmail.com</td><td>Tóth Anikó</td><td>1973</td><td>N</td><td>2085 Pilisvörösvár, Deák Ferenc út 5.</td><td>Tóth András</td><td>Tóth Júlia</td></tr>",
                            "<tr><td>julia</td><td>julia@gmail.com</td><td>Tóth Júlia</td><td>1993</td><td>N</td><td>5310 Kisújszállás, Árpád utca 4.</td><td>Tóth Anikó</td><td>Tóth Roland</td></tr>",
                            "<tr><td>roland</td><td>roland@gmail.com</td><td>Tóth Roland</td><td>1968</td><td>F</td><td>2000 Szentendre, Fő út 169.</td><td>Tóth Júlia</td><td>Tóth Zoltán</td></tr>",
                            "<tr><td>ZOLTANT</td><td>zoltán.tóth@mail.hu</td><td>Tóth Zoltán</td><td>1985</td><td>F</td><td>4244 Újfehértó, Posta köz 2.</td><td>Tóth Roland</td><td>Tömböly Dénes</td></tr>",
                            "<tr><td>denes</td><td>denes@gmail.com</td><td>Tömböly Dénes</td><td>1975</td><td>F</td><td>2400 Dunaújváros, Kossuth út 39.</td><td>Tóth Zoltán</td><td>Turcsik Tünde</td></tr>",
                            "<tr><td>tunde</td><td>tunde@gmail.com</td><td>Turcsik Tünde</td><td>1974</td><td>N</td><td>7130 Tolna, Fő út 122.</td><td>Tömböly Dénes</td><td>Urbán Viktoria</td></tr>",
                            "<tr><td>VIKTORIAU</td><td>viktoria.urbán@mail.hu</td><td>Urbán Viktoria</td><td>1996</td><td>N</td><td>3860 Encs, Népboltsor  2.</td><td>Turcsik Tünde</td><td>Vajda József</td></tr>",
                            "<tr><td>jozsef2</td><td>józsef.vajda@mail.hu</td><td>Vajda József</td><td>1978</td><td>F</td><td>6700 Szeged, Baracsi László utca 14.</td><td>Urbán Viktoria</td><td>Vajda Zsuzsa</td></tr>",
                            "<tr><td>ZSUZSAV</td><td>zsuzsa.vajda@mail.hu</td><td>Vajda Zsuzsa</td><td>1976</td><td>N</td><td>6786 Ruzsa, Kossuth utca 77.</td><td>Vajda József</td><td>Varga István</td></tr>",
                            "<tr><td>ISTVANV</td><td>ISTVANV@gmail.com</td><td>Varga István</td><td>1989</td><td>F</td><td>6320 Solt, Hősök tere 11.</td><td>Vajda Zsuzsa</td><td>Varsányi Zsuzsa</td></tr>",
                            "<tr><td>zsuzsa3</td><td>zsuzsa.varsányi@mail.hu</td><td>Varsányi Zsuzsa</td><td>1979</td><td>N</td><td>8600 Siófok, Árpád utca 4.</td><td>Varga István</td><td>Vida Gabriella</td></tr>",
                            "<tr><td>gabriella10</td><td>gabriella10@gmail.com</td><td>Vida Gabriella</td><td>1969</td><td>N</td><td>2484 Agárd, Arany János utca 3.</td><td>Varsányi Zsuzsa</td><td>Vígh András</td></tr>",
                            "<tr><td>andras3</td><td>andrás.vígh@mail.hu</td><td>Vígh András</td><td>1971</td><td>F</td><td>1118 Budapest, Arany János utca 1.</td><td>Vida Gabriella</td><td>Viktor Éva</td></tr>",
                            "<tr><td>EVAV</td><td>EVAV@gmail.com</td><td>Viktor Éva</td><td>1980</td><td>N</td><td>6913 Csanádpalota, Arany János utca 3.</td><td>Vígh András</td><td>Vizi István</td></tr>",
                            "<tr><td>istvan1</td><td>istván.vizi@mail.hu</td><td>Vizi István</td><td>1997</td><td>F</td><td>7086 Ozora, Rákóczi utca 1.</td><td>Viktor Éva</td><td>Vörös Dániel</td></tr>",
                            "<tr><td>dani</td><td>daniel@gmail.com</td><td>Vörös Dániel</td><td>1986</td><td>F</td><td>7150 Bonyhád, Dózsa György u. 1.</td><td>Vizi István</td><td>Vukasinovity Bálint</td></tr>",
                            "<tr><td>balint2</td><td>balint2@gmail.com</td><td>Vukasinovity Bálint</td><td>1997</td><td>F</td><td>2330 Dunaharaszti, Béke utca 7.</td><td>Vörös Dániel</td><td>Zatykó Katalin</td></tr>",
                            "<tr><td>kati</td><td>katalin.zatykó@mail.hu</td><td>Zatykó Katalin</td><td>1995</td><td>N</td><td>7511 Ötvöskónyi, Kossuth Lajos utca 6.</td><td>Vukasinovity Bálint</td><td>Nincs</td></tr>",
                            "</table>"
                        ]
                    }
                }
            ],
            "execution_count": 13
        },
        {
            "cell_type": "markdown",
            "source": [
                "7. <span style=\"font-weight: 600; color: rgb(36, 41, 47); font-family: -apple-system, BlinkMacSystemFont, &quot;Segoe UI&quot;, Helvetica, Arial, sans-serif, &quot;Apple Color Emoji&quot;, &quot;Segoe UI Emoji&quot;; font-size: 16px;\">Készítsünk lekérdezést, amely megmutatja, hogy melyik termékkategóriába hány termék tartozik. A lista a kategória nevét és a darabszámot jelenítse meg.</span>\n",
                "\n",
                "1. A lista ne tartalmazzon duplikált sorokat.\n",
                "2. A feladatot partíciók segítségével oldjuk meg!"
            ],
            "metadata": {
                "azdata_cell_guid": "7ebf7ddd-1bd2-4246-815a-be8ae37e3b5b"
            },
            "attachments": {}
        },
        {
            "cell_type": "code",
            "source": [
                "SELECT DISTINCT KAT_NEV,count(*) over(PArtition by TERMEK.KAT_ID) as 'Darabszám'\r\n",
                "FROM Termekkategoria JOIN TERMEK ON Termekkategoria.KAT_ID = TERMEK.KAT_ID\r\n",
                ""
            ],
            "metadata": {
                "azdata_cell_guid": "84b7e896-f36e-4985-88f5-e0f706494fef",
                "language": "sql"
            },
            "outputs": [
                {
                    "output_type": "display_data",
                    "data": {
                        "text/html": "(143 rows affected)"
                    },
                    "metadata": {}
                },
                {
                    "output_type": "display_data",
                    "data": {
                        "text/html": "Total execution time: 00:00:00.110"
                    },
                    "metadata": {}
                },
                {
                    "output_type": "execute_result",
                    "metadata": {},
                    "execution_count": 16,
                    "data": {
                        "application/vnd.dataresource+json": {
                            "schema": {
                                "fields": [
                                    {
                                        "name": "KAT_NEV"
                                    },
                                    {
                                        "name": "(No column name)"
                                    }
                                ]
                            },
                            "data": [
                                {
                                    "KAT_NEV": "ajándék tárgy",
                                    "(No column name)": "3"
                                },
                                {
                                    "KAT_NEV": "ajándék tasak",
                                    "(No column name)": "20"
                                },
                                {
                                    "KAT_NEV": "álarc",
                                    "(No column name)": "3"
                                },
                                {
                                    "KAT_NEV": "alkalmi",
                                    "(No column name)": "3"
                                },
                                {
                                    "KAT_NEV": "alufólia",
                                    "(No column name)": "2"
                                },
                                {
                                    "KAT_NEV": "árazószalag",
                                    "(No column name)": "1"
                                },
                                {
                                    "KAT_NEV": "átírótömb",
                                    "(No column name)": "1"
                                },
                                {
                                    "KAT_NEV": "beíró",
                                    "(No column name)": "1"
                                },
                                {
                                    "KAT_NEV": "beírókönyv",
                                    "(No column name)": "2"
                                },
                                {
                                    "KAT_NEV": "bélyegző",
                                    "(No column name)": "4"
                                },
                                {
                                    "KAT_NEV": "bélyegzőfesték",
                                    "(No column name)": "1"
                                },
                                {
                                    "KAT_NEV": "boríték",
                                    "(No column name)": "7"
                                },
                                {
                                    "KAT_NEV": "cd tok",
                                    "(No column name)": "1"
                                },
                                {
                                    "KAT_NEV": "celofán",
                                    "(No column name)": "2"
                                },
                                {
                                    "KAT_NEV": "ceruza",
                                    "(No column name)": "19"
                                },
                                {
                                    "KAT_NEV": "címke",
                                    "(No column name)": "3"
                                },
                                {
                                    "KAT_NEV": "color copy",
                                    "(No column name)": "5"
                                },
                                {
                                    "KAT_NEV": "csomagoló",
                                    "(No column name)": "2"
                                },
                                {
                                    "KAT_NEV": "csomagoló papír",
                                    "(No column name)": "7"
                                },
                                {
                                    "KAT_NEV": "dekor",
                                    "(No column name)": "4"
                                },
                                {
                                    "KAT_NEV": "dipa",
                                    "(No column name)": "1"
                                },
                                {
                                    "KAT_NEV": "díszdoboz",
                                    "(No column name)": "3"
                                },
                                {
                                    "KAT_NEV": "díszkötöző",
                                    "(No column name)": "5"
                                },
                                {
                                    "KAT_NEV": "dvd",
                                    "(No column name)": "1"
                                },
                                {
                                    "KAT_NEV": "ecset",
                                    "(No column name)": "7"
                                },
                                {
                                    "KAT_NEV": "előlap",
                                    "(No column name)": "1"
                                },
                                {
                                    "KAT_NEV": "emlékkönyv",
                                    "(No column name)": "3"
                                },
                                {
                                    "KAT_NEV": "emléklap",
                                    "(No column name)": "1"
                                },
                                {
                                    "KAT_NEV": "fax papír",
                                    "(No column name)": "1"
                                },
                                {
                                    "KAT_NEV": "fehérnemű",
                                    "(No column name)": "7"
                                },
                                {
                                    "KAT_NEV": "fénymásoló papír",
                                    "(No column name)": "5"
                                },
                                {
                                    "KAT_NEV": "férfi ing",
                                    "(No column name)": "1"
                                },
                                {
                                    "KAT_NEV": "férfi kabát",
                                    "(No column name)": "1"
                                },
                                {
                                    "KAT_NEV": "férfi nadrág",
                                    "(No column name)": "2"
                                },
                                {
                                    "KAT_NEV": "festékpatron",
                                    "(No column name)": "1"
                                },
                                {
                                    "KAT_NEV": "filctoll",
                                    "(No column name)": "13"
                                },
                                {
                                    "KAT_NEV": "floppy",
                                    "(No column name)": "1"
                                },
                                {
                                    "KAT_NEV": "fólia",
                                    "(No column name)": "3"
                                },
                                {
                                    "KAT_NEV": "fotópapír",
                                    "(No column name)": "1"
                                },
                                {
                                    "KAT_NEV": "füzet",
                                    "(No column name)": "11"
                                },
                                {
                                    "KAT_NEV": "füzetborító",
                                    "(No column name)": "7"
                                },
                                {
                                    "KAT_NEV": "füzettartó",
                                    "(No column name)": "4"
                                },
                                {
                                    "KAT_NEV": "gemkapocs",
                                    "(No column name)": "2"
                                },
                                {
                                    "KAT_NEV": "gémkapocs",
                                    "(No column name)": "2"
                                },
                                {
                                    "KAT_NEV": "genoterm",
                                    "(No column name)": "1"
                                },
                                {
                                    "KAT_NEV": "genotherm",
                                    "(No column name)": "3"
                                },
                                {
                                    "KAT_NEV": "golyóstoll",
                                    "(No column name)": "26"
                                },
                                {
                                    "KAT_NEV": "gumigyűrű",
                                    "(No column name)": "1"
                                },
                                {
                                    "KAT_NEV": "gyermek cipő",
                                    "(No column name)": "6"
                                },
                                {
                                    "KAT_NEV": "gyermek kabát",
                                    "(No column name)": "2"
                                },
                                {
                                    "KAT_NEV": "gyermek nadrág",
                                    "(No column name)": "4"
                                },
                                {
                                    "KAT_NEV": "gyermek póló",
                                    "(No column name)": "2"
                                },
                                {
                                    "KAT_NEV": "gyorsfűző",
                                    "(No column name)": "3"
                                },
                                {
                                    "KAT_NEV": "gyurma",
                                    "(No column name)": "4"
                                },
                                {
                                    "KAT_NEV": "gyűrűskönyv",
                                    "(No column name)": "5"
                                },
                                {
                                    "KAT_NEV": "hajgumi",
                                    "(No column name)": "1"
                                },
                                {
                                    "KAT_NEV": "határidő napló",
                                    "(No column name)": "2"
                                },
                                {
                                    "KAT_NEV": "hegyező",
                                    "(No column name)": "4"
                                },
                                {
                                    "KAT_NEV": "hegyző",
                                    "(No column name)": "2"
                                },
                                {
                                    "KAT_NEV": "hibajavító",
                                    "(No column name)": "7"
                                },
                                {
                                    "KAT_NEV": "hűtőmágnes",
                                    "(No column name)": "2"
                                },
                                {
                                    "KAT_NEV": "indigó",
                                    "(No column name)": "2"
                                },
                                {
                                    "KAT_NEV": "írásvetítő fólia",
                                    "(No column name)": "1"
                                },
                                {
                                    "KAT_NEV": "iratgyűjtő",
                                    "(No column name)": "3"
                                },
                                {
                                    "KAT_NEV": "iratrendező",
                                    "(No column name)": "2"
                                },
                                {
                                    "KAT_NEV": "iratsín",
                                    "(No column name)": "2"
                                },
                                {
                                    "KAT_NEV": "irattartó",
                                    "(No column name)": "2"
                                },
                                {
                                    "KAT_NEV": "irodaszer",
                                    "(No column name)": "1"
                                },
                                {
                                    "KAT_NEV": "írólap",
                                    "(No column name)": "2"
                                },
                                {
                                    "KAT_NEV": "ironbél",
                                    "(No column name)": "5"
                                },
                                {
                                    "KAT_NEV": "iskolaszer",
                                    "(No column name)": "24"
                                },
                                {
                                    "KAT_NEV": "játékautó",
                                    "(No column name)": "4"
                                },
                                {
                                    "KAT_NEV": "jelzőkréta",
                                    "(No column name)": "1"
                                },
                                {
                                    "KAT_NEV": "kapocskiszedő",
                                    "(No column name)": "1"
                                },
                                {
                                    "KAT_NEV": "karton",
                                    "(No column name)": "6"
                                },
                                {
                                    "KAT_NEV": "kártya",
                                    "(No column name)": "1"
                                },
                                {
                                    "KAT_NEV": "képeslap",
                                    "(No column name)": "16"
                                },
                                {
                                    "KAT_NEV": "képkirakó",
                                    "(No column name)": "1"
                                },
                                {
                                    "KAT_NEV": "kosztüm",
                                    "(No column name)": "2"
                                },
                                {
                                    "KAT_NEV": "könyv",
                                    "(No column name)": "15"
                                },
                                {
                                    "KAT_NEV": "körző",
                                    "(No column name)": "3"
                                },
                                {
                                    "KAT_NEV": "kreatív",
                                    "(No column name)": "2"
                                },
                                {
                                    "KAT_NEV": "kulcstartó",
                                    "(No column name)": "7"
                                },
                                {
                                    "KAT_NEV": "labda",
                                    "(No column name)": "2"
                                },
                                {
                                    "KAT_NEV": "levélpapír",
                                    "(No column name)": "7"
                                },
                                {
                                    "KAT_NEV": "lufi",
                                    "(No column name)": "2"
                                },
                                {
                                    "KAT_NEV": "lyukasztó",
                                    "(No column name)": "2"
                                },
                                {
                                    "KAT_NEV": "mappa",
                                    "(No column name)": "9"
                                },
                                {
                                    "KAT_NEV": "matrica",
                                    "(No column name)": "10"
                                },
                                {
                                    "KAT_NEV": "meghívó",
                                    "(No column name)": "4"
                                },
                                {
                                    "KAT_NEV": "miliméterpapír",
                                    "(No column name)": "1"
                                },
                                {
                                    "KAT_NEV": "munkafüzet",
                                    "(No column name)": "9"
                                },
                                {
                                    "KAT_NEV": "műnyomó",
                                    "(No column name)": "1"
                                },
                                {
                                    "KAT_NEV": "naptár",
                                    "(No column name)": "1"
                                },
                                {
                                    "KAT_NEV": "naptárhát",
                                    "(No column name)": "2"
                                },
                                {
                                    "KAT_NEV": "névjegytartó",
                                    "(No column name)": "1"
                                },
                                {
                                    "KAT_NEV": "notesz",
                                    "(No column name)": "5"
                                },
                                {
                                    "KAT_NEV": "női kabát",
                                    "(No column name)": "1"
                                },
                                {
                                    "KAT_NEV": "női nadrág",
                                    "(No column name)": "1"
                                },
                                {
                                    "KAT_NEV": "ofszet",
                                    "(No column name)": "1"
                                },
                                {
                                    "KAT_NEV": "oklevél",
                                    "(No column name)": "2"
                                },
                                {
                                    "KAT_NEV": "olló",
                                    "(No column name)": "3"
                                },
                                {
                                    "KAT_NEV": "öntapadó",
                                    "(No column name)": "2"
                                },
                                {
                                    "KAT_NEV": "papízsebkendő",
                                    "(No column name)": "1"
                                },
                                {
                                    "KAT_NEV": "pausz",
                                    "(No column name)": "1"
                                },
                                {
                                    "KAT_NEV": "pénztárbizonylat",
                                    "(No column name)": "2"
                                },
                                {
                                    "KAT_NEV": "pénztárgépszalag",
                                    "(No column name)": "2"
                                },
                                {
                                    "KAT_NEV": "pixiron",
                                    "(No column name)": "9"
                                },
                                {
                                    "KAT_NEV": "plüss",
                                    "(No column name)": "3"
                                },
                                {
                                    "KAT_NEV": "post-it",
                                    "(No column name)": "2"
                                },
                                {
                                    "KAT_NEV": "radír",
                                    "(No column name)": "7"
                                },
                                {
                                    "KAT_NEV": "radírtoll",
                                    "(No column name)": "2"
                                },
                                {
                                    "KAT_NEV": "ragasztó",
                                    "(No column name)": "10"
                                },
                                {
                                    "KAT_NEV": "ragasztószalag",
                                    "(No column name)": "4"
                                },
                                {
                                    "KAT_NEV": "rágógumi",
                                    "(No column name)": "1"
                                },
                                {
                                    "KAT_NEV": "rajzlap",
                                    "(No column name)": "2"
                                },
                                {
                                    "KAT_NEV": "rajzszeg",
                                    "(No column name)": "2"
                                },
                                {
                                    "KAT_NEV": "regiszteres füzet",
                                    "(No column name)": "2"
                                },
                                {
                                    "KAT_NEV": "sál",
                                    "(No column name)": "1"
                                },
                                {
                                    "KAT_NEV": "spirál",
                                    "(No column name)": "1"
                                },
                                {
                                    "KAT_NEV": "strandlabda",
                                    "(No column name)": "1"
                                },
                                {
                                    "KAT_NEV": "szalvéta",
                                    "(No column name)": "6"
                                },
                                {
                                    "KAT_NEV": "számológép",
                                    "(No column name)": "2"
                                },
                                {
                                    "KAT_NEV": "szemetes",
                                    "(No column name)": "1"
                                },
                                {
                                    "KAT_NEV": "színes",
                                    "(No column name)": "2"
                                },
                                {
                                    "KAT_NEV": "szögmérő",
                                    "(No column name)": "3"
                                },
                                {
                                    "KAT_NEV": "szövegkiemelő",
                                    "(No column name)": "5"
                                },
                                {
                                    "KAT_NEV": "táblafilc",
                                    "(No column name)": "1"
                                },
                                {
                                    "KAT_NEV": "tapétavágó",
                                    "(No column name)": "1"
                                },
                                {
                                    "KAT_NEV": "tempera",
                                    "(No column name)": "2"
                                },
                                {
                                    "KAT_NEV": "térképtű",
                                    "(No column name)": "1"
                                },
                                {
                                    "KAT_NEV": "tintapatron",
                                    "(No column name)": "3"
                                },
                                {
                                    "KAT_NEV": "toll",
                                    "(No column name)": "2"
                                },
                                {
                                    "KAT_NEV": "tollbetét",
                                    "(No column name)": "18"
                                },
                                {
                                    "KAT_NEV": "tolltartó",
                                    "(No column name)": "7"
                                },
                                {
                                    "KAT_NEV": "toner",
                                    "(No column name)": "1"
                                },
                                {
                                    "KAT_NEV": "töltőtoll",
                                    "(No column name)": "1"
                                },
                                {
                                    "KAT_NEV": "tűzőgép",
                                    "(No column name)": "6"
                                },
                                {
                                    "KAT_NEV": "tűzőkapocs",
                                    "(No column name)": "2"
                                },
                                {
                                    "KAT_NEV": "vízfesték",
                                    "(No column name)": "4"
                                },
                                {
                                    "KAT_NEV": "vonalzó",
                                    "(No column name)": "6"
                                },
                                {
                                    "KAT_NEV": "zászló",
                                    "(No column name)": "1"
                                },
                                {
                                    "KAT_NEV": "zseléstoll",
                                    "(No column name)": "4"
                                }
                            ]
                        },
                        "text/html": [
                            "<table>",
                            "<tr><th>KAT_NEV</th><th>(No column name)</th></tr>",
                            "<tr><td>ajándék tárgy</td><td>3</td></tr>",
                            "<tr><td>ajándék tasak</td><td>20</td></tr>",
                            "<tr><td>álarc</td><td>3</td></tr>",
                            "<tr><td>alkalmi</td><td>3</td></tr>",
                            "<tr><td>alufólia</td><td>2</td></tr>",
                            "<tr><td>árazószalag</td><td>1</td></tr>",
                            "<tr><td>átírótömb</td><td>1</td></tr>",
                            "<tr><td>beíró</td><td>1</td></tr>",
                            "<tr><td>beírókönyv</td><td>2</td></tr>",
                            "<tr><td>bélyegző</td><td>4</td></tr>",
                            "<tr><td>bélyegzőfesték</td><td>1</td></tr>",
                            "<tr><td>boríték</td><td>7</td></tr>",
                            "<tr><td>cd tok</td><td>1</td></tr>",
                            "<tr><td>celofán</td><td>2</td></tr>",
                            "<tr><td>ceruza</td><td>19</td></tr>",
                            "<tr><td>címke</td><td>3</td></tr>",
                            "<tr><td>color copy</td><td>5</td></tr>",
                            "<tr><td>csomagoló</td><td>2</td></tr>",
                            "<tr><td>csomagoló papír</td><td>7</td></tr>",
                            "<tr><td>dekor</td><td>4</td></tr>",
                            "<tr><td>dipa</td><td>1</td></tr>",
                            "<tr><td>díszdoboz</td><td>3</td></tr>",
                            "<tr><td>díszkötöző</td><td>5</td></tr>",
                            "<tr><td>dvd</td><td>1</td></tr>",
                            "<tr><td>ecset</td><td>7</td></tr>",
                            "<tr><td>előlap</td><td>1</td></tr>",
                            "<tr><td>emlékkönyv</td><td>3</td></tr>",
                            "<tr><td>emléklap</td><td>1</td></tr>",
                            "<tr><td>fax papír</td><td>1</td></tr>",
                            "<tr><td>fehérnemű</td><td>7</td></tr>",
                            "<tr><td>fénymásoló papír</td><td>5</td></tr>",
                            "<tr><td>férfi ing</td><td>1</td></tr>",
                            "<tr><td>férfi kabát</td><td>1</td></tr>",
                            "<tr><td>férfi nadrág</td><td>2</td></tr>",
                            "<tr><td>festékpatron</td><td>1</td></tr>",
                            "<tr><td>filctoll</td><td>13</td></tr>",
                            "<tr><td>floppy</td><td>1</td></tr>",
                            "<tr><td>fólia</td><td>3</td></tr>",
                            "<tr><td>fotópapír</td><td>1</td></tr>",
                            "<tr><td>füzet</td><td>11</td></tr>",
                            "<tr><td>füzetborító</td><td>7</td></tr>",
                            "<tr><td>füzettartó</td><td>4</td></tr>",
                            "<tr><td>gemkapocs</td><td>2</td></tr>",
                            "<tr><td>gémkapocs</td><td>2</td></tr>",
                            "<tr><td>genoterm</td><td>1</td></tr>",
                            "<tr><td>genotherm</td><td>3</td></tr>",
                            "<tr><td>golyóstoll</td><td>26</td></tr>",
                            "<tr><td>gumigyűrű</td><td>1</td></tr>",
                            "<tr><td>gyermek cipő</td><td>6</td></tr>",
                            "<tr><td>gyermek kabát</td><td>2</td></tr>",
                            "<tr><td>gyermek nadrág</td><td>4</td></tr>",
                            "<tr><td>gyermek póló</td><td>2</td></tr>",
                            "<tr><td>gyorsfűző</td><td>3</td></tr>",
                            "<tr><td>gyurma</td><td>4</td></tr>",
                            "<tr><td>gyűrűskönyv</td><td>5</td></tr>",
                            "<tr><td>hajgumi</td><td>1</td></tr>",
                            "<tr><td>határidő napló</td><td>2</td></tr>",
                            "<tr><td>hegyező</td><td>4</td></tr>",
                            "<tr><td>hegyző</td><td>2</td></tr>",
                            "<tr><td>hibajavító</td><td>7</td></tr>",
                            "<tr><td>hűtőmágnes</td><td>2</td></tr>",
                            "<tr><td>indigó</td><td>2</td></tr>",
                            "<tr><td>írásvetítő fólia</td><td>1</td></tr>",
                            "<tr><td>iratgyűjtő</td><td>3</td></tr>",
                            "<tr><td>iratrendező</td><td>2</td></tr>",
                            "<tr><td>iratsín</td><td>2</td></tr>",
                            "<tr><td>irattartó</td><td>2</td></tr>",
                            "<tr><td>irodaszer</td><td>1</td></tr>",
                            "<tr><td>írólap</td><td>2</td></tr>",
                            "<tr><td>ironbél</td><td>5</td></tr>",
                            "<tr><td>iskolaszer</td><td>24</td></tr>",
                            "<tr><td>játékautó</td><td>4</td></tr>",
                            "<tr><td>jelzőkréta</td><td>1</td></tr>",
                            "<tr><td>kapocskiszedő</td><td>1</td></tr>",
                            "<tr><td>karton</td><td>6</td></tr>",
                            "<tr><td>kártya</td><td>1</td></tr>",
                            "<tr><td>képeslap</td><td>16</td></tr>",
                            "<tr><td>képkirakó</td><td>1</td></tr>",
                            "<tr><td>kosztüm</td><td>2</td></tr>",
                            "<tr><td>könyv</td><td>15</td></tr>",
                            "<tr><td>körző</td><td>3</td></tr>",
                            "<tr><td>kreatív</td><td>2</td></tr>",
                            "<tr><td>kulcstartó</td><td>7</td></tr>",
                            "<tr><td>labda</td><td>2</td></tr>",
                            "<tr><td>levélpapír</td><td>7</td></tr>",
                            "<tr><td>lufi</td><td>2</td></tr>",
                            "<tr><td>lyukasztó</td><td>2</td></tr>",
                            "<tr><td>mappa</td><td>9</td></tr>",
                            "<tr><td>matrica</td><td>10</td></tr>",
                            "<tr><td>meghívó</td><td>4</td></tr>",
                            "<tr><td>miliméterpapír</td><td>1</td></tr>",
                            "<tr><td>munkafüzet</td><td>9</td></tr>",
                            "<tr><td>műnyomó</td><td>1</td></tr>",
                            "<tr><td>naptár</td><td>1</td></tr>",
                            "<tr><td>naptárhát</td><td>2</td></tr>",
                            "<tr><td>névjegytartó</td><td>1</td></tr>",
                            "<tr><td>notesz</td><td>5</td></tr>",
                            "<tr><td>női kabát</td><td>1</td></tr>",
                            "<tr><td>női nadrág</td><td>1</td></tr>",
                            "<tr><td>ofszet</td><td>1</td></tr>",
                            "<tr><td>oklevél</td><td>2</td></tr>",
                            "<tr><td>olló</td><td>3</td></tr>",
                            "<tr><td>öntapadó</td><td>2</td></tr>",
                            "<tr><td>papízsebkendő</td><td>1</td></tr>",
                            "<tr><td>pausz</td><td>1</td></tr>",
                            "<tr><td>pénztárbizonylat</td><td>2</td></tr>",
                            "<tr><td>pénztárgépszalag</td><td>2</td></tr>",
                            "<tr><td>pixiron</td><td>9</td></tr>",
                            "<tr><td>plüss</td><td>3</td></tr>",
                            "<tr><td>post-it</td><td>2</td></tr>",
                            "<tr><td>radír</td><td>7</td></tr>",
                            "<tr><td>radírtoll</td><td>2</td></tr>",
                            "<tr><td>ragasztó</td><td>10</td></tr>",
                            "<tr><td>ragasztószalag</td><td>4</td></tr>",
                            "<tr><td>rágógumi</td><td>1</td></tr>",
                            "<tr><td>rajzlap</td><td>2</td></tr>",
                            "<tr><td>rajzszeg</td><td>2</td></tr>",
                            "<tr><td>regiszteres füzet</td><td>2</td></tr>",
                            "<tr><td>sál</td><td>1</td></tr>",
                            "<tr><td>spirál</td><td>1</td></tr>",
                            "<tr><td>strandlabda</td><td>1</td></tr>",
                            "<tr><td>szalvéta</td><td>6</td></tr>",
                            "<tr><td>számológép</td><td>2</td></tr>",
                            "<tr><td>szemetes</td><td>1</td></tr>",
                            "<tr><td>színes</td><td>2</td></tr>",
                            "<tr><td>szögmérő</td><td>3</td></tr>",
                            "<tr><td>szövegkiemelő</td><td>5</td></tr>",
                            "<tr><td>táblafilc</td><td>1</td></tr>",
                            "<tr><td>tapétavágó</td><td>1</td></tr>",
                            "<tr><td>tempera</td><td>2</td></tr>",
                            "<tr><td>térképtű</td><td>1</td></tr>",
                            "<tr><td>tintapatron</td><td>3</td></tr>",
                            "<tr><td>toll</td><td>2</td></tr>",
                            "<tr><td>tollbetét</td><td>18</td></tr>",
                            "<tr><td>tolltartó</td><td>7</td></tr>",
                            "<tr><td>toner</td><td>1</td></tr>",
                            "<tr><td>töltőtoll</td><td>1</td></tr>",
                            "<tr><td>tűzőgép</td><td>6</td></tr>",
                            "<tr><td>tűzőkapocs</td><td>2</td></tr>",
                            "<tr><td>vízfesték</td><td>4</td></tr>",
                            "<tr><td>vonalzó</td><td>6</td></tr>",
                            "<tr><td>zászló</td><td>1</td></tr>",
                            "<tr><td>zseléstoll</td><td>4</td></tr>",
                            "</table>"
                        ]
                    }
                }
            ],
            "execution_count": 16
        },
        {
            "cell_type": "markdown",
            "source": [
                "8. <span style=\"font-weight: 600; color: rgb(36, 41, 47); font-family: -apple-system, BlinkMacSystemFont, &quot;Segoe UI&quot;, Helvetica, Arial, sans-serif, &quot;Apple Color Emoji&quot;, &quot;Segoe UI Emoji&quot;; font-size: 16px;\">Készítsünk listát a rendelési tételekről. Az egyes rendelési tételeket termékenként soroljuk be 4 osztályba a rendelés mennyisége alapján. Jelenítsük meg ezt az információt is egy új oszlopban, az oszlop neve legyen 'Mennyiségi kategória'.</span>\n",
                "\n",
                "1. A lista csak a 100 Ft feletti egységárú rendelési tételeket vegye figyelembe!"
            ],
            "metadata": {
                "azdata_cell_guid": "27a3d3dc-eafb-4a5e-b103-9f465b9eda8f"
            },
            "attachments": {}
        },
        {
            "cell_type": "code",
            "source": [
                ""
            ],
            "metadata": {
                "azdata_cell_guid": "f09edb3f-649b-4a96-958e-9e12774ae8b7",
                "language": "sql"
            },
            "outputs": [],
            "execution_count": null
        },
        {
            "cell_type": "markdown",
            "source": [
                "9. <span style=\"font-weight: 600; color: rgb(36, 41, 47); font-family: -apple-system, BlinkMacSystemFont, &quot;Segoe UI&quot;, Helvetica, Arial, sans-serif, &quot;Apple Color Emoji&quot;, &quot;Segoe UI Emoji&quot;; font-size: 16px;\">Listázzuk a termékek kódját, megnevezését, kategóriájának nevét, és listaárát.</span>\n",
                "\n",
                "1. A listát egészítsük ki két új oszloppal, amelyek a kategória legolcsóbb, illetve legdrágább termékének árát tartalmazzák.\n",
                "2. A két új oszlop létrehozásánál partíciókkal dolgozzunk!"
            ],
            "metadata": {
                "azdata_cell_guid": "f12a331a-0e26-4d3d-9c68-812316286577"
            },
            "attachments": {}
        },
        {
            "cell_type": "code",
            "source": [
                ""
            ],
            "metadata": {
                "azdata_cell_guid": "10a77fc9-e61a-46fc-a401-59720d82bc50",
                "language": "sql"
            },
            "outputs": [],
            "execution_count": null
        },
        {
            "cell_type": "markdown",
            "source": [
                "10. <span style=\"font-weight: 600; color: rgb(36, 41, 47); font-family: -apple-system, BlinkMacSystemFont, &quot;Segoe UI&quot;, Helvetica, Arial, sans-serif, &quot;Apple Color Emoji&quot;, &quot;Segoe UI Emoji&quot;; font-size: 16px;\">Készítsünk listát a rendelésekről. A lista legyen rendezve ügyfelenként (LOGIN), azon belül a rendelés dátuma szerint. A listához készítsünk sorszámozást is. A sorszám a következő formában jelenjen meg: sorszám_év_login. Pl: 1_2015_adam1</span>\n",
                "\n",
                "1. A számozás login-onként, azon belül rendelési évenként kezdődjön újra.\n",
                "2. A sorszám oszlop neve legyen Azonosító"
            ],
            "metadata": {
                "azdata_cell_guid": "9229e2b6-e200-4499-b95b-2d0222149831"
            },
            "attachments": {}
        },
        {
            "cell_type": "code",
            "source": [
                ""
            ],
            "metadata": {
                "azdata_cell_guid": "8b49ed67-28c6-4880-82a8-cd369e5bba99",
                "language": "sql"
            },
            "outputs": [],
            "execution_count": null
        },
        {
            "cell_type": "markdown",
            "source": [
                "11. <span style=\"color: rgb(36, 41, 47); font-family: -apple-system, BlinkMacSystemFont, &quot;Segoe UI&quot;, Helvetica, Arial, sans-serif, &quot;Apple Color Emoji&quot;, &quot;Segoe UI Emoji&quot;; font-size: 16px;\">Készítsünk listát a termékek adatairól listaár szerint növekvő sorrendben! A lista jelenítse meg két új oszlopban a sorrend szerint előző, illetve következő termék listaárát is a termék saját kategóriájában és raktárában!</span>\n",
                "\n",
                "1. Ahol nincs előző vagy következő érték, ott 0 jelenjen meg!\n",
                "2. Az oszlopokat nevezzük el értelemszerűen!"
            ],
            "metadata": {
                "azdata_cell_guid": "7f5fc7a7-3b6a-4d89-b292-490830afb0c6"
            },
            "attachments": {}
        },
        {
            "cell_type": "code",
            "source": [
                ""
            ],
            "metadata": {
                "azdata_cell_guid": "4a9ece40-f782-4c0d-92cd-9c21969067ed",
                "language": "sql"
            },
            "outputs": [],
            "execution_count": null
        },
        {
            "cell_type": "markdown",
            "source": [
                "12. <span style=\"color: rgb(36, 41, 47); font-family: -apple-system, BlinkMacSystemFont, &quot;Segoe UI&quot;, Helvetica, Arial, sans-serif, &quot;Apple Color Emoji&quot;, &quot;Segoe UI Emoji&quot;; font-size: 16px;\">Listázzuk a termékek kódját, nevét és listaárát listaár szerinti sorrendben!</span>\n",
                "\n",
                "1. Vegyünk fel egy új oszlopot Mozgóátlag néven, amely minden esetben az aktuális termék, az előző, és a következő termék átlagárát tartalmazza!\n",
                "2. A mozgóátlagot kerekítsük két tizedesre!"
            ],
            "metadata": {
                "azdata_cell_guid": "5a483c52-bb98-44bb-bd03-1146d4b0abfa"
            },
            "attachments": {}
        },
        {
            "cell_type": "code",
            "source": [
                ""
            ],
            "metadata": {
                "azdata_cell_guid": "dd6e89bd-08f9-4b18-8460-03c45b503df0",
                "language": "sql"
            },
            "outputs": [],
            "execution_count": null
        },
        {
            "cell_type": "markdown",
            "source": [
                "13. <span style=\"color: rgb(36, 41, 47); font-family: -apple-system, BlinkMacSystemFont, &quot;Segoe UI&quot;, Helvetica, Arial, sans-serif, &quot;Apple Color Emoji&quot;, &quot;Segoe UI Emoji&quot;; font-size: 16px;\">Készítsünk listát, amely a rendelések sorszámát és a rendelés értékét tartalmazza. A listát egészítsük ki egy új oszloppal, amely minden rendelés esetén addigi rendelések összegét tartalmazza (az aktuálisat is beleértve)!</span>\n",
                "\n",
                "1. A listát rendezzük sorszám szerint növekvő sorrendbe.\n",
                "2. A lista ne tartalmazzon duplikált sorokat!"
            ],
            "metadata": {
                "azdata_cell_guid": "85d5cb66-96c6-42de-99cf-85ab22d08548"
            },
            "attachments": {}
        },
        {
            "cell_type": "code",
            "source": [
                ""
            ],
            "metadata": {
                "azdata_cell_guid": "cb07d64b-0eaa-498b-b4d2-0b46971e95ce",
                "language": "sql"
            },
            "outputs": [],
            "execution_count": null
        },
        {
            "cell_type": "markdown",
            "source": [
                "14. <span style=\"color: rgb(36, 41, 47); font-family: -apple-system, BlinkMacSystemFont, &quot;Segoe UI&quot;, Helvetica, Arial, sans-serif, &quot;Apple Color Emoji&quot;, &quot;Segoe UI Emoji&quot;; font-size: 16px;\">Készítsünk listát a termékek kódjáról, nevéről, kategória azonosítójáról, raktár azonosítójáról és listaáráról, valamint a termék adott szempontok szerinti rangsorokban elfoglalt helyezéseiről. (Szempontonként külön oszlopban, a helyezéseknél növekvő sorrendet feltételezve). A szempontok a következők legyenek: listaár, kategória szerinti listaár, és raktárkód szerinti listaár.</span>\n",
                "\n",
                "1. Az oszlopokat nevezzük el értelemszerűen.\n",
                "2. A helyezések egyenlőség esetén \"sűrűn\" kövessék egymást.\n",
                "3. A lista legyen rendezett kategória azonosító, azon belül listaár szerint!"
            ],
            "metadata": {
                "azdata_cell_guid": "f95ad665-a807-4099-bf06-64ed974f866f"
            },
            "attachments": {}
        },
        {
            "cell_type": "code",
            "source": [
                ""
            ],
            "metadata": {
                "azdata_cell_guid": "74c7ec8a-ae4a-4d03-b1c4-e8f6bb1be12c",
                "language": "sql"
            },
            "outputs": [],
            "execution_count": null
        },
        {
            "cell_type": "markdown",
            "source": [
                "15. <span style=\"color: rgb(36, 41, 47); font-family: -apple-system, BlinkMacSystemFont, &quot;Segoe UI&quot;, Helvetica, Arial, sans-serif, &quot;Apple Color Emoji&quot;, &quot;Segoe UI Emoji&quot;; font-size: 16px;\">Készítsünk listát a rendelési tételekről, amely minden sor esetén göngyölítve tartalmazza az ügyfél adott rendelési tételig meglévő rendelési tételeinek összértékét!</span>\n",
                "\n",
                "1. Az új oszlop neve legyen Eddigi rendelési tételek összértéke!\n",
                "2. Az ügyfél neve is jelenjen meg!"
            ],
            "metadata": {
                "azdata_cell_guid": "93552388-ffec-49ff-99e5-ae8dc8072601"
            },
            "attachments": {}
        },
        {
            "cell_type": "code",
            "source": [
                ""
            ],
            "metadata": {
                "azdata_cell_guid": "0e7f547f-7d96-4611-b1c2-0fa84a581e79",
                "language": "sql"
            },
            "outputs": [],
            "execution_count": null
        }
    ]
}