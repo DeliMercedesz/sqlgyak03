{
    "metadata": {
        "kernelspec": {
            "name": "SQL",
            "display_name": "SQL",
            "language": "sql"
        },
        "language_info": {
            "name": "sql",
            "version": ""
        }
    },
    "nbformat_minor": 2,
    "nbformat": 4,
    "cells": [
        {
            "cell_type": "code",
            "source": [
                ""
            ],
            "metadata": {
                "azdata_cell_guid": "570860b4-8fa4-4be3-a04c-ac42d32b024b",
                "language": "sql"
            },
            "outputs": [],
            "execution_count": null
        }
    ]
}