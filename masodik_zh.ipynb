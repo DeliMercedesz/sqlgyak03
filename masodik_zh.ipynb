{
    "metadata": {
        "kernelspec": {
            "name": "SQL",
            "display_name": "SQL",
            "language": "sql"
        },
        "language_info": {
            "name": "sql",
            "version": ""
        }
    },
    "nbformat_minor": 2,
    "nbformat": 4,
    "cells": [
        {
            "cell_type": "markdown",
            "source": [
                "Listázzuk a foglalások számát szobánként, azon belül a foglalás éve szerint csoportosítva!\n",
                "\n",
                "- Az évnél a Mettől oszlopot használjuk\n",
                "- Jelenítsük meg a részösszegeket és a végösszeget is úgy, hogy ne jelenjen meg minden Oszlop/NULL kombináció!\n",
                "- A részösszegeket jelöljük megfelelően, pl. Részösszeg vagy Szoba összesen"
            ],
            "metadata": {
                "azdata_cell_guid": "82b19f56-fc5b-41a7-bf3d-2fc3e328f690"
            },
            "attachments": {}
        },
        {
            "cell_type": "code",
            "source": [
                "SELECT IIF(GROUPING_ID(szoba_id) = 1, 'Végösszeg',cast(szoba_id as nvarchar)) as 'Szoba',\r\n",
                "        CASE \r\n",
                "        when grouping_id(szoba_id,year(Mettol)) = 1 THEN 'Részösszeg'\r\n",
                "        when grouping_id(szoba_id,year(Mettol)) = 3 THEN 'Részösszeg'\r\n",
                "        else cast(year(Mettol) as NVARCHAR)\r\n",
                "        end as 'Foglalás száma',\r\n",
                "        count(*) as 'Foglalás száma'\r\n",
                "FROM szoba join foglalas on szoba.szoba_id = foglalas.szoba_fk\r\n",
                "GROUP BY rollup(szoba_id,year(Mettol))"
            ],
            "metadata": {
                "azdata_cell_guid": "570860b4-8fa4-4be3-a04c-ac42d32b024b",
                "language": "sql"
            },
            "outputs": [
                {
                    "output_type": "display_data",
                    "data": {
                        "text/html": "(513 rows affected)"
                    },
                    "metadata": {}
                },
                {
                    "output_type": "display_data",
                    "data": {
                        "text/html": "Total execution time: 00:00:00.016"
                    },
                    "metadata": {}
                },
                {
                    "output_type": "execute_result",
                    "metadata": {},
                    "execution_count": 11,
                    "data": {
                        "application/vnd.dataresource+json": {
                            "schema": {
                                "fields": [
                                    {
                                        "name": "Szoba"
                                    },
                                    {
                                        "name": "Foglalás száma"
                                    },
                                    {
                                        "name": "Foglalás száma"
                                    }
                                ]
                            },
                            "data": [
                                {
                                    "Szoba": "1",
                                    "Foglalás száma": "8"
                                },
                                {
                                    "Szoba": "1",
                                    "Foglalás száma": "8"
                                },
                                {
                                    "Szoba": "2",
                                    "Foglalás száma": "4"
                                },
                                {
                                    "Szoba": "2",
                                    "Foglalás száma": "4"
                                },
                                {
                                    "Szoba": "3",
                                    "Foglalás száma": "6"
                                },
                                {
                                    "Szoba": "3",
                                    "Foglalás száma": "2"
                                },
                                {
                                    "Szoba": "3",
                                    "Foglalás száma": "8"
                                },
                                {
                                    "Szoba": "4",
                                    "Foglalás száma": "5"
                                },
                                {
                                    "Szoba": "4",
                                    "Foglalás száma": "1"
                                },
                                {
                                    "Szoba": "4",
                                    "Foglalás száma": "6"
                                },
                                {
                                    "Szoba": "5",
                                    "Foglalás száma": "4"
                                },
                                {
                                    "Szoba": "5",
                                    "Foglalás száma": "4"
                                },
                                {
                                    "Szoba": "6",
                                    "Foglalás száma": "6"
                                },
                                {
                                    "Szoba": "6",
                                    "Foglalás száma": "6"
                                },
                                {
                                    "Szoba": "7",
                                    "Foglalás száma": "6"
                                },
                                {
                                    "Szoba": "7",
                                    "Foglalás száma": "6"
                                },
                                {
                                    "Szoba": "8",
                                    "Foglalás száma": "5"
                                },
                                {
                                    "Szoba": "8",
                                    "Foglalás száma": "5"
                                },
                                {
                                    "Szoba": "9",
                                    "Foglalás száma": "4"
                                },
                                {
                                    "Szoba": "9",
                                    "Foglalás száma": "2"
                                },
                                {
                                    "Szoba": "9",
                                    "Foglalás száma": "6"
                                },
                                {
                                    "Szoba": "10",
                                    "Foglalás száma": "4"
                                },
                                {
                                    "Szoba": "10",
                                    "Foglalás száma": "4"
                                },
                                {
                                    "Szoba": "11",
                                    "Foglalás száma": "3"
                                },
                                {
                                    "Szoba": "11",
                                    "Foglalás száma": "1"
                                },
                                {
                                    "Szoba": "11",
                                    "Foglalás száma": "4"
                                },
                                {
                                    "Szoba": "12",
                                    "Foglalás száma": "8"
                                },
                                {
                                    "Szoba": "12",
                                    "Foglalás száma": "1"
                                },
                                {
                                    "Szoba": "12",
                                    "Foglalás száma": "9"
                                },
                                {
                                    "Szoba": "13",
                                    "Foglalás száma": "3"
                                },
                                {
                                    "Szoba": "13",
                                    "Foglalás száma": "1"
                                },
                                {
                                    "Szoba": "13",
                                    "Foglalás száma": "4"
                                },
                                {
                                    "Szoba": "14",
                                    "Foglalás száma": "2"
                                },
                                {
                                    "Szoba": "14",
                                    "Foglalás száma": "1"
                                },
                                {
                                    "Szoba": "14",
                                    "Foglalás száma": "3"
                                },
                                {
                                    "Szoba": "15",
                                    "Foglalás száma": "4"
                                },
                                {
                                    "Szoba": "15",
                                    "Foglalás száma": "2"
                                },
                                {
                                    "Szoba": "15",
                                    "Foglalás száma": "6"
                                },
                                {
                                    "Szoba": "16",
                                    "Foglalás száma": "4"
                                },
                                {
                                    "Szoba": "16",
                                    "Foglalás száma": "1"
                                },
                                {
                                    "Szoba": "16",
                                    "Foglalás száma": "5"
                                },
                                {
                                    "Szoba": "17",
                                    "Foglalás száma": "5"
                                },
                                {
                                    "Szoba": "17",
                                    "Foglalás száma": "1"
                                },
                                {
                                    "Szoba": "17",
                                    "Foglalás száma": "6"
                                },
                                {
                                    "Szoba": "18",
                                    "Foglalás száma": "5"
                                },
                                {
                                    "Szoba": "18",
                                    "Foglalás száma": "1"
                                },
                                {
                                    "Szoba": "18",
                                    "Foglalás száma": "6"
                                },
                                {
                                    "Szoba": "19",
                                    "Foglalás száma": "5"
                                },
                                {
                                    "Szoba": "19",
                                    "Foglalás száma": "1"
                                },
                                {
                                    "Szoba": "19",
                                    "Foglalás száma": "6"
                                },
                                {
                                    "Szoba": "20",
                                    "Foglalás száma": "5"
                                },
                                {
                                    "Szoba": "20",
                                    "Foglalás száma": "5"
                                },
                                {
                                    "Szoba": "21",
                                    "Foglalás száma": "4"
                                },
                                {
                                    "Szoba": "21",
                                    "Foglalás száma": "4"
                                },
                                {
                                    "Szoba": "22",
                                    "Foglalás száma": "6"
                                },
                                {
                                    "Szoba": "22",
                                    "Foglalás száma": "6"
                                },
                                {
                                    "Szoba": "23",
                                    "Foglalás száma": "3"
                                },
                                {
                                    "Szoba": "23",
                                    "Foglalás száma": "3"
                                },
                                {
                                    "Szoba": "24",
                                    "Foglalás száma": "2"
                                },
                                {
                                    "Szoba": "24",
                                    "Foglalás száma": "1"
                                },
                                {
                                    "Szoba": "24",
                                    "Foglalás száma": "3"
                                },
                                {
                                    "Szoba": "25",
                                    "Foglalás száma": "2"
                                },
                                {
                                    "Szoba": "25",
                                    "Foglalás száma": "2"
                                },
                                {
                                    "Szoba": "26",
                                    "Foglalás száma": "2"
                                },
                                {
                                    "Szoba": "26",
                                    "Foglalás száma": "2"
                                },
                                {
                                    "Szoba": "27",
                                    "Foglalás száma": "6"
                                },
                                {
                                    "Szoba": "27",
                                    "Foglalás száma": "1"
                                },
                                {
                                    "Szoba": "27",
                                    "Foglalás száma": "7"
                                },
                                {
                                    "Szoba": "28",
                                    "Foglalás száma": "5"
                                },
                                {
                                    "Szoba": "28",
                                    "Foglalás száma": "1"
                                },
                                {
                                    "Szoba": "28",
                                    "Foglalás száma": "6"
                                },
                                {
                                    "Szoba": "29",
                                    "Foglalás száma": "5"
                                },
                                {
                                    "Szoba": "29",
                                    "Foglalás száma": "1"
                                },
                                {
                                    "Szoba": "29",
                                    "Foglalás száma": "6"
                                },
                                {
                                    "Szoba": "30",
                                    "Foglalás száma": "3"
                                },
                                {
                                    "Szoba": "30",
                                    "Foglalás száma": "3"
                                },
                                {
                                    "Szoba": "31",
                                    "Foglalás száma": "3"
                                },
                                {
                                    "Szoba": "31",
                                    "Foglalás száma": "3"
                                },
                                {
                                    "Szoba": "32",
                                    "Foglalás száma": "1"
                                },
                                {
                                    "Szoba": "32",
                                    "Foglalás száma": "1"
                                },
                                {
                                    "Szoba": "33",
                                    "Foglalás száma": "6"
                                },
                                {
                                    "Szoba": "33",
                                    "Foglalás száma": "6"
                                },
                                {
                                    "Szoba": "34",
                                    "Foglalás száma": "4"
                                },
                                {
                                    "Szoba": "34",
                                    "Foglalás száma": "4"
                                },
                                {
                                    "Szoba": "35",
                                    "Foglalás száma": "6"
                                },
                                {
                                    "Szoba": "35",
                                    "Foglalás száma": "3"
                                },
                                {
                                    "Szoba": "35",
                                    "Foglalás száma": "9"
                                },
                                {
                                    "Szoba": "36",
                                    "Foglalás száma": "6"
                                },
                                {
                                    "Szoba": "36",
                                    "Foglalás száma": "6"
                                },
                                {
                                    "Szoba": "37",
                                    "Foglalás száma": "3"
                                },
                                {
                                    "Szoba": "37",
                                    "Foglalás száma": "3"
                                },
                                {
                                    "Szoba": "38",
                                    "Foglalás száma": "5"
                                },
                                {
                                    "Szoba": "38",
                                    "Foglalás száma": "3"
                                },
                                {
                                    "Szoba": "38",
                                    "Foglalás száma": "8"
                                },
                                {
                                    "Szoba": "39",
                                    "Foglalás száma": "4"
                                },
                                {
                                    "Szoba": "39",
                                    "Foglalás száma": "3"
                                },
                                {
                                    "Szoba": "39",
                                    "Foglalás száma": "7"
                                },
                                {
                                    "Szoba": "40",
                                    "Foglalás száma": "4"
                                },
                                {
                                    "Szoba": "40",
                                    "Foglalás száma": "4"
                                },
                                {
                                    "Szoba": "41",
                                    "Foglalás száma": "2"
                                },
                                {
                                    "Szoba": "41",
                                    "Foglalás száma": "2"
                                },
                                {
                                    "Szoba": "42",
                                    "Foglalás száma": "5"
                                },
                                {
                                    "Szoba": "42",
                                    "Foglalás száma": "1"
                                },
                                {
                                    "Szoba": "42",
                                    "Foglalás száma": "6"
                                },
                                {
                                    "Szoba": "43",
                                    "Foglalás száma": "6"
                                },
                                {
                                    "Szoba": "43",
                                    "Foglalás száma": "2"
                                },
                                {
                                    "Szoba": "43",
                                    "Foglalás száma": "8"
                                },
                                {
                                    "Szoba": "44",
                                    "Foglalás száma": "4"
                                },
                                {
                                    "Szoba": "44",
                                    "Foglalás száma": "2"
                                },
                                {
                                    "Szoba": "44",
                                    "Foglalás száma": "6"
                                },
                                {
                                    "Szoba": "45",
                                    "Foglalás száma": "5"
                                },
                                {
                                    "Szoba": "45",
                                    "Foglalás száma": "5"
                                },
                                {
                                    "Szoba": "46",
                                    "Foglalás száma": "3"
                                },
                                {
                                    "Szoba": "46",
                                    "Foglalás száma": "1"
                                },
                                {
                                    "Szoba": "46",
                                    "Foglalás száma": "4"
                                },
                                {
                                    "Szoba": "47",
                                    "Foglalás száma": "2"
                                },
                                {
                                    "Szoba": "47",
                                    "Foglalás száma": "2"
                                },
                                {
                                    "Szoba": "48",
                                    "Foglalás száma": "6"
                                },
                                {
                                    "Szoba": "48",
                                    "Foglalás száma": "3"
                                },
                                {
                                    "Szoba": "48",
                                    "Foglalás száma": "9"
                                },
                                {
                                    "Szoba": "49",
                                    "Foglalás száma": "6"
                                },
                                {
                                    "Szoba": "49",
                                    "Foglalás száma": "1"
                                },
                                {
                                    "Szoba": "49",
                                    "Foglalás száma": "7"
                                },
                                {
                                    "Szoba": "50",
                                    "Foglalás száma": "4"
                                },
                                {
                                    "Szoba": "50",
                                    "Foglalás száma": "4"
                                },
                                {
                                    "Szoba": "51",
                                    "Foglalás száma": "3"
                                },
                                {
                                    "Szoba": "51",
                                    "Foglalás száma": "2"
                                },
                                {
                                    "Szoba": "51",
                                    "Foglalás száma": "5"
                                },
                                {
                                    "Szoba": "52",
                                    "Foglalás száma": "3"
                                },
                                {
                                    "Szoba": "52",
                                    "Foglalás száma": "2"
                                },
                                {
                                    "Szoba": "52",
                                    "Foglalás száma": "5"
                                },
                                {
                                    "Szoba": "53",
                                    "Foglalás száma": "2"
                                },
                                {
                                    "Szoba": "53",
                                    "Foglalás száma": "2"
                                },
                                {
                                    "Szoba": "54",
                                    "Foglalás száma": "6"
                                },
                                {
                                    "Szoba": "54",
                                    "Foglalás száma": "6"
                                },
                                {
                                    "Szoba": "55",
                                    "Foglalás száma": "6"
                                },
                                {
                                    "Szoba": "55",
                                    "Foglalás száma": "2"
                                },
                                {
                                    "Szoba": "55",
                                    "Foglalás száma": "8"
                                },
                                {
                                    "Szoba": "56",
                                    "Foglalás száma": "2"
                                },
                                {
                                    "Szoba": "56",
                                    "Foglalás száma": "2"
                                },
                                {
                                    "Szoba": "57",
                                    "Foglalás száma": "2"
                                },
                                {
                                    "Szoba": "57",
                                    "Foglalás száma": "2"
                                },
                                {
                                    "Szoba": "57",
                                    "Foglalás száma": "4"
                                },
                                {
                                    "Szoba": "58",
                                    "Foglalás száma": "12"
                                },
                                {
                                    "Szoba": "58",
                                    "Foglalás száma": "1"
                                },
                                {
                                    "Szoba": "58",
                                    "Foglalás száma": "13"
                                },
                                {
                                    "Szoba": "59",
                                    "Foglalás száma": "6"
                                },
                                {
                                    "Szoba": "59",
                                    "Foglalás száma": "1"
                                },
                                {
                                    "Szoba": "59",
                                    "Foglalás száma": "7"
                                },
                                {
                                    "Szoba": "60",
                                    "Foglalás száma": "1"
                                },
                                {
                                    "Szoba": "60",
                                    "Foglalás száma": "1"
                                },
                                {
                                    "Szoba": "61",
                                    "Foglalás száma": "4"
                                },
                                {
                                    "Szoba": "61",
                                    "Foglalás száma": "1"
                                },
                                {
                                    "Szoba": "61",
                                    "Foglalás száma": "5"
                                },
                                {
                                    "Szoba": "62",
                                    "Foglalás száma": "4"
                                },
                                {
                                    "Szoba": "62",
                                    "Foglalás száma": "1"
                                },
                                {
                                    "Szoba": "62",
                                    "Foglalás száma": "5"
                                },
                                {
                                    "Szoba": "63",
                                    "Foglalás száma": "4"
                                },
                                {
                                    "Szoba": "63",
                                    "Foglalás száma": "4"
                                },
                                {
                                    "Szoba": "64",
                                    "Foglalás száma": "3"
                                },
                                {
                                    "Szoba": "64",
                                    "Foglalás száma": "3"
                                },
                                {
                                    "Szoba": "64",
                                    "Foglalás száma": "6"
                                },
                                {
                                    "Szoba": "65",
                                    "Foglalás száma": "1"
                                },
                                {
                                    "Szoba": "65",
                                    "Foglalás száma": "1"
                                },
                                {
                                    "Szoba": "66",
                                    "Foglalás száma": "4"
                                },
                                {
                                    "Szoba": "66",
                                    "Foglalás száma": "4"
                                },
                                {
                                    "Szoba": "67",
                                    "Foglalás száma": "4"
                                },
                                {
                                    "Szoba": "67",
                                    "Foglalás száma": "2"
                                },
                                {
                                    "Szoba": "67",
                                    "Foglalás száma": "6"
                                },
                                {
                                    "Szoba": "68",
                                    "Foglalás száma": "3"
                                },
                                {
                                    "Szoba": "68",
                                    "Foglalás száma": "3"
                                },
                                {
                                    "Szoba": "69",
                                    "Foglalás száma": "4"
                                },
                                {
                                    "Szoba": "69",
                                    "Foglalás száma": "4"
                                },
                                {
                                    "Szoba": "70",
                                    "Foglalás száma": "10"
                                },
                                {
                                    "Szoba": "70",
                                    "Foglalás száma": "1"
                                },
                                {
                                    "Szoba": "70",
                                    "Foglalás száma": "11"
                                },
                                {
                                    "Szoba": "71",
                                    "Foglalás száma": "3"
                                },
                                {
                                    "Szoba": "71",
                                    "Foglalás száma": "3"
                                },
                                {
                                    "Szoba": "72",
                                    "Foglalás száma": "4"
                                },
                                {
                                    "Szoba": "72",
                                    "Foglalás száma": "4"
                                },
                                {
                                    "Szoba": "73",
                                    "Foglalás száma": "4"
                                },
                                {
                                    "Szoba": "73",
                                    "Foglalás száma": "4"
                                },
                                {
                                    "Szoba": "74",
                                    "Foglalás száma": "9"
                                },
                                {
                                    "Szoba": "74",
                                    "Foglalás száma": "9"
                                },
                                {
                                    "Szoba": "75",
                                    "Foglalás száma": "1"
                                },
                                {
                                    "Szoba": "75",
                                    "Foglalás száma": "2"
                                },
                                {
                                    "Szoba": "75",
                                    "Foglalás száma": "3"
                                },
                                {
                                    "Szoba": "76",
                                    "Foglalás száma": "2"
                                },
                                {
                                    "Szoba": "76",
                                    "Foglalás száma": "1"
                                },
                                {
                                    "Szoba": "76",
                                    "Foglalás száma": "3"
                                },
                                {
                                    "Szoba": "77",
                                    "Foglalás száma": "4"
                                },
                                {
                                    "Szoba": "77",
                                    "Foglalás száma": "2"
                                },
                                {
                                    "Szoba": "77",
                                    "Foglalás száma": "6"
                                },
                                {
                                    "Szoba": "78",
                                    "Foglalás száma": "5"
                                },
                                {
                                    "Szoba": "78",
                                    "Foglalás száma": "1"
                                },
                                {
                                    "Szoba": "78",
                                    "Foglalás száma": "6"
                                },
                                {
                                    "Szoba": "79",
                                    "Foglalás száma": "4"
                                },
                                {
                                    "Szoba": "79",
                                    "Foglalás száma": "1"
                                },
                                {
                                    "Szoba": "79",
                                    "Foglalás száma": "5"
                                },
                                {
                                    "Szoba": "80",
                                    "Foglalás száma": "7"
                                },
                                {
                                    "Szoba": "80",
                                    "Foglalás száma": "7"
                                },
                                {
                                    "Szoba": "81",
                                    "Foglalás száma": "1"
                                },
                                {
                                    "Szoba": "81",
                                    "Foglalás száma": "4"
                                },
                                {
                                    "Szoba": "81",
                                    "Foglalás száma": "5"
                                },
                                {
                                    "Szoba": "82",
                                    "Foglalás száma": "6"
                                },
                                {
                                    "Szoba": "82",
                                    "Foglalás száma": "6"
                                },
                                {
                                    "Szoba": "83",
                                    "Foglalás száma": "8"
                                },
                                {
                                    "Szoba": "83",
                                    "Foglalás száma": "8"
                                },
                                {
                                    "Szoba": "84",
                                    "Foglalás száma": "4"
                                },
                                {
                                    "Szoba": "84",
                                    "Foglalás száma": "4"
                                },
                                {
                                    "Szoba": "85",
                                    "Foglalás száma": "3"
                                },
                                {
                                    "Szoba": "85",
                                    "Foglalás száma": "1"
                                },
                                {
                                    "Szoba": "85",
                                    "Foglalás száma": "4"
                                },
                                {
                                    "Szoba": "86",
                                    "Foglalás száma": "4"
                                },
                                {
                                    "Szoba": "86",
                                    "Foglalás száma": "1"
                                },
                                {
                                    "Szoba": "86",
                                    "Foglalás száma": "5"
                                },
                                {
                                    "Szoba": "87",
                                    "Foglalás száma": "4"
                                },
                                {
                                    "Szoba": "87",
                                    "Foglalás száma": "1"
                                },
                                {
                                    "Szoba": "87",
                                    "Foglalás száma": "5"
                                },
                                {
                                    "Szoba": "88",
                                    "Foglalás száma": "6"
                                },
                                {
                                    "Szoba": "88",
                                    "Foglalás száma": "2"
                                },
                                {
                                    "Szoba": "88",
                                    "Foglalás száma": "8"
                                },
                                {
                                    "Szoba": "89",
                                    "Foglalás száma": "7"
                                },
                                {
                                    "Szoba": "89",
                                    "Foglalás száma": "1"
                                },
                                {
                                    "Szoba": "89",
                                    "Foglalás száma": "8"
                                },
                                {
                                    "Szoba": "90",
                                    "Foglalás száma": "4"
                                },
                                {
                                    "Szoba": "90",
                                    "Foglalás száma": "4"
                                },
                                {
                                    "Szoba": "91",
                                    "Foglalás száma": "4"
                                },
                                {
                                    "Szoba": "91",
                                    "Foglalás száma": "4"
                                },
                                {
                                    "Szoba": "92",
                                    "Foglalás száma": "4"
                                },
                                {
                                    "Szoba": "92",
                                    "Foglalás száma": "2"
                                },
                                {
                                    "Szoba": "92",
                                    "Foglalás száma": "6"
                                },
                                {
                                    "Szoba": "93",
                                    "Foglalás száma": "5"
                                },
                                {
                                    "Szoba": "93",
                                    "Foglalás száma": "5"
                                },
                                {
                                    "Szoba": "94",
                                    "Foglalás száma": "8"
                                },
                                {
                                    "Szoba": "94",
                                    "Foglalás száma": "2"
                                },
                                {
                                    "Szoba": "94",
                                    "Foglalás száma": "10"
                                },
                                {
                                    "Szoba": "95",
                                    "Foglalás száma": "3"
                                },
                                {
                                    "Szoba": "95",
                                    "Foglalás száma": "1"
                                },
                                {
                                    "Szoba": "95",
                                    "Foglalás száma": "4"
                                },
                                {
                                    "Szoba": "96",
                                    "Foglalás száma": "5"
                                },
                                {
                                    "Szoba": "96",
                                    "Foglalás száma": "2"
                                },
                                {
                                    "Szoba": "96",
                                    "Foglalás száma": "7"
                                },
                                {
                                    "Szoba": "97",
                                    "Foglalás száma": "5"
                                },
                                {
                                    "Szoba": "97",
                                    "Foglalás száma": "2"
                                },
                                {
                                    "Szoba": "97",
                                    "Foglalás száma": "7"
                                },
                                {
                                    "Szoba": "98",
                                    "Foglalás száma": "4"
                                },
                                {
                                    "Szoba": "98",
                                    "Foglalás száma": "4"
                                },
                                {
                                    "Szoba": "99",
                                    "Foglalás száma": "4"
                                },
                                {
                                    "Szoba": "99",
                                    "Foglalás száma": "1"
                                },
                                {
                                    "Szoba": "99",
                                    "Foglalás száma": "5"
                                },
                                {
                                    "Szoba": "100",
                                    "Foglalás száma": "3"
                                },
                                {
                                    "Szoba": "100",
                                    "Foglalás száma": "1"
                                },
                                {
                                    "Szoba": "100",
                                    "Foglalás száma": "4"
                                },
                                {
                                    "Szoba": "101",
                                    "Foglalás száma": "2"
                                },
                                {
                                    "Szoba": "101",
                                    "Foglalás száma": "1"
                                },
                                {
                                    "Szoba": "101",
                                    "Foglalás száma": "3"
                                },
                                {
                                    "Szoba": "102",
                                    "Foglalás száma": "2"
                                },
                                {
                                    "Szoba": "102",
                                    "Foglalás száma": "2"
                                },
                                {
                                    "Szoba": "103",
                                    "Foglalás száma": "3"
                                },
                                {
                                    "Szoba": "103",
                                    "Foglalás száma": "1"
                                },
                                {
                                    "Szoba": "103",
                                    "Foglalás száma": "4"
                                },
                                {
                                    "Szoba": "104",
                                    "Foglalás száma": "2"
                                },
                                {
                                    "Szoba": "104",
                                    "Foglalás száma": "2"
                                },
                                {
                                    "Szoba": "104",
                                    "Foglalás száma": "4"
                                },
                                {
                                    "Szoba": "105",
                                    "Foglalás száma": "1"
                                },
                                {
                                    "Szoba": "105",
                                    "Foglalás száma": "1"
                                },
                                {
                                    "Szoba": "105",
                                    "Foglalás száma": "2"
                                },
                                {
                                    "Szoba": "106",
                                    "Foglalás száma": "5"
                                },
                                {
                                    "Szoba": "106",
                                    "Foglalás száma": "1"
                                },
                                {
                                    "Szoba": "106",
                                    "Foglalás száma": "6"
                                },
                                {
                                    "Szoba": "107",
                                    "Foglalás száma": "3"
                                },
                                {
                                    "Szoba": "107",
                                    "Foglalás száma": "2"
                                },
                                {
                                    "Szoba": "107",
                                    "Foglalás száma": "5"
                                },
                                {
                                    "Szoba": "108",
                                    "Foglalás száma": "2"
                                },
                                {
                                    "Szoba": "108",
                                    "Foglalás száma": "2"
                                },
                                {
                                    "Szoba": "109",
                                    "Foglalás száma": "6"
                                },
                                {
                                    "Szoba": "109",
                                    "Foglalás száma": "1"
                                },
                                {
                                    "Szoba": "109",
                                    "Foglalás száma": "7"
                                },
                                {
                                    "Szoba": "110",
                                    "Foglalás száma": "6"
                                },
                                {
                                    "Szoba": "110",
                                    "Foglalás száma": "2"
                                },
                                {
                                    "Szoba": "110",
                                    "Foglalás száma": "8"
                                },
                                {
                                    "Szoba": "111",
                                    "Foglalás száma": "5"
                                },
                                {
                                    "Szoba": "111",
                                    "Foglalás száma": "5"
                                },
                                {
                                    "Szoba": "112",
                                    "Foglalás száma": "4"
                                },
                                {
                                    "Szoba": "112",
                                    "Foglalás száma": "1"
                                },
                                {
                                    "Szoba": "112",
                                    "Foglalás száma": "5"
                                },
                                {
                                    "Szoba": "113",
                                    "Foglalás száma": "3"
                                },
                                {
                                    "Szoba": "113",
                                    "Foglalás száma": "2"
                                },
                                {
                                    "Szoba": "113",
                                    "Foglalás száma": "5"
                                },
                                {
                                    "Szoba": "114",
                                    "Foglalás száma": "3"
                                },
                                {
                                    "Szoba": "114",
                                    "Foglalás száma": "1"
                                },
                                {
                                    "Szoba": "114",
                                    "Foglalás száma": "4"
                                },
                                {
                                    "Szoba": "115",
                                    "Foglalás száma": "5"
                                },
                                {
                                    "Szoba": "115",
                                    "Foglalás száma": "2"
                                },
                                {
                                    "Szoba": "115",
                                    "Foglalás száma": "7"
                                },
                                {
                                    "Szoba": "116",
                                    "Foglalás száma": "2"
                                },
                                {
                                    "Szoba": "116",
                                    "Foglalás száma": "2"
                                },
                                {
                                    "Szoba": "117",
                                    "Foglalás száma": "7"
                                },
                                {
                                    "Szoba": "117",
                                    "Foglalás száma": "1"
                                },
                                {
                                    "Szoba": "117",
                                    "Foglalás száma": "8"
                                },
                                {
                                    "Szoba": "118",
                                    "Foglalás száma": "5"
                                },
                                {
                                    "Szoba": "118",
                                    "Foglalás száma": "2"
                                },
                                {
                                    "Szoba": "118",
                                    "Foglalás száma": "7"
                                },
                                {
                                    "Szoba": "119",
                                    "Foglalás száma": "3"
                                },
                                {
                                    "Szoba": "119",
                                    "Foglalás száma": "2"
                                },
                                {
                                    "Szoba": "119",
                                    "Foglalás száma": "5"
                                },
                                {
                                    "Szoba": "120",
                                    "Foglalás száma": "4"
                                },
                                {
                                    "Szoba": "120",
                                    "Foglalás száma": "2"
                                },
                                {
                                    "Szoba": "120",
                                    "Foglalás száma": "6"
                                },
                                {
                                    "Szoba": "121",
                                    "Foglalás száma": "8"
                                },
                                {
                                    "Szoba": "121",
                                    "Foglalás száma": "8"
                                },
                                {
                                    "Szoba": "122",
                                    "Foglalás száma": "8"
                                },
                                {
                                    "Szoba": "122",
                                    "Foglalás száma": "1"
                                },
                                {
                                    "Szoba": "122",
                                    "Foglalás száma": "9"
                                },
                                {
                                    "Szoba": "123",
                                    "Foglalás száma": "5"
                                },
                                {
                                    "Szoba": "123",
                                    "Foglalás száma": "5"
                                },
                                {
                                    "Szoba": "124",
                                    "Foglalás száma": "4"
                                },
                                {
                                    "Szoba": "124",
                                    "Foglalás száma": "2"
                                },
                                {
                                    "Szoba": "124",
                                    "Foglalás száma": "6"
                                },
                                {
                                    "Szoba": "125",
                                    "Foglalás száma": "1"
                                },
                                {
                                    "Szoba": "125",
                                    "Foglalás száma": "1"
                                },
                                {
                                    "Szoba": "126",
                                    "Foglalás száma": "4"
                                },
                                {
                                    "Szoba": "126",
                                    "Foglalás száma": "2"
                                },
                                {
                                    "Szoba": "126",
                                    "Foglalás száma": "6"
                                },
                                {
                                    "Szoba": "127",
                                    "Foglalás száma": "6"
                                },
                                {
                                    "Szoba": "127",
                                    "Foglalás száma": "1"
                                },
                                {
                                    "Szoba": "127",
                                    "Foglalás száma": "7"
                                },
                                {
                                    "Szoba": "128",
                                    "Foglalás száma": "3"
                                },
                                {
                                    "Szoba": "128",
                                    "Foglalás száma": "2"
                                },
                                {
                                    "Szoba": "128",
                                    "Foglalás száma": "5"
                                },
                                {
                                    "Szoba": "129",
                                    "Foglalás száma": "2"
                                },
                                {
                                    "Szoba": "129",
                                    "Foglalás száma": "2"
                                },
                                {
                                    "Szoba": "129",
                                    "Foglalás száma": "4"
                                },
                                {
                                    "Szoba": "130",
                                    "Foglalás száma": "5"
                                },
                                {
                                    "Szoba": "130",
                                    "Foglalás száma": "1"
                                },
                                {
                                    "Szoba": "130",
                                    "Foglalás száma": "6"
                                },
                                {
                                    "Szoba": "131",
                                    "Foglalás száma": "4"
                                },
                                {
                                    "Szoba": "131",
                                    "Foglalás száma": "1"
                                },
                                {
                                    "Szoba": "131",
                                    "Foglalás száma": "5"
                                },
                                {
                                    "Szoba": "132",
                                    "Foglalás száma": "5"
                                },
                                {
                                    "Szoba": "132",
                                    "Foglalás száma": "1"
                                },
                                {
                                    "Szoba": "132",
                                    "Foglalás száma": "6"
                                },
                                {
                                    "Szoba": "133",
                                    "Foglalás száma": "5"
                                },
                                {
                                    "Szoba": "133",
                                    "Foglalás száma": "1"
                                },
                                {
                                    "Szoba": "133",
                                    "Foglalás száma": "6"
                                },
                                {
                                    "Szoba": "134",
                                    "Foglalás száma": "5"
                                },
                                {
                                    "Szoba": "134",
                                    "Foglalás száma": "1"
                                },
                                {
                                    "Szoba": "134",
                                    "Foglalás száma": "6"
                                },
                                {
                                    "Szoba": "135",
                                    "Foglalás száma": "3"
                                },
                                {
                                    "Szoba": "135",
                                    "Foglalás száma": "3"
                                },
                                {
                                    "Szoba": "136",
                                    "Foglalás száma": "3"
                                },
                                {
                                    "Szoba": "136",
                                    "Foglalás száma": "3"
                                },
                                {
                                    "Szoba": "137",
                                    "Foglalás száma": "6"
                                },
                                {
                                    "Szoba": "137",
                                    "Foglalás száma": "6"
                                },
                                {
                                    "Szoba": "138",
                                    "Foglalás száma": "7"
                                },
                                {
                                    "Szoba": "138",
                                    "Foglalás száma": "7"
                                },
                                {
                                    "Szoba": "139",
                                    "Foglalás száma": "5"
                                },
                                {
                                    "Szoba": "139",
                                    "Foglalás száma": "2"
                                },
                                {
                                    "Szoba": "139",
                                    "Foglalás száma": "7"
                                },
                                {
                                    "Szoba": "140",
                                    "Foglalás száma": "8"
                                },
                                {
                                    "Szoba": "140",
                                    "Foglalás száma": "8"
                                },
                                {
                                    "Szoba": "141",
                                    "Foglalás száma": "6"
                                },
                                {
                                    "Szoba": "141",
                                    "Foglalás száma": "6"
                                },
                                {
                                    "Szoba": "142",
                                    "Foglalás száma": "1"
                                },
                                {
                                    "Szoba": "142",
                                    "Foglalás száma": "1"
                                },
                                {
                                    "Szoba": "142",
                                    "Foglalás száma": "2"
                                },
                                {
                                    "Szoba": "143",
                                    "Foglalás száma": "6"
                                },
                                {
                                    "Szoba": "143",
                                    "Foglalás száma": "1"
                                },
                                {
                                    "Szoba": "143",
                                    "Foglalás száma": "7"
                                },
                                {
                                    "Szoba": "144",
                                    "Foglalás száma": "4"
                                },
                                {
                                    "Szoba": "144",
                                    "Foglalás száma": "1"
                                },
                                {
                                    "Szoba": "144",
                                    "Foglalás száma": "5"
                                },
                                {
                                    "Szoba": "145",
                                    "Foglalás száma": "5"
                                },
                                {
                                    "Szoba": "145",
                                    "Foglalás száma": "1"
                                },
                                {
                                    "Szoba": "145",
                                    "Foglalás száma": "6"
                                },
                                {
                                    "Szoba": "146",
                                    "Foglalás száma": "5"
                                },
                                {
                                    "Szoba": "146",
                                    "Foglalás száma": "1"
                                },
                                {
                                    "Szoba": "146",
                                    "Foglalás száma": "6"
                                },
                                {
                                    "Szoba": "147",
                                    "Foglalás száma": "1"
                                },
                                {
                                    "Szoba": "147",
                                    "Foglalás száma": "1"
                                },
                                {
                                    "Szoba": "148",
                                    "Foglalás száma": "5"
                                },
                                {
                                    "Szoba": "148",
                                    "Foglalás száma": "1"
                                },
                                {
                                    "Szoba": "148",
                                    "Foglalás száma": "6"
                                },
                                {
                                    "Szoba": "149",
                                    "Foglalás száma": "6"
                                },
                                {
                                    "Szoba": "149",
                                    "Foglalás száma": "1"
                                },
                                {
                                    "Szoba": "149",
                                    "Foglalás száma": "7"
                                },
                                {
                                    "Szoba": "150",
                                    "Foglalás száma": "5"
                                },
                                {
                                    "Szoba": "150",
                                    "Foglalás száma": "1"
                                },
                                {
                                    "Szoba": "150",
                                    "Foglalás száma": "6"
                                },
                                {
                                    "Szoba": "151",
                                    "Foglalás száma": "3"
                                },
                                {
                                    "Szoba": "151",
                                    "Foglalás száma": "3"
                                },
                                {
                                    "Szoba": "152",
                                    "Foglalás száma": "3"
                                },
                                {
                                    "Szoba": "152",
                                    "Foglalás száma": "1"
                                },
                                {
                                    "Szoba": "152",
                                    "Foglalás száma": "4"
                                },
                                {
                                    "Szoba": "153",
                                    "Foglalás száma": "2"
                                },
                                {
                                    "Szoba": "153",
                                    "Foglalás száma": "3"
                                },
                                {
                                    "Szoba": "153",
                                    "Foglalás száma": "5"
                                },
                                {
                                    "Szoba": "154",
                                    "Foglalás száma": "4"
                                },
                                {
                                    "Szoba": "154",
                                    "Foglalás száma": "1"
                                },
                                {
                                    "Szoba": "154",
                                    "Foglalás száma": "5"
                                },
                                {
                                    "Szoba": "155",
                                    "Foglalás száma": "4"
                                },
                                {
                                    "Szoba": "155",
                                    "Foglalás száma": "1"
                                },
                                {
                                    "Szoba": "155",
                                    "Foglalás száma": "5"
                                },
                                {
                                    "Szoba": "156",
                                    "Foglalás száma": "4"
                                },
                                {
                                    "Szoba": "156",
                                    "Foglalás száma": "3"
                                },
                                {
                                    "Szoba": "156",
                                    "Foglalás száma": "7"
                                },
                                {
                                    "Szoba": "157",
                                    "Foglalás száma": "4"
                                },
                                {
                                    "Szoba": "157",
                                    "Foglalás száma": "1"
                                },
                                {
                                    "Szoba": "157",
                                    "Foglalás száma": "5"
                                },
                                {
                                    "Szoba": "158",
                                    "Foglalás száma": "3"
                                },
                                {
                                    "Szoba": "158",
                                    "Foglalás száma": "3"
                                },
                                {
                                    "Szoba": "160",
                                    "Foglalás száma": "4"
                                },
                                {
                                    "Szoba": "160",
                                    "Foglalás száma": "1"
                                },
                                {
                                    "Szoba": "160",
                                    "Foglalás száma": "5"
                                },
                                {
                                    "Szoba": "161",
                                    "Foglalás száma": "5"
                                },
                                {
                                    "Szoba": "161",
                                    "Foglalás száma": "1"
                                },
                                {
                                    "Szoba": "161",
                                    "Foglalás száma": "6"
                                },
                                {
                                    "Szoba": "162",
                                    "Foglalás száma": "3"
                                },
                                {
                                    "Szoba": "162",
                                    "Foglalás száma": "3"
                                },
                                {
                                    "Szoba": "163",
                                    "Foglalás száma": "6"
                                },
                                {
                                    "Szoba": "163",
                                    "Foglalás száma": "1"
                                },
                                {
                                    "Szoba": "163",
                                    "Foglalás száma": "7"
                                },
                                {
                                    "Szoba": "164",
                                    "Foglalás száma": "5"
                                },
                                {
                                    "Szoba": "164",
                                    "Foglalás száma": "5"
                                },
                                {
                                    "Szoba": "165",
                                    "Foglalás száma": "7"
                                },
                                {
                                    "Szoba": "165",
                                    "Foglalás száma": "7"
                                },
                                {
                                    "Szoba": "166",
                                    "Foglalás száma": "2"
                                },
                                {
                                    "Szoba": "166",
                                    "Foglalás száma": "1"
                                },
                                {
                                    "Szoba": "166",
                                    "Foglalás száma": "3"
                                },
                                {
                                    "Szoba": "167",
                                    "Foglalás száma": "1"
                                },
                                {
                                    "Szoba": "167",
                                    "Foglalás száma": "1"
                                },
                                {
                                    "Szoba": "167",
                                    "Foglalás száma": "2"
                                },
                                {
                                    "Szoba": "168",
                                    "Foglalás száma": "5"
                                },
                                {
                                    "Szoba": "168",
                                    "Foglalás száma": "5"
                                },
                                {
                                    "Szoba": "169",
                                    "Foglalás száma": "5"
                                },
                                {
                                    "Szoba": "169",
                                    "Foglalás száma": "1"
                                },
                                {
                                    "Szoba": "169",
                                    "Foglalás száma": "6"
                                },
                                {
                                    "Szoba": "170",
                                    "Foglalás száma": "5"
                                },
                                {
                                    "Szoba": "170",
                                    "Foglalás száma": "5"
                                },
                                {
                                    "Szoba": "171",
                                    "Foglalás száma": "4"
                                },
                                {
                                    "Szoba": "171",
                                    "Foglalás száma": "1"
                                },
                                {
                                    "Szoba": "171",
                                    "Foglalás száma": "5"
                                },
                                {
                                    "Szoba": "172",
                                    "Foglalás száma": "7"
                                },
                                {
                                    "Szoba": "172",
                                    "Foglalás száma": "2"
                                },
                                {
                                    "Szoba": "172",
                                    "Foglalás száma": "9"
                                },
                                {
                                    "Szoba": "173",
                                    "Foglalás száma": "3"
                                },
                                {
                                    "Szoba": "173",
                                    "Foglalás száma": "1"
                                },
                                {
                                    "Szoba": "173",
                                    "Foglalás száma": "4"
                                },
                                {
                                    "Szoba": "174",
                                    "Foglalás száma": "4"
                                },
                                {
                                    "Szoba": "174",
                                    "Foglalás száma": "4"
                                },
                                {
                                    "Szoba": "175",
                                    "Foglalás száma": "5"
                                },
                                {
                                    "Szoba": "175",
                                    "Foglalás száma": "5"
                                },
                                {
                                    "Szoba": "176",
                                    "Foglalás száma": "4"
                                },
                                {
                                    "Szoba": "176",
                                    "Foglalás száma": "2"
                                },
                                {
                                    "Szoba": "176",
                                    "Foglalás száma": "6"
                                },
                                {
                                    "Szoba": "177",
                                    "Foglalás száma": "3"
                                },
                                {
                                    "Szoba": "177",
                                    "Foglalás száma": "1"
                                },
                                {
                                    "Szoba": "177",
                                    "Foglalás száma": "4"
                                },
                                {
                                    "Szoba": "178",
                                    "Foglalás száma": "4"
                                },
                                {
                                    "Szoba": "178",
                                    "Foglalás száma": "4"
                                },
                                {
                                    "Szoba": "179",
                                    "Foglalás száma": "2"
                                },
                                {
                                    "Szoba": "179",
                                    "Foglalás száma": "1"
                                },
                                {
                                    "Szoba": "179",
                                    "Foglalás száma": "3"
                                },
                                {
                                    "Szoba": "180",
                                    "Foglalás száma": "1"
                                },
                                {
                                    "Szoba": "180",
                                    "Foglalás száma": "2"
                                },
                                {
                                    "Szoba": "180",
                                    "Foglalás száma": "3"
                                },
                                {
                                    "Szoba": "181",
                                    "Foglalás száma": "6"
                                },
                                {
                                    "Szoba": "181",
                                    "Foglalás száma": "6"
                                },
                                {
                                    "Szoba": "182",
                                    "Foglalás száma": "10"
                                },
                                {
                                    "Szoba": "182",
                                    "Foglalás száma": "2"
                                },
                                {
                                    "Szoba": "182",
                                    "Foglalás száma": "12"
                                },
                                {
                                    "Szoba": "183",
                                    "Foglalás száma": "3"
                                },
                                {
                                    "Szoba": "183",
                                    "Foglalás száma": "1"
                                },
                                {
                                    "Szoba": "183",
                                    "Foglalás száma": "4"
                                },
                                {
                                    "Szoba": "184",
                                    "Foglalás száma": "4"
                                },
                                {
                                    "Szoba": "184",
                                    "Foglalás száma": "4"
                                },
                                {
                                    "Szoba": "185",
                                    "Foglalás száma": "10"
                                },
                                {
                                    "Szoba": "185",
                                    "Foglalás száma": "2"
                                },
                                {
                                    "Szoba": "185",
                                    "Foglalás száma": "12"
                                },
                                {
                                    "Szoba": "186",
                                    "Foglalás száma": "3"
                                },
                                {
                                    "Szoba": "186",
                                    "Foglalás száma": "1"
                                },
                                {
                                    "Szoba": "186",
                                    "Foglalás száma": "4"
                                },
                                {
                                    "Szoba": "187",
                                    "Foglalás száma": "7"
                                },
                                {
                                    "Szoba": "187",
                                    "Foglalás száma": "7"
                                },
                                {
                                    "Szoba": "188",
                                    "Foglalás száma": "6"
                                },
                                {
                                    "Szoba": "188",
                                    "Foglalás száma": "6"
                                },
                                {
                                    "Szoba": "189",
                                    "Foglalás száma": "3"
                                },
                                {
                                    "Szoba": "189",
                                    "Foglalás száma": "2"
                                },
                                {
                                    "Szoba": "189",
                                    "Foglalás száma": "5"
                                },
                                {
                                    "Szoba": "190",
                                    "Foglalás száma": "4"
                                },
                                {
                                    "Szoba": "190",
                                    "Foglalás száma": "1"
                                },
                                {
                                    "Szoba": "190",
                                    "Foglalás száma": "5"
                                },
                                {
                                    "Szoba": "191",
                                    "Foglalás száma": "3"
                                },
                                {
                                    "Szoba": "191",
                                    "Foglalás száma": "2"
                                },
                                {
                                    "Szoba": "191",
                                    "Foglalás száma": "5"
                                },
                                {
                                    "Szoba": "192",
                                    "Foglalás száma": "2"
                                },
                                {
                                    "Szoba": "192",
                                    "Foglalás száma": "2"
                                },
                                {
                                    "Szoba": "193",
                                    "Foglalás száma": "7"
                                },
                                {
                                    "Szoba": "193",
                                    "Foglalás száma": "7"
                                },
                                {
                                    "Szoba": "194",
                                    "Foglalás száma": "1"
                                },
                                {
                                    "Szoba": "194",
                                    "Foglalás száma": "1"
                                },
                                {
                                    "Szoba": "195",
                                    "Foglalás száma": "4"
                                },
                                {
                                    "Szoba": "195",
                                    "Foglalás száma": "2"
                                },
                                {
                                    "Szoba": "195",
                                    "Foglalás száma": "6"
                                },
                                {
                                    "Szoba": "196",
                                    "Foglalás száma": "4"
                                },
                                {
                                    "Szoba": "196",
                                    "Foglalás száma": "4"
                                },
                                {
                                    "Szoba": "197",
                                    "Foglalás száma": "6"
                                },
                                {
                                    "Szoba": "197",
                                    "Foglalás száma": "6"
                                },
                                {
                                    "Szoba": "198",
                                    "Foglalás száma": "7"
                                },
                                {
                                    "Szoba": "198",
                                    "Foglalás száma": "1"
                                },
                                {
                                    "Szoba": "198",
                                    "Foglalás száma": "8"
                                },
                                {
                                    "Szoba": "Végösszeg",
                                    "Foglalás száma": "1027"
                                }
                            ]
                        },
                        "text/html": [
                            "<table>",
                            "<tr><th>Szoba</th><th>Foglalás száma</th><th>Foglalás száma</th></tr>",
                            "<tr><td>1</td><td>2016</td><td>8</td></tr>",
                            "<tr><td>1</td><td>Részösszeg</td><td>8</td></tr>",
                            "<tr><td>2</td><td>2016</td><td>4</td></tr>",
                            "<tr><td>2</td><td>Részösszeg</td><td>4</td></tr>",
                            "<tr><td>3</td><td>2016</td><td>6</td></tr>",
                            "<tr><td>3</td><td>2017</td><td>2</td></tr>",
                            "<tr><td>3</td><td>Részösszeg</td><td>8</td></tr>",
                            "<tr><td>4</td><td>2016</td><td>5</td></tr>",
                            "<tr><td>4</td><td>2017</td><td>1</td></tr>",
                            "<tr><td>4</td><td>Részösszeg</td><td>6</td></tr>",
                            "<tr><td>5</td><td>2016</td><td>4</td></tr>",
                            "<tr><td>5</td><td>Részösszeg</td><td>4</td></tr>",
                            "<tr><td>6</td><td>2016</td><td>6</td></tr>",
                            "<tr><td>6</td><td>Részösszeg</td><td>6</td></tr>",
                            "<tr><td>7</td><td>2016</td><td>6</td></tr>",
                            "<tr><td>7</td><td>Részösszeg</td><td>6</td></tr>",
                            "<tr><td>8</td><td>2016</td><td>5</td></tr>",
                            "<tr><td>8</td><td>Részösszeg</td><td>5</td></tr>",
                            "<tr><td>9</td><td>2016</td><td>4</td></tr>",
                            "<tr><td>9</td><td>2017</td><td>2</td></tr>",
                            "<tr><td>9</td><td>Részösszeg</td><td>6</td></tr>",
                            "<tr><td>10</td><td>2016</td><td>4</td></tr>",
                            "<tr><td>10</td><td>Részösszeg</td><td>4</td></tr>",
                            "<tr><td>11</td><td>2016</td><td>3</td></tr>",
                            "<tr><td>11</td><td>2017</td><td>1</td></tr>",
                            "<tr><td>11</td><td>Részösszeg</td><td>4</td></tr>",
                            "<tr><td>12</td><td>2016</td><td>8</td></tr>",
                            "<tr><td>12</td><td>2017</td><td>1</td></tr>",
                            "<tr><td>12</td><td>Részösszeg</td><td>9</td></tr>",
                            "<tr><td>13</td><td>2016</td><td>3</td></tr>",
                            "<tr><td>13</td><td>2017</td><td>1</td></tr>",
                            "<tr><td>13</td><td>Részösszeg</td><td>4</td></tr>",
                            "<tr><td>14</td><td>2016</td><td>2</td></tr>",
                            "<tr><td>14</td><td>2017</td><td>1</td></tr>",
                            "<tr><td>14</td><td>Részösszeg</td><td>3</td></tr>",
                            "<tr><td>15</td><td>2016</td><td>4</td></tr>",
                            "<tr><td>15</td><td>2017</td><td>2</td></tr>",
                            "<tr><td>15</td><td>Részösszeg</td><td>6</td></tr>",
                            "<tr><td>16</td><td>2016</td><td>4</td></tr>",
                            "<tr><td>16</td><td>2017</td><td>1</td></tr>",
                            "<tr><td>16</td><td>Részösszeg</td><td>5</td></tr>",
                            "<tr><td>17</td><td>2016</td><td>5</td></tr>",
                            "<tr><td>17</td><td>2017</td><td>1</td></tr>",
                            "<tr><td>17</td><td>Részösszeg</td><td>6</td></tr>",
                            "<tr><td>18</td><td>2016</td><td>5</td></tr>",
                            "<tr><td>18</td><td>2017</td><td>1</td></tr>",
                            "<tr><td>18</td><td>Részösszeg</td><td>6</td></tr>",
                            "<tr><td>19</td><td>2016</td><td>5</td></tr>",
                            "<tr><td>19</td><td>2017</td><td>1</td></tr>",
                            "<tr><td>19</td><td>Részösszeg</td><td>6</td></tr>",
                            "<tr><td>20</td><td>2016</td><td>5</td></tr>",
                            "<tr><td>20</td><td>Részösszeg</td><td>5</td></tr>",
                            "<tr><td>21</td><td>2016</td><td>4</td></tr>",
                            "<tr><td>21</td><td>Részösszeg</td><td>4</td></tr>",
                            "<tr><td>22</td><td>2016</td><td>6</td></tr>",
                            "<tr><td>22</td><td>Részösszeg</td><td>6</td></tr>",
                            "<tr><td>23</td><td>2016</td><td>3</td></tr>",
                            "<tr><td>23</td><td>Részösszeg</td><td>3</td></tr>",
                            "<tr><td>24</td><td>2016</td><td>2</td></tr>",
                            "<tr><td>24</td><td>2017</td><td>1</td></tr>",
                            "<tr><td>24</td><td>Részösszeg</td><td>3</td></tr>",
                            "<tr><td>25</td><td>2016</td><td>2</td></tr>",
                            "<tr><td>25</td><td>Részösszeg</td><td>2</td></tr>",
                            "<tr><td>26</td><td>2016</td><td>2</td></tr>",
                            "<tr><td>26</td><td>Részösszeg</td><td>2</td></tr>",
                            "<tr><td>27</td><td>2016</td><td>6</td></tr>",
                            "<tr><td>27</td><td>2017</td><td>1</td></tr>",
                            "<tr><td>27</td><td>Részösszeg</td><td>7</td></tr>",
                            "<tr><td>28</td><td>2016</td><td>5</td></tr>",
                            "<tr><td>28</td><td>2017</td><td>1</td></tr>",
                            "<tr><td>28</td><td>Részösszeg</td><td>6</td></tr>",
                            "<tr><td>29</td><td>2016</td><td>5</td></tr>",
                            "<tr><td>29</td><td>2017</td><td>1</td></tr>",
                            "<tr><td>29</td><td>Részösszeg</td><td>6</td></tr>",
                            "<tr><td>30</td><td>2016</td><td>3</td></tr>",
                            "<tr><td>30</td><td>Részösszeg</td><td>3</td></tr>",
                            "<tr><td>31</td><td>2016</td><td>3</td></tr>",
                            "<tr><td>31</td><td>Részösszeg</td><td>3</td></tr>",
                            "<tr><td>32</td><td>2016</td><td>1</td></tr>",
                            "<tr><td>32</td><td>Részösszeg</td><td>1</td></tr>",
                            "<tr><td>33</td><td>2016</td><td>6</td></tr>",
                            "<tr><td>33</td><td>Részösszeg</td><td>6</td></tr>",
                            "<tr><td>34</td><td>2016</td><td>4</td></tr>",
                            "<tr><td>34</td><td>Részösszeg</td><td>4</td></tr>",
                            "<tr><td>35</td><td>2016</td><td>6</td></tr>",
                            "<tr><td>35</td><td>2017</td><td>3</td></tr>",
                            "<tr><td>35</td><td>Részösszeg</td><td>9</td></tr>",
                            "<tr><td>36</td><td>2016</td><td>6</td></tr>",
                            "<tr><td>36</td><td>Részösszeg</td><td>6</td></tr>",
                            "<tr><td>37</td><td>2016</td><td>3</td></tr>",
                            "<tr><td>37</td><td>Részösszeg</td><td>3</td></tr>",
                            "<tr><td>38</td><td>2016</td><td>5</td></tr>",
                            "<tr><td>38</td><td>2017</td><td>3</td></tr>",
                            "<tr><td>38</td><td>Részösszeg</td><td>8</td></tr>",
                            "<tr><td>39</td><td>2016</td><td>4</td></tr>",
                            "<tr><td>39</td><td>2017</td><td>3</td></tr>",
                            "<tr><td>39</td><td>Részösszeg</td><td>7</td></tr>",
                            "<tr><td>40</td><td>2016</td><td>4</td></tr>",
                            "<tr><td>40</td><td>Részösszeg</td><td>4</td></tr>",
                            "<tr><td>41</td><td>2016</td><td>2</td></tr>",
                            "<tr><td>41</td><td>Részösszeg</td><td>2</td></tr>",
                            "<tr><td>42</td><td>2016</td><td>5</td></tr>",
                            "<tr><td>42</td><td>2017</td><td>1</td></tr>",
                            "<tr><td>42</td><td>Részösszeg</td><td>6</td></tr>",
                            "<tr><td>43</td><td>2016</td><td>6</td></tr>",
                            "<tr><td>43</td><td>2017</td><td>2</td></tr>",
                            "<tr><td>43</td><td>Részösszeg</td><td>8</td></tr>",
                            "<tr><td>44</td><td>2016</td><td>4</td></tr>",
                            "<tr><td>44</td><td>2017</td><td>2</td></tr>",
                            "<tr><td>44</td><td>Részösszeg</td><td>6</td></tr>",
                            "<tr><td>45</td><td>2016</td><td>5</td></tr>",
                            "<tr><td>45</td><td>Részösszeg</td><td>5</td></tr>",
                            "<tr><td>46</td><td>2016</td><td>3</td></tr>",
                            "<tr><td>46</td><td>2017</td><td>1</td></tr>",
                            "<tr><td>46</td><td>Részösszeg</td><td>4</td></tr>",
                            "<tr><td>47</td><td>2016</td><td>2</td></tr>",
                            "<tr><td>47</td><td>Részösszeg</td><td>2</td></tr>",
                            "<tr><td>48</td><td>2016</td><td>6</td></tr>",
                            "<tr><td>48</td><td>2017</td><td>3</td></tr>",
                            "<tr><td>48</td><td>Részösszeg</td><td>9</td></tr>",
                            "<tr><td>49</td><td>2016</td><td>6</td></tr>",
                            "<tr><td>49</td><td>2017</td><td>1</td></tr>",
                            "<tr><td>49</td><td>Részösszeg</td><td>7</td></tr>",
                            "<tr><td>50</td><td>2016</td><td>4</td></tr>",
                            "<tr><td>50</td><td>Részösszeg</td><td>4</td></tr>",
                            "<tr><td>51</td><td>2016</td><td>3</td></tr>",
                            "<tr><td>51</td><td>2017</td><td>2</td></tr>",
                            "<tr><td>51</td><td>Részösszeg</td><td>5</td></tr>",
                            "<tr><td>52</td><td>2016</td><td>3</td></tr>",
                            "<tr><td>52</td><td>2017</td><td>2</td></tr>",
                            "<tr><td>52</td><td>Részösszeg</td><td>5</td></tr>",
                            "<tr><td>53</td><td>2016</td><td>2</td></tr>",
                            "<tr><td>53</td><td>Részösszeg</td><td>2</td></tr>",
                            "<tr><td>54</td><td>2016</td><td>6</td></tr>",
                            "<tr><td>54</td><td>Részösszeg</td><td>6</td></tr>",
                            "<tr><td>55</td><td>2016</td><td>6</td></tr>",
                            "<tr><td>55</td><td>2017</td><td>2</td></tr>",
                            "<tr><td>55</td><td>Részösszeg</td><td>8</td></tr>",
                            "<tr><td>56</td><td>2016</td><td>2</td></tr>",
                            "<tr><td>56</td><td>Részösszeg</td><td>2</td></tr>",
                            "<tr><td>57</td><td>2016</td><td>2</td></tr>",
                            "<tr><td>57</td><td>2017</td><td>2</td></tr>",
                            "<tr><td>57</td><td>Részösszeg</td><td>4</td></tr>",
                            "<tr><td>58</td><td>2016</td><td>12</td></tr>",
                            "<tr><td>58</td><td>2017</td><td>1</td></tr>",
                            "<tr><td>58</td><td>Részösszeg</td><td>13</td></tr>",
                            "<tr><td>59</td><td>2016</td><td>6</td></tr>",
                            "<tr><td>59</td><td>2017</td><td>1</td></tr>",
                            "<tr><td>59</td><td>Részösszeg</td><td>7</td></tr>",
                            "<tr><td>60</td><td>2016</td><td>1</td></tr>",
                            "<tr><td>60</td><td>Részösszeg</td><td>1</td></tr>",
                            "<tr><td>61</td><td>2016</td><td>4</td></tr>",
                            "<tr><td>61</td><td>2017</td><td>1</td></tr>",
                            "<tr><td>61</td><td>Részösszeg</td><td>5</td></tr>",
                            "<tr><td>62</td><td>2016</td><td>4</td></tr>",
                            "<tr><td>62</td><td>2017</td><td>1</td></tr>",
                            "<tr><td>62</td><td>Részösszeg</td><td>5</td></tr>",
                            "<tr><td>63</td><td>2016</td><td>4</td></tr>",
                            "<tr><td>63</td><td>Részösszeg</td><td>4</td></tr>",
                            "<tr><td>64</td><td>2016</td><td>3</td></tr>",
                            "<tr><td>64</td><td>2017</td><td>3</td></tr>",
                            "<tr><td>64</td><td>Részösszeg</td><td>6</td></tr>",
                            "<tr><td>65</td><td>2016</td><td>1</td></tr>",
                            "<tr><td>65</td><td>Részösszeg</td><td>1</td></tr>",
                            "<tr><td>66</td><td>2016</td><td>4</td></tr>",
                            "<tr><td>66</td><td>Részösszeg</td><td>4</td></tr>",
                            "<tr><td>67</td><td>2016</td><td>4</td></tr>",
                            "<tr><td>67</td><td>2017</td><td>2</td></tr>",
                            "<tr><td>67</td><td>Részösszeg</td><td>6</td></tr>",
                            "<tr><td>68</td><td>2016</td><td>3</td></tr>",
                            "<tr><td>68</td><td>Részösszeg</td><td>3</td></tr>",
                            "<tr><td>69</td><td>2016</td><td>4</td></tr>",
                            "<tr><td>69</td><td>Részösszeg</td><td>4</td></tr>",
                            "<tr><td>70</td><td>2016</td><td>10</td></tr>",
                            "<tr><td>70</td><td>2017</td><td>1</td></tr>",
                            "<tr><td>70</td><td>Részösszeg</td><td>11</td></tr>",
                            "<tr><td>71</td><td>2016</td><td>3</td></tr>",
                            "<tr><td>71</td><td>Részösszeg</td><td>3</td></tr>",
                            "<tr><td>72</td><td>2016</td><td>4</td></tr>",
                            "<tr><td>72</td><td>Részösszeg</td><td>4</td></tr>",
                            "<tr><td>73</td><td>2016</td><td>4</td></tr>",
                            "<tr><td>73</td><td>Részösszeg</td><td>4</td></tr>",
                            "<tr><td>74</td><td>2016</td><td>9</td></tr>",
                            "<tr><td>74</td><td>Részösszeg</td><td>9</td></tr>",
                            "<tr><td>75</td><td>2016</td><td>1</td></tr>",
                            "<tr><td>75</td><td>2017</td><td>2</td></tr>",
                            "<tr><td>75</td><td>Részösszeg</td><td>3</td></tr>",
                            "<tr><td>76</td><td>2016</td><td>2</td></tr>",
                            "<tr><td>76</td><td>2017</td><td>1</td></tr>",
                            "<tr><td>76</td><td>Részösszeg</td><td>3</td></tr>",
                            "<tr><td>77</td><td>2016</td><td>4</td></tr>",
                            "<tr><td>77</td><td>2017</td><td>2</td></tr>",
                            "<tr><td>77</td><td>Részösszeg</td><td>6</td></tr>",
                            "<tr><td>78</td><td>2016</td><td>5</td></tr>",
                            "<tr><td>78</td><td>2017</td><td>1</td></tr>",
                            "<tr><td>78</td><td>Részösszeg</td><td>6</td></tr>",
                            "<tr><td>79</td><td>2016</td><td>4</td></tr>",
                            "<tr><td>79</td><td>2017</td><td>1</td></tr>",
                            "<tr><td>79</td><td>Részösszeg</td><td>5</td></tr>",
                            "<tr><td>80</td><td>2016</td><td>7</td></tr>",
                            "<tr><td>80</td><td>Részösszeg</td><td>7</td></tr>",
                            "<tr><td>81</td><td>2016</td><td>1</td></tr>",
                            "<tr><td>81</td><td>2017</td><td>4</td></tr>",
                            "<tr><td>81</td><td>Részösszeg</td><td>5</td></tr>",
                            "<tr><td>82</td><td>2016</td><td>6</td></tr>",
                            "<tr><td>82</td><td>Részösszeg</td><td>6</td></tr>",
                            "<tr><td>83</td><td>2016</td><td>8</td></tr>",
                            "<tr><td>83</td><td>Részösszeg</td><td>8</td></tr>",
                            "<tr><td>84</td><td>2016</td><td>4</td></tr>",
                            "<tr><td>84</td><td>Részösszeg</td><td>4</td></tr>",
                            "<tr><td>85</td><td>2016</td><td>3</td></tr>",
                            "<tr><td>85</td><td>2017</td><td>1</td></tr>",
                            "<tr><td>85</td><td>Részösszeg</td><td>4</td></tr>",
                            "<tr><td>86</td><td>2016</td><td>4</td></tr>",
                            "<tr><td>86</td><td>2017</td><td>1</td></tr>",
                            "<tr><td>86</td><td>Részösszeg</td><td>5</td></tr>",
                            "<tr><td>87</td><td>2016</td><td>4</td></tr>",
                            "<tr><td>87</td><td>2017</td><td>1</td></tr>",
                            "<tr><td>87</td><td>Részösszeg</td><td>5</td></tr>",
                            "<tr><td>88</td><td>2016</td><td>6</td></tr>",
                            "<tr><td>88</td><td>2017</td><td>2</td></tr>",
                            "<tr><td>88</td><td>Részösszeg</td><td>8</td></tr>",
                            "<tr><td>89</td><td>2016</td><td>7</td></tr>",
                            "<tr><td>89</td><td>2017</td><td>1</td></tr>",
                            "<tr><td>89</td><td>Részösszeg</td><td>8</td></tr>",
                            "<tr><td>90</td><td>2016</td><td>4</td></tr>",
                            "<tr><td>90</td><td>Részösszeg</td><td>4</td></tr>",
                            "<tr><td>91</td><td>2016</td><td>4</td></tr>",
                            "<tr><td>91</td><td>Részösszeg</td><td>4</td></tr>",
                            "<tr><td>92</td><td>2016</td><td>4</td></tr>",
                            "<tr><td>92</td><td>2017</td><td>2</td></tr>",
                            "<tr><td>92</td><td>Részösszeg</td><td>6</td></tr>",
                            "<tr><td>93</td><td>2016</td><td>5</td></tr>",
                            "<tr><td>93</td><td>Részösszeg</td><td>5</td></tr>",
                            "<tr><td>94</td><td>2016</td><td>8</td></tr>",
                            "<tr><td>94</td><td>2017</td><td>2</td></tr>",
                            "<tr><td>94</td><td>Részösszeg</td><td>10</td></tr>",
                            "<tr><td>95</td><td>2016</td><td>3</td></tr>",
                            "<tr><td>95</td><td>2017</td><td>1</td></tr>",
                            "<tr><td>95</td><td>Részösszeg</td><td>4</td></tr>",
                            "<tr><td>96</td><td>2016</td><td>5</td></tr>",
                            "<tr><td>96</td><td>2017</td><td>2</td></tr>",
                            "<tr><td>96</td><td>Részösszeg</td><td>7</td></tr>",
                            "<tr><td>97</td><td>2016</td><td>5</td></tr>",
                            "<tr><td>97</td><td>2017</td><td>2</td></tr>",
                            "<tr><td>97</td><td>Részösszeg</td><td>7</td></tr>",
                            "<tr><td>98</td><td>2016</td><td>4</td></tr>",
                            "<tr><td>98</td><td>Részösszeg</td><td>4</td></tr>",
                            "<tr><td>99</td><td>2016</td><td>4</td></tr>",
                            "<tr><td>99</td><td>2017</td><td>1</td></tr>",
                            "<tr><td>99</td><td>Részösszeg</td><td>5</td></tr>",
                            "<tr><td>100</td><td>2016</td><td>3</td></tr>",
                            "<tr><td>100</td><td>2017</td><td>1</td></tr>",
                            "<tr><td>100</td><td>Részösszeg</td><td>4</td></tr>",
                            "<tr><td>101</td><td>2016</td><td>2</td></tr>",
                            "<tr><td>101</td><td>2017</td><td>1</td></tr>",
                            "<tr><td>101</td><td>Részösszeg</td><td>3</td></tr>",
                            "<tr><td>102</td><td>2016</td><td>2</td></tr>",
                            "<tr><td>102</td><td>Részösszeg</td><td>2</td></tr>",
                            "<tr><td>103</td><td>2016</td><td>3</td></tr>",
                            "<tr><td>103</td><td>2017</td><td>1</td></tr>",
                            "<tr><td>103</td><td>Részösszeg</td><td>4</td></tr>",
                            "<tr><td>104</td><td>2016</td><td>2</td></tr>",
                            "<tr><td>104</td><td>2017</td><td>2</td></tr>",
                            "<tr><td>104</td><td>Részösszeg</td><td>4</td></tr>",
                            "<tr><td>105</td><td>2016</td><td>1</td></tr>",
                            "<tr><td>105</td><td>2017</td><td>1</td></tr>",
                            "<tr><td>105</td><td>Részösszeg</td><td>2</td></tr>",
                            "<tr><td>106</td><td>2016</td><td>5</td></tr>",
                            "<tr><td>106</td><td>2017</td><td>1</td></tr>",
                            "<tr><td>106</td><td>Részösszeg</td><td>6</td></tr>",
                            "<tr><td>107</td><td>2016</td><td>3</td></tr>",
                            "<tr><td>107</td><td>2017</td><td>2</td></tr>",
                            "<tr><td>107</td><td>Részösszeg</td><td>5</td></tr>",
                            "<tr><td>108</td><td>2016</td><td>2</td></tr>",
                            "<tr><td>108</td><td>Részösszeg</td><td>2</td></tr>",
                            "<tr><td>109</td><td>2016</td><td>6</td></tr>",
                            "<tr><td>109</td><td>2017</td><td>1</td></tr>",
                            "<tr><td>109</td><td>Részösszeg</td><td>7</td></tr>",
                            "<tr><td>110</td><td>2016</td><td>6</td></tr>",
                            "<tr><td>110</td><td>2017</td><td>2</td></tr>",
                            "<tr><td>110</td><td>Részösszeg</td><td>8</td></tr>",
                            "<tr><td>111</td><td>2016</td><td>5</td></tr>",
                            "<tr><td>111</td><td>Részösszeg</td><td>5</td></tr>",
                            "<tr><td>112</td><td>2016</td><td>4</td></tr>",
                            "<tr><td>112</td><td>2017</td><td>1</td></tr>",
                            "<tr><td>112</td><td>Részösszeg</td><td>5</td></tr>",
                            "<tr><td>113</td><td>2016</td><td>3</td></tr>",
                            "<tr><td>113</td><td>2017</td><td>2</td></tr>",
                            "<tr><td>113</td><td>Részösszeg</td><td>5</td></tr>",
                            "<tr><td>114</td><td>2016</td><td>3</td></tr>",
                            "<tr><td>114</td><td>2017</td><td>1</td></tr>",
                            "<tr><td>114</td><td>Részösszeg</td><td>4</td></tr>",
                            "<tr><td>115</td><td>2016</td><td>5</td></tr>",
                            "<tr><td>115</td><td>2017</td><td>2</td></tr>",
                            "<tr><td>115</td><td>Részösszeg</td><td>7</td></tr>",
                            "<tr><td>116</td><td>2017</td><td>2</td></tr>",
                            "<tr><td>116</td><td>Részösszeg</td><td>2</td></tr>",
                            "<tr><td>117</td><td>2016</td><td>7</td></tr>",
                            "<tr><td>117</td><td>2017</td><td>1</td></tr>",
                            "<tr><td>117</td><td>Részösszeg</td><td>8</td></tr>",
                            "<tr><td>118</td><td>2016</td><td>5</td></tr>",
                            "<tr><td>118</td><td>2017</td><td>2</td></tr>",
                            "<tr><td>118</td><td>Részösszeg</td><td>7</td></tr>",
                            "<tr><td>119</td><td>2016</td><td>3</td></tr>",
                            "<tr><td>119</td><td>2017</td><td>2</td></tr>",
                            "<tr><td>119</td><td>Részösszeg</td><td>5</td></tr>",
                            "<tr><td>120</td><td>2016</td><td>4</td></tr>",
                            "<tr><td>120</td><td>2017</td><td>2</td></tr>",
                            "<tr><td>120</td><td>Részösszeg</td><td>6</td></tr>",
                            "<tr><td>121</td><td>2016</td><td>8</td></tr>",
                            "<tr><td>121</td><td>Részösszeg</td><td>8</td></tr>",
                            "<tr><td>122</td><td>2016</td><td>8</td></tr>",
                            "<tr><td>122</td><td>2017</td><td>1</td></tr>",
                            "<tr><td>122</td><td>Részösszeg</td><td>9</td></tr>",
                            "<tr><td>123</td><td>2016</td><td>5</td></tr>",
                            "<tr><td>123</td><td>Részösszeg</td><td>5</td></tr>",
                            "<tr><td>124</td><td>2016</td><td>4</td></tr>",
                            "<tr><td>124</td><td>2017</td><td>2</td></tr>",
                            "<tr><td>124</td><td>Részösszeg</td><td>6</td></tr>",
                            "<tr><td>125</td><td>2016</td><td>1</td></tr>",
                            "<tr><td>125</td><td>Részösszeg</td><td>1</td></tr>",
                            "<tr><td>126</td><td>2016</td><td>4</td></tr>",
                            "<tr><td>126</td><td>2017</td><td>2</td></tr>",
                            "<tr><td>126</td><td>Részösszeg</td><td>6</td></tr>",
                            "<tr><td>127</td><td>2016</td><td>6</td></tr>",
                            "<tr><td>127</td><td>2017</td><td>1</td></tr>",
                            "<tr><td>127</td><td>Részösszeg</td><td>7</td></tr>",
                            "<tr><td>128</td><td>2016</td><td>3</td></tr>",
                            "<tr><td>128</td><td>2017</td><td>2</td></tr>",
                            "<tr><td>128</td><td>Részösszeg</td><td>5</td></tr>",
                            "<tr><td>129</td><td>2016</td><td>2</td></tr>",
                            "<tr><td>129</td><td>2017</td><td>2</td></tr>",
                            "<tr><td>129</td><td>Részösszeg</td><td>4</td></tr>",
                            "<tr><td>130</td><td>2016</td><td>5</td></tr>",
                            "<tr><td>130</td><td>2017</td><td>1</td></tr>",
                            "<tr><td>130</td><td>Részösszeg</td><td>6</td></tr>",
                            "<tr><td>131</td><td>2016</td><td>4</td></tr>",
                            "<tr><td>131</td><td>2017</td><td>1</td></tr>",
                            "<tr><td>131</td><td>Részösszeg</td><td>5</td></tr>",
                            "<tr><td>132</td><td>2016</td><td>5</td></tr>",
                            "<tr><td>132</td><td>2017</td><td>1</td></tr>",
                            "<tr><td>132</td><td>Részösszeg</td><td>6</td></tr>",
                            "<tr><td>133</td><td>2016</td><td>5</td></tr>",
                            "<tr><td>133</td><td>2017</td><td>1</td></tr>",
                            "<tr><td>133</td><td>Részösszeg</td><td>6</td></tr>",
                            "<tr><td>134</td><td>2016</td><td>5</td></tr>",
                            "<tr><td>134</td><td>2017</td><td>1</td></tr>",
                            "<tr><td>134</td><td>Részösszeg</td><td>6</td></tr>",
                            "<tr><td>135</td><td>2016</td><td>3</td></tr>",
                            "<tr><td>135</td><td>Részösszeg</td><td>3</td></tr>",
                            "<tr><td>136</td><td>2016</td><td>3</td></tr>",
                            "<tr><td>136</td><td>Részösszeg</td><td>3</td></tr>",
                            "<tr><td>137</td><td>2016</td><td>6</td></tr>",
                            "<tr><td>137</td><td>Részösszeg</td><td>6</td></tr>",
                            "<tr><td>138</td><td>2016</td><td>7</td></tr>",
                            "<tr><td>138</td><td>Részösszeg</td><td>7</td></tr>",
                            "<tr><td>139</td><td>2016</td><td>5</td></tr>",
                            "<tr><td>139</td><td>2017</td><td>2</td></tr>",
                            "<tr><td>139</td><td>Részösszeg</td><td>7</td></tr>",
                            "<tr><td>140</td><td>2016</td><td>8</td></tr>",
                            "<tr><td>140</td><td>Részösszeg</td><td>8</td></tr>",
                            "<tr><td>141</td><td>2016</td><td>6</td></tr>",
                            "<tr><td>141</td><td>Részösszeg</td><td>6</td></tr>",
                            "<tr><td>142</td><td>2016</td><td>1</td></tr>",
                            "<tr><td>142</td><td>2017</td><td>1</td></tr>",
                            "<tr><td>142</td><td>Részösszeg</td><td>2</td></tr>",
                            "<tr><td>143</td><td>2016</td><td>6</td></tr>",
                            "<tr><td>143</td><td>2017</td><td>1</td></tr>",
                            "<tr><td>143</td><td>Részösszeg</td><td>7</td></tr>",
                            "<tr><td>144</td><td>2016</td><td>4</td></tr>",
                            "<tr><td>144</td><td>2017</td><td>1</td></tr>",
                            "<tr><td>144</td><td>Részösszeg</td><td>5</td></tr>",
                            "<tr><td>145</td><td>2016</td><td>5</td></tr>",
                            "<tr><td>145</td><td>2017</td><td>1</td></tr>",
                            "<tr><td>145</td><td>Részösszeg</td><td>6</td></tr>",
                            "<tr><td>146</td><td>2016</td><td>5</td></tr>",
                            "<tr><td>146</td><td>2017</td><td>1</td></tr>",
                            "<tr><td>146</td><td>Részösszeg</td><td>6</td></tr>",
                            "<tr><td>147</td><td>2016</td><td>1</td></tr>",
                            "<tr><td>147</td><td>Részösszeg</td><td>1</td></tr>",
                            "<tr><td>148</td><td>2016</td><td>5</td></tr>",
                            "<tr><td>148</td><td>2017</td><td>1</td></tr>",
                            "<tr><td>148</td><td>Részösszeg</td><td>6</td></tr>",
                            "<tr><td>149</td><td>2016</td><td>6</td></tr>",
                            "<tr><td>149</td><td>2017</td><td>1</td></tr>",
                            "<tr><td>149</td><td>Részösszeg</td><td>7</td></tr>",
                            "<tr><td>150</td><td>2016</td><td>5</td></tr>",
                            "<tr><td>150</td><td>2017</td><td>1</td></tr>",
                            "<tr><td>150</td><td>Részösszeg</td><td>6</td></tr>",
                            "<tr><td>151</td><td>2016</td><td>3</td></tr>",
                            "<tr><td>151</td><td>Részösszeg</td><td>3</td></tr>",
                            "<tr><td>152</td><td>2016</td><td>3</td></tr>",
                            "<tr><td>152</td><td>2017</td><td>1</td></tr>",
                            "<tr><td>152</td><td>Részösszeg</td><td>4</td></tr>",
                            "<tr><td>153</td><td>2016</td><td>2</td></tr>",
                            "<tr><td>153</td><td>2017</td><td>3</td></tr>",
                            "<tr><td>153</td><td>Részösszeg</td><td>5</td></tr>",
                            "<tr><td>154</td><td>2016</td><td>4</td></tr>",
                            "<tr><td>154</td><td>2017</td><td>1</td></tr>",
                            "<tr><td>154</td><td>Részösszeg</td><td>5</td></tr>",
                            "<tr><td>155</td><td>2016</td><td>4</td></tr>",
                            "<tr><td>155</td><td>2017</td><td>1</td></tr>",
                            "<tr><td>155</td><td>Részösszeg</td><td>5</td></tr>",
                            "<tr><td>156</td><td>2016</td><td>4</td></tr>",
                            "<tr><td>156</td><td>2017</td><td>3</td></tr>",
                            "<tr><td>156</td><td>Részösszeg</td><td>7</td></tr>",
                            "<tr><td>157</td><td>2016</td><td>4</td></tr>",
                            "<tr><td>157</td><td>2017</td><td>1</td></tr>",
                            "<tr><td>157</td><td>Részösszeg</td><td>5</td></tr>",
                            "<tr><td>158</td><td>2016</td><td>3</td></tr>",
                            "<tr><td>158</td><td>Részösszeg</td><td>3</td></tr>",
                            "<tr><td>160</td><td>2016</td><td>4</td></tr>",
                            "<tr><td>160</td><td>2017</td><td>1</td></tr>",
                            "<tr><td>160</td><td>Részösszeg</td><td>5</td></tr>",
                            "<tr><td>161</td><td>2016</td><td>5</td></tr>",
                            "<tr><td>161</td><td>2017</td><td>1</td></tr>",
                            "<tr><td>161</td><td>Részösszeg</td><td>6</td></tr>",
                            "<tr><td>162</td><td>2016</td><td>3</td></tr>",
                            "<tr><td>162</td><td>Részösszeg</td><td>3</td></tr>",
                            "<tr><td>163</td><td>2016</td><td>6</td></tr>",
                            "<tr><td>163</td><td>2017</td><td>1</td></tr>",
                            "<tr><td>163</td><td>Részösszeg</td><td>7</td></tr>",
                            "<tr><td>164</td><td>2016</td><td>5</td></tr>",
                            "<tr><td>164</td><td>Részösszeg</td><td>5</td></tr>",
                            "<tr><td>165</td><td>2016</td><td>7</td></tr>",
                            "<tr><td>165</td><td>Részösszeg</td><td>7</td></tr>",
                            "<tr><td>166</td><td>2016</td><td>2</td></tr>",
                            "<tr><td>166</td><td>2017</td><td>1</td></tr>",
                            "<tr><td>166</td><td>Részösszeg</td><td>3</td></tr>",
                            "<tr><td>167</td><td>2016</td><td>1</td></tr>",
                            "<tr><td>167</td><td>2017</td><td>1</td></tr>",
                            "<tr><td>167</td><td>Részösszeg</td><td>2</td></tr>",
                            "<tr><td>168</td><td>2016</td><td>5</td></tr>",
                            "<tr><td>168</td><td>Részösszeg</td><td>5</td></tr>",
                            "<tr><td>169</td><td>2016</td><td>5</td></tr>",
                            "<tr><td>169</td><td>2017</td><td>1</td></tr>",
                            "<tr><td>169</td><td>Részösszeg</td><td>6</td></tr>",
                            "<tr><td>170</td><td>2016</td><td>5</td></tr>",
                            "<tr><td>170</td><td>Részösszeg</td><td>5</td></tr>",
                            "<tr><td>171</td><td>2016</td><td>4</td></tr>",
                            "<tr><td>171</td><td>2017</td><td>1</td></tr>",
                            "<tr><td>171</td><td>Részösszeg</td><td>5</td></tr>",
                            "<tr><td>172</td><td>2016</td><td>7</td></tr>",
                            "<tr><td>172</td><td>2017</td><td>2</td></tr>",
                            "<tr><td>172</td><td>Részösszeg</td><td>9</td></tr>",
                            "<tr><td>173</td><td>2016</td><td>3</td></tr>",
                            "<tr><td>173</td><td>2017</td><td>1</td></tr>",
                            "<tr><td>173</td><td>Részösszeg</td><td>4</td></tr>",
                            "<tr><td>174</td><td>2016</td><td>4</td></tr>",
                            "<tr><td>174</td><td>Részösszeg</td><td>4</td></tr>",
                            "<tr><td>175</td><td>2016</td><td>5</td></tr>",
                            "<tr><td>175</td><td>Részösszeg</td><td>5</td></tr>",
                            "<tr><td>176</td><td>2016</td><td>4</td></tr>",
                            "<tr><td>176</td><td>2017</td><td>2</td></tr>",
                            "<tr><td>176</td><td>Részösszeg</td><td>6</td></tr>",
                            "<tr><td>177</td><td>2016</td><td>3</td></tr>",
                            "<tr><td>177</td><td>2017</td><td>1</td></tr>",
                            "<tr><td>177</td><td>Részösszeg</td><td>4</td></tr>",
                            "<tr><td>178</td><td>2016</td><td>4</td></tr>",
                            "<tr><td>178</td><td>Részösszeg</td><td>4</td></tr>",
                            "<tr><td>179</td><td>2016</td><td>2</td></tr>",
                            "<tr><td>179</td><td>2017</td><td>1</td></tr>",
                            "<tr><td>179</td><td>Részösszeg</td><td>3</td></tr>",
                            "<tr><td>180</td><td>2016</td><td>1</td></tr>",
                            "<tr><td>180</td><td>2017</td><td>2</td></tr>",
                            "<tr><td>180</td><td>Részösszeg</td><td>3</td></tr>",
                            "<tr><td>181</td><td>2016</td><td>6</td></tr>",
                            "<tr><td>181</td><td>Részösszeg</td><td>6</td></tr>",
                            "<tr><td>182</td><td>2016</td><td>10</td></tr>",
                            "<tr><td>182</td><td>2017</td><td>2</td></tr>",
                            "<tr><td>182</td><td>Részösszeg</td><td>12</td></tr>",
                            "<tr><td>183</td><td>2016</td><td>3</td></tr>",
                            "<tr><td>183</td><td>2017</td><td>1</td></tr>",
                            "<tr><td>183</td><td>Részösszeg</td><td>4</td></tr>",
                            "<tr><td>184</td><td>2016</td><td>4</td></tr>",
                            "<tr><td>184</td><td>Részösszeg</td><td>4</td></tr>",
                            "<tr><td>185</td><td>2016</td><td>10</td></tr>",
                            "<tr><td>185</td><td>2017</td><td>2</td></tr>",
                            "<tr><td>185</td><td>Részösszeg</td><td>12</td></tr>",
                            "<tr><td>186</td><td>2016</td><td>3</td></tr>",
                            "<tr><td>186</td><td>2017</td><td>1</td></tr>",
                            "<tr><td>186</td><td>Részösszeg</td><td>4</td></tr>",
                            "<tr><td>187</td><td>2016</td><td>7</td></tr>",
                            "<tr><td>187</td><td>Részösszeg</td><td>7</td></tr>",
                            "<tr><td>188</td><td>2016</td><td>6</td></tr>",
                            "<tr><td>188</td><td>Részösszeg</td><td>6</td></tr>",
                            "<tr><td>189</td><td>2016</td><td>3</td></tr>",
                            "<tr><td>189</td><td>2017</td><td>2</td></tr>",
                            "<tr><td>189</td><td>Részösszeg</td><td>5</td></tr>",
                            "<tr><td>190</td><td>2016</td><td>4</td></tr>",
                            "<tr><td>190</td><td>2017</td><td>1</td></tr>",
                            "<tr><td>190</td><td>Részösszeg</td><td>5</td></tr>",
                            "<tr><td>191</td><td>2016</td><td>3</td></tr>",
                            "<tr><td>191</td><td>2017</td><td>2</td></tr>",
                            "<tr><td>191</td><td>Részösszeg</td><td>5</td></tr>",
                            "<tr><td>192</td><td>2016</td><td>2</td></tr>",
                            "<tr><td>192</td><td>Részösszeg</td><td>2</td></tr>",
                            "<tr><td>193</td><td>2016</td><td>7</td></tr>",
                            "<tr><td>193</td><td>Részösszeg</td><td>7</td></tr>",
                            "<tr><td>194</td><td>2016</td><td>1</td></tr>",
                            "<tr><td>194</td><td>Részösszeg</td><td>1</td></tr>",
                            "<tr><td>195</td><td>2016</td><td>4</td></tr>",
                            "<tr><td>195</td><td>2017</td><td>2</td></tr>",
                            "<tr><td>195</td><td>Részösszeg</td><td>6</td></tr>",
                            "<tr><td>196</td><td>2016</td><td>4</td></tr>",
                            "<tr><td>196</td><td>Részösszeg</td><td>4</td></tr>",
                            "<tr><td>197</td><td>2016</td><td>6</td></tr>",
                            "<tr><td>197</td><td>Részösszeg</td><td>6</td></tr>",
                            "<tr><td>198</td><td>2016</td><td>7</td></tr>",
                            "<tr><td>198</td><td>2017</td><td>1</td></tr>",
                            "<tr><td>198</td><td>Részösszeg</td><td>8</td></tr>",
                            "<tr><td>Végösszeg</td><td>Részösszeg</td><td>1027</td></tr>",
                            "</table>"
                        ]
                    }
                }
            ],
            "execution_count": 11
        }
    ]
}