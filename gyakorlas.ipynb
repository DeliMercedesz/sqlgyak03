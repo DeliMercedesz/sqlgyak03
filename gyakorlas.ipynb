{
    "metadata": {
        "kernelspec": {
            "name": "SQL",
            "display_name": "SQL",
            "language": "sql"
        },
        "language_info": {
            "name": "sql",
            "version": ""
        }
    },
    "nbformat_minor": 2,
    "nbformat": 4,
    "cells": [
        {
            "cell_type": "code",
            "source": [
                "--"
            ],
            "metadata": {
                "azdata_cell_guid": "daa68a73-2917-4a26-a254-d40771b42018",
                "language": "sql"
            },
            "outputs": [],
            "execution_count": null
        }
    ]
}